{
 "cells": [
  {
   "cell_type": "code",
   "execution_count": 2,
   "id": "b12d4114",
   "metadata": {},
   "outputs": [
    {
     "name": "stdout",
     "output_type": "stream",
     "text": [
      "Collecting selenium\n",
      "  Downloading selenium-4.0.0-py3-none-any.whl (954 kB)\n",
      "Collecting trio~=0.17\n",
      "  Downloading trio-0.19.0-py3-none-any.whl (356 kB)\n",
      "Requirement already satisfied: urllib3[secure]~=1.26 in c:\\users\\adila\\anaconda3\\lib\\site-packages (from selenium) (1.26.7)\n",
      "Collecting trio-websocket~=0.9\n",
      "  Downloading trio_websocket-0.9.2-py3-none-any.whl (16 kB)\n",
      "Requirement already satisfied: sniffio in c:\\users\\adila\\anaconda3\\lib\\site-packages (from trio~=0.17->selenium) (1.2.0)\n",
      "Requirement already satisfied: attrs>=19.2.0 in c:\\users\\adila\\anaconda3\\lib\\site-packages (from trio~=0.17->selenium) (21.2.0)\n",
      "Requirement already satisfied: idna in c:\\users\\adila\\anaconda3\\lib\\site-packages (from trio~=0.17->selenium) (3.2)\n",
      "Requirement already satisfied: sortedcontainers in c:\\users\\adila\\anaconda3\\lib\\site-packages (from trio~=0.17->selenium) (2.4.0)\n",
      "Collecting outcome\n",
      "  Downloading outcome-1.1.0-py2.py3-none-any.whl (9.7 kB)\n",
      "Requirement already satisfied: async-generator>=1.9 in c:\\users\\adila\\anaconda3\\lib\\site-packages (from trio~=0.17->selenium) (1.10)\n",
      "Requirement already satisfied: cffi>=1.14 in c:\\users\\adila\\anaconda3\\lib\\site-packages (from trio~=0.17->selenium) (1.14.6)\n",
      "Requirement already satisfied: pycparser in c:\\users\\adila\\anaconda3\\lib\\site-packages (from cffi>=1.14->trio~=0.17->selenium) (2.20)\n",
      "Collecting wsproto>=0.14\n",
      "  Downloading wsproto-1.0.0-py3-none-any.whl (24 kB)\n",
      "Requirement already satisfied: pyOpenSSL>=0.14 in c:\\users\\adila\\anaconda3\\lib\\site-packages (from urllib3[secure]~=1.26->selenium) (20.0.1)\n",
      "Requirement already satisfied: cryptography>=1.3.4 in c:\\users\\adila\\anaconda3\\lib\\site-packages (from urllib3[secure]~=1.26->selenium) (3.4.8)\n",
      "Requirement already satisfied: certifi in c:\\users\\adila\\anaconda3\\lib\\site-packages (from urllib3[secure]~=1.26->selenium) (2021.5.30)\n",
      "Requirement already satisfied: six>=1.5.2 in c:\\users\\adila\\anaconda3\\lib\\site-packages (from pyOpenSSL>=0.14->urllib3[secure]~=1.26->selenium) (1.16.0)\n",
      "Collecting h11<1,>=0.9.0\n",
      "  Downloading h11-0.12.0-py3-none-any.whl (54 kB)\n",
      "Installing collected packages: outcome, h11, wsproto, trio, trio-websocket, selenium\n",
      "Successfully installed h11-0.12.0 outcome-1.1.0 selenium-4.0.0 trio-0.19.0 trio-websocket-0.9.2 wsproto-1.0.0\n",
      "Note: you may need to restart the kernel to use updated packages.\n"
     ]
    }
   ],
   "source": [
    "pip install selenium"
   ]
  },
  {
   "cell_type": "code",
   "execution_count": 3,
   "id": "f22610bd",
   "metadata": {},
   "outputs": [],
   "source": [
    "import requests #It reuqests the html page and collect data and show us  \n",
    "import pandas as pd #For data manipulation As we want to convert our data into data frame \n",
    "import numpy as np #If we want to perform any mathematical or logical operation\n",
    "from bs4 import BeautifulSoup, NavigableString, Tag #For scrapping data from a webpage\n",
    "from selenium import webdriver #webdriver of selenium\n",
    "#Selenium for automation as only BeautifulSoup cannot fetch data from dynamic webpage\n",
    "#As data is generated after complete page is rendered (dynamic data)\n",
    "from datetime import datetime,date\n",
    "import urllib.request"
   ]
  },
  {
   "cell_type": "code",
   "execution_count": 4,
   "id": "3fa2529d",
   "metadata": {},
   "outputs": [],
   "source": [
    "import os"
   ]
  },
  {
   "cell_type": "code",
   "execution_count": 5,
   "id": "f25e7b51",
   "metadata": {},
   "outputs": [
    {
     "data": {
      "text/plain": [
       "'C:\\\\Users\\\\adila\\\\Desktop\\\\Projects\\\\Datasets for ML'"
      ]
     },
     "execution_count": 5,
     "metadata": {},
     "output_type": "execute_result"
    }
   ],
   "source": [
    "os.getcwd()"
   ]
  },
  {
   "cell_type": "code",
   "execution_count": 6,
   "id": "e115319b",
   "metadata": {},
   "outputs": [
    {
     "name": "stderr",
     "output_type": "stream",
     "text": [
      "C:\\Users\\adila\\AppData\\Local\\Temp/ipykernel_3976/451326536.py:2: DeprecationWarning: executable_path has been deprecated, please pass in a Service object\n",
      "  driver=webdriver.Chrome(executable_path=path)\n"
     ]
    },
    {
     "name": "stdout",
     "output_type": "stream",
     "text": [
      "<html><head>\n",
      "<meta charset=\"utf-8\"/>\n",
      "<meta content=\"IE=edge\" http-equiv=\"X-UA-Compatible\"/>\n",
      "<meta content=\"no-cache, no-store, must-revalidate\" http-equiv=\"Cache-Control\"/>\n",
      "<meta content=\"no-cache\" http-equiv=\"Pragma\"/>\n",
      "<meta content=\"0\" http-equiv=\"Expires\"/>\n",
      "<meta content=\"width=device-width, initial-scale=1\" name=\"viewport\"/>\n",
      "<title>MoHFW | Home</title>\n",
      "<link href=\"assets/images/favicon.png\" rel=\"icon\" sizes=\"32x32\" type=\"image/png\"/>\n",
      "<link href=\"assets/css/base.css\" rel=\"stylesheet\" type=\"text/css\"/>\n",
      "<!-- Global site tag (gtag.js) - Google Analytics -->\n",
      "</head><body><iframe src=\"javascript:void(0)\" style=\"width: 0px; height: 0px; border: 0px; display: none;\" title=\"\"></iframe><script async=\"\" src=\"https://www.google-analytics.com/analytics.js\" type=\"text/javascript\"></script><script async=\"\" src=\"https://www.googletagmanager.com/gtag/js?id=UA-162536712-2\"></script>\n",
      "<script>\n",
      "  window.dataLayer = window.dataLayer || [];\n",
      "  function gtag(){dataLayer.push(arguments);}\n",
      "  gtag('js', new Date());\n",
      "\n",
      "  gtag('config', 'UA-162536712-2');\n",
      "</script>\n",
      "<script>!function(a){var e=\"https://s.go-mpulse.net/boomerang/\",t=\"addEventListener\";if(\"False\"==\"True\")a.BOOMR_config=a.BOOMR_config||{},a.BOOMR_config.PageParams=a.BOOMR_config.PageParams||{},a.BOOMR_config.PageParams.pci=!0,e=\"https://s2.go-mpulse.net/boomerang/\";if(window.BOOMR_API_key=\"CFUJ8-UJK47-4UXSX-X93S2-L9TB6\",function(){function n(e){a.BOOMR_onload=e&&e.timeStamp||(new Date).getTime()}if(!a.BOOMR||!a.BOOMR.version&&!a.BOOMR.snippetExecuted){a.BOOMR=a.BOOMR||{},a.BOOMR.snippetExecuted=!0;var i,_,o,r=document.createElement(\"iframe\");if(a[t])a[t](\"load\",n,!1);else if(a.attachEvent)a.attachEvent(\"onload\",n);r.src=\"javascript:void(0)\",r.title=\"\",r.role=\"presentation\",(r.frameElement||r).style.cssText=\"width:0;height:0;border:0;display:none;\",o=document.getElementsByTagName(\"script\")[0],o.parentNode.insertBefore(r,o);try{_=r.contentWindow.document}catch(O){i=document.domain,r.src=\"javascript:var d=document.open();d.domain='\"+i+\"';void(0);\",_=r.contentWindow.document}_.open()._l=function(){var a=this.createElement(\"script\");if(i)this.domain=i;a.id=\"boomr-if-as\",a.src=e+\"CFUJ8-UJK47-4UXSX-X93S2-L9TB6\",BOOMR_lstart=(new Date).getTime(),this.body.appendChild(a)},_.write(\"<bo\"+'dy onload=\"document._l();\">'),_.close()}}(),\"\".length>0)if(a&&\"performance\"in a&&a.performance&&\"function\"==typeof a.performance.setResourceTimingBufferSize)a.performance.setResourceTimingBufferSize();!function(){if(BOOMR=a.BOOMR||{},BOOMR.plugins=BOOMR.plugins||{},!BOOMR.plugins.AK){var e=\"\"==\"true\"?1:0,t=\"\",n=\"bztg6sqxg5waqyljciqq-f-84340a73b-clientnsv4-s.akamaihd.net\",i=\"false\"==\"true\"?2:1,_={\"ak.v\":\"32\",\"ak.cp\":\"939458\",\"ak.ai\":parseInt(\"603078\",10),\"ak.ol\":\"0\",\"ak.cr\":14,\"ak.ipv\":4,\"ak.proto\":\"h2\",\"ak.rid\":\"52f9360c\",\"ak.r\":37398,\"ak.a2\":e,\"ak.m\":\"dscb\",\"ak.n\":\"ff\",\"ak.bpcip\":\"14.102.111.0\",\"ak.cport\":58987,\"ak.gh\":\"23.55.108.4\",\"ak.quicv\":\"\",\"ak.tlsv\":\"tls1.3\",\"ak.0rtt\":\"\",\"ak.csrc\":\"-\",\"ak.acc\":\"\",\"ak.t\":\"1634275873\",\"ak.ak\":\"hOBiQwZUYzCg5VSAfCLimQ==RR1ks9KA1tYsJD1dIB21Z6D31vaQKF55crhVJtfbGZszU2UUETnn9FaG0AuLbVR366pLDAHDGq27ZeF2DXMrS8y2Fj8Fbw13dI/Yuc+0Vk2sUyVdT9wVSQUOiLurPK7rJrnSgi4Cp0BNingLZlTDcOsq4VPTL2M8IizTwTXhV4gNwxpQQbw31qa3U3zTjc+YE5yn5DPGEDtFqOoFDxB7fcYPWuQuw4Ymai5Cd/ActugiuIzOG/n3czcI0F0bhQkZqdeZy0COvedZ7pn2eUWPBRemb0TtLpiShj5vPF3V1O6H2NqW1hbWtxJ7dh0qT9OdO6ckUJZHCtbqDQA6evUyZ7dGXTv7CbwT0/P9mw56L3Vny4TEWNtFneyeCMgDtVUimLt6CQv6WURrEu2TD2Y4QikZfY3CmS2SCwA0BPx0Yac=\",\"ak.pv\":\"16\",\"ak.dpoabenc\":\"\",\"ak.tf\":i};if(\"\"!==t)_[\"ak.ruds\"]=t;var o={i:!1,av:function(e){var t=\"http.initiator\";if(e&&(!e[t]||\"spa_hard\"===e[t]))_[\"ak.feo\"]=void 0!==a.aFeoApplied?1:0,BOOMR.addVar(_)},rv:function(){var a=[\"ak.bpcip\",\"ak.cport\",\"ak.cr\",\"ak.csrc\",\"ak.gh\",\"ak.ipv\",\"ak.m\",\"ak.n\",\"ak.ol\",\"ak.proto\",\"ak.quicv\",\"ak.tlsv\",\"ak.0rtt\",\"ak.r\",\"ak.acc\",\"ak.t\",\"ak.tf\"];BOOMR.removeVar(a)}};BOOMR.plugins.AK={akVars:_,akDNSPreFetchDomain:n,init:function(){if(!o.i){var a=BOOMR.subscribe;a(\"before_beacon\",o.av,null,null),a(\"onbeacon\",o.rv,null,null),o.i=!0}return this},is_complete:function(){return!0}}}}()}(window);</script><script src=\"https://ajax.googleapis.com/ajax/libs/jquery/2.1.3/jquery.min.js\"></script><script src=\"https://cdnjs.cloudflare.com/ajax/libs/mark.js/8.11.0/jquery.mark.js\"></script><style>\n",
      ".fullbol {text-align:center;width: 100%; background: linear-gradient(45deg, #036ba0, #22949f); border-radius: 10px; padding: 10px; color: #fff; float:left;}\n",
      ".fullbol span {width:auto;  display: inline; text-align: left; }\n",
      ".fullbol span.totalvac {font-size:3.5rem;}\n",
      ".fullbol span.coviddata {font-size:3rem;    padding-top:5px;}\n",
      ".fullbol span.coviddataval {font-size:3rem; padding-top:5px; color:yellow;}\n",
      "h6.covidupdae {\n",
      "    font-size: 1.5rem;\n",
      "    font-weight: bold;\n",
      "    margin-top: 5px;\n",
      "}mark {\n",
      "  background: yellow;\n",
      "}\n",
      ".site-update .update-box { height:163px;}\n",
      " \n",
      "mark.current {\n",
      "  background: orange;\n",
      "}\n",
      " sub{vertical-align:super;}\n",
      ".header {\n",
      "  padding: 10px;\n",
      " /* width: 100%;\n",
      "  background: #eee;\n",
      "  position: fixed;*/\n",
      "  top: 0;\n",
      "  left: 0;\n",
      "}\n",
      ".content {\n",
      " /* margin-top: 50px;*/\n",
      "}\n",
      ".tested{ color : white; font-size: 20px;}\n",
      ".sizeicon img{height:54px;}\n",
      ".site-stats .site-stats-count ul li {width:31.5%!important;}\n",
      ".site-stats .site-stats-count ul li:first-child {margin-left: 0; padding-left: 0;}\n",
      "@media (max-width: 450px){\n",
      ".sitetotal{width:100%!important;}\n",
      ".site-stats .site-stats-count ul li span{font-size:10px!important;}\n",
      ".fullbol span.totalvac {font-size: 1.7rem;}\n",
      ".fullbol span.coviddata {font-size: 1.7rem;}\n",
      ".fullbol span.coviddataval {font-size: 1.7rem;}\n",
      ".site-stats .site-stats-count ul li {width:30%}\n",
      ".header-section .header-top .accessibility-menu ul li a {\n",
      "\tfont-size: 11px !important\n",
      " }\n",
      " #site-dashboard .container div.col-xs-12 .col-xs-2{width:100%}\n",
      " #site-dashboard .container div.col-xs-12 .col-xs-2 h5 span{display:block}\n",
      " #site-dashboard .container div.col-xs-12 .site-stats-count{width:78%;clear:both}\n",
      " #site-dashboard .container div.col-xs-12 .site-stats-count ul li strong{font-size:10px}\n",
      " #site-dashboard .container div.col-xs-12 .site-stats-count ul li strong span{font-size:10px}\n",
      " #site-dashboard .container div.col-xs-12 .site-stats-count ul li.bg-red{width:31%}\n",
      " #site-dashboard .container div.col-xs-12 .col-xs-2.btns{width:21%;float:right;padding: 5px;}\n",
      " #site-dashboard .container div.col-xs-12 .col-xs-2.btns ul{padding:0px !important}\n",
      " #site-dashboard .container div.col-xs-12 .col-xs-2.btns ul li a img{height:25px!important}\n",
      " \n",
      "}\n",
      "#state-data .data-table table thead tr th {text-align:left}\n",
      "#state-data .data-table table tr td:nth-child(1) {width: 5%;}\n",
      "@media screen and (max-width: 767px){\n",
      ".table-responsive > .table > thead > tr > th{ white-space: normal;}\n",
      ".table-responsive > .table > tbody > tr > td{white-space: normal;}\n",
      "#state-data .data-table table thead tr.row1 th:nth-child(1) {white-space: nowrap;}\n",
      "#state-data .data-table table thead tr.row1 th:nth-child(2) {white-space: nowrap;}\n",
      "}\n",
      "\n",
      "</style><script>!function(a){var e=\"https://s.go-mpulse.net/boomerang/\",t=\"addEventListener\";if(\"False\"==\"True\")a.BOOMR_config=a.BOOMR_config||{},a.BOOMR_config.PageParams=a.BOOMR_config.PageParams||{},a.BOOMR_config.PageParams.pci=!0,e=\"https://s2.go-mpulse.net/boomerang/\";if(window.BOOMR_API_key=\"CFUJ8-UJK47-4UXSX-X93S2-L9TB6\",function(){function n(e){a.BOOMR_onload=e&&e.timeStamp||(new Date).getTime()}if(!a.BOOMR||!a.BOOMR.version&&!a.BOOMR.snippetExecuted){a.BOOMR=a.BOOMR||{},a.BOOMR.snippetExecuted=!0;var i,_,o,r=document.createElement(\"iframe\");if(a[t])a[t](\"load\",n,!1);else if(a.attachEvent)a.attachEvent(\"onload\",n);r.src=\"javascript:void(0)\",r.title=\"\",r.role=\"presentation\",(r.frameElement||r).style.cssText=\"width:0;height:0;border:0;display:none;\",o=document.getElementsByTagName(\"script\")[0],o.parentNode.insertBefore(r,o);try{_=r.contentWindow.document}catch(O){i=document.domain,r.src=\"javascript:var d=document.open();d.domain='\"+i+\"';void(0);\",_=r.contentWindow.document}_.open()._l=function(){var a=this.createElement(\"script\");if(i)this.domain=i;a.id=\"boomr-if-as\",a.src=e+\"CFUJ8-UJK47-4UXSX-X93S2-L9TB6\",BOOMR_lstart=(new Date).getTime(),this.body.appendChild(a)},_.write(\"<bo\"+'dy onload=\"document._l();\">'),_.close()}}(),\"\".length>0)if(a&&\"performance\"in a&&a.performance&&\"function\"==typeof a.performance.setResourceTimingBufferSize)a.performance.setResourceTimingBufferSize();!function(){if(BOOMR=a.BOOMR||{},BOOMR.plugins=BOOMR.plugins||{},!BOOMR.plugins.AK){var e=\"\"==\"true\"?1:0,t=\"\",n=\"bztg6sqxg5waqyljciqq-f-84340a73b-clientnsv4-s.akamaihd.net\",i=\"false\"==\"true\"?2:1,_={\"ak.v\":\"32\",\"ak.cp\":\"939458\",\"ak.ai\":parseInt(\"603078\",10),\"ak.ol\":\"0\",\"ak.cr\":14,\"ak.ipv\":4,\"ak.proto\":\"h2\",\"ak.rid\":\"52f9360c\",\"ak.r\":37398,\"ak.a2\":e,\"ak.m\":\"dscb\",\"ak.n\":\"ff\",\"ak.bpcip\":\"14.102.111.0\",\"ak.cport\":58987,\"ak.gh\":\"23.55.108.4\",\"ak.quicv\":\"\",\"ak.tlsv\":\"tls1.3\",\"ak.0rtt\":\"\",\"ak.csrc\":\"-\",\"ak.acc\":\"\",\"ak.t\":\"1634275873\",\"ak.ak\":\"hOBiQwZUYzCg5VSAfCLimQ==RR1ks9KA1tYsJD1dIB21Z6D31vaQKF55crhVJtfbGZszU2UUETnn9FaG0AuLbVR366pLDAHDGq27ZeF2DXMrS8y2Fj8Fbw13dI/Yuc+0Vk2sUyVdT9wVSQUOiLurPK7rJrnSgi4Cp0BNingLZlTDcOsq4VPTL2M8IizTwTXhV4gNwxpQQbw31qa3U3zTjc+YE5yn5DPGEDtFqOoFDxB7fcYPWuQuw4Ymai5Cd/ActugiuIzOG/n3czcI0F0bhQkZqdeZy0COvedZ7pn2eUWPBRemb0TtLpiShj5vPF3V1O6H2NqW1hbWtxJ7dh0qT9OdO6ckUJZHCtbqDQA6evUyZ7dGXTv7CbwT0/P9mw56L3Vny4TEWNtFneyeCMgDtVUimLt6CQv6WURrEu2TD2Y4QikZfY3CmS2SCwA0BPx0Yac=\",\"ak.pv\":\"16\",\"ak.dpoabenc\":\"\",\"ak.tf\":i};if(\"\"!==t)_[\"ak.ruds\"]=t;var o={i:!1,av:function(e){var t=\"http.initiator\";if(e&&(!e[t]||\"spa_hard\"===e[t]))_[\"ak.feo\"]=void 0!==a.aFeoApplied?1:0,BOOMR.addVar(_)},rv:function(){var a=[\"ak.bpcip\",\"ak.cport\",\"ak.cr\",\"ak.csrc\",\"ak.gh\",\"ak.ipv\",\"ak.m\",\"ak.n\",\"ak.ol\",\"ak.proto\",\"ak.quicv\",\"ak.tlsv\",\"ak.0rtt\",\"ak.r\",\"ak.acc\",\"ak.t\",\"ak.tf\"];BOOMR.removeVar(a)}};BOOMR.plugins.AK={akVars:_,akDNSPreFetchDomain:n,init:function(){if(!o.i){var a=BOOMR.subscribe;a(\"before_beacon\",o.av,null,null),a(\"onbeacon\",o.rv,null,null),o.i=!0}return this},is_complete:function(){return!0}}}}()}(window);</script>\n",
      "<!--<link rel=\"stylesheet\" href=\"https://maxcdn.bootstrapcdn.com/bootstrap/3.3.5/css/bootstrap.min.css\">-->\n",
      "<!--<script src=\"https://maxcdn.bootstrapcdn.com/bootstrap/3.3.7/js/bootstrap.min.js\"></script>-->\n",
      "<div class=\"content\" id=\"myModal\">\n",
      "<aside class=\"canvas-menu\">\n",
      "<ul>\n",
      "<li class=\"active\"> <a href=\"index.html\">Home</a> </li>\n",
      "<!--<li><a href=\"#\">Dashboard</a></li>-->\n",
      "<li><a class=\"trigger-update\" href=\"#latest-update\">Latest Updates</a></li>\n",
      "<li>\n",
      "<a class=\"trigger-advisories\" href=\"#site-advisories\">Resources</a>\n",
      "<ul class=\"submenu\">\n",
      "<li><a data-id=\"travel\" href=\"#\">Travel Advisories</a></li>\n",
      "<li><a data-id=\"bh\" href=\"#\">Behavioural Health</a></li>\n",
      "<li><a data-id=\"citizens\" href=\"#\">Citizens</a></li>\n",
      "<li><a data-id=\"hospitals\" href=\"#\">Hospitals</a></li>\n",
      "<li><a data-id=\"tm\" href=\"#\">Training Material</a></li>\n",
      "<li><a data-id=\"state\" href=\"#\">States / Departments / Ministries</a></li>\n",
      "<li><a data-id=\"employees\" href=\"#\">Employees</a></li>\n",
      "<li><a data-id=\"awareness\" href=\"#\">Awareness Material</a></li>\n",
      "<li><a data-id=\"Inspirational\" href=\"#\">Inspirational series on Healthcare Service Personnel</a></li>\n",
      "</ul>\n",
      "</li>\n",
      "<!--<li><a style= \"cursor: auto;\" href=\"javascript:void(0)\" >District Reportings</a></li>-->\n",
      "<li><a class=\"trigger-awareness\" href=\"#site-awareness\">Awareness</a></li>\n",
      "<li><a href=\"https://www.mohfw.gov.in/pdf/COVID19DistrictWisePositivityAnalysis14oct.xlsx\" target=\"_blank\">District-wise COVID-19 test positivity rates </a></li>\n",
      "<!--<li><a class=\"trigger-faq\" href=\"#site-faq\">FAQs</a></li>-->\n",
      "</ul>\n",
      "<!-- Canvas Menu Close Start -->\n",
      "<a class=\"m-close\" href=\"#\"><span aria-hidden=\"true\" class=\"fa fa-times\"></span></a>\n",
      "<!-- Canvas Menu Close End -->\n",
      "</aside>\n",
      "<div class=\"main-body-content\">\n",
      "<header class=\"header-section\">\n",
      "<div class=\"header-top\">\n",
      "<div class=\"container\">\n",
      "<div class=\"row\">\n",
      "<div aria-label=\"primary\" class=\"col-xs-12 clearfix\">\n",
      "<a class=\"india-logo\" href=\"https://india.gov.in\" target=\"_blank\">\n",
      "<img alt=\"India Flag\" src=\"assets/images/logo-flag.png\"/>\n",
      "<span>India</span>\n",
      "</a>\n",
      "<div class=\"accessibility-menu\">\n",
      "<ul>\n",
      "<li> <a href=\"https://www.mohfw.gov.in/indexhindi.html\" title=\"हिन्दी  मे देखे \">हिन्दी \n",
      "\t\t\t</a></li><li><a href=\"https://www.mohfw.gov.in/indexhindi.html\" title=\"हिन्दी  मे देखे \"> </a><a href=\"https://www.mohfw.gov.in/pdf/MoHFW1YearofModi20050520.pdf\" target=\"_BLANK\">1 year of  Govt 2020 Towards a Healthy India <i aria-hidden=\"true\" class=\"fa fa-book\"></i>\n",
      "</a></li>\n",
      "<li> <a href=\"https://www.mohfw.gov.in/pdf/Ebookoneyearmodi2.pdf\" target=\"_BLANK\">One Year of MODI 2.0 <i aria-hidden=\"true\" class=\"fa fa-book\"></i>\n",
      "</a></li>\n",
      "<!--<li class=\"skip-content\">\n",
      "\t\t\t\t\t<a href=\"#main-content\" aria-label=\"Skip to main content\" title=\"Skip to main content\">\n",
      "\t\t\t\t\t<span class=\"mob-hide\">Skip to main content</span>\n",
      "\t\t\t\t\t\n",
      "\t\t\t\t\t<span class=\"mob-show\"><span style=\"transform:rotate(90deg);\" class=\"glyphicon glyphicon-share-alt\" aria-hidden=\"true\"></span></span></a>\n",
      "\t\t\t\t</li>-->\n",
      "<li> <a href=\"https://main.mohfw.gov.in/help\" target=\"_BLANK\">Screen Reader Acess </a></li>\n",
      "<li class=\"social-share\">\n",
      "<a aria-label=\"Social Media Links\" href=\"#\" title=\"Social Media Links\">\n",
      "<span aria-hidden=\"true\" class=\"fa fa-facebook\"></span>\n",
      "<span aria-hidden=\"true\" class=\"fa fa-twitter\"></span>\n",
      "<span aria-hidden=\"true\" class=\"fa fa-youtube-play\"></span>\n",
      "</a>\n",
      "<ul class=\"dropdown-social\">\n",
      "<li><a aria-label=\"Facebook | External site that opens in a new window\" href=\"https://www.facebook.com/MoHFWIndia/posts/?ref=page_internal\" target=\"_blank\"><img alt=\"Facebook Icon\" src=\"assets/images/icon-facebook.png\"/></a></li>\n",
      "<li><a aria-label=\"Twitter | External site that opens in a new window\" href=\"https://twitter.com/MoHFW_INDIA\" target=\"_blank\"><img alt=\"Twitter Icon\" src=\"assets/images/icon-twitter.png\"/></a></li>\n",
      "<li><a aria-label=\"Press Information Bureau\" href=\"https://pib.gov.in/newsite/pmreleases.aspx?mincode=31\" target=\"_blank\">PIB</a></li>\n",
      "<li><a aria-label=\"Youtube | External site that opens in a new window\" href=\"https://www.youtube.com/user/mohfwindia\" target=\"_blank\"><img alt=\"Youtube Icon\" src=\"assets/images/icon-youtube.png\"/></a></li>\n",
      "<li><a aria-label=\"Youtube | External site that opens in a new window\" href=\"https://www.who.int/\" target=\"_blank\"><img alt=\"WHO Icon\" src=\"assets/images/who.png\"/></a></li>\n",
      "</ul>\n",
      "</li>\n",
      "<li class=\"social-share\">\n",
      "<a aria-label=\"Social Media Links\" href=\"#\" title=\"Social Media Links\">\n",
      "<i aria-hidden=\"true\" class=\"fa fa-font\"></i> </a>\n",
      "<ul class=\"dropdown-social\">\n",
      "<li aria-label=\"Font size and Contrast controls\" class=\"text-sizing\">\n",
      "<a aria-label=\"Font Size Increase\" href=\"#\" title=\"Font Size Increase\"><span aria-hidden=\"true\">A+</span></a>\n",
      "<a aria-label=\"Normal Font\" href=\"#\" title=\"Normal Font\"><span aria-hidden=\"true\">A</span></a>\n",
      "<a aria-label=\"Font Size Decrease\" href=\"#\" title=\"Font Size Decrease\"><span aria-hidden=\"true\">A-</span></a>\n",
      "</li>\n",
      "</ul>\n",
      "</li><li class=\"site-contrast\">\n",
      "<div class=\"contrast-btn-grp\">\n",
      "<a aria-label=\"High Contrast\" class=\"dark-contrast\" href=\"#\" title=\"High Contrast\">A</a>\n",
      "<a aria-label=\"Normal Contrast\" class=\"normal-contrast\" href=\"#\" title=\"Normal Contrast\">A</a>\n",
      "</div>\n",
      "</li>\n",
      "<li>\n",
      "<a href=\"https://main.mohfw.gov.in/\" target=\"_blank\" title=\"Main Website of MoHFW\"><img alt=\"Main Website of MoHFW\" src=\"assets/images/emblem-dark1.png\"/></a>\n",
      "</li>\n",
      "</ul>\n",
      "</div><!--accessibility-menu-->\n",
      "</div><!-- clearfix-->\n",
      "</div><!-- row-->\n",
      "</div><!-- container-->\n",
      "</div><!-- header-top-->\n",
      "<div class=\"sticky-wrapper\" id=\"sticky-wrapper\" style=\"height: 97px;\"><div class=\"header-sticky\">\n",
      "<div class=\"header-middle\">\n",
      "<div class=\"container\">\n",
      "<div class=\"row\">\n",
      "<div class=\"col-xs-12\">\n",
      "<a aria-label=\"Go to home\" class=\"logo\" href=\"#\" rel=\"home\">\n",
      "<img alt=\"State Emblem of India\" src=\"assets/images/emblem.png\"/>\n",
      "<div class=\"logo-text\">\n",
      "<h1>Ministry of Health <br/> and Family Welfare</h1>\n",
      "<strong>Government of India</strong>\n",
      "</div>\n",
      "</a>\n",
      "<div class=\"header-right\">\n",
      "<a class=\"mob-show menuToggle\" href=\"javascript:void(0);\"> <span aria-hidden=\"true\" class=\"fa fa-bars\"></span></a>\n",
      "<nav class=\"menu\">\n",
      "<ul class=\"nav clearfix\">\n",
      "<li class=\"active\"> <a href=\"index.html\">Home</a> </li>\n",
      "<!--<li><a href=\"#\">Dashboard</a></li>-->\n",
      "<li><a class=\"trigger-update\" href=\"#latest-update\">Latest Updates</a></li>\n",
      "<li>\n",
      "<a class=\"trigger-advisories\" href=\"#site-advisories\">Resources</a>\n",
      "<ul class=\"submenu\">\n",
      "<li><a data-id=\"travel\" href=\"#\">Travel Advisories</a></li>\n",
      "<li><a data-id=\"bh\" href=\"#\">Behavioural Health</a></li>\n",
      "<li><a data-id=\"citizens\" href=\"#\">Citizens</a></li>\n",
      "<li><a data-id=\"hospitals\" href=\"#\">Hospitals</a></li>\n",
      "<li><a data-id=\"tm\" href=\"#\">Training Material</a></li>\n",
      "<li><a data-id=\"state\" href=\"#\">States / Departments / Ministries</a></li>\n",
      "<li><a data-id=\"employees\" href=\"#\">Employees</a></li>\n",
      "<li><a data-id=\"awareness\" href=\"#\">Awareness Material</a></li>\n",
      "<li><a data-id=\"Inspirational\" href=\"#\">Inspirational series on Healthcare Service Personnel</a></li>\n",
      "</ul>\n",
      "</li>\n",
      "<!--<li><a style= \"cursor: auto;\" href=\"javascript:void(0)\" >District Reportings</a></li>-->\n",
      "<li><a class=\"trigger-awareness\" href=\"#site-awareness\">Awareness</a></li>\n",
      "<li><a href=\"https://www.mohfw.gov.in/pdf/COVID19DistrictWisePositivityAnalysis14oct.xlsx\" target=\"_blank\">District-wise COVID-19 test positivity rates </a></li>\n",
      "<!--<li><a class=\"trigger-faq\" href=\"#site-faq\">FAQs</a></li>-->\n",
      "<li>\n",
      "<div class=\"header\">\n",
      "                                  Search:\n",
      "                                  <input placeholder=\"Search\" type=\"search\"/>\n",
      "<button data-search=\"next\">↓</button>\n",
      "<button data-search=\"prev\">↑</button>\n",
      "</div>\n",
      "</li>\n",
      "</ul>\n",
      "</nav>\n",
      "</div>\n",
      "</div>\n",
      "</div>\n",
      "</div>\n",
      "</div>\n",
      "</div></div><!-- header sticky-->\n",
      "<div class=\"header-bottom\">\n",
      "<div class=\"container\">\n",
      "<div class=\"row\">\n",
      "<div class=\"col-xs-12 text-center\">\n",
      "<div class=\"site-meta\">\n",
      "<strong>Helpline Number :</strong>+91-11-23978046\n",
      "\t\t\t</div>\n",
      "<div class=\"site-meta\">\n",
      "<strong>Toll Free :</strong> 1075\n",
      "\t\t\t</div>\n",
      "<div class=\"site-meta\">\n",
      "<strong>Helpline Email ID :</strong> <a href=\"mailto:ncov2019@gov.in\">ncov2019@gov.in </a>\n",
      "</div>\n",
      "<div class=\"site-meta\">\n",
      "<strong><a href=\"https://www.mohfw.gov.in/pdf/StatewiseCovidHospitalslink19062020.pdf\" target=\"_blank\" title=\"View pdf\">Covid-19 facilities in States &amp; Union Territories</a></strong>\n",
      "</div>\n",
      "<div class=\"site-meta\">\n",
      "<strong>Arogya Setu <img src=\"https://www.mohfw.gov.in/pdf/arogya.png\"/> App  <a href=\"https://bit.ly/AarogyaSetu_PS\" target=\"_BLANK\" title=\"For Android\"><img src=\"https://www.mohfw.gov.in/pdf/android.png\"/></a></strong> <a href=\"https://apple.co/2X1KMzO\" target=\"_BLANK\" title=\"For iPhone\"><img src=\"https://www.mohfw.gov.in/pdf/apple.png\"/></a>\n",
      "</div>\n",
      "</div>\n",
      "</div>\n",
      "</div>\n",
      "</div>\n",
      "</header>\n",
      "<header class=\"header-section\">\n",
      "<div class=\"header-bar\">\n",
      "<div class=\"container\">\n",
      "<div class=\"row\">\n",
      "<div class=\"col-xs-12 text-left\">\n",
      "<div class=\"site-meta\">\n",
      "<span class=\"blinking bar\" style=\"float;left;\"><strong><a href=\"covid_vaccination/vaccination/index.html\" style=\"color:white;\" target=\"_blank\">For Information on COVID-19 Vaccine </a></strong></span>\n",
      "<span class=\"blinking bar\" style=\"float:right;\"> <strong><a href=\"https://analytics.icmr.org.in/public/dashboard/149a9c89-de6d-4779-9326-5e8fed3323b6\" style=\"color:white;\" target=\"_blank\">India COVID-19 Vaccine Tracker </a></strong></span>\n",
      "</div>\n",
      "</div>\n",
      "</div>\n",
      "</div>\n",
      "</div>\n",
      "</header>\n",
      "<div id=\"main-content\" style=\"font-size: 14px;\">\n",
      "<section class=\"site-stats\" id=\"site-dashboard\">\n",
      "<div class=\"container\">\n",
      "<div class=\"row\">\n",
      "<div class=\"col-xs-12\">\n",
      "<div class=\"col-xs-2\"><h5>COVID-19 INDIA <span>as on : 15 October 2021, 08:00 IST (GMT+5:30)<br/><br/>\n",
      "\t\t(↑↓ Status change since yesterday)</span></h5></div>\n",
      "<div class=\"col-xs-8 site-stats-count\">\n",
      "<ul style=\"margin-top:0px;\">\n",
      "<li class=\"bg-blue\">\n",
      "<strong class=\"mob-hide\">Active  <span class=\"active_per\">(0.60%)</span></strong>\n",
      "<strong class=\"mob-hide\">203678<span class=\"down\">     (2908<i class=\"fa fa-arrow-down\"></i>)</span></strong>\n",
      "<!--<span class='down'>3565 <i class='fa fa-arrow-down'></i></span>-->\n",
      "<span class=\"mob-show\">Active </span>\n",
      "<span class=\"mob-show\"><span class=\"active_per\">(0.60%)</span> </span>\n",
      "<span class=\"mob-show\"><strong>203678<span class=\"down\"><br/>(2908<i class=\"fa fa-arrow-down\"></i>)</span></strong></span>\n",
      "</li>\n",
      "<li class=\"bg-green\">\n",
      "<strong class=\"mob-hide\">Discharged  <span class=\"discharged_per\">(98.07%)</span></strong>\n",
      "<strong class=\"mob-hide\">33382100<span class=\"cup\">     (19391<i class=\"fa fa-arrow-up\"></i>)</span></strong>\n",
      "<span class=\"mob-show\">Discharged </span>\n",
      "<span class=\"mob-show\"><span class=\"discharged_per\">(98.07%)</span> </span>\n",
      "<span class=\"mob-show\"><strong>33382100<span class=\"cup\"><br/>(19391<i class=\"fa fa-arrow-up\"></i>)</span></strong></span>\n",
      "</li>\n",
      "<li class=\"bg-red\">\n",
      "<strong class=\"mob-hide\">Deaths  <span class=\"death_per\">(1.33%)</span></strong>\n",
      "<strong class=\"mob-hide\">451814     <span class=\"up\">(379<i class=\"fa fa-arrow-up\"></i>)</span></strong>\n",
      "<span class=\"mob-show\">Deaths </span>\n",
      "<span class=\"mob-show\"><span class=\"death_per\">(1.33%)</span> </span>\n",
      "<span class=\"mob-show\"><strong>451814<span class=\"up\"><br/>(379<i class=\"fa fa-arrow-up\"></i>)</span></strong></span>\n",
      "<!--<span class='down'> <i class='fa fa-arrow-down'></i></span>-->\n",
      "</li>\n",
      "</ul></div>\n",
      "<div class=\"col-xs-2 btns\">\n",
      "<ul style=\"list-style-type:none;\"><li class=\"icon-dashboard sizeicon\">\n",
      "<a class=\"trigger-advisories\" href=\"#site-advisories\"><img alt=\"Advisories\" src=\"assets/images/icon-advisories.png\" style=\"height: 60px;padding-bottom: 3px;\"/></a>\n",
      "<a class=\"trigger-state\" href=\"#state-data\"><img alt=\"State Data\" class=\"imgmenu\" src=\"assets/images/icon-state.png\" style=\"height: 60px;padding-bottom: 3px;\"/></a>\n",
      "<!--<a href=\"index1.php\" target=\"_blank\"><img class=\"imgmenu\" src=\"assets/images/graph.png\" alt=\"Graphics\" style=\"height: 40px;padding-bottom: 3px;\"></a>-->\n",
      "</li></ul></div>\n",
      "</div>\n",
      "<div class=\"col-xs-12\">\n",
      "<!--<div class=\"col-xs-2\" class=\"status-update\">\n",
      "\t\t<h6 class=\"covidupdae\">Covid-19 Vaccination</h6>\n",
      "\t\t</div>-->\n",
      "<div class=\"col-xs-2\"><h6 class=\"covidupdae\">COVID-19 Vaccination <span>as on : 15 October 2021, 08:00 IST (GMT+5:30) </span></h6></div>\n",
      "<div class=\"col-xs-8 site-stats-count sitetotal\">\n",
      "<div class=\"fullbol\">\n",
      "<span class=\"totalvac\">Total Vaccination : </span>\n",
      "<span class=\"coviddata\"> 97,14,38,553</span> <span class=\"coviddataval\"> (30,26,483<i class=\"fa fa-arrow-up\"></i>)</span>\n",
      "</div>\n",
      "</div>\n",
      "<div class=\"col-sm-2 btns\">\n",
      "<ul style=\"list-style-type:none;\"><li claumuss=\"icon-dashboard sizeicon\" style=\"margin-top:7px;\">\n",
      "<a href=\"http://mohfw.gov.in/pdf/CummulativeCovidVaccinationReport14october2021.pdf\" target=\"_blank\"><img alt=\"Vaccination State Data\" src=\"assets/images/vsd.png\" style=\"height: 60px;padding-bottom: 3px;/ display: block; /\"/></a>\n",
      "<!--<a href=\"index1.php\" target=\"_blank\"><img class=\"imgmenu\" src=\"assets/images/graph.png\" alt=\"Graphics\" style=\"height: 40px;padding-bottom: 3px;\"></a>-->\n",
      "</li></ul></div>\n",
      "<!--<div class=\"col-xs-12\">\n",
      "\t<div class=\"site-stats-count\">\n",
      "\t\t<ul style=\"margin-top:-20px;\">\n",
      "\t\t<li class=\"bg-blue\">\n",
      "\t\t<strong>Active <span class=\"active_per\"></span></strong>\n",
      "\t\t<strong>342473<span class='up'> (11327<i class='fa fa-arrow-up'></i>)</span></strong>\n",
      "\t\t</li> \n",
      "\t\t<li class=\"bg-green\">\n",
      "\t\t<strong>Discharged <span class=\"discharged_per\"></span></strong>\n",
      "\t\t<strong>635756<span class='cup'> (22942<i class='fa fa-arrow-up'></i>)</span></strong>\n",
      "\t\t</li>\t\t\t\t\t\t\t\t\n",
      "\t\t<li class=\"bg-red\">\n",
      "\t\t<strong>Deaths <span class=\"death_per\"></span></strong>\n",
      "\t\t<strong>25602<span class='up'> (687<i class='fa fa-arrow-up'></i>)</span></strong>\n",
      "\t\t</li>\n",
      "\t\t<li class=\"icon-dashboard\">\n",
      "\t\t<a class=\"trigger-advisories\" href=\"#site-advisories\"><img src=\"assets/images/icon-advisories.png\" alt=\"Advisories\" style=\"height:30px;\"></a>\n",
      "\t\t<a class=\"trigger-state\" href=\"#state-data\"><img class=\"imgmenu\" src=\"assets/images/icon-state.png\" alt=\"State Data\" style=\"height:30px;\"></a>\n",
      "\t\t<a href=\"index1.php\" target=\"_blank\"><img class=\"imgmenu\" src=\"assets/images/graph.png\" alt=\"Graphics\" style=\"height:30px;\"></a>\n",
      "\t\t</li>\n",
      "\t\t</ul>\n",
      "\t\t<div class=\"status-update\">\n",
      "\t\t<h5>COVID-19 INDIA <span>as on : 17\tJuly 2020, 08:00 IST (GMT+5:30)<br>\n",
      "\t\t(&#8593;&#8595; Status change since yesterday)</span></h5>\n",
      "\t\t</div>\n",
      "\t</div>\n",
      "\t</div>-->\n",
      "</div><!--row-->\n",
      "</div><!--container-->\n",
      "</div></section>\n",
      "<header class=\"header-section\">\n",
      "<div class=\"header-bar\">\n",
      "<div class=\"container\">\n",
      "<div class=\"row\">\n",
      "<div class=\"col-xs-12 text-center\">\n",
      "<div class=\"site-meta\">\n",
      "<marquee behavior=\"scroll\" direction=\"left\" onmouseout=\"this.start();\" onmouseover=\"this.stop();\"><span class=\"tested\">Total number of tests done during the previous day 11,80,148</span></marquee>\n",
      "</div>\n",
      "</div>\n",
      "<div class=\"col-xs-12 text-center\">\n",
      "<div class=\"site-meta\">\n",
      "<span class=\"blinking bar\">For any technical enquiry with respect to COVID-19, you may kindly email on <strong><a href=\"mailto:technicalquery.covid19@gov.in\">technicalquery.covid19@gov.in</a></strong> <a class=\"pl-80\" href=\"https://www.mohfw.gov.in/pdf/AAROGYASETUIVRS1921.pdf\" target=\"_BLANK\">Aarogya Setu IVRS <i aria-hidden=\"true\" class=\"fa fa-phone\"></i> 1921</a></span>\n",
      "</div>\n",
      "</div>\n",
      "</div>\n",
      "</div>\n",
      "</div>\n",
      "</header>\n",
      "<!--latest Update -->\n",
      "<section class=\"site-update\" id=\"latest-update\">\n",
      "<div class=\"container\">\n",
      "<div class=\"row\">\n",
      "<div class=\"col-xs-12\">\n",
      "<h2>Latest Updates</h2>\n",
      "</div>\n",
      "<div class=\"col-lg-4 col-md-4 col-sm-6 col-xs-12\">\n",
      "<div class=\"update-box\">\n",
      "<p><strong>07.10.2021</strong>\n",
      "\t\t  Video on use of Pulse Oximeter  \n",
      "\n",
      " </p>\n",
      "<a href=\"https://nhsrcindia.org/sites/default/files/PULSE%20OXYMETER_ENGLISH_FINAL200921.mp4\" target=\"_BLANK\">English</a>\n",
      "<br/>\n",
      "<a href=\"https://nhsrcindia.org/sites/default/files/PULSE%20OXYMETER_HINDI_FINAL200921.mp4\" target=\"_BLANK\">Hindi</a>\n",
      "</div>\n",
      "</div>\n",
      "<div class=\"col-lg-4 col-md-4 col-sm-6 col-xs-12\">\n",
      "<div class=\"update-box\">\n",
      "<p><strong>07.10.2021</strong>\n",
      "\t\t  Video on Proning Position\n",
      "\n",
      " </p>\n",
      "<a href=\"https://nhsrc365-my.sharepoint.com/:v:/g/personal/mukesh_kumar_nhsrcindia_org/Ecbqis1WTQBCnIS4Xx9uUEYBom4VKMfUTKGveWGBvKNCBg?e=VHLS9T\" target=\"_BLANK\">Hindi</a>\n",
      "</div>\n",
      "</div>\n",
      "<div class=\"col-lg-4 col-md-4 col-sm-6 col-xs-12\">\n",
      "<div class=\"update-box\">\n",
      "<p><strong>05.10.2021</strong>\n",
      "<a href=\"https://www.nhm.gov.in/New_Updates_2018/Guidelines_on_Operationalization_of_Maternal_Health_Services_during_the_Covid-19_Pandemic.pdf\" target=\"_BLANK\">Guidelines on Operationalization of Maternal Health Services during the COVID-19 Pandemic  \n",
      "\n",
      "</a></p>\n",
      "</div>\n",
      "</div>\n",
      "<div class=\"col-lg-4 col-md-4 col-sm-6 col-xs-12\">\n",
      "<div class=\"update-box\">\n",
      "<p><strong>29.09.2021</strong>\n",
      "<a href=\"https://www.mohfw.gov.in/pdf/NationalGuidelinesforSafeDentalPracticeDuringCovid19pandemic.pdf\" target=\"_BLANK\"> National Guidelines for Safe Dental Practice During Covid-19 pandemic\n",
      "\n",
      "\n",
      "\n",
      "\n",
      "\n",
      "\n",
      "\n",
      "\n",
      " </a></p>\n",
      "</div>\n",
      "</div>\n",
      "<div class=\"col-lg-4 col-md-4 col-sm-6 col-xs-12\">\n",
      "<div class=\"update-box\">\n",
      "<p><strong>14.09.2021</strong>\n",
      "<a href=\"https://www.mohfw.gov.in/vaccinationbooklet/\" target=\"_BLANK\"> The World's Largest Vaccination Drive\n",
      "\n",
      "\n",
      "\n",
      "\n",
      "\n",
      "\n",
      "\n",
      " </a></p>\n",
      "</div>\n",
      "</div>\n",
      "<div class=\"col-lg-4 col-md-4 col-sm-6 col-xs-12\">\n",
      "<div class=\"update-box\">\n",
      "<p><strong>06.09.2021</strong>\n",
      "<a href=\"https://www.mohfw.gov.in/pdf/AddendumtoGuidelinesonInternationalArrivaldated17thFebruary2021.pdf\" target=\"_BLANK\"> Addendum to Guidelines on International Arrivals dated 17th February 2021\n",
      "\n",
      "\n",
      "\n",
      "\n",
      "\n",
      "\n",
      "\n",
      "\n",
      " </a></p>\n",
      "</div>\n",
      "</div>\n",
      "</div>\n",
      "</div></section>\n",
      "<section class=\"site-update\" id=\"state-data\">\n",
      "<div class=\"container\">\n",
      "<div class=\"row\">\n",
      "<div class=\"col-xs-12\">\n",
      "<h2><a class=\"open-table\" href=\"#\"> COVID-19 Statewise Status (Click to expand)</a></h2>\n",
      "<div class=\"data-table table-responsive\">\n",
      "<h5>COVID-19 INDIA <span>as on : 15 October 2021, 08:00 IST (GMT+5:30)\t[↑↓ Status change since yesterday]</span></h5><table border=\"1\" cellpadding=\"1\" cellspacing=\"1\" class=\"statetable table table-striped\" style=\"font-weight:bold\">\n",
      "<thead>\n",
      "<tr></tr>\n",
      "<tr class=\"row1\">\n",
      "<th rowspan=\"2\" style=\"width:5%;\"><strong>S. No.</strong></th>\n",
      "<th rowspan=\"2\" style=\"width:24%;\"><strong>Name of State / UT</strong></th>\n",
      "<th colspan=\"2\" style=\"text-align:center;width:24%;\"><strong>Active Cases*</strong></th>\n",
      "<th colspan=\"2\" style=\"text-align:center;width:24%;\"><strong>Cured/Discharged/Migrated*</strong></th>\n",
      "<th colspan=\"2\" style=\"text-align:center;width:24%;\"><strong>Deaths**</strong></th>\n",
      "</tr>\n",
      "<tr class=\"row2\"><th style=\"width: 12%;\">Total</th><th style=\"width: 12%;\"><span class=\"mob-hide\">Change since yesterday</span><span class=\"mob-show\">Change since<br/> yesterday</span></th>\n",
      "<th style=\"width: 12%;\">Cumulative</th><th style=\"width: 12%;\">Change since yesterday</th>\n",
      "<th style=\"width: 12%;\">Cumulative</th><th style=\"width: 12%;\">Change since yesterday</th></tr>\n",
      "</thead>\n",
      "<!--<tbody>\n",
      "<tr>\n",
      "\t<td>1</td>\n",
      "\t<td>Andaman and Nicobar Islands</td>\n",
      "\t<td>47</td>\n",
      "\t<td>133</td>\n",
      "\t<td>0</td>\n",
      "\t</tr>\n",
      "\t<tr>\n",
      "\t\n",
      "\t<td>2</td>\n",
      "\t<td>Andhra Pradesh</td>\n",
      "\t<td>18159</td>\n",
      "\t<td>19393</td>\n",
      "\t<td>492</td>\n",
      "\t</tr>\n",
      "\t\n",
      "\t\n",
      "\t<tr>\n",
      "\t<td>3</td>\n",
      "\t<td>Arunachal Pradesh</td>\n",
      "\t<td>387</td>\n",
      "\t<td>153</td>\n",
      "\t<td>3</td>\n",
      "\t</tr>\n",
      "\t\n",
      "\t<tr>\n",
      "\t<td>4</td>\n",
      "\t<td>Assam</td>\n",
      "\t<td>6818</td>\n",
      "\t<td>12888</td>\n",
      "\t<td>48</td>\n",
      "\t</tr>\n",
      "\t\n",
      "\t<tr>\n",
      "\t<td>5</td>\n",
      "\t<td>Bihar</td>\n",
      "\t<td>7549</td>\n",
      "\t<td>14018</td>\n",
      "\t<td>197</td>\n",
      "\t</tr>\n",
      "\t\n",
      "\t<tr>\n",
      "\t<td>6</td>\n",
      "\t<td>Chandigarh</td>\n",
      "\t<td>164</td>\n",
      "\t<td>476</td>\n",
      "\t<td>11</td>\n",
      "\t</tr>\n",
      "\t\n",
      "\t<tr>\n",
      "\t<td>7</td>\n",
      "\t<td>Chhattisgarh</td>\n",
      "\t<td>1260</td>\n",
      "\t<td>3451</td>\n",
      "\t<td>21</td>\n",
      "\t</tr>\n",
      "\t<tr>\n",
      "\t<td>8</td>\n",
      "\t<td>Dadra and Nagar Haveli and Daman and Diu</td>\n",
      "\t<td>179</td>\n",
      "\t<td>371</td>\n",
      "\t<td>2</td>\n",
      "\t</tr>\n",
      "\t\n",
      "\t<tr>\n",
      "\t<td>9</td>\n",
      "\t<td>Delhi</td>\n",
      "\t<td>17407</td>\n",
      "\t<td>97693</td>\n",
      "\t<td>3545</td>\n",
      "\t</tr>\n",
      "\t\n",
      "\t<tr>\n",
      "\t<td>10</td>\n",
      "\t<td>Goa</td>\n",
      "\t<td>1272</td>\n",
      "\t<td>1817</td>\n",
      "\t<td>19</td>\n",
      "\t</tr>\n",
      "\t\n",
      "\t<tr>\n",
      "\t<td>11</td>\n",
      "\t<td>Gujarat</td>\n",
      "\t<td>11289</td>\n",
      "\t<td>32103</td>\n",
      "\t<td>2089</td>\n",
      "\t</tr>\n",
      "\t\n",
      "\t<tr>\n",
      "\t<td>12</td>\n",
      "\t<td>Haryana</td>\n",
      "\t<td>5495</td>\n",
      "\t<td>18185</td>\n",
      "\t<td>322</td>\n",
      "\t</tr>\n",
      "\t\n",
      "\t<tr>\n",
      "\t<td>13</td>\n",
      "\t<td>Himachal Pradesh</td>\n",
      "\t<td>382</td>\n",
      "\t<td>984</td>\n",
      "\t<td>11</td>\n",
      "\t</tr>\n",
      "\t\n",
      "\t<tr>\n",
      "\t<td>14</td>\n",
      "\t<td>Jammu and Kashmir</td>\n",
      "\t<td>5488</td>\n",
      "\t<td>6446</td>\n",
      "\t<td>222</td>\n",
      "\t</tr>\n",
      "\t\n",
      "\t<tr>\n",
      "\t<td>15</td>\n",
      "\t<td>Jharkhand</td>\n",
      "\t<td>2069</td>\n",
      "\t<td>2513</td>\n",
      "\t<td>42</td>\n",
      "\t</tr>\n",
      "\t\n",
      "\t<tr>\n",
      "\t<td>16</td>\n",
      "\t<td>Karnataka</td>\n",
      "\t<td>30661</td>\n",
      "\t<td>19729</td>\n",
      "\t<td>1032</td>\n",
      "\t</tr>\n",
      "\t\n",
      "\t<tr>\n",
      "\t<td>17</td>\n",
      "\t<td>Kerala</td>\n",
      "\t<td>5376</td>\n",
      "\t<td>4862</td>\n",
      "\t<td>37</td>\n",
      "\t</tr>\n",
      "\t\n",
      "\t<tr>\n",
      "\t<td>18</td>\n",
      "\t<td>Ladakh</td>\n",
      "\t<td>176</td>\n",
      "\t<td>970</td>\n",
      "\t<td>1</td>\n",
      "\t</tr>\n",
      "\n",
      "\t<tr>\n",
      "\t<td>19</td>\n",
      "\t<td>Madhya Pradesh</td>\n",
      "\t<td>5562</td>\n",
      "\t<td>14127</td>\n",
      "\t<td>689</td>\n",
      "\t</tr>\n",
      "\t\n",
      "\t<tr>\n",
      "\t<td>20</td>\n",
      "\t<td>Maharashtra</td>\n",
      "\t<td>114947</td>\n",
      "\t<td>158140</td>\n",
      "\t<td>11194</td>\n",
      "\t</tr>\n",
      "\t\n",
      "\t<tr>\n",
      "\t<td>21</td>\n",
      "\t<td>Manipur</td>\n",
      "\t<td>635</td>\n",
      "\t<td>1129</td>\n",
      "\t<td>0</td>\n",
      "\t</tr>\n",
      "\t\n",
      "\t<tr>\n",
      "\t<td>22</td>\n",
      "\t<td>Meghalaya</td>\n",
      "\t<td>309</td>\n",
      "\t<td>66</td>\n",
      "\t<td>2</td>\n",
      "\t</tr>\n",
      "\t\n",
      "\t<tr>\n",
      "\t<td>23</td>\n",
      "\t<td>Mizoram</td>\n",
      "\t<td>112</td>\n",
      "\t<td>160</td>\n",
      "\t<td>0</td>\n",
      "\t</tr>\n",
      "\t\n",
      "\t<tr>\n",
      "\t<td>24</td>\n",
      "\t<td>Nagaland</td>\n",
      "\t<td>525</td>\n",
      "\t<td>391</td>\n",
      "\t<td>0</td>\n",
      "\t</tr>\n",
      "\n",
      "\t<tr>\n",
      "\t<td>25</td>\n",
      "\t<td>Odisha</td>\n",
      "\t<td>4436</td>\n",
      "\t<td>10877</td>\n",
      "\t<td>79</td>\n",
      "\t</tr>\n",
      "\n",
      "\t<tr>\n",
      "\t<td>26</td>\n",
      "\t<td>Puducherry</td>\n",
      "\t<td>774</td>\n",
      "\t<td>947</td>\n",
      "\t<td>22</td>\n",
      "\t</tr>\n",
      "\n",
      "\t<tr>\n",
      "\t<td>27</td>\n",
      "\t<td>Punjab</td>\n",
      "\t<td>2587</td>\n",
      "\t<td>6277</td>\n",
      "\t<td>230</td>\n",
      "\t</tr>\n",
      "\t\n",
      "\t<tr>\n",
      "\t<td>28</td>\n",
      "\t<td>Rajasthan</td>\n",
      "\t<td>6666</td>\n",
      "\t<td>19970</td>\n",
      "\t<td>538</td>\n",
      "\t</tr>\n",
      "\t\n",
      "\t<tr>\n",
      "\t<td>29</td>\n",
      "\t<td>Sikkim</td>\n",
      "\t<td>155</td>\n",
      "\t<td>88</td>\n",
      "\t<td>0</td>\n",
      "\t</tr>\n",
      "\n",
      "\t<tr>\n",
      "\t<td>30</td>\n",
      "\t<td>Tamil Nadu</td>\n",
      "\t<td>46717</td>\n",
      "\t<td>107416</td>\n",
      "\t<td>2236</td>\n",
      "\t</tr>\n",
      "\t\n",
      "\t<tr>\n",
      "\t<td>31</td>\n",
      "\t<td>Telangana</td>\n",
      "\t<td>13327</td>\n",
      "\t<td>27295</td>\n",
      "\t<td>396</td>\n",
      "\t</tr>\n",
      "\t\n",
      "\t<tr>\n",
      "\t<td>32</td>\n",
      "\t<td>Tripura</td>\n",
      "\t<td>676</td>\n",
      "\t<td>1604</td>\n",
      "\t<td>3</td>\n",
      "\t</tr>\n",
      "\t\n",
      "\t<tr>\n",
      "\t<td>33</td>\n",
      "\t<td>Uttarakhand</td>\n",
      "\t<td>937</td>\n",
      "\t<td>2995</td>\n",
      "\t<td>50</td>\n",
      "\t</tr>\n",
      "\t\n",
      "\t<tr>\n",
      "\t<td>34</td>\n",
      "\t<td>Uttar Pradesh</td>\n",
      "\t<td>15720</td>\n",
      "\t<td>26675</td>\n",
      "\t<td>1046</td>\n",
      "\t</tr>                    \n",
      "\t\n",
      "\t<tr>\n",
      "\t<td>35</td>\n",
      "\t<td>West Bengal</td>\n",
      "\t<td>13679</td>\n",
      "\t<td>21415</td>\n",
      "\t<td>1023</td>\n",
      "\t</tr>\n",
      "\t<tr>\n",
      "\t<td></td>\n",
      "\t<td>Cases being reassigned to states</td>\n",
      "\t<td>531</td>\n",
      "\t<td></td>\n",
      "\t<td></td>\n",
      "\t</tr>\n",
      "\t\n",
      "\t<tr>\n",
      "\t<td></td>\n",
      "\t<td colspan=\"1\"><strong><span>Total#</span></strong></td>\n",
      "\t<td align = \"right\" style = \"text-align:right;\"><strong>342473</strong></td>\n",
      "\t<td>\n",
      "\t<strong>635757</strong>\n",
      "\t</td>\n",
      "\t<td>\n",
      "\t<strong>25602</strong>\n",
      "\t</td>\n",
      "\t</tr>-->\n",
      "<tbody><tr><td>1</td><td>Andaman and Nicobar Islands</td><td>10</td><td><span class=\"up\"> 1 <i class=\"fa fa-arrow-up\"></i></span> </td><td>7501</td><td><span class=\"cup\"> 2 <i class=\"fa fa-arrow-up\"></i></span> </td><td>129</td><td><span> </span> </td></tr><tr><td>2</td><td>Andhra Pradesh</td><td>6588</td><td><span class=\"down\"> 27 <i class=\"fa fa-arrow-down\"></i></span> </td><td>2038248</td><td><span class=\"cup\"> 557 <i class=\"fa fa-arrow-up\"></i></span> </td><td>14286</td><td><span class=\"up\"> 10 <i class=\"fa fa-arrow-up\"></i></span> </td></tr><tr><td>3</td><td>Arunachal Pradesh</td><td>202</td><td><span class=\"down\"> 22 <i class=\"fa fa-arrow-down\"></i></span> </td><td>54476</td><td><span class=\"cup\"> 26 <i class=\"fa fa-arrow-up\"></i></span> </td><td>280</td><td><span> </span> </td></tr><tr><td>4</td><td>Assam</td><td>3646</td><td><span class=\"down\"> 157 <i class=\"fa fa-arrow-down\"></i></span> </td><td>596263</td><td><span class=\"cup\"> 362 <i class=\"fa fa-arrow-up\"></i></span> </td><td>5938</td><td><span class=\"up\"> 2 <i class=\"fa fa-arrow-up\"></i></span> </td></tr><tr><td>5</td><td>Bihar</td><td>42</td><td><span class=\"up\"> 6 <i class=\"fa fa-arrow-up\"></i></span> </td><td>716313</td><td><span class=\"cup\"> 2 <i class=\"fa fa-arrow-up\"></i></span> </td><td>9661</td><td><span> </span> </td></tr><tr><td>6</td><td>Chandigarh</td><td>32</td><td><span class=\"down\"> 5 <i class=\"fa fa-arrow-down\"></i></span> </td><td>64443</td><td><span class=\"cup\"> 15 <i class=\"fa fa-arrow-up\"></i></span> </td><td>820</td><td><span> </span> </td></tr><tr><td>7</td><td>Chhattisgarh</td><td>203</td><td><span class=\"down\"> 4 <i class=\"fa fa-arrow-down\"></i></span> </td><td>991841</td><td><span class=\"cup\"> 20 <i class=\"fa fa-arrow-up\"></i></span> </td><td>13570</td><td><span> </span> </td></tr><tr><td>8</td><td>Dadra and Nagar Haveli and Daman and Diu</td><td>3</td><td><span class=\"down\"> 1 <i class=\"fa fa-arrow-down\"></i></span> </td><td>10668</td><td><span class=\"cup\"> 1 <i class=\"fa fa-arrow-up\"></i></span> </td><td>4</td><td><span> </span> </td></tr><tr><td>9</td><td>Delhi</td><td>337</td><td><span class=\"down\"> 1 <i class=\"fa fa-arrow-down\"></i></span> </td><td>1413885</td><td><span class=\"cup\"> 29 <i class=\"fa fa-arrow-up\"></i></span> </td><td>25089</td><td><span> </span> </td></tr><tr><td>10</td><td>Goa</td><td>679</td><td><span class=\"up\"> 27 <i class=\"fa fa-arrow-up\"></i></span> </td><td>173342</td><td><span class=\"cup\"> 39 <i class=\"fa fa-arrow-up\"></i></span> </td><td>3335</td><td><span class=\"up\"> 2 <i class=\"fa fa-arrow-up\"></i></span> </td></tr><tr><td>11</td><td>Gujarat</td><td>215</td><td><span class=\"up\"> 20 <i class=\"fa fa-arrow-up\"></i></span> </td><td>815943</td><td><span class=\"cup\"> 14 <i class=\"fa fa-arrow-up\"></i></span> </td><td>10086</td><td><span> </span> </td></tr><tr><td>12</td><td>Haryana***</td><td>105</td><td><span class=\"down\"> 158 <i class=\"fa fa-arrow-down\"></i></span> </td><td>760881</td><td><span> </span> </td><td>10049</td><td><span class=\"up\"> 174 <i class=\"fa fa-arrow-up\"></i></span> </td></tr><tr><td>13</td><td>Himachal Pradesh</td><td>1387</td><td><span class=\"up\"> 5 <i class=\"fa fa-arrow-up\"></i></span> </td><td>216011</td><td><span class=\"cup\"> 173 <i class=\"fa fa-arrow-up\"></i></span> </td><td>3715</td><td><span class=\"up\"> 4 <i class=\"fa fa-arrow-up\"></i></span> </td></tr><tr><td>14</td><td>Jammu and Kashmir</td><td>935</td><td><span class=\"down\"> 11 <i class=\"fa fa-arrow-down\"></i></span> </td><td>325473</td><td><span class=\"cup\"> 104 <i class=\"fa fa-arrow-up\"></i></span> </td><td>4426</td><td><span> </span> </td></tr><tr><td>15</td><td>Jharkhand</td><td>130</td><td><span class=\"up\"> 4 <i class=\"fa fa-arrow-up\"></i></span> </td><td>343141</td><td><span class=\"cup\"> 7 <i class=\"fa fa-arrow-up\"></i></span> </td><td>5135</td><td><span> </span> </td></tr><tr><td>16</td><td>Karnataka</td><td>9607</td><td><span class=\"down\"> 43 <i class=\"fa fa-arrow-down\"></i></span> </td><td>2934870</td><td><span class=\"cup\"> 347 <i class=\"fa fa-arrow-up\"></i></span> </td><td>37922</td><td><span class=\"up\"> 6 <i class=\"fa fa-arrow-up\"></i></span> </td></tr><tr><td>17</td><td>Kerala</td><td>96421</td><td><span class=\"down\"> 1802 <i class=\"fa fa-arrow-down\"></i></span> </td><td>4706856</td><td><span class=\"cup\"> 10952 <i class=\"fa fa-arrow-up\"></i></span> </td><td>26667</td><td><span class=\"up\"> 96 <i class=\"fa fa-arrow-up\"></i></span> </td></tr><tr><td>18</td><td>Ladakh</td><td>44</td><td><span class=\"up\"> 2 <i class=\"fa fa-arrow-up\"></i></span> </td><td>20615</td><td><span class=\"cup\"> 4 <i class=\"fa fa-arrow-up\"></i></span> </td><td>208</td><td><span> </span> </td></tr><tr><td>19</td><td>Lakshadweep</td><td>2</td><td><span> </span> </td><td>10312</td><td><span> </span> </td><td>51</td><td><span> </span> </td></tr><tr><td>20</td><td>Madhya Pradesh</td><td>111</td><td><span class=\"up\"> 1 <i class=\"fa fa-arrow-up\"></i></span> </td><td>782035</td><td><span class=\"cup\"> 11 <i class=\"fa fa-arrow-up\"></i></span> </td><td>10523</td><td><span> </span> </td></tr><tr><td>21</td><td>Maharashtra</td><td>33157</td><td><span class=\"up\"> 6 <i class=\"fa fa-arrow-up\"></i></span> </td><td>6413418</td><td><span class=\"cup\"> 2343 <i class=\"fa fa-arrow-up\"></i></span> </td><td>139705</td><td><span class=\"up\"> 35 <i class=\"fa fa-arrow-up\"></i></span> </td></tr><tr><td>22</td><td>Manipur</td><td>1444</td><td><span class=\"down\"> 15 <i class=\"fa fa-arrow-down\"></i></span> </td><td>119099</td><td><span class=\"cup\"> 84 <i class=\"fa fa-arrow-up\"></i></span> </td><td>1889</td><td><span> </span> </td></tr><tr><td>23</td><td>Meghalaya</td><td>892</td><td><span class=\"down\"> 31 <i class=\"fa fa-arrow-down\"></i></span> </td><td>80411</td><td><span class=\"cup\"> 115 <i class=\"fa fa-arrow-up\"></i></span> </td><td>1431</td><td><span class=\"up\"> 3 <i class=\"fa fa-arrow-up\"></i></span> </td></tr><tr><td>24</td><td>Mizoram</td><td>13601</td><td><span class=\"down\"> 435 <i class=\"fa fa-arrow-down\"></i></span> </td><td>96744</td><td><span class=\"cup\"> 1332 <i class=\"fa fa-arrow-up\"></i></span> </td><td>374</td><td><span class=\"up\"> 4 <i class=\"fa fa-arrow-up\"></i></span> </td></tr><tr><td>25</td><td>Nagaland</td><td>230</td><td><span class=\"down\"> 8 <i class=\"fa fa-arrow-down\"></i></span> </td><td>30613</td><td><span class=\"cup\"> 17 <i class=\"fa fa-arrow-up\"></i></span> </td><td>673</td><td><span> </span> </td></tr><tr><td>26</td><td>Odisha</td><td>4890</td><td><span class=\"up\"> 38 <i class=\"fa fa-arrow-up\"></i></span> </td><td>1020645</td><td><span class=\"cup\"> 477 <i class=\"fa fa-arrow-up\"></i></span> </td><td>8274</td><td><span class=\"up\"> 6 <i class=\"fa fa-arrow-up\"></i></span> </td></tr><tr><td>27</td><td>Puducherry</td><td>647</td><td><span class=\"down\"> 4 <i class=\"fa fa-arrow-down\"></i></span> </td><td>124763</td><td><span class=\"cup\"> 53 <i class=\"fa fa-arrow-up\"></i></span> </td><td>1849</td><td><span> </span> </td></tr><tr><td>28</td><td>Punjab</td><td>234</td><td><span class=\"up\"> 11 <i class=\"fa fa-arrow-up\"></i></span> </td><td>585199</td><td><span class=\"cup\"> 16 <i class=\"fa fa-arrow-up\"></i></span> </td><td>16538</td><td><span class=\"up\"> 6 <i class=\"fa fa-arrow-up\"></i></span> </td></tr><tr><td>29</td><td>Rajasthan</td><td>42</td><td><span class=\"up\"> 6 <i class=\"fa fa-arrow-up\"></i></span> </td><td>945386</td><td><span class=\"cup\"> 2 <i class=\"fa fa-arrow-up\"></i></span> </td><td>8954</td><td><span> </span> </td></tr><tr><td>30</td><td>Sikkim</td><td>224</td><td><span class=\"down\"> 1 <i class=\"fa fa-arrow-down\"></i></span> </td><td>31108</td><td><span class=\"cup\"> 7 <i class=\"fa fa-arrow-up\"></i></span> </td><td>390</td><td><span> </span> </td></tr><tr><td>31</td><td>Tamil Nadu</td><td>15451</td><td><span class=\"down\"> 199 <i class=\"fa fa-arrow-down\"></i></span> </td><td>2632092</td><td><span class=\"cup\"> 1438 <i class=\"fa fa-arrow-up\"></i></span> </td><td>35853</td><td><span class=\"up\"> 20 <i class=\"fa fa-arrow-up\"></i></span> </td></tr><tr><td>32</td><td>Telangana</td><td>4171</td><td><span class=\"down\"> 40 <i class=\"fa fa-arrow-down\"></i></span> </td><td>660512</td><td><span class=\"cup\"> 207 <i class=\"fa fa-arrow-up\"></i></span> </td><td>3935</td><td><span class=\"up\"> 1 <i class=\"fa fa-arrow-up\"></i></span> </td></tr><tr><td>33</td><td>Tripura</td><td>110</td><td><span class=\"down\"> 8 <i class=\"fa fa-arrow-down\"></i></span> </td><td>83369</td><td><span class=\"cup\"> 12 <i class=\"fa fa-arrow-up\"></i></span> </td><td>816</td><td><span> </span> </td></tr><tr><td>34</td><td>Uttarakhand</td><td>175</td><td><span class=\"up\"> 22 <i class=\"fa fa-arrow-up\"></i></span> </td><td>336157</td><td><span class=\"cup\"> 6 <i class=\"fa fa-arrow-up\"></i></span> </td><td>7397</td><td><span> </span> </td></tr><tr><td>35</td><td>Uttar Pradesh</td><td>135</td><td><span class=\"down\"> 4 <i class=\"fa fa-arrow-down\"></i></span> </td><td>1686976</td><td><span class=\"cup\"> 16 <i class=\"fa fa-arrow-up\"></i></span> </td><td>22897</td><td><span> </span> </td></tr><tr><td>36</td><td>West Bengal</td><td>7576</td><td><span class=\"down\"> 81 <i class=\"fa fa-arrow-down\"></i></span> </td><td>1552491</td><td><span class=\"cup\"> 601 <i class=\"fa fa-arrow-up\"></i></span> </td><td>18945</td><td><span class=\"up\"> 10 <i class=\"fa fa-arrow-up\"></i></span> </td></tr><tr><td colspan=\"2\">Total#</td><td>203678</td><td><span class=\"down\"> 2908 <i class=\"fa fa-arrow-down\"></i></span> </td><td>33382100</td><td><span class=\"cup\">  19391 <i class=\"fa fa-arrow-up\"></i></span> </td><td>451814</td><td><span class=\"up\"> 379 <i class=\"fa fa-arrow-up\"></i></span></td></tr><tr><td align=\"center\" colspan=\"8\" style=\"text-align:center;\"><strong>***The outcome of 174 cases declared as COVID-19 deaths by the Haryana State Death Audit Committee report</strong></td></tr><tr><td align=\"center\" colspan=\"8\" style=\"text-align:center;\"><strong>*(Including foreign Nationals)</strong></td></tr> <tr><td align=\"center\" colspan=\"8\" style=\"text-align:center;\"><strong>**( more than 70% cases due to comorbidities )</strong></td></tr><tr><td align=\"center\" colspan=\"8\" style=\"text-align:center;\"><strong>#States wise distribution is subject to further verification and reconciliation</strong></td></tr> <tr><td align=\"center\" colspan=\"8\" style=\"text-align:center;\"><strong>#Our figures are being reconciled with ICMR</strong></td></tr></tbody></table>\n",
      "</div>\n",
      "</div>\n",
      "</div>\n",
      "</div>\n",
      "</section>\n",
      "<section class=\"site-update\" id=\"site-advisories\">\n",
      "<div class=\"container\">\n",
      "<div class=\"row\">\n",
      "<div class=\"col-xs-12\">\n",
      "<h2>Resources</h2>\n",
      "</div>\n",
      "</div>\n",
      "<div class=\"row\">\n",
      "<div class=\"col-xs-12\">\n",
      "<div class=\"tabs-container clearfix\">\n",
      "<ul class=\"tabs-menu\">\n",
      "<li class=\"active\" id=\"travel\"><a href=\"#\">Travel Advisories</a></li>\n",
      "<li id=\"bh\"><a data-id=\"bh\" href=\"#\">Behavioural Health : Psycho-Social toll free helpline-08046110007</a></li>\n",
      "<li id=\"citizens\"><a data-id=\"citizens\" href=\"#\">Citizens</a></li>\n",
      "<li id=\"hospitals\"><a data-id=\"hospitals\" href=\"#\">Hospitals</a></li>\n",
      "<li id=\"tm\"><a data-id=\"tm\" href=\"#\">Training Material</a></li>\n",
      "<li id=\"state\"><a href=\"#\">States / Departments / Ministries</a></li>\n",
      "<li id=\"employees\"><a href=\"#\">Employees</a></li>\n",
      "<li id=\"awareness\"><a href=\"#\">Awareness Material</a></li>\n",
      "<li id=\"Inspirational\"><a href=\"#\">Inspirational series on Healthcare Service Personnel</a></li>\n",
      "</ul>\n",
      "<div class=\"tab\">\n",
      "<!--travel advisories-->\n",
      "<div class=\"panes\" style=\"display:block;\">\n",
      "<div class=\"tab-content\">\n",
      "<ul>\n",
      "<li><span>06.09.2021</span> <a href=\"https://www.mohfw.gov.in/pdf/AddendumtoGuidelinesonInternationalArrivaldated17thFebruary2021.pdf\" target=\"_BLANK\"> Addendum to Guidelines on International Arrivals dated 17th February 2021\n",
      "</a>\n",
      "</li>\n",
      "<li><span>25.08.2021</span> <a href=\"https://www.mohfw.gov.in/pdf/Guidelinesfordomestictravelflighttrainshipbusinterstatetravel.pdf\" target=\"_BLANK\"> Guidelines for domestic travel (flight/train/ship/bus inter-state travel)</a>\n",
      "</li>\n",
      "<li><span>07.06.2021</span> <a href=\"https://www.mohfw.gov.in/pdf/AdministrationofSecondDoseofCovishieldVaccinePriortoPrescribedTimeInterval.pdf\" target=\"_BLANK\">Administration of Second Dose of Covishield Vaccine Prior to Prescribed Time Interval (after 28 days but before 84 days) to persons intending to undertake international travel for specific purposes </a>\n",
      "</li>\n",
      "<li><span>17.02.2021</span> <a href=\"https://www.mohfw.gov.in/pdf/Algorithmforinternationalarrivals.pdf\" target=\"_BLANK\">Algorithm for international arrivals\n",
      " </a>\n",
      "</li>\n",
      "<li><span>17.02.2021</span> <a href=\"https://www.mohfw.gov.in/pdf/Guidelinesforinternationalarrivals17022021.pdf\" target=\"_BLANK\">Guidelines for International Arrivals\n",
      "\n",
      " </a>\n",
      "</li>\n",
      "<li><span>30.01.2021</span>  Extension of validity of Standard Operating Procedure for Epidemiological Surveillance &amp; Response for the new variant of SARS-CoV-2 \n",
      "</li>\n",
      "<li><span>01.01.2021</span> SOP for the new variant of SARS-CoV-2 in the context of regulated resumption of limited flights originating from United Kingdom (UK) to India from 8th January 2021</li>\n",
      "<li><span>22.12.2020</span>   SOP for Surveillance and response for the new SARS Cov-2 variant</li>\n",
      "<li><span>05.11.2020</span>   Guidelines for international arrivals</li>\n",
      "<li><span>02.08.2020</span> <a href=\"https://www.mohfw.gov.in/pdf/RevisedguidelinesforInternationalArrivals02082020.pdf\" target=\"_BLANK\"> Revised guidelines for International Arrivals</a></li>\n",
      "<li><span>24.05.2020</span> <a href=\"https://www.mohfw.gov.in/pdf/Guidelinesforinternationalarrivals.pdf\" target=\"_BLANK\">Guidelines for international arrivals</a></li>\n",
      "<li><span>24.05.2020</span> Guidelines for domestic travel (air/train/inter-state bus travel)</li>\n",
      "<li><span>20.03.2020</span> <a href=\"https://www.mohfw.gov.in/pdf/DGSOrder04of2020.pdf\" target=\"_BLANK\">Instructions to all major and minor ports for dealing with(COVID-19)</a></li>\n",
      "<li><span>19.03.2020</span> <a href=\"https://www.mohfw.gov.in/pdf/Traveladvisory.pdf\" target=\"_BLANK\">Additional Travel Advisory </a></li>\n",
      "<li><span>18.03.2020</span> <a href=\"https://www.mohfw.gov.in/pdf/SOPQuarantineofPassengers.pdf\" target=\"_BLANK\">Standard Operating Procedure for Passenger Movement post Disembarkation </a></li>\n",
      "<li><span>17.03.2020</span> <a href=\"https://www.mohfw.gov.in/pdf/TravelAdvisory17thMarch.pdf\" target=\"_BLANK\">Additional Travel Advisory</a></li>\n",
      "<li><span>16.03.2020</span> <a href=\"https://www.mohfw.gov.in/pdf/TravelAdvisory16thMarch.pdf\" target=\"_BLANK\">Additional Travel Advisory </a></li>\n",
      "<li><span>14.03.2020</span> <a href=\"https://www.mohfw.gov.in/pdf/NewinstructionsDt14032020Restirctiononinternationalpassengertraffic.pdf\" target=\"_BLANK\"> Restrictions on International passenger traffic through Land Check Posts </a></li>\n",
      "<li><span>13.03.2020</span> <a href=\"https://www.mohfw.gov.in/pdf/GuidelinesDT13032020.pdf\" target=\"_BLANK\">Restrictions on International passenger traffic through land check posts-COVID 19 </a></li>\n",
      "<li><span>11.03.2020</span> <a href=\"https://www.mohfw.gov.in/pdf/ConsolidatedTraveladvisoryUpdated11032020.pdf\" target=\"_BLANK\">Consolidated Travel Advisory - 11 March 2020</a></li>\n",
      "<li><span>11.03.2020</span> <a href=\"https://www.mohfw.gov.in/pdf/VisarestrictionsrelatedtoCOVID19Ministries.pdf\" target=\"_BLANK\">Visa restrictions issued by Bureau of Immigration (BOI) after meeting of GoM on COVID19 - 11 March 2020 </a></li>\n",
      "<li><span>11.03.2020</span> <a href=\"https://www.mohfw.gov.in/pdf/HFWnCoVGoM11March2020II.pdf\" target=\"_BLANK\">Decisions- High level Group of Ministers meeting to review current status and actions for prevention and management of COVID-19 </a></li>\n",
      "<li><span>10.03.2020</span> <a href=\"https://www.mohfw.gov.in/pdf/InternationalCruiseShipsSOPforCovid19.pdf\" target=\"_BLANK\">Standard Operating Procedure (SOP) for COVID-19 Management- International Cruise Ships at major Indian Ports</a></li>\n",
      "<li><span>10.03.2020</span> <a href=\"https://www.mohfw.gov.in/pdf/AdditionalTravelAdvisory10032020.pdf\" target=\"_BLANK\">Additional Travel Advisory</a></li>\n",
      "<li><span>10.03.2020</span> <a href=\"https://www.mohfw.gov.in/pdf/AdditionalTravelAdvisory1homeisolation.pdf\" target=\"_BLANK\">Travel Advisory (Home Isolation)</a></li>\n",
      "<li><span>06.03.2020</span> <a href=\"https://www.mohfw.gov.in/pdf/DraftTraveladvisorytotravelersUpdated06032020.pdf\" target=\"_BLANK\">Travel Advisory</a></li>\n",
      "<li><span>05.03.2020</span> <a href=\"https://www.mohfw.gov.in/pdf/TravelAdvisory5thMarch.pdf\" target=\"_BLANK\">Travel Advisory </a></li>\n",
      "<li><span>03.03.2020</span> <a href=\"https://boi.gov.in/content/advisory-travel-and-visa-restrictions-related-covid-19\" target=\"_BLANK\">Travel and Visa restrictions related to COVID-19 in respect of Bureau of Immigration </a></li>\n",
      "<li><span>02.03.2020</span> <a href=\"https://www.mohfw.gov.in/pdf/Consolidated%20Travel%20advisory%20to%20travelers%20Updated%2002032020.pdf\" target=\"_BLANK\">Travel Advisory</a></li>\n",
      "<li><span>26.02.2020</span> <a href=\"https://www.mohfw.gov.in/pdf/Consolidated%20Travel%20advisory%20to%20travelers%20Updated%2026-02-2020.pdf\" target=\"_BLANK\">Travel Advisory </a></li>\n",
      "<li><span>05.02.2020</span> <a href=\"https://www.mohfw.gov.in/pdf/Traveladvisory05022020.pdf\" target=\"_BLANK\">Travel Advisory </a></li>\n",
      "<li><span>25.01.2020</span> <a href=\"https://www.mohfw.gov.in/pdf/TraveladvisorytotravelersvisitingChina25012020.pdf\" target=\"_BLANK\">Travel Advisory </a></li>\n",
      "<li><span>17.01.2020</span> <a href=\"https://www.mohfw.gov.in/pdf/TraveladvisorytotravelersvisitingChina17012020.pdf\" target=\"_BLANK\">Travel Advisory </a></li>\n",
      "</ul>\n",
      "</div>\n",
      "</div>\n",
      "<!--travel advisories-->\n",
      "<!--behavioural-->\n",
      "<div class=\"panes\" style=\"display:block;\">\n",
      "<div class=\"tab-content\">\n",
      "<ul>\n",
      "<li><span>01.11.2020</span><a href=\"https://www.mohfw.gov.in/pdf/GuidelinesforDeliveryofMentalMentalHealthcareServicesduringtheCOVID19.pdf\" target=\"_BLANK\">Guidelines on Managing Mental Illness in Hospital Settings during COVID-19</a>\n",
      "</li>\n",
      "<li><span>31.07.2020</span><a href=\"https://youtu.be/rJENzEE4xBE\" target=\"_BLANK\"> A/V on \" Mental Health Matters..Let's Talk\" </a>\n",
      "</li>\n",
      "<li><span>28.07.2020</span><a href=\"https://www.mohfw.gov.in/pdf/COVID19PandemicandTobaccoUseinIndia.pdf\" target=\"_BLANK\"> COVID-19 Pandemic and Tobacco Use in India\n",
      "</a>\n",
      "</li>\n",
      "<li><span>15.07.2020</span><a href=\"https://www.mohfw.gov.in/pdf/HCWMentalHealthSupportGuidanceJuly20201.pdf\" target=\"_BLANK\"> Caring for Health Care Warriors – Mental Health Support During COVID-19 (Jointly prepared by Department of Health &amp; Family Welfare, Government of Karnataka and National Institute of Mental Health and Neurosciences, Bengaluru)</a>\n",
      "</li>\n",
      "<li><span>09.07.2020</span><a href=\"https://www.mohfw.gov.in/pdf/COVID19Final2020ForOnline9July2020.pdf\" target=\"_BLANK\">Mental Health in the times of COVID-19 Pandemic - Guidance for General Medical and Specialised Mental Health Care Settings</a>\n",
      "</li>\n",
      "<li><span>18.06.2020</span><a href=\"https://youtu.be/8I5xaKLhwBE\" target=\"_BLANK\">Video on Addressing Psychosocial Concerns of Healthcare Workers </a>\n",
      "</li>\n",
      "<li><span>20.04.2020</span><a href=\"https://youtu.be/yJZ06JsREW4\" target=\"_BLANK\">  Audio Visual on Addressing Stigma Related to COVID-19\n",
      "</a>\n",
      "</li>\n",
      "<li><span>15.04.2020</span><a href=\"https://youtu.be/qkdB_2htNe0\" target=\"_BLANK\"> Audio Visual on How to Safely Quit Tobacco During Lockdown (Hindi)\n",
      "</a>\n",
      "</li>\n",
      "<li><span>13.04.2020</span><a href=\"https://youtu.be/3uvcqsLKnw0\" target=\"_BLANK\"> Video on Yoga for Stress Management (Hindi)\n",
      "</a>\n",
      "</li>\n",
      "<li><span>11.04.2020</span><a href=\"https://youtu.be/5wr4hq-4HQk\" target=\"_BLANK\">Video on meditation for stress management (English)\n",
      "</a>\n",
      "</li>\n",
      "<li><span>10.04.2020</span><a href=\"https://youtu.be/6HJNFex2v5E\" target=\"_BLANK\">Audio Visual on \"How to Safely Stop Drinking During Lockdown\n",
      "</a>\n",
      "</li>\n",
      "<li><span>10.04.2020</span><a href=\"https://youtu.be/wRYP0vjOeck\" target=\"_BLANK\">Audio Visual on \"Managing Mental Stress and Depression During Lockdown\n",
      "</a></li>\n",
      "<li><span>10.04.2020</span><a href=\"https://youtu.be/ca0gl2C3SVI\" target=\"_BLANK\">Video on Addressing Social Stigma Associated with COVID-19 (Hindi)\n",
      "</a></li>\n",
      "<li><span>08.04.2020</span><a href=\"https://youtu.be/1GCv8_BIWeY\" target=\"_BLANK\">Video on Addressing Social Stigma Associated with COVID-19\n",
      "</a></li>\n",
      "<li><span>08.04.2020</span><a href=\"https://www.mohfw.gov.in/pdf/AddressingSocialStigmaAssociatedwithCOVID19.pdf\" target=\"_BLANK\">Addressing Social Stigma Associated with COVID-19\n",
      "</a></li>\n",
      "<li><span>08.04.2020</span><a href=\"https://youtu.be/NkWbaBYabwo\" target=\"_BLANK\">Video on Yoga for stress management (English)\n",
      "</a></li>\n",
      "<li><span>08.04.2020</span><a href=\"https://youtu.be/gur9p17XBFk\" target=\"_BLANK\">Video on meditation for stress management (Hindi)\n",
      "</a></li>\n",
      "<li><span>05.04.2020</span><a href=\"https://youtu.be/3Xrse108SbA\" target=\"_BLANK\">Lockdown to Knockdown COVID-19 </a></li>\n",
      "<li><span>05.04.2020</span><a href=\"https://youtu.be/WuY68_iN17o\" target=\"_BLANK\">Lockdown to Knockdown COVID-19 - additional tips </a>\n",
      "</li>\n",
      "<li><span>01.04.2020</span><a href=\"https://www.mohfw.gov.in/pdf/mentalhealthchildrean.pdf\" target=\"_BLANK\">Taking care of mental health of children during COVID - 19  </a></li>\n",
      "<li><span>01.04.2020</span><a href=\"https://www.mohfw.gov.in/pdf/mentalhealthelderly.pdf\" target=\"_BLANK\">Taking care of mental health of elderly during COVID -19 </a></li>\n",
      "<li><span>01.04.2020</span><a href=\"https://www.mohfw.gov.in/pdf/RevisedPsychosocialissuesofmigrantsCOVID19.pdf\" target=\"_BLANK\"> Psychosocial issues  among  migrants  during  COVID-19</a></li>\n",
      "<li><span>31.03.2020</span><a href=\"https://youtu.be/uHB3WJsLJ8s\" target=\"_BLANK\"> Video on Practical tips to take care of your Mental Health during the Stay In</a></li>\n",
      "<li><span>31.03.2020</span><a href=\"https://www.mohfw.gov.in/pdf/MindingourmindsduringCoronaeditedat.pdf\" target=\"_BLANK\"> Minding our minds during the COVID-19  </a></li>\n",
      "<li><span>28.03.2020</span><a href=\" https://youtu.be/iuKhtSehp24\" target=\"_BLANK\">Various Health Experts on how to manage Mental health &amp; Well Being during COVID-19 outbreak </a></li>\n",
      "<li><span>27.03.2020</span><a href=\"https://youtu.be/OYD9bogtJlU\" target=\"_BLANK\">Dr. Shekhar P. Seshadri on 'Connecting with little ones during the COVID19 Lockdown- English </a></li>\n",
      "<li><span>27.03.2020</span><a href=\"https://youtu.be/GPwn_e9iuvg\" target=\"_BLANK\">Dr. Shekhar P. Seshadri on 'Connecting with little ones during the COVID19 Lockdown- Hindi</a></li>\n",
      "</ul>\n",
      "</div>\n",
      "</div>\n",
      "<!--behavioural advisories-->\n",
      "<!--citizen-->\n",
      "<div class=\"panes\">\n",
      "<div class=\"tab-content\">\n",
      "<ul>\n",
      "<li><span>01.09.2021</span> <a href=\"https://www.mohfw.gov.in/pdf/FAQsCOVID19vaccinesvaccinationprogramWebsiteupload.pdf\" target=\"_BLANK\"> FAQs on COVID-19 Vaccines &amp; Vaccination Program</a></li>\n",
      "<li><span>02.07.2021</span> <a href=\"https://www.mohfw.gov.in/pdf/OperationalGuidanceforCOVID19vaccinationofPregnantWoman.pdf\" target=\"_BLANK\">Operational Guidance for COVID-19 Vaccination of Pregnant Women  </a></li>\n",
      "<li><span>08.06.2021</span> <a href=\"https://www.mohfw.gov.in/pdf/RevisedVaccinationGuidelines.pdf\" target=\"_BLANK\">Revised Guidelines for implementation of National COVID Vaccination Program</a>\n",
      "</li>\n",
      "<li><span>07.06.2021</span> <a href=\"https://www.mohfw.gov.in/pdf/AdministrationofSecondDoseofCovishieldVaccinePriortoPrescribedTimeInterval.pdf\" target=\"_BLANK\">Administration of Second Dose of Covishield Vaccine Prior to Prescribed Time Interval (after 28 days but before 84 days) to persons intending to undertake international travel for specific purposes </a>\n",
      "</li>\n",
      "<li><span>27.05.2021</span> <a href=\"https://www.mohfw.gov.in/pdf/GuidanceNeartoHomeCovidVaccinationCentresforElderlyandDifferentlyAbledCitizens.pdf\" target=\"_BLANK\">Guidelines on near to Home COVID Vaccination Centres for Elderly &amp; Differently Abled Citizens </a>\n",
      "</li>\n",
      "<li><span>24.05.2021</span> <a href=\"https://www.mohfw.gov.in/pdf/CoWINAPIGuidelinesFinal240521.pdf\" target=\"_BLANK\">Guidelines for Integration of Co-WIN with Third-party Applications Developed by Ecosystem Partners </a>\n",
      "</li>\n",
      "<li><span>06.05.2021</span> <a href=\"https://www.mohfw.gov.in/pdf/SOPforCOVID19VaccinationofPersonswithoutPrescribedIdentityCards.pdf\" target=\"_BLANK\">SOP for COVID-19 Vaccination of Persons without Prescribed Identity Cards </a>\n",
      "</li>\n",
      "<li><span>05.05.2021</span>  Illustrated (Revised) Guidelines for Home Isolation of Mild / Asymptomatic COVID-19 Cases    <a href=\"https://www.mohfw.gov.in/pdf/RevisedGuidelineshomeisolation4.pdf\" target=\"_BLANK\"> English</a>\n",
      "<a href=\"https://www.mohfw.gov.in/pdf/RevisedGuidelineshomeisolationHindiV3.pdf\" target=\"_BLANK\"> Hindi</a>\n",
      "</li>\n",
      "<li><span>29.04.2021</span> <a href=\"https://www.mohfw.gov.in/pdf/RevisedguidelinesforHomeIsolationofmildasymptomaticCOVID19cases.pdf\" target=\"_BLANK\">Revised guidelines for Home Isolation of mild /asymptomatic COVID-19 cases </a>\n",
      "</li>\n",
      "<li><span>29.04.2021</span> <!-- <a href=\"https://www.mohfw.gov.in/pdf/ProtocolforManagementofCovid19inthePaediatricAgeGroup.pdf\" target=\"_BLANK\" > -->Protocol for Management of Covid - 19 in the Paediatric Age Group<!--</a>-->\n",
      "</li>\n",
      "<li><span>23.04.2021</span> <a href=\"https://www.mohfw.gov.in/pdf/COVID19ManagementAlgorithm22042021v1.pdf\" target=\"_BLANK\"> Clinical Guidance for Management of Adult Covid-19 Patients</a>\n",
      "</li>\n",
      "<li><span>22.04.2021</span> <a href=\"https://www.mohfw.gov.in/pdf/COVID19ProningforSelfcare3.pdf\" target=\"_BLANK\"> COVID 19 Proning for Self care</a>\n",
      "</li>\n",
      "<li><span>22.03.2021</span> <a href=\"https://www.mohfw.gov.in/pdf/FAQCoWINforcitizens.pdf\" target=\"_BLANK\">FAQs on Co-WIN for Citizens</a>\n",
      "</li>\n",
      "<li><span>01.03.2021</span> <a href=\"https://www.mohfw.gov.in/pdf/GuidelinesonPreventiveMeasurestoContainSpreadofCOVID19inYogaInstitutes&amp;Gymnasiums.pdf\" target=\"_BLANK\">Guidelines on Preventive Measures to Contain Spread of COVID-19 in Yoga Institutes &amp; Gymnasiums</a>\n",
      "</li>\n",
      "<li><span>01.03.2021</span> <a href=\"https://www.mohfw.gov.in/pdf/SOPonpreventivemeasuresinHotelsandotherHospitalityUnitstocontainspreadofCOVID19.pdf\" target=\"_BLANK\">SOP on preventive measures in Hotels and other Hospitality Units to contain spread of COVID-19</a>\n",
      "</li>\n",
      "<li><span>01.03.2021</span> <a href=\"https://www.mohfw.gov.in/pdf/SOPonpreventivemeasuresinRestaurantstocontainspreadofCOVID19.pdf\" target=\"_BLANK\">SOP on preventive measures in Restaurants to contain spread of COVID-19</a>\n",
      "</li>\n",
      "<li><span>01.03.2021</span> <a href=\"https://www.mohfw.gov.in/pdf/SOPonpreventivemeasuresinshoppingmallstocontainspreadofCOVID19.pdf\" target=\"_BLANK\">SOP on preventive measures in shopping malls to contain spread of COVID-19</a>\n",
      "</li>\n",
      "<li><span>01.03.2021</span> <a href=\"https://www.mohfw.gov.in/pdf/SOPonpreventivemeasurestobefollowedinEntertainmentParks.pdf\" target=\"_BLANK\">SOP on preventive measures to be followed in Entertainment Parks</a>\n",
      "</li>\n",
      "<li><span>01.03.2021</span> <a href=\"https://www.mohfw.gov.in/pdf/SOPonpreventivemeasurestocontainspreadofCOVID19inreligiousplacesandplacesofworship.pdf\" target=\"_BLANK\">SOP on preventive measures to contain spread of COVID-19 in religious places and places of worship</a>\n",
      "</li>\n",
      "<li><span>01.03.2021</span> <a href=\"https://www.mohfw.gov.in/pdf/SOPonpreventivemeasurestocontainspreadofCOVID19inskillorentrepreneurshiptraininginstitutionshighereducationalinstitutions.pdf\" target=\"_BLANK\">SOP on preventive measures to contain spread of COVID-19 in skill or entrepreneurship training institutions, higher educational institutions</a>\n",
      "</li>\n",
      "<li><span>28.02.2021</span> <a href=\"https://www.mohfw.gov.in/pdf/UserManualCitizenRegistration&amp;AppointmentforVaccination.pdf\" target=\"_BLANK\">User Manual - Citizen Registration &amp; Appointment for Vaccination Ver 1.1</a>\n",
      "</li>\n",
      "<li><span>28.02.2021</span> <a href=\"https://www.mohfw.gov.in/pdf/GuidancedocCOWIN2.pdf\" target=\"_BLANK\">Guidance Note for Co-WIN 2.0</a>\n",
      "</li>\n",
      "<li><span>13.02.2021</span> <a href=\"https://www.mohfw.gov.in/pdf/SOPonpreventivemeasurestocontainspreadofCOVID19inoffices.pdf\" target=\"_BLANK\">SOP on preventive measures to contain spread of COVID-19 in offices</a>\n",
      "</li>\n",
      "<li><span>30.11.2020</span><a href=\"https://www.mohfw.gov.in/pdf/30NovSOPonpreventivemeasuresinmarketstocontainspreadofCOVID19.pdf\" target=\"_BLANK\">  SOP on preventive measures in markets to contain spread of COVID-19\n",
      "</a>\n",
      "</li>\n",
      "<li><span>08.10.2020</span> SOP on preventive measures to be followed in Entertainment Parks and similar places to contain spread of COVID-19\n",
      "</li>\n",
      "<li><span>06.10.2020</span><a href=\"https://www.mohfw.gov.in/pdf/StandardOperatingProceduresonpreventivemeasurestocontainspreadofCOVID19duringfestivities.pdf\" target=\"_BLANK\"> Standard Operating Procedures on preventive measures to contain spread of COVID-19 during festivities </a>\n",
      "</li>\n",
      "<li><span>13.09.2020</span><a href=\"https://www.mohfw.gov.in/pdf/PostCOVID13092020.pdf\" target=\"_BLANK\"> Post COVID management protocol \n",
      "</a>\n",
      "</li>\n",
      "<li><span>10.09.2020</span><a href=\"https://www.mohfw.gov.in/pdf/RevisedSOPonpreventivemeasurestobefollowedwhileconductingexaminationstocontainspreadofCOVID19.pdf\" target=\"_BLANK\"> Revised SOP on preventive measures to be followed while conducting examinations to contain spread of COVID-19\n",
      "</a>\n",
      "</li>\n",
      "<li><span>08.09.2020</span><a href=\"https://www.mohfw.gov.in/pdf/FinalSOPonpartialresumptionofactivitiesinschools8092020.pdf\" target=\"_BLANK\"> SOP for partial reopening of Schools for students of 9th to 12th classes on a voluntary basis, for taking guidance from their teachers   </a>\n",
      "</li>\n",
      "<li><span>08.09.2020</span> SOP on preventive measures to contain spread of COVID-19 in skill or entrepreneurship training institutions, higher educational institutions \n",
      "</li>\n",
      "<li><span>02.09.2020</span> SOP on preventive measures to be followed while conducting examinations to contain spread of COVID-19\n",
      "</li>\n",
      "<li><span>03.08.2020</span> Guidelines on Preventive Measures to Contain Spread of COVID-19 in Yoga Institutes &amp; Gymnasiums\n",
      "</li>\n",
      "<li><span>28.07.2020</span><a href=\"https://www.mohfw.gov.in/pdf/COVID19PandemicandTobaccoUseinIndia.pdf\" target=\"_BLANK\"> COVID-19 Pandemic and Tobacco Use in India\n",
      "</a>\n",
      "</li>\n",
      "<li><span>17.07.2020</span><a href=\"https://www.mohfw.gov.in/pdf/AdvisoryforRWAsonCOVID19.pdf\" target=\"_BLANK\"> Advisory for Gated Residential Complexes with regards to COVID-19 </a></li>\n",
      "<li><span>17.07.2020</span><a href=\"https://www.mohfw.gov.in/pdf/CovidCareFacilityinGatedcomplexes.pdf\" target=\"_BLANK\"> Guidelines for Gated Residential Complexes Desirous of Setting Up Small Covid Care Facility by Resident Welfare Associations / Residential Societies / Non-Governmental Organizations (NGOs) </a></li>\n",
      "<li><span>13.07.2020</span><a href=\"https://www.mohfw.gov.in/pdf/OMregfixationofCOVIDtestorCSMAbeneficiaries.pdf\" target=\"_BLANK\">Fixation of rate for rt PCR Test for COVID-19 in respect of Central Services (Medical Attendance) beneficiaries</a></li>\n",
      "<li><span>02.07.2020</span>Revised guidelines for Home Isolation of very mild/pre-symptomatic/asymptomatic COVID-19 cases </li>\n",
      "<li><span>04.06.2020</span>SOP on preventive measures to contain spread of COVID-19 in offices\n",
      "</li>\n",
      "<li><span>04.06.2020</span>SOP on preventive measures to contain spread of COVID-19 in religious places/places of worship</li>\n",
      "<li><span>04.06.2020</span>SOP on preventive measures in Restaurants to contain spread of COVID-19</li>\n",
      "<li><span>04.06.2020</span>SOP on preventive measures in shopping malls to contain spread of COVID-19</li>\n",
      "<li><span>04.06.2020</span>SOP on preventive measures in Hotels and Other Hospitality Units to contain spread of COVID-19\n",
      "</li>\n",
      "<li><span>18.05.2020</span> Guidelines on preventive measures to contain spread of COVID-19 in workplace settings </li>\n",
      "<li><span>18.05.2020</span><a href=\"https://www.mohfw.gov.in/pdf/Revisedtestingguidelines.pdf\" target=\"_BLANK\"> Revised Strategy for COVlD-19 testing in lndia</a></li>\n",
      "<li><span>10.05.2020</span>Revised guidelines for Home Isolation of very mild/pre-symptomatic COVID-19 cases [Revised and reissued on 02.07.2020]\n",
      "\n",
      "</li>\n",
      "<li><span>08.05.2020</span><a href=\"https://www.mohfw.gov.in/pdf/ReviseddischargePolicyforCOVID19.pdf\" target=\"_BLANK\">Revised discharge policy for COVID-19\n",
      "</a>\n",
      "</li>\n",
      "<li><span>07.05.2020</span><a href=\"https://www.mohfw.gov.in/pdf/Additionalguidelinesforquarantineofreturneesfromabroadcontactsisolationofsuspectorconfirmedcaseinprivatefacilities.pdf\" target=\"_BLANK\">Additional guidelines for quarantine of returnees from abroad / contacts / isolation of suspect or confirmed cases in private facilities</a>\n",
      "</li>\n",
      "<li><span>18.04.2020</span><a href=\"https://www.mohfw.gov.in/pdf/AdvisoryagainstsprayingofdisinfectantonpeopleforCOVID19managementFinal.pdf\" target=\"_BLANK\">   Advisory against spraying of disinfectant on people for COVID-19 management\n",
      "</a>\n",
      "</li>\n",
      "<li><span>18.04.2020</span><a href=\"https://www.mohfw.gov.in/pdf/MedicalOxygenCylinder.pdf\" target=\"_BLANK\">  EoI cum Bid Document for Procurement of Medical Oxygen Cylinder on urgent basis during COVID 19 situation</a> </li>\n",
      "<li><span>07.04.2020</span><a href=\"https://www.mohfw.gov.in/pdf/RevisedGuidelinesforDialysisofCOVID19Patients.pdf\" target=\"_BLANK\">Revised Guidelines for Dialysis of COVID – 19 patients </a>\n",
      "</li>\n",
      "<li><span>07.04.2020</span><a href=\"https://www.mohfw.gov.in/pdf/FAQPradhanMantriGaribKalyanPackageInsuranceSchemeforHealthWorkersFightingCOVID19.pdf\" target=\"_BLANK\">Pradhan Mantri Garib Kalyan Package: Insurance Scheme for Health Workers Fighting COVID-19 - FAQs\n",
      "</a>\n",
      "</li>\n",
      "<li><span>07.04.2020</span><a href=\"https://www.mohfw.gov.in/pdf/ImmunityBoostingAYUSHAdvisory.pdf\" target=\"_BLANK\">Ministry of AYUSH advise on immunity boosting measures for self care during COVID 19 crisis </a>\n",
      "</li>\n",
      "<li><span>05.04.2020</span><a href=\"https://www.mohfw.gov.in/pdf/63948609501585568987wastesguidelines.pdf\" target=\"_BLANK\">Guidelines for Handling, Treatment and Disposal of Waste Generated during Treatment/Diagnosis/ Quarantine of COVID-19 Patients </a>\n",
      "</li>\n",
      "<li><span>05.04.2020</span><a href=\"https://www.mohfw.gov.in/pdf/90542653311584546120quartineguidelines.pdf\" target=\"_BLANK\">Guidelines for Quarantine facilities COVID-19 </a> </li>\n",
      "<li><span>03.04.2020</span><a href=\"https://www.mohfw.gov.in/pdf/Advisory&amp;ManualonuseofHomemadeProtectiveCoverforFace&amp;Mouth.pdf\" target=\"_BLANK\">Advisory &amp; Manual on use of Homemade Protective Cover for Face &amp; Mouth </a> </li>\n",
      "<li><span>03.04.2020</span><a href=\"https://www.mohfw.gov.in/pdf/DOSecyHRD.pdf\" target=\"_BLANK\">DO Letter of Secretary, Ministry of Human Resource Development for  Arogya Setu App, and Light Candle at 09:00 PM on 5 April 2020 for 9 Minute. </a> </li>\n",
      "<!--<li><span>01.04.2020</span><a  href=\"https://www.mohfw.gov.in/pdf/GuidelinesforDialysisofCovid19Patients.pdf\" target=\"_BLANK\">Guidelines for Dialysis of COVID – 19 patients  </a></li>-->\n",
      "<li><span>30.03.2020</span> <a href=\"https://health.delhigovt.nic.in/wps/wcm/connect/95096c804dacdc9595abf7982ee7a5c7/oLand.pdf?MOD=AJPERES&amp;lmod=276494546&amp;CACHEID=95096c804dacdc9595abf7982ee7a5c7\" target=\"_BLANK\">Order issued by the Government of NCT of Delhi Relating to Landlords, House Owners dated 24 March 2020 </a></li>\n",
      "<li><span>30.03.2020</span> <a href=\"https://health.delhigovt.nic.in/wps/wcm/connect/db6065004dacd86a95a2f7982ee7a5c7/orderSOP?MOD=AJPERES&amp;lmod=276609694&amp;CACHEID=db6065004dacd86a95a2f7982ee7a5c7\" target=\"_BLANK\">Order issued by the Government of NCT of Delhi  Relating to SOPs during Lock Down dated 24 March 2020 </a></li>\n",
      "<li><span>29.03.2020</span> <a href=\"https://www.mohfw.gov.in/pdf/AdvisoryforElderlyPopulation.pdf\" target=\"_BLANK\">Health Advisory for Elderly Population of India during COVID-19 </a></li>\n",
      "<li><span>29.03.2020</span> <a href=\"https://www.mohfw.gov.in/pdf/Guidelinesondisinfectionofcommonpublicplacesincludingoffices.pdf\" target=\"_BLANK\">Guidelines on disinfection of common public places including offices </a></li>\n",
      "<li><span>27.03.2020</span> <a href=\"https://www.mohfw.gov.in/pdf/OM27march2020.pdf\" target=\"_BLANK\">Office Memorandum-CGHS-Reimbursement of OPD  Medicines Special Sanction in view of COVID-19</a></li>\n",
      "<li><span>27.03.2020</span> <a href=\"https://www.mohfw.gov.in/pdf/officeorder20032020.pdf\" target=\"_BLANK\">Office Order-CGHS-Guidelines in view of the Corona Virus (COVID-19) Infection-issue of medicines</a></li>\n",
      "<li><span>27.03.2020</span> <a href=\"https://www.mohfw.gov.in/pdf/officeorder18032020.pdf\" target=\"_BLANK\">Office Order-CGHS-Guidelines in View of COVID-19</a></li>\n",
      "<li><span>26.03.2020</span> <a href=\"https://www.mohfw.gov.in/pdf/218927g.pdf\" target=\"_BLANK\">Gazette Notification - Hydroxychloroquine  now a schedule H1 drug, can be sold on prescription only</a></li>\n",
      "<li><span>26.03.2020</span> <a href=\"https://www.mohfw.gov.in/pdf/MoFPMGaribKalyanYojanaPackage.pdf\" target=\"_BLANK\">Press Note on Pradhan Mantri Garib Kalyan Yojna package from Ministry of Finance</a></li>\n",
      "<li><span>16.03.2020</span> <a href=\"https://www.mohfw.gov.in/pdf/SocialDistancingAdvisorybyMOHFW.pdf\" target=\"_BLANK\"> Advisory - Social Distancing</a></li>\n",
      "<li><span>15.03.2020</span> <a href=\"https://www.mohfw.gov.in/pdf/1584423700568_COVID19GuidelinesonDeadbodymanagement.pdf\" target=\"_BLANK\">Guidelines on Dead Body Management</a></li>\n",
      "<li><span>11.03.2020</span> <a href=\"https://www.mohfw.gov.in/pdf/Guidelinesforhomequarantine.pdf\" target=\"_BLANK\">Guidelines for home quarantine</a></li>\n",
      "<!--<li><span>11.03.2020</span> <a  href=\"https://www.mohfw.gov.in/pdf/Useofmaskbypublic.pdf\" target=\"_BLANK\"></a>Guidelines on use of masks by public</li>-->\n",
      "<li><span>05.03.2020</span> <a href=\"https://www.mohfw.gov.in/pdf/advisoryformassgathering.pdf\" target=\"_BLANK\"> Advisory - Mass Gatherings</a></li>\n",
      "</ul>\n",
      "</div>\n",
      "</div>\n",
      "<!--citizen-->\n",
      "<!--hospitals-->\n",
      "<div class=\"panes\">\n",
      "<div class=\"tab-content\">\n",
      "<ul>\n",
      "<li><span>29.09.2021</span> <a href=\"https://www.mohfw.gov.in/pdf/NationalGuidelinesforSafeDentalPracticeDuringCovid19pandemic.pdf\" target=\"_BLANK\"> National Guidelines for Safe Dental Practice During Covid-19 pandemi</a>\n",
      "</li>\n",
      "<li><span>17.08.2021</span> <a href=\"https://www.mohfw.gov.in/pdf/INSACOGGuidanceDocumentdated15July2021final.pdf\" target=\"_BLANK\">Genomic Surveillance for SARS-CoV-2 In India: Indian SARS-CoV-2 Genomics Consortium (INSACOG) (Updated guidelines and SOPs)  </a>\n",
      "</li>\n",
      "<li><span>18.06.2021</span> <a href=\"https://www.mohfw.gov.in/pdf/GuidelinesforManagementofCOVID19inCHILDREN18June2021final.pdf\" target=\"_BLANK\">Guidelines for Management of COVID-19 in Children </a></li>\n",
      "<li><span>07.06.2021</span><a href=\"https://www.mohfw.gov.in/pdf/AdvisoryforRationaluseofRemdesivirforCOVID19Treatment.pdf\" target=\"_BLANK\">Advisory for Rational use of Remdesivir for COVID-19 Treatment\n",
      " </a>\n",
      "</li>\n",
      "<li><span>01.06.2021</span><a href=\"https://www.mohfw.gov.in/pdf/ClinicalGuidanceonDiagnosisandManagementofDiabetesatCOVID19PatientManagementfacility.pdf\" target=\"_BLANK\">Clinical Guidance on Diagnosis and Management of Diabetes at COVID-19 Patient Management facility\n",
      " </a>\n",
      "</li>\n",
      "<li><span>24.05.2021</span> <a href=\"https://www.mohfw.gov.in/pdf/UpdatedDetailedClinicalManagementProtocolforCOVID19adultsdated24052021.pdf\" target=\"_BLANK\">Updated Detailed Clinical Management Protocol for adult cases of COVID19</a>\n",
      "</li>\n",
      "<li><span>19.05.2021</span> <a href=\"https://www.mohfw.gov.in/pdf/COVID19ClinicalManagementProtocolAlgorithmAdults19thMay2021.pdf\" target=\"_BLANK\">Revised COVID-19 Clinical Management Protocol Algorithm (Adults)\n",
      "</a></li>\n",
      "<li><span>16.05.2021</span> <a href=\"https://www.mohfw.gov.in/pdf/SOPonCOVID19Containment&amp;ManagementinPeriurbanRural&amp;tribalareas.pdf\" target=\"_BLANK\">SOP on COVID-19 Containment &amp; Management in Peri-urban, Rural &amp; Tribal areas</a></li>\n",
      "<li><span>06.05.2021</span> <a href=\"https://www.mohfw.gov.in/pdf/SOPforCOVID19VaccinationofPersonswithoutPrescribedIdentityCards.pdf\" target=\"_BLANK\">SOP for COVID-19 Vaccination of Persons without Prescribed Identity Cards </a></li>\n",
      "<li><span>03.05.2021</span> <a href=\"https://www.mohfw.gov.in/pdf/LetterRenewalofPradhanMantriGaribKalyanPackageInsuranceSchemeforHealthWorkersfightingCOVID19.pdf\" target=\"_BLANK\">Renewal of Pradhan Mantri Garib Kalyan Package: Insurance Scheme for Health  Workers fighting COVID-19 w.e.f. 24.04.2021 for a further period of 180 days </a>\n",
      "</li>\n",
      "<li><span>29.04.2021</span> <a href=\"https://www.mohfw.gov.in/pdf/RevisedguidelinesforHomeIsolationofmildasymptomaticCOVID19cases.pdf\" target=\"_BLANK\">Revised guidelines for Home Isolation of mild /asymptomatic COVID-19 cases </a>\n",
      "</li>\n",
      "<li><span>29.04.2021</span> <!-- <a href=\"https://www.mohfw.gov.in/pdf/ProtocolforManagementofCovid19inthePaediatricAgeGroup.pdf\" target=\"_BLANK\" > -->Protocol for Management of Covid - 19 in the Paediatric Age Group<!--</a>-->\n",
      "</li>\n",
      "<li><span>23.04.2021</span> <!-- <a href=\"https://www.mohfw.gov.in/pdf/COVID19ManagementAlgorithm22042021v1.pdf\" target=\"_BLANK\" > -->Clinical Guidance for Management of Adult Covid-19 Patients<!--</a>-->\n",
      "</li>\n",
      "<li><span>28.02.2021</span> <a href=\"https://www.mohfw.gov.in/pdf/UserManualCitizenRegistration&amp;AppointmentforVaccination.pdf\" target=\"_BLANK\">User Manual - Citizen Registration &amp; Appointment for Vaccination Ver 1.1</a>\n",
      "</li>\n",
      "<li><span>27.02.2021</span> <a href=\"https://www.mohfw.gov.in/pdf/CGHSEmphospitals.xlsx\" target=\"_BLANK\">List of CGHS empanelled Hospitals that can be used by States/ UTs as Covid-19 vaccination centres</a>\n",
      "</li>\n",
      "<li><span>27.02.2021</span> <a href=\"https://www.mohfw.gov.in/pdf/PMJAYPRIVATEHOSPITALSCONSOLIDATED.xlsx\" target=\"_BLANK\">List of Ayushman Bharat PMJAY empanelled Hospitals that can be used by States/ UTs as Covid-19 vaccination centres</a></li>\n",
      "<li><span>28.12.2020</span><a href=\"https://www.mohfw.gov.in/pdf/GuidelinesonSafeOphthalmologyPracticesinCovid19Scenario.pdf\" target=\"_BLANK\">  Guidelines on Safe Ophthalmology Practices in Covid-19 Scenario</a></li>\n",
      "<li><span>13.10.2020</span><a href=\"https://www.mohfw.gov.in/pdf/GuidelinesformanagementofcoinfectionofCOVID19withotherseasonalepidemicpronediseases.pdf\" target=\"_BLANK\"> Guidelines for management of co-infection of COVID-19 with other seasonal epidemic prone diseases\n",
      "</a></li>\n",
      "<li><span>13.09.2020</span><a href=\"https://www.mohfw.gov.in/pdf/PostCOVID13092020.pdf\" target=\"_BLANK\"> Post COVID management protocol \n",
      "</a>\n",
      "</li>\n",
      "<li><span>04.09.2020</span><a href=\"https://www.mohfw.gov.in/pdf/AdvisoryonstrategyforCOVID19TestinginIndia.pdf\" target=\"_BLANK\"> Advisory on Strategy for COVID-19 Testing in India\n",
      "</a>\n",
      "</li>\n",
      "<li><span>01.09.2020</span> <a href=\"https://www.mohfw.gov.in/pdf/AIIMSeICUsFAQs01SEP.pdf\" target=\"_BLANK\"> FAQs on COVID-19 from AIIMS e-ICUs  \n",
      "</a>\n",
      "</li>\n",
      "<li><span>26.08.2020</span> <a href=\"https://www.mohfw.gov.in/pdf/1TBCOVIDscreeningguidancenote.pdf\" target=\"_BLANK\"> Guidance note on bi-directional TB-COVID screening </a>\n",
      "</li>\n",
      "<li><span>26.08.2020</span>  Clinical Guidance on Diabetes Management at COVID-19 Patient Management Facility \n",
      "</li>\n",
      "<li><span>19.08.2020</span> Guidelines for eye care facilities in the COVID-19 scenario </li>\n",
      "<li><span>07.08.2020</span><a href=\"https://www.mohfw.gov.in/pdf/PMGKPInsuranceextensionletter.pdf\" target=\"_BLANK\"> Extension of Pradhan Mantri Garib Kalyan Package : Insurance Health Workers fighting COVID-19 for a further period of 90 days beyond the original period\n",
      "</a>\n",
      "</li>\n",
      "<li><span>09.07.2020</span><a href=\"https://www.mohfw.gov.in/pdf/COVID19Final2020ForOnline9July2020.pdf\" target=\"_BLANK\">Mental Health in the times of COVID-19 Pandemic - Guidance for General Medical and Specialised Mental Health Care Settings</a>\n",
      "</li>\n",
      "<li><span>03.07.2020</span><!--<a  href=\"https://www.mohfw.gov.in/pdf/UpdatedClinicalManagementProtocolforCOVID19dated03072020.pdf\" target=\"_BLANK\">-->Updated Clinical Management Protocol for COVID-19<!-- </a>-->\n",
      "</li>\n",
      "<li><span>02.07.2020</span> <!--<a  href=\"https://www.mohfw.gov.in/pdf/RevisedHomeIsolationGuidelines.pdf\" target=\"_BLANK\"> -->Revised guidelines for Home Isolation of very mild/pre-symptomatic/asymptomatic COVID-19 cases \n",
      "</li>\n",
      "<li><span>29.06.2020</span><a href=\"https://www.mohfw.gov.in/pdf/2ndNBTCGuidanceinLightofCOVID19Pandemic.pdf\" target=\"_BLANK\">Second Interim National Guidance to Blood Transfusion Services in India in light of Covid-19 pandemic, 25th June 2020\n",
      "</a>\n",
      "</li>\n",
      "<li><span>27.06.2020</span><a href=\"https://www.mohfw.gov.in/pdf/ClinicalManagementProtocolforCOVID19dated27062020.pdf\" target=\"_BLANK\">Clinical Management Protocol for COVID-19 [Updated on 03.07.2020]</a>\n",
      "</li>\n",
      "<li><span>18.06.2020</span><a href=\"https://www.mohfw.gov.in/pdf/updatedAdvisoryformanagingHealthcareworkersworkinginCOVIDandNonCOVIDareasofthehospital.pdf\" target=\"_BLANK\">Updated Advisory for managing Health care workers working in COVID and Non-COVID areas of the hospital</a>\n",
      "</li>\n",
      "<li><span>18.06.2020</span><a href=\"https://youtu.be/8I5xaKLhwBE\" target=\"_BLANK\">Video on Addressing Psychosocial Concerns of Healthcare Workers </a>\n",
      "</li>\n",
      "<li><span>13.06.2020</span>Clinical Management Protocol for COVID-19 [Revised and reissued on 27.06.2020]\n",
      "</li>\n",
      "<li><span>03.06.2020</span><a href=\"https://www.mohfw.gov.in/pdf/ENTCOVID0306.pdf\" target=\"_BLANK\">Guidelines for safe ENT practice in COVID-19\n",
      "</a></li>\n",
      "<li><span>27.05.2020</span><a href=\"https://www.mohfw.gov.in/pdf/Advisoryonreprocessingandreuseofeyeprotectiongoggles.pdf\" target=\"_BLANK\">Advisory on re-processing and re-use of eye protection - Goggles\n",
      "</a></li>\n",
      "<li><span>27.05.2020</span><a href=\"https://www.mohfw.gov.in/pdf/GuidanceNoteonProvisionofessentialRMNCAHNServices24052020.pdf\" target=\"_BLANK\">Guidance note on Essential RMNCAH+N Services during and post COVID\n",
      "</a></li>\n",
      "<li><span>22.05.2020</span><a href=\"https://www.mohfw.gov.in/pdf/RevisedadvisoryontheuseofhydroxychloroquineasprophylaxisforSARSCOVID19infection.pdf\" target=\"_BLANK\">Revised advisory on the use of Hydroxychloroquine (HCQ) as prophylaxis for COVID-19 infection</a></li>\n",
      "<li><span>21.05.2020</span><a href=\"https://www.mohfw.gov.in/pdf/3ImmunizationServicesduringCOVIDOutbreakSummary150520202.pdf\" target=\"_BLANK\">Guidance note for Immunization services during and post COVID outbreak </a></li>\n",
      "<li><span>20.05.2020</span><a href=\"https://texmin.nic.in/covid/certificates.php\" target=\"_BLANK\">\"List of manufacturers of PPE coveralls who have been approved by accredited testing facilities is available on the Ministry of Textiles website at the following URL \" https://texmin.nic.in/covid/certificates.php </a></li>\n",
      "<li><span>19.05.2020</span> Guidelines for Dental Professionals in Covid-19 situation </li>\n",
      "<li><span>18.05.2020</span><a href=\"https://www.mohfw.gov.in/pdf/Revisedtestingguidelines.pdf\" target=\"_BLANK\"> Revised Strategy for COVlD-19 testing in lndia</a></li>\n",
      "<li><span>15.05.2020</span><!--<a  href=\"https://www.mohfw.gov.in/pdf/AdvisoryformanagingHealthcareworkersworkinginCOVIDandNonCOVIDareasofthehospital.pdf\" target=\"_BLANK \">-->Advisory for managing Health care workers working in COVID and Non-COVID areas of the hospital [Revised and reissued on 18.06.2020] \n",
      "\n",
      "</li>\n",
      "<li><span>15.05.2020</span><a href=\"https://www.mohfw.gov.in/pdf/UpdatedAdditionalguidelinesonrationaluseofPersonalProtectiveEquipmentsettingapproachforHealthfunctionariesworkinginnonCOVID19areas.pdf\" target=\"_BLANK \">Updated Additional guidelines on rational use of Personal Protective Equipment (setting approach for Health functionaries working in non-COVID areas) </a>\n",
      "</li>\n",
      "<li><span>14.05.2020</span><a href=\"https://www.mohfw.gov.in/pdf/GuidelineforrtPCRbasedpooledsamplingFinal.pdf\" target=\"_BLANK \">Guidelines for RT-PCR based Pooled Sampling </a>\n",
      "</li>\n",
      "<li><span>11.05.2020</span><a href=\"https://www.mohfw.gov.in/pdf/DistrictlevelFacilitybasedsurveillanceforCOVID19.pdf\" target=\"_BLANK\">District level Facility based surveillance for COVID-19\n",
      "</a>\n",
      "</li>\n",
      "<li><span>10.05.2020</span><a href=\"https://www.mohfw.gov.in/pdf/FAQsonRevisedDischargePolicy.pdf\" target=\"_BLANK\">Updated Frequently Asked Questions (FAQs) on Revised Discharge Policy </a>\n",
      "</li>\n",
      "<li><span>08.05.2020</span><a href=\"https://www.mohfw.gov.in/pdf/ReviseddischargePolicyforCOVID19.pdf\" target=\"_BLANK\">Updated Revised discharge policy for COVID-19\n",
      "</a>\n",
      "</li>\n",
      "<li><span>01.05.2020</span>Additional guidelines on rational use of Personal Protective Equipment (setting approach for Health functionaries working in non-COVID areas) [Reissued on 15<sub>th</sub> May 2020]\n",
      "</li>\n",
      "<li><span>20.04.2020</span><a href=\"https://www.mohfw.gov.in/pdf/GuidelinestobefollowedondetectionofsuspectorconfirmedCOVID19case.pdf\" target=\"_BLANK\">  Guidelines to be followed on detection of suspect or confirmed COVID-19 case in a non-COVID Health Facility\n",
      "</a>\n",
      "</li>\n",
      "<li><span>18.04.2020</span><a href=\"https://www.mohfw.gov.in/pdf/AdvisoryagainstsprayingofdisinfectantonpeopleforCOVID19managementFinal.pdf\" target=\"_BLANK\">   Advisory against spraying of disinfectant on people for COVID-19 management\n",
      "</a>\n",
      "</li>\n",
      "<li><span>18.04.2020</span><a href=\"https://www.mohfw.gov.in/pdf/ModificationinMedicineListinTelemedicinePracticeGuidelines.pdf\" target=\"_BLANK\">  Modification in Medicine List in Telemedicine Practice Guidelines\n",
      "</a>\n",
      "</li>\n",
      "<li><span>17.04.2020</span><a href=\"https://www.mohfw.gov.in/pdf/ProtocolRapidAntibodytest.pdf\" target=\"_BLANK\"> Guidelines issued by ICMR for Rapid antibody test' in Hotspot Area'\n",
      "</a></li>\n",
      "<li><span>15.04.2020</span><a href=\"https://youtu.be/buyKfZD8J6M\" target=\"_BLANK\"> Advisory for personal use of N95 masks issued to all healthcare workers by AIIMS, New Delhi Hindi\n",
      "</a></li>\n",
      "<li><span>15.04.2020</span><a href=\"https://youtu.be/b4vF_B9FFxk\" target=\"_BLANK\"> Advisory for personal use of N95 masks issued to all healthcare workers by AIIMS, New Delhi English\n",
      "</a></li>\n",
      "<li><span>14.04.2020</span><a href=\"https://www.mohfw.gov.in/pdf/letterregguidanceonpoolingsamplesfortesting001.pdf\" target=\"_BLANK\"> Advisory on feasibility of using pooled samples for molecular testing of COVID-19 by ICMR\n",
      "</a></li>\n",
      "<li><span>11.04.2020</span><a href=\"https://youtu.be/BVccVXxZlSQ\" target=\"_BLANK\"> Video for Insurance coverage for our Health workers - Caring for those who are taking care of the nation</a></li>\n",
      "<li><span>11.04.2020</span><a href=\"https://www.mohfw.gov.in/pdf/videogif.gif\" target=\"_BLANK\">Insurance coverage for our Health workers - Caring for those who are taking care of the nation (GIF)\n",
      "</a></li>\n",
      "<li><span>09.04.2020</span><a href=\"https://youtu.be/MJwgi1LCu8o\" target=\"_BLANK\">COVID-19 &amp; Pregnancy &amp; Labour Management </a></li>\n",
      "<li><span>09.04.2020</span><a href=\"https://www.mohfw.gov.in/pdf/NBTCGUIDANCEFORCOVID19.pdf\" target=\"_BLANK\">Advisory for Voluntary Blood Donation during COVID- 19 scenario\n",
      "</a></li>\n",
      "<li><span>08.04.2020</span><a href=\"https://youtu.be/LzB5krucZoQ\" target=\"_BLANK\">Video on use of PPE in different areas of the hospital\n",
      "</a></li>\n",
      "<li><span>07.04.2020</span><a href=\"https://www.mohfw.gov.in/pdf/RevisedGuidelinesforDialysisofCOVID19Patients.pdf\" target=\"_BLANK\">Revised Guidelines for Dialysis of COVID – 19 patients </a></li>\n",
      "<li><span>07.04.2020</span><a href=\"https://www.mohfw.gov.in/pdf/FAQPradhanMantriGaribKalyanPackageInsuranceSchemeforHealthWorkersFightingCOVID19.pdf\" target=\"_BLANK\">Pradhan Mantri Garib Kalyan Package: Insurance Scheme for Health Workers Fighting COVID-19 - FAQs\n",
      "</a>\n",
      "</li>\n",
      "<li><span>07.04.2020</span><a href=\"https://www.mohfw.gov.in/pdf/FinalGuidanceonMangaementofCovidcasesversion2.pdf\" target=\"_BLANK\">Guidance document on appropriate management of suspect/confirmed cases of COVID-19 - Types of Covid-19 dedicated facilities\n",
      "</a>\n",
      "</li>\n",
      "<li><span>05.04.2020</span><a href=\"https://www.mohfw.gov.in/pdf/63948609501585568987wastesguidelines.pdf\" target=\"_BLANK\">Guidelines for Handling, Treatment and Disposal of Waste Generated during Treatment/Diagnosis/ Quarantine of COVID-19 Patients </a>\n",
      "</li>\n",
      "<li><span>05.04.2020</span><a href=\"https://www.mohfw.gov.in/pdf/90542653311584546120quartineguidelines.pdf\" target=\"_BLANK\">Guidelines for Quarantine facilities COVID-19 </a> </li>\n",
      "<li><span>05-04-2020</span>\n",
      "<a href=\"https://www.mohfw.gov.in/pdf/Advisory&amp;StrategyforUseofRapidAntibodyBasedBloodTest.pdf\" target=\"_BLANK\">Advisory &amp; Strategy for Use of Rapid Antibody Based Blood Test </a>\n",
      "</li>\n",
      "<!--<li><span>01-04-2020</span>\n",
      "\t<a  href=\"https://www.mohfw.gov.in/pdf/GuidelinesforDialysisofCovid19Patients.pdf\" target=\"_BLANK\">Guidelines for Dialysis of COVID – 19 patients  </a>\n",
      "\t</li>-->\n",
      "<li><span>31-03-2020</span>\n",
      "<a href=\"https://www.mohfw.gov.in/pdf/RevisedNationalClinicalManagementGuidelineforCOVID1931032020.pdf\" target=\"_BLANK\"> Revised National Clinical Management Guidelines for COVID-19</a>\n",
      "</li>\n",
      "<li><span>31-03-2020</span>\n",
      "<a href=\"https://www.mohfw.gov.in/pdf/EssentialTechfeaturesforVentilators.pdf\" target=\"_BLANK\"> Essential Technical Features for Ventilator for COVID-19</a>\n",
      "</li>\n",
      "<li><span>29-03-2020</span>\n",
      "<a href=\"https://www.mohfw.gov.in/pdf/StandardOperatingProcedureSOPfortransportingasuspectorconfirmedcaseofCOVID19.pdf\" target=\"_BLANK\">Standard Operating Procedure (SOP) for transporting a suspect/confirmed case of COVID-19 </a>\n",
      "</li>\n",
      "<li><span>27-03-2020</span><a href=\"https://www.mohfw.gov.in/pdf/COVID19SOPfordoctorsandnurses.pdf\" target=\"_BLANK\">SOP for allocation of Residents/PG Students and Nursing Students as part of hospital management of COVID-19 </a>\n",
      "</li>\n",
      "<li><span>27-03-2020</span><a href=\"https://www.mohfw.gov.in/pdf/OM27march2020.pdf\" target=\"_BLANK\">Office Memorandum-CGHS-Reimbursement of OPD  Medicines Special Sanction in view of COVID-19</a>\n",
      "</li>\n",
      "<li><span>27-03-2020</span><a href=\"https://www.mohfw.gov.in/pdf/officeorder20032020.pdf\" target=\"_BLANK\">Office \tOrder-CGHS-Guidelines in view of the Corona Virus (COVID-19) Infection-issue of medicines</a>\n",
      "</li>\n",
      "<li><span>27-03-2020</span><a href=\"https://www.mohfw.gov.in/pdf/officeorder18032020.pdf\" target=\"_BLANK\">Office Order-CGHS-Guidelines in View of COVID-19</a>\n",
      "</li>\n",
      "<li><span>26-03-2020</span><a href=\"https://www.mohfw.gov.in/pdf/218927g.pdf\" target=\"_BLANK\">Gazette Notification - Hydroxychloroquine  now a schedule H1 drug, can be sold on prescription only</a></li>\n",
      "<li><span>26-03-2020</span><a href=\"https://www.mohfw.gov.in/pdf/COVIDWebinarSchedule26March2019.pdf\" target=\"_BLANK\">Webinar schedule of COVID-19 of AIIMS New Delhi</a>\n",
      "</li>\n",
      "<li><span>26-03-2020</span><a href=\"https://www.mohfw.gov.in/pdf/Doorstepdelivery26B.pdf\" target=\"_BLANK\">Doorstep Delivery of Drugs to Consumers</a>\n",
      "</li>\n",
      "<li><span>25-03-2020</span><a href=\"https://www.mohfw.gov.in/pdf/Telemedicine.pdf\" target=\"_BLANK\">Telemedicine Practice Guidelines</a>\n",
      "</li>\n",
      "<li><span>24-03-2020</span><a href=\"https://www.mohfw.gov.in/pdf/ReviewofpricesofEssentialCommodities.pdf\" target=\"_BLANK\">Letter from Ministry of Consumer Affairs, Food &amp; Public Distribution to States to take appropriate measures to ensure the availability of Ethyl Alcohol/Ethanol/ENA to the manufacturers of hand sanitizers in order to contain Corona Virus COVID- l9 </a></li>\n",
      "<li><span>24-03-2020</span>\n",
      "<a href=\"https://www.mohfw.gov.in/pdf/GuidelinesonrationaluseofPersonalProtectiveEquipment.pdf\" target=\"_BLANK\">Guidelines on rational use of Personal Protective Equipment   </a>\n",
      "</li>\n",
      "<li><span>23-03-2020</span><a href=\"https://www.mohfw.gov.in/pdf/RevisedadvisoryontheuseofhydroxychloroquineasprophylaxisforSARSCOVID19infection.pdf\" target=\"_BLANK\">Advisory on the use of Hydroxy-chloroquin as prophylaxis for SARS-CoV-2 infection [Revised guidelines issued on 22.05.2020] </a>\n",
      "</li>\n",
      "<li><span>22-03-2020</span><a href=\"https://www.mohfw.gov.in/pdf/NotificationofICMguidelinesforCOVID19testinginprivatelaboratoriesiIndia.pdf\" target=\"_BLANK\">Notification of ICMR guidelines for COVID-19 testing in private laboratories in India </a>\n",
      "</li>\n",
      "<li><span>20-03-2020</span> <a href=\"https://www.mohfw.gov.in/pdf/AdvisoryforHospitalsandMedicalInstitutions.pdf\" target=\"_BLANK\">Advisory for Hospitals and Medical Institutions </a></li>\n",
      "<li><span>17-03-2020</span>\n",
      "<a href=\"https://www.mohfw.gov.in/pdf/LabTestingAdvisory.pdf\" target=\"_BLANK\">Latest Testing Guidelines of Indian Council of Medical Research (ICMR) </a></li>\n",
      "<li><span>17-03-2020</span>\n",
      "<a href=\"https://www.mohfw.gov.in/pdf/GuidelinesfornotifyingCOVID-19affectedpersonsbyPrivateInstitutions.pdf\" target=\"_BLANK\">Guidelines for notifying COVID-19 affected persons by Private Institutions</a></li>\n",
      "<li><span>17-03-2020</span>\n",
      "<a href=\"https://www.mohfw.gov.in/pdf/Corona%20Discharge-Policy.pdf\" target=\"_BLANK\">Discharge policy for suspect or confirmed Novel Coronavirus (2019-nCoV) cases</a></li>\n",
      "<li><span>17-03-2020</span>\n",
      "\t\tUpdated Guidelines on Clinical Management of COVID-19 (Repealed on 31st March 2020)</li>\n",
      "<li><span>15-03-2020</span><a href=\"https://www.mohfw.gov.in/pdf/MockDrill.pdf\" target=\"_BLANK\">SOP for Mock Drill on 22nd March 2020 for Hospital Preparedness </a></li>\n",
      "<li><span>15-03-2020</span>\n",
      "<a href=\"https://www.mohfw.gov.in/pdf/ICMRrevisedtestingstrategyforCOVID.pdf\" target=\"_BLANK\">Revised Guidelines/Strategy for COVID-19 testing by Indian Council of Medical Research (ICMR)</a></li>\n",
      "<li><span>15-03-2020</span>\n",
      "<a href=\"https://www.mohfw.gov.in/pdf/1584423700568_COVID19GuidelinesonDeadbodymanagement.pdf\" target=\"_BLANK\">Guidelines on Dead Body Management</a></li>\n",
      "<li><span>09-03-2020</span>\n",
      "<a href=\"https://www.mohfw.gov.in/pdf/ICMRstrategyforCOVID19testinginIndia.pdf\" target=\"_BLANK\">ICMR strategy for COVID-19 testing in India</a></li>\n",
      "<li><span>25-01-2020</span>\n",
      "<a href=\"https://www.mohfw.gov.in/pdf//National%20Guidelines%20for%20IPC%20in%20HCF%20-%20final%281%29.pdf\" target=\"_BLANK\">Guidelines for Infection Prevention and Control in Healthcare Facilities</a></li>\n",
      "<li><span>24-01-2020</span>\n",
      "<a href=\"https://www.mohfw.gov.in/pdf/5Sample%20collection_packaging%20%202019-nCoV.pdf\" target=\"_BLANK\">Guidance for sample Collection, Packaging and Transportation for Novel Coronavirus</a></li>\n",
      "</ul>\n",
      "</div>\n",
      "</div>\n",
      "<!--hospitals-->\n",
      "<!--training-->\n",
      "<div class=\"panes\">\n",
      "<div class=\"tab-content\">\n",
      "<ul>\n",
      "<li><span>28.02.2021</span> <a href=\"https://www.mohfw.gov.in/pdf/GuidancedocCOWIN2.pdf\" target=\"_BLANK\">Guidance Note for Co-WIN 2.0</a>\n",
      "</li>\n",
      "<li><span>30-12-2020</span>\n",
      "<a href=\"https://www.mohfw.gov.in/pdf/Covid19CommunicationStrategy2020.pdf\" target=\"_BLANK\">  COVID-19 Vaccine Communication Strategy </a>\n",
      "</li>\n",
      "<li><span>28-12-2020</span>\n",
      "<a href=\"https://www.mohfw.gov.in/pdf/COVID19VaccineOG111Chapter16.pdf\" target=\"_BLANK\">  COVID-19 vaccines operational guidelines\n",
      "</a>\n",
      "</li>\n",
      "<li><span>27-12-2020</span>\n",
      "<a href=\"https://www.mohfw.gov.in/pdf/IndianSARSCoV2PDFGenomicsConsortiumGuidanceDocument.pdf\" target=\"_BLANK\">  Document for Genomic sequencing in India\n",
      "</a>\n",
      "</li>\n",
      "<li><span>21-05-2020</span>\n",
      "<a href=\"https://www.mohfw.gov.in/pdf/AIIMSWHOObsGynFlyer.pdf\" target=\"_BLANK\">Webinar Series on Obstetric Care during COVID-19 \n",
      "</a>\n",
      "</li>\n",
      "<li><span>22-04-2020</span>\n",
      "<a href=\"https://www.mohfw.gov.in/pdf/OnboardingofStates.pdf\" target=\"_BLANK\">Onboarding of States / Union Territories' COVID-19 Warriors to iGoT (Integrated Government Online Training) courses on DIKSHA Platform on COVID-19 pandemic\n",
      "</a>\n",
      "</li>\n",
      "<li><span>19-04-2020</span>\n",
      "<a href=\"https://youtu.be/l_HQTG8MvMU\" target=\"_BLANK\">   Webinar on Mechanical Ventilation for physicians by AIIMS, New Delhi\n",
      "</a>\n",
      "</li>\n",
      "<li><span>16-04-2020</span>\n",
      "<a href=\"https://www.mohfw.gov.in/pdf/MechanicalVentilationWebinarAIIMSNewDelhi.pdf\" target=\"_BLANK\"> Webinar schedule for training of Physicians officers on COVID-19 and Mechanical Ventilation by AIIMS New Delhi\n",
      "</a></li>\n",
      "<li><span>13-04-2020</span>\n",
      "<a href=\"https://www.mohfw.gov.in/pdf/iGOTCovid19Circular(2).pdf\" target=\"_BLANK\"> iGOT (Integrated Govt. Online Training) courses on DIKSHA platform on COVID-19 pandemic \n",
      "</a></li>\n",
      "<li><span>11-04-2020</span>\n",
      "<a href=\"https://www.mohfw.gov.in/pdf/SECONDCOVIDWEbinarforNursingofficers.pdf\" target=\"_BLANK\">Second COVID Webinar Series for Nurses by AIIMS New Delhi\n",
      "</a></li>\n",
      "<li><span>07-04-2020</span>\n",
      "<a href=\"https://www.mohfw.gov.in/pdf/COVID19PregnancyAIIMSWebinar.pdf\" target=\"_BLANK\">Webinar on COVID-19 and Management of Pregnancy\n",
      "</a>\n",
      "</li>\n",
      "<li><span>07-04-2020</span>\n",
      "<a href=\"https://www.mohfw.gov.in/pdf/iGOTCOVID19Circular.pdf\" target=\"_BLANK\">iGOT Training Modules for COVID-19 Management </a>\n",
      "</li>\n",
      "<li><span>07-04-2020</span>\n",
      "<a href=\"https://www.youtube.com/watch?v=L4DWHP_mpwY&amp;feature=youtu.be\" target=\"_BLANK\">Ayush master trainers Training by Ministry of Ayush </a>\n",
      "</li>\n",
      "<li><span>06-04-2020</span>\n",
      "<a href=\"https://www.mohfw.gov.in/pdf/BASEDOCforRESOURCESrev06042020.pdf\" target=\"_BLANK\">Updated List of Training Resources for COVID - 19 Management </a>\n",
      "</li>\n",
      "<li><span>02-04-2020</span>\n",
      "<a href=\"https://www.mohfw.gov.in/pdf/RevisedCOVIDWebinarforPhysicianofficers2.pdf\" target=\"_BLANK\">Webinar schedule for training of  Physicians officers on COVID-19 by AIIMS New Delhi  </a>\n",
      "</li>\n",
      "<li><span>02-04-2020</span>\n",
      "<a href=\"https://www.mohfw.gov.in/pdf/RevisedCOVIDWebinarforNursingofficers2.pdf\" target=\"_BLANK\">Revised Webinar schedule for training of  Nursing officers on COVID-19 by AIIMS New Delhi  </a>\n",
      "</li>\n",
      "<li><span>02-04-2020</span>\n",
      "<a href=\"https://www.youtube.com/watch?v=mXEAqRaqafY\" target=\"_BLANK\">Video on Training for Ventilatory Support for COVID-19 </a>\n",
      "</li>\n",
      "<li><span>02-04-2020</span>\n",
      "<a href=\"https://www.mohfw.gov.in/pdf/AdvisoryforHRmanagement.pdf\" target=\"_BLANK\">Advisory for Human Resource Management of COVID-19  </a>\n",
      "</li>\n",
      "<li><span>31-03-2020</span>\n",
      "<a href=\"https://youtu.be/mdrK_zhHD88\" target=\"_BLANK\">Training for Nursing Personnel  </a>\n",
      "</li>\n",
      "<li><span>31-03-2020</span>\n",
      "<a href=\"https://www.mohfw.gov.in/pdf/AIIMSCOVIDWebinarScheduleRevised.pdf\" target=\"_BLANK\"> Revised Webinar schedule of COVID-19 of AIIMS New Delhi </a>\n",
      "</li>\n",
      "<li><span>30-03-2020</span>\n",
      "<a href=\"https://www.mohfw.gov.in/pdf/TrainingresourcesforCOVID1930MARCH.pdf\" target=\"_BLANK\">Training Resources </a>\n",
      "</li>\n",
      "<li><span>30-03-2020</span>\n",
      "<a href=\"https://www.youtube.com/channel/UClhIpqB1ENbKtsWsVk0P_vg\" target=\"_BLANK\">Webinar series for Epidemiology, Infection Control, Clinical Management and Nursing of COVID-19 by AIIMS New Delhi </a>\n",
      "</li>\n",
      "<li><span>28-03-2020</span>\n",
      "<a href=\"https://www.mohfw.gov.in/pdf/COVIDWEbinar.pdf\" target=\"_BLANK\">Webinar schedule for Nursing officers training of COVID-19 in AIIMS New Delhi </a>\n",
      "</li>\n",
      "</ul>\n",
      "</div>\n",
      "</div>\n",
      "<!--training-->\n",
      "<!--states-->\n",
      "<div class=\"panes\">\n",
      "<div class=\"tab-content\">\n",
      "<ul>\n",
      "<li><span>05.10.2021</span> <a href=\"https://www.nhm.gov.in/New_Updates_2018/Guidelines_on_Operationalization_of_Maternal_Health_Services_during_the_Covid-19_Pandemic.pdf\" target=\"_BLANK\">Guidelines on Operationalization of Maternal Health Services during the COVID-19 Pandemic  \n",
      " </a>\n",
      "</li>\n",
      "<li><span>29.09.2021</span> <a href=\"https://www.mohfw.gov.in/pdf/NationalGuidelinesforSafeDentalPracticeDuringCovid19pandemic.pdf\" target=\"_BLANK\"> National Guidelines for Safe Dental Practice During Covid-19 pandemi</a>\n",
      "</li>\n",
      "<li><span>06.09.2021</span> <a href=\"https://www.mohfw.gov.in/pdf/AddendumtoGuidelinesonInternationalArrivaldated17thFebruary2021.pdf\" target=\"_BLANK\"> Addendum to Guidelines on International Arrivals dated 17th February 2021\n",
      "</a>\n",
      "</li>\n",
      "<li><span>25.08.2021</span> <a href=\"https://www.mohfw.gov.in/pdf/Guidelinesfordomestictravelflighttrainshipbusinterstatetravel.pdf\" target=\"_BLANK\"> Guidelines for domestic travel (flight/train/ship/bus inter-state travel)</a>\n",
      "</li>\n",
      "<li><span>17.08.2021</span> <a href=\"https://www.mohfw.gov.in/pdf/INSACOGGuidanceDocumentdated15July2021final.pdf\" target=\"_BLANK\">Genomic Surveillance for SARS-CoV-2 In India: Indian SARS-CoV-2 Genomics Consortium (INSACOG) (Updated guidelines and SOPs)  </a>\n",
      "</li>\n",
      "<li><span>02.07.2021</span> <a href=\"https://www.mohfw.gov.in/pdf/OperationalGuidanceforCOVID19vaccinationofPregnantWoman.pdf\" target=\"_BLANK\">Operational Guidance for COVID-19 Vaccination of Pregnant Women  </a></li>\n",
      "<li><span>18.06.2021</span> <a href=\"https://www.mohfw.gov.in/pdf/GuidelinesforManagementofCOVID19inCHILDREN18June2021final.pdf\" target=\"_BLANK\">Guidelines for Management of COVID-19 in Children </a></li>\n",
      "<li><span>16.06.2021</span> <a href=\"https://www.mohfw.gov.in/pdf/GuidelinesonOperationalizationofCoVIDCareServicesforChildrenandAdolescents14062021.pdf\" target=\"_BLANK\">Guidelines on Operationalisation of COVID care services for children and adolescents</a>\n",
      "</li>\n",
      "<li><span>08.06.2021</span> <a href=\"https://www.mohfw.gov.in/pdf/RevisedVaccinationGuidelines.pdf\" target=\"_BLANK\">Revised Guidelines for implementation of National COVID Vaccination Program</a>\n",
      "</li>\n",
      "<li><span>07.06.2021</span><a href=\"https://www.mohfw.gov.in/pdf/AdvisoryforRationaluseofRemdesivirforCOVID19Treatment.pdf\" target=\"_BLANK\">Advisory for Rational use of Remdesivir for COVID-19 Treatment\n",
      " </a>\n",
      "</li>\n",
      "<li><span>01.06.2021</span><a href=\"https://www.mohfw.gov.in/pdf/ClinicalGuidanceonDiagnosisandManagementofDiabetesatCOVID19PatientManagementfacility.pdf\" target=\"_BLANK\">Clinical Guidance on Diagnosis and Management of Diabetes at COVID-19 Patient Management facility\n",
      " </a>\n",
      "</li><li><span>27.05.2021</span> <a href=\"https://www.mohfw.gov.in/pdf/GuidanceNeartoHomeCovidVaccinationCentresforElderlyandDifferentlyAbledCitizens.pdf\" target=\"_BLANK\">Guidelines on near to Home COVID Vaccination Centres for Elderly &amp; Differently Abled Citizens </a>\n",
      "</li>\n",
      "<li><span>24.05.2021</span> <a href=\"https://www.mohfw.gov.in/pdf/CoWINAPIGuidelinesFinal240521.pdf\" target=\"_BLANK\">Guidelines for Integration of Co-WIN with Third-party Applications Developed by Ecosystem Partners </a>\n",
      "</li>\n",
      "<li><span>24.05.2021</span> <a href=\"https://www.mohfw.gov.in/pdf/UpdatedDetailedClinicalManagementProtocolforCOVID19adultsdated24052021.pdf\" target=\"_BLANK\">Updated Detailed Clinical Management Protocol for adult cases of COVID19</a>\n",
      "</li>\n",
      "<li><span>19.05.2021</span> <a href=\"https://www.mohfw.gov.in/pdf/COVID19ClinicalManagementProtocolAlgorithmAdults19thMay2021.pdf\" target=\"_BLANK\">Revised COVID-19 Clinical Management Protocol Algorithm (Adults)\n",
      "</a></li>\n",
      "<li><span>16.05.2021</span> <a href=\"https://www.mohfw.gov.in/pdf/SOPonCOVID19Containment&amp;ManagementinPeriurbanRural&amp;tribalareas.pdf\" target=\"_BLANK\">SOP on COVID-19 Containment &amp; Management in Peri-urban, Rural &amp; Tribal areas</a></li>\n",
      "<li><span>06.05.2021</span> <a href=\"https://www.mohfw.gov.in/pdf/SOPforCOVID19VaccinationofPersonswithoutPrescribedIdentityCards.pdf\" target=\"_BLANK\">SOP for COVID-19 Vaccination of Persons without Prescribed Identity Cards </a></li>\n",
      "<li><span>05.05.2021</span>  Illustrated (Revised) Guidelines for Home Isolation of Mild / Asymptomatic COVID-19 Cases    <a href=\"https://www.mohfw.gov.in/pdf/RevisedGuidelineshomeisolation4.pdf\" target=\"_BLANK\"> English</a>\n",
      "<a href=\"https://www.mohfw.gov.in/pdf/RevisedGuidelineshomeisolationHindiV3.pdf\" target=\"_BLANK\"> Hindi</a>\n",
      "</li>\n",
      "<li><span>03.05.2021</span> <a href=\"https://www.mohfw.gov.in/pdf/LettertoStatesUTsonHealthWorkForce.pdf\" target=\"_BLANK\">Augmenting Human Resources for Covid-19\t </a>\n",
      "</li>\n",
      "<li><span>03.05.2021</span> <a href=\"https://www.mohfw.gov.in/pdf/LetterRenewalofPradhanMantriGaribKalyanPackageInsuranceSchemeforHealthWorkersfightingCOVID19.pdf\" target=\"_BLANK\">Renewal of Pradhan Mantri Garib Kalyan Package: Insurance Scheme for Health  Workers fighting COVID-19 w.e.f. 24.04.2021 for a further period of 180 days </a>\n",
      "</li>\n",
      "<li><span>29.04.2021</span> <a href=\"https://www.mohfw.gov.in/pdf/RevisedguidelinesforHomeIsolationofmildasymptomaticCOVID19cases.pdf\" target=\"_BLANK\">Revised guidelines for Home Isolation of mild /asymptomatic COVID-19 cases </a>\n",
      "</li>\n",
      "<li><span>29.04.2021</span> <!-- <a href=\"https://www.mohfw.gov.in/pdf/ProtocolforManagementofCovid19inthePaediatricAgeGroup.pdf\" target=\"_BLANK\" > -->Protocol for Management of Covid - 19 in the Paediatric Age Group<!--</a>-->\n",
      "</li>\n",
      "<li><span>23.04.2021</span> <!--  <a href=\"https://www.mohfw.gov.in/pdf/COVID19ManagementAlgorithm22042021v1.pdf\" target=\"_BLANK\" >--> Clinical Guidance for Management of Adult Covid-19 Patients <!--</a>-->\n",
      "</li>\n",
      "<li><span>21.04.2021</span> <a href=\"https://www.mohfw.gov.in/pdf/LiberalisedPricingandAcceleratedNationalCovid19VaccinationStrategy2042021.pdf\" target=\"_BLANK\">Liberalised Pricing and Accelerated National Covid-19 Vaccination Strategy </a>\n",
      "</li>\n",
      "<li><span>07.04.2021</span> <a href=\"https://www.mohfw.gov.in/pdf/GuidelinesforCOVID19VaccinationatWorkplace.pdf\" target=\"_BLANK\">Guidelines for COVID-19 Vaccination at WorkPlace</a>\n",
      "</li>\n",
      "<li><span>02.04.2021</span> <a href=\"https://www.mohfw.gov.in/pdf/GuidelinesofCovidVaccinePayment.pdf\" target=\"_BLANK\">Guidelines for COVID Vaccine Payment to NHA</a>\n",
      "</li>\n",
      "<li><span>01.03.2021</span> <a href=\"https://www.mohfw.gov.in/pdf/GuidelinesonPreventiveMeasurestoContainSpreadofCOVID19inYogaInstitutes&amp;Gymnasiums.pdf\" target=\"_BLANK\">Guidelines on Preventive Measures to Contain Spread of COVID-19 in Yoga Institutes &amp; Gymnasiums</a>\n",
      "</li>\n",
      "<li><span>01.03.2021</span> <a href=\"https://www.mohfw.gov.in/pdf/SOPonpreventivemeasuresinHotelsandotherHospitalityUnitstocontainspreadofCOVID19.pdf\" target=\"_BLANK\">SOP on preventive measures in Hotels and other Hospitality Units to contain spread of COVID-19</a>\n",
      "</li>\n",
      "<li><span>01.03.2021</span> <a href=\"https://www.mohfw.gov.in/pdf/SOPonpreventivemeasuresinRestaurantstocontainspreadofCOVID19.pdf\" target=\"_BLANK\">SOP on preventive measures in Restaurants to contain spread of COVID-19</a>\n",
      "</li>\n",
      "<li><span>01.03.2021</span> <a href=\"https://www.mohfw.gov.in/pdf/SOPonpreventivemeasuresinshoppingmallstocontainspreadofCOVID19.pdf\" target=\"_BLANK\">SOP on preventive measures in shopping malls to contain spread of COVID-19</a>\n",
      "</li>\n",
      "<li><span>01.03.2021</span> <a href=\"https://www.mohfw.gov.in/pdf/SOPonpreventivemeasurestobefollowedinEntertainmentParks.pdf\" target=\"_BLANK\">SOP on preventive measures to be followed in Entertainment Parks</a>\n",
      "</li>\n",
      "<li><span>01.03.2021</span> <a href=\"https://www.mohfw.gov.in/pdf/SOPonpreventivemeasurestocontainspreadofCOVID19inreligiousplacesandplacesofworship.pdf\" target=\"_BLANK\">SOP on preventive measures to contain spread of COVID-19 in religious places and places of worship</a>\n",
      "</li>\n",
      "<li><span>01.03.2021</span> <a href=\"https://www.mohfw.gov.in/pdf/SOPonpreventivemeasurestocontainspreadofCOVID19inskillorentrepreneurshiptraininginstitutionshighereducationalinstitutions.pdf\" target=\"_BLANK\">SOP on preventive measures to contain spread of COVID-19 in skill or entrepreneurship training institutions, higher educational institutions</a>\n",
      "</li>\n",
      "<li><span>28.02.2021</span> <a href=\"https://www.mohfw.gov.in/pdf/UserManualCitizenRegistration&amp;AppointmentforVaccination.pdf\" target=\"_BLANK\">User Manual - Citizen Registration &amp; Appointment for Vaccination Ver 1.1</a>\n",
      "</li>\n",
      "<li><span>27.02.2021</span> <a href=\"https://www.mohfw.gov.in/pdf/CGHSEmphospitals.xlsx\" target=\"_BLANK\">List of CGHS empanelled Hospitals that can be used by States/ UTs as Covid-19 vaccination centres</a>\n",
      "</li>\n",
      "<li><span>27.02.2021</span> <a href=\"https://www.mohfw.gov.in/pdf/PMJAYPRIVATEHOSPITALSCONSOLIDATED.xlsx\" target=\"_BLANK\">List of Ayushman Bharat PMJAY empanelled Hospitals that can be used by States/ UTs as Covid-19 vaccination centres</a></li>\n",
      "<li><span>13.02.2021</span> <a href=\"https://www.mohfw.gov.in/pdf/SOPonpreventivemeasurestocontainspreadofCOVID19inoffices.pdf\" target=\"_BLANK\">SOP on preventive measures to contain spread of COVID-19 in offices</a>\n",
      "</li>\n",
      "<li><span>18.01.2021</span> <a href=\"https://www.mohfw.gov.in/pdf/Version4PDFCOVAXINImplementationPlan11Jan2021.pdf\" target=\"_BLANK\"> Implementation plan for covaxin </a>\n",
      "</li>\n",
      "<li><span>14.01.2021</span> <a href=\"https://www.mohfw.gov.in/pdf/LetterfromAddlSecyMoHFWregContraindicationsandFactsheetforCOVID19vaccines.PDF\" target=\"_BLANK\">Letter from Additional Secretary, MoHFW regarding Contraindications and Factsheet for COVID-19 vaccines </a>\n",
      "</li>\n",
      "<li><span>01.01.2021</span> <a href=\"https://www.mohfw.gov.in/pdf/SOPforthenewvariantofSARSCoV2inthecontextofregulatedresumptionoflimitedflightsoriginatingfromUnitedKingdomUKtoIndiafrom8thJanuary2021.pdf\" target=\"_BLANK\"> SOP for the new variant of SARS-CoV-2 in the context of regulated resumption of limited flights originating from United Kingdom (UK) to India from 8th January 2021</a></li>\n",
      "<li><span>28.12.2020</span><a href=\"https://www.mohfw.gov.in/pdf/GuidelinesonSafeOphthalmologyPracticesinCovid19Scenario.pdf\" target=\"_BLANK\">  Guidelines on Safe Ophthalmology Practices in Covid-19 Scenario</a></li>\n",
      "<li><span>27-12-2020</span>\n",
      "<a href=\"https://www.mohfw.gov.in/pdf/IndianSARSCoV2PDFGenomicsConsortiumGuidanceDocument.pdf\" target=\"_BLANK\">  Document for Genomic sequencing in India\n",
      "</a>\n",
      "</li>\n",
      "<li><span>22.12.2020</span> <a href=\"https://www.mohfw.gov.in/pdf/SOPforSurveillanceandresponseforthenewSARSCov2variant.pdf\" target=\"_BLANK\">  SOP for Surveillance and response for the new SARS Cov-2 variant </a></li>\n",
      "<li><span>30.11.2020</span><a href=\"https://www.mohfw.gov.in/pdf/30NovSOPonpreventivemeasuresinmarketstocontainspreadofCOVID19.pdf\" target=\"_BLANK\">  SOP on preventive measures in markets to contain spread of COVID-19\n",
      "</a>\n",
      "</li>\n",
      "<li><span>13.10.2020</span><a href=\"https://www.mohfw.gov.in/pdf/GuidelinesformanagementofcoinfectionofCOVID19withotherseasonalepidemicpronediseases.pdf\" target=\"_BLANK\"> Guidelines for management of co-infection of COVID-19 with other seasonal epidemic prone diseases\n",
      "</a></li>\n",
      "<li><span>09.10.2020</span><a href=\"https://www.mohfw.gov.in/pdf/EnvironmentalandSocialManagementFrameworkforindiaCOVID19EmergencyResponseandHealthSystemsPreparednessProjectP173836.pdf\" target=\"_BLANK\"> Environmental and Social Management Framework for India COVID-19 Emergency Response and Health Systems Preparedness Project (P173836)\n",
      "</a>\n",
      "</li>\n",
      "<li><span>08.10.2020</span>SOP on preventive measures to be followed in Entertainment Parks and similar places to contain spread of COVID-19\n",
      "</li>\n",
      "<li><span>08.10.2020</span><a href=\"https://www.mohfw.gov.in/pdf/SPECIALSANCTIONCOVID19.pdf\" target=\"_BLANK\"> Reimbursement of OPD medicines to CS (MA) beneficiaries: Special Sanction in view of COVID-19 till 31 December 2020</a>\n",
      "</li>\n",
      "<li><span>06.10.2020</span><a href=\"https://www.mohfw.gov.in/pdf/StandardOperatingProceduresonpreventivemeasurestocontainspreadofCOVID19duringfestivities.pdf\" target=\"_BLANK\"> Standard Operating Procedures on preventive measures to contain spread of COVID-19 during festivities </a>\n",
      "</li>\n",
      "<li><span>13.09.2020</span><a href=\"https://www.mohfw.gov.in/pdf/PostCOVID13092020.pdf\" target=\"_BLANK\"> Post COVID management protocol \n",
      "</a>\n",
      "</li>\n",
      "<li><span>10.09.2020</span><a href=\"https://www.mohfw.gov.in/pdf/RevisedSOPonpreventivemeasurestobefollowedwhileconductingexaminationstocontainspreadofCOVID19.pdf\" target=\"_BLANK\"> Revised SOP on preventive measures to be followed while conducting examinations to contain spread of COVID-19\n",
      "</a>\n",
      "</li>\n",
      "<li><span>08.09.2020</span><a href=\"https://www.mohfw.gov.in/pdf/FinalSOPonpartialresumptionofactivitiesinschools8092020.pdf\" target=\"_BLANK\"> SOP for partial reopening of Schools for students of 9th to 12th classes on a voluntary basis, for taking guidance from their teachers   </a>\n",
      "</li>\n",
      "<li><span>08.09.2020</span> SOP on preventive measures to contain spread of COVID-19 in skill or entrepreneurship training institutions, higher educational institutions\n",
      "</li>\n",
      "<li><span>05.09.2020</span><a href=\"https://www.mohfw.gov.in/pdf/ManualforSurveillanceTeamsforcontainmentzones.pdf\" target=\"_BLANK\"> Manual for Surveillance Teams for containment zones</a></li>\n",
      "<li><span>05.09.2020</span><a href=\"https://www.mohfw.gov.in/pdf/ContainmentandSurveillanceManualforSupervisorsincontainmentzones.pdf\" target=\"_BLANK\"> Containment and Surveillance Manual for Supervisors in containment zones </a>\n",
      "</li>\n",
      "<li><span>04.09.2020</span><a href=\"https://www.mohfw.gov.in/pdf/AdvisoryonstrategyforCOVID19TestinginIndia.pdf\" target=\"_BLANK\"> Advisory on Strategy for COVID-19 Testing in India\n",
      "</a>\n",
      "</li>\n",
      "<li><span>03.09.2020</span><a href=\"https://www.mohfw.gov.in/pdf/OPDMEDICINECSMA.pdf\" target=\"_BLANK\"> Reimbursement of OPD medicines to CS (MA) beneficiaries: Special Sanction in view of COVID-19 \n",
      "</a>\n",
      "</li>\n",
      "<li><span>02.09.2020</span> SOP on preventive measures to be followed while conducting examinations to contain spread of COVID-19\n",
      "</li>\n",
      "<li><span>01.09.2020</span> <a href=\"https://www.mohfw.gov.in/pdf/AIIMSeICUsFAQs01SEP.pdf\" target=\"_BLANK\"> FAQs on COVID-19 from AIIMS e-ICUs  \n",
      "</a>\n",
      "</li>\n",
      "<li><span>26.08.2020</span> <a href=\"https://www.mohfw.gov.in/pdf/1TBCOVIDscreeningguidancenote.pdf\" target=\"_BLANK\"> Guidance note on bi-directional TB-COVID screening </a>\n",
      "</li>\n",
      "<li><span>26.08.2020</span> Clinical Guidance on Diabetes Management at COVID-19 Patient Management Facility\n",
      "</li>\n",
      "<li><span>19.08.2020</span>  Guidelines for eye care facilities in the COVID-19 scenario </li>\n",
      "<li><span>07.08.2020</span><a href=\"https://www.mohfw.gov.in/pdf/PMGKPInsuranceextensionletter.pdf\" target=\"_BLANK\"> Extension of Pradhan Mantri Garib Kalyan Package : Insurance Health Workers fighting COVID-19 for a further period of 90 days beyond the original period\n",
      "</a>\n",
      "</li>\n",
      "<li><span>03.08.2020</span> Guidelines on Preventive Measures to Contain Spread of COVID-19 in Yoga Institutes &amp; Gymnasiums\n",
      "</li>\n",
      "<li><span>02.08.2020</span> <a href=\"https://www.mohfw.gov.in/pdf/RevisedguidelinesforInternationalArrivals02082020.pdf\" target=\"_BLANK\"> Revised guidelines for International Arrivals</a></li>\n",
      "<li><span>28.07.2020</span><a href=\"https://www.mohfw.gov.in/pdf/COVID19PandemicandTobaccoUseinIndia.pdf\" target=\"_BLANK\"> COVID-19 Pandemic and Tobacco Use in India\n",
      "</a>\n",
      "</li>\n",
      "<li><span>17.07.2020</span><a href=\"https://www.mohfw.gov.in/pdf/AdvisoryforRWAsonCOVID19.pdf\" target=\"_BLANK\"> Advisory for Gated Residential Complexes with regards to COVID-19 </a></li>\n",
      "<li><span>17.07.2020</span><a href=\"https://www.mohfw.gov.in/pdf/CovidCareFacilityinGatedcomplexes.pdf\" target=\"_BLANK\"> Guidelines for Gated Residential Complexes Desirous of Setting Up Small Covid Care Facility by Resident Welfare Associations / Residential Societies / Non-Governmental Organizations (NGOs) </a></li>\n",
      "<li><span>16.07.2020</span><a href=\"https://www.mohfw.gov.in/pdf/DistrictwiseRapidantigentesting.pdf\" target=\"_BLANK\">  Letter from ICMR to States and UTs for District wise login credentials for rapid antigen testing for COVID 19</a>\n",
      "</li>\n",
      "<li><span>03.07.2020</span><!--<a  href=\"https://www.mohfw.gov.in/pdf/UpdatedClinicalManagementProtocolforCOVID19dated03072020.pdf\" target=\"_BLANK\">-->Updated Clinical Management Protocol for COVID-19 <!--</a>-->\n",
      "</li>\n",
      "<li><span>02.07.2020</span>Revised guidelines for Home Isolation of very mild/pre-symptomatic/asymptomatic COVID-19 cases \n",
      "</li>\n",
      "<li><span>29.06.2020</span><a href=\"https://www.mohfw.gov.in/pdf/2ndNBTCGuidanceinLightofCOVID19Pandemic.pdf\" target=\"_BLANK\">Second Interim National Guidance to Blood Transfusion Services in India in light of Covid-19 pandemic, 25th June 2020\n",
      "</a>\n",
      "</li>\n",
      "<li><span>27.06.2020</span><a href=\"https://www.mohfw.gov.in/pdf/ClinicalManagementProtocolforCOVID19dated27062020.pdf\" target=\"_BLANK\">Clinical Management Protocol for COVID-19 [Updated on 03.07.2020]</a>\n",
      "</li>\n",
      "<li><span>18.06.2020</span><a href=\"https://www.mohfw.gov.in/pdf/updatedAdvisoryformanagingHealthcareworkersworkinginCOVIDandNonCOVIDareasofthehospital.pdf\" target=\"_BLANK\">Updated Advisory for managing Health care workers working in COVID and Non-COVID areas of the hospital</a>\n",
      "</li>\n",
      "<li><span>13.06.2020</span>Clinical Management Protocol for COVID-19 [Revised and reissued on 27.06.2020]\n",
      "</li>\n",
      "<li><span>04.06.2020</span>SOP on preventive measures to contain spread of COVID-19 in offices\n",
      "</li>\n",
      "<li><span>04.06.2020</span>SOP on preventive measures to contain spread of COVID-19 in religious places/places of worship\n",
      "</li>\n",
      "<li><span>04.06.2020</span>SOP on preventive measures in Restaurants to contain spread of COVID-19</li>\n",
      "<li><span>04.06.2020</span>SOP on preventive measures in shopping malls to contain spread of COVID-19\n",
      "</li>\n",
      "<li><span>04.06.2020</span>SOP on preventive measures in Hotels and Other Hospitality Units to contain spread of COVID-19\n",
      "</li>\n",
      "<li><span>27.05.2020</span><a href=\"https://www.mohfw.gov.in/pdf/Advisoryonreprocessingandreuseofeyeprotectiongoggles.pdf\" target=\"_BLANK\">Advisory on re-processing and re-use of eye protection - Goggles\n",
      "</a></li>\n",
      "<li><span>27.05.2020</span><a href=\"https://www.mohfw.gov.in/pdf/GuidanceNoteonProvisionofessentialRMNCAHNServices24052020.pdf\" target=\"_BLANK\">Guidance note on Essential RMNCAH+N Services during and post COVID\n",
      "</a></li>\n",
      "<li><span>24.05.2020</span> <a href=\"https://www.mohfw.gov.in/pdf/Guidelinesforinternationalarrivals.pdf\" target=\"_BLANK\">Guidelines for international arrivals</a></li>\n",
      "<li><span>24.05.2020</span> Guidelines for domestic travel (air/train/inter-state bus travel)</li>\n",
      "<li><span>22.05.2020</span><a href=\"https://www.mohfw.gov.in/pdf/RevisedadvisoryontheuseofhydroxychloroquineasprophylaxisforSARSCOVID19infection.pdf\" target=\"_BLANK\">Revised advisory on the use of Hydroxychloroquine (HCQ) as prophylaxis for COVID-19 infection</a></li>\n",
      "<li><span>21.05.2020</span><a href=\"https://www.mohfw.gov.in/pdf/3ImmunizationServicesduringCOVIDOutbreakSummary150520202.pdf\" target=\"_BLANK\">Guidance note for Immunization services during and post COVID outbreak </a></li>\n",
      "<li><span>20.05.2020</span><a href=\"https://texmin.nic.in/covid/certificates.php\" target=\"_BLANK\">\"List of manufacturers of PPE coveralls who have been approved by accredited testing facilities is available on the Ministry of Textiles website at the following URL \" https://texmin.nic.in/covid/certificates.php </a></li>\n",
      "<li><span>18.05.2020</span> Guidelines on preventive measures to contain spread of COVID-19 in workplace settings </li>\n",
      "<li><span>18.05.2020</span><a href=\"https://www.mohfw.gov.in/pdf/Revisedtestingguidelines.pdf\" target=\"_BLANK\"> Revised Strategy for COVlD-19 testing in lndia</a></li>\n",
      "<li><span>16.05.2020</span><a href=\"https://www.mohfw.gov.in/pdf/Containmentplan16052020.pdf\" target=\"_BLANK\">Updated Cluster Containment Plan for COVID-19 </a> </li>\n",
      "<li><span>16.05.2020</span><a href=\"https://www.mohfw.gov.in/pdf/UpdatedContainmentPlanforLargeOutbreaksofCOVID19Version3.0.pdf\" target=\"_BLANK\"> Updated Containment Plan for Large Outbreaks of COVID-19\n",
      "</a></li>\n",
      "<li><span>16.05.2020</span><a href=\"https://www.mohfw.gov.in/pdf/PreparednessandresponsetoCOVID19inUrbansettlements.pdf\" target=\"_BLANK \">Preparedness and response to COVID-19 in Urban Settlements\n",
      "</a>\n",
      "</li>\n",
      "<li><span>15.05.2020</span><!--<a  href=\"https://www.mohfw.gov.in/pdf/AdvisoryformanagingHealthcareworkersworkinginCOVIDandNonCOVIDareasofthehospital.pdf\" target=\"_BLANK \">-->Advisory for managing Health care workers working in COVID and Non-COVID areas of the hospital [Revised and reissued on 18.06.2020] \n",
      "\n",
      "</li>\n",
      "<li><span>15.05.2020</span><a href=\"https://www.mohfw.gov.in/pdf/UpdatedAdditionalguidelinesonrationaluseofPersonalProtectiveEquipmentsettingapproachforHealthfunctionariesworkinginnonCOVID19areas.pdf\" target=\"_BLANK \">Updated Additional guidelines on rational use of Personal Protective Equipment (setting approach for Health functionaries working in non-COVID areas) </a>\n",
      "</li>\n",
      "<li><span>14.05.2020</span><a href=\"https://www.mohfw.gov.in/pdf/GuidelineforrtPCRbasedpooledsamplingFinal.pdf\" target=\"_BLANK \">Guidelines for RT-PCR based Pooled Sampling </a>\n",
      "</li>\n",
      "<li><span>11.05.2020</span><a href=\"https://www.mohfw.gov.in/pdf/DistrictlevelFacilitybasedsurveillanceforCOVID19.pdf\" target=\"_BLANK\">District level Facility based surveillance for COVID-19\n",
      "</a>\n",
      "</li>\n",
      "<li><span>10.05.2020</span><a href=\"https://www.mohfw.gov.in/pdf/FAQsonRevisedDischargePolicy.pdf\" target=\"_BLANK\">Updated  Frequently Asked Questions (FAQs) on Revised Discharge Policy </a>\n",
      "</li>\n",
      "<li><span>10.05.2020</span>Revised guidelines for Home Isolation of very mild/pre-symptomatic COVID-19 cases [Revised and reissued on 02.07.2020]\n",
      "\n",
      "</li>\n",
      "<li><span>07.05.2020</span><a href=\"https://www.mohfw.gov.in/pdf/Additionalguidelinesforquarantineofreturneesfromabroadcontactsisolationofsuspectorconfirmedcaseinprivatefacilities.pdf\" target=\"_BLANK\">Additional guidelines for quarantine of returnees from abroad / contacts / isolation of suspect or confirmed cases in private facilities</a>\n",
      "</li>\n",
      "<li><span>06.05.2020</span><a href=\"https://www.mohfw.gov.in/pdf/GuidanceDocumentonappropriatemanagementofsuspectconfirmedcasesofCOVID19RailwayCoachesCOVIDCareCenters.pdf\" target=\"_BLANK\">Railway Coaches as COVID Care Centre: Guidance document on appropriate management of suspect-confirmed cases of COVID-l9 </a>\n",
      "</li>\n",
      "<li><span>01.05.2020</span>Additional guidelines on rational use of Personal Protective Equipment (setting approach for Health functionaries working in non-COVID areas) [Reissued on 15<sub>th</sub> May 2020]\n",
      "</li>\n",
      "<li><span>27-04-2020</span>\n",
      "<a href=\"https://www.mohfw.gov.in/pdf/GuidelinesforHomeIsolationofverymildpresymptomaticCOVID19cases.pdf\" target=\"_BLANK\">Guidelines for Home Isolation of very mild/pre-symptomatic COVID-19 cases\n",
      "  \n",
      "</a>\n",
      "</li>\n",
      "<li><span>22-04-2020</span>\n",
      "<a href=\"https://www.mohfw.gov.in/pdf/OnboardingofStates.pdf\" target=\"_BLANK\">Onboarding of States / Union Territories' COVID-19 Warriors to iGoT (Integrated Government Online Training) courses on DIKSHA Platform on COVID-19 pandemic\n",
      "</a>\n",
      "</li>\n",
      "<li><span>22.04.2020</span><a href=\"https://www.mohfw.gov.in/pdf/MeasuresUndertakenToEnsureSafetyOfHealthWorkersDraftedForCOVID19Services.pdf\" target=\"_BLANK\">   Measures Undertaken To Ensure Safety Of Health Workers Drafted For COVID-19 Services\n",
      "</a>\n",
      "</li>\n",
      "<li><span>20.04.2020</span><a href=\"https://www.mohfw.gov.in/pdf/HonbleHFMLettertoalltheHon'blestateHealthMinisters.pdf\" target=\"_BLANK\">  Hon'ble HFM Letter to States/UT's regarding Blood &amp; Blood Disorders\n",
      "</a>\n",
      "</li>\n",
      "<li><span>20.04.2020</span><a href=\"https://www.mohfw.gov.in/pdf/GuidelinestobefollowedondetectionofsuspectorconfirmedCOVID19case.pdf\" target=\"_BLANK\">  Guidelines to be followed on detection of suspect or confirmed COVID-19 case in a non-COVID Health Facility\n",
      "</a>\n",
      "</li>\n",
      "<li><span>20.04.2020</span><a href=\"https://www.mohfw.gov.in/pdf/LetterforUploadingtoWebsite.pdf\" target=\"_BLANK\">   Directions from Ministry of Home Affairs to State for promotion of Voluntary Blood Donation \n",
      "</a>\n",
      "</li>\n",
      "<li><span>18.04.2020</span><a href=\"https://www.mohfw.gov.in/pdf/AdvisoryagainstsprayingofdisinfectantonpeopleforCOVID19managementFinal.pdf\" target=\"_BLANK\">   Advisory against spraying of disinfectant on people for COVID-19 management\n",
      "</a>\n",
      "</li>\n",
      "<li><span>17.04.2020</span><a href=\"https://www.mohfw.gov.in/pdf/ProtocolRapidAntibodytest.pdf\" target=\"_BLANK\"> Guidelines issued by ICMR for Rapid antibody test' in Hotspot Area'\n",
      "</a></li>\n",
      "<li><span>17.04.2020</span> Updated Containment Plan for Large Outbreaks of COVID-19 [Reissued on 16<sub>th</sub> May 2020]\n",
      "</li>\n",
      "<li><span>14.04.2020</span><a href=\"https://www.mohfw.gov.in/pdf/letterregguidanceonpoolingsamplesfortesting001.pdf\" target=\"_BLANK\"> Advisory on feasibility of using pooled samples for molecular testing of COVID-19 by ICMR\n",
      "</a></li>\n",
      "<li><span>14.04.2020</span><a href=\"https://www.mohfw.gov.in/pdf/advisorydrinkingwaterpdf.pdf\" target=\"_BLANK\"> Advisory  for  effective management &amp; ensuring  safe  drinking  water  during  lock  down  due to COVID-19\n",
      "</a></li>\n",
      "<li><span>14.04.2020</span><a href=\"https://www.mohfw.gov.in/pdf/EssentialservicesduringCOVID19updated0411201.pdf\" target=\"_BLANK\"> Guidance note for enabling Delivery of Essential Health Services during the COVID 19 Outbreak\n",
      "</a>\n",
      "</li>\n",
      "<li><span>11.04.2020</span><a href=\"https://www.mohfw.gov.in/pdf/MHAlettertoCSsDGPsregsecuritytodocs.pdf\" target=\"_BLANK\">Letter from Ministry of Home Affairs to Administrators, DGPs of all States/UTs and CP Delhi regarding Security  to all Doctors , Staff of Hospitals in respect of COVID-19\n",
      "</a></li>\n",
      "<li><span>11.04.2020</span><a href=\"https://www.mohfw.gov.in/pdf/MHAOrderDated1042020alongwith5thAddendumgivingexemptiontoFishingMarineandAquacultureIndustry.pdf\" target=\"_BLANK\">Orders of Ministry of Home Affairs  to  Ministries/States/UTs for exemption to Fishing\n",
      "</a></li>\n",
      "<li><span>09.04.2020</span><a href=\"https://www.mohfw.gov.in/pdf/NBTCGUIDANCEFORCOVID19.pdf\" target=\"_BLANK\">Advisory for Voluntary Blood Donation during COVID- 19 scenario\n",
      "</a></li>\n",
      "<li><span>08.04.2020</span><a href=\"https://www.mohfw.gov.in/pdf/DOASMDCOVID19MD.pdf\" target=\"_BLANK\">Release of funds to States/UTs under NHM for Emergency Response and Health System Preparedness Package for COVID-19\n",
      "</a>\n",
      "</li>\n",
      "<li><span>07.04.2020</span><a href=\"https://www.mohfw.gov.in/pdf/FAQPradhanMantriGaribKalyanPackageInsuranceSchemeforHealthWorkersFightingCOVID19.pdf\" target=\"_BLANK\">Pradhan Mantri Garib Kalyan Package: Insurance Scheme for Health Workers Fighting COVID-19 - FAQs\n",
      "</a>\n",
      "</li>\n",
      "<li><span>07.04.2020</span><a href=\"https://www.mohfw.gov.in/pdf/FinalGuidanceonMangaementofCovidcasesversion2.pdf\" target=\"_BLANK\">Guidance document on appropriate management of suspect/confirmed cases of COVID-19 - Types of Covid-19 dedicated facilities\n",
      "</a>\n",
      "</li>\n",
      "<li><span>07.04.2020</span><a href=\"https://www.mohfw.gov.in/pdf/ImmunityBoostingAYUSHAdvisory.pdf\" target=\"_BLANK\">Ministry of AYUSH advise on immunity boosting measures for self care during COVID 19 crisis </a>\n",
      "</li>\n",
      "<li><span>05.04.2020</span><a href=\"https://www.mohfw.gov.in/pdf/advisoryMORD.pdf\" target=\"_BLANK\">Advisory issued by Ministry of Rural Development to the State Rural Livelihoods Missions on actions to be taken to address the COVID 19 outbreak </a>\n",
      "</li>\n",
      "<li><span>05.04.2020</span><a href=\"https://www.mohfw.gov.in/pdf/63948609501585568987wastesguidelines.pdf\" target=\"_BLANK\">Guidelines for Handling, Treatment and Disposal of Waste Generated during Treatment/Diagnosis/ Quarantine of COVID-19 Patients </a>\n",
      "</li>\n",
      "<li><span>05.04.2020</span><a href=\"https://www.mohfw.gov.in/pdf/90542653311584546120quartineguidelines.pdf\" target=\"_BLANK\">Guidelines for Quarantine facilities COVID-19 </a> </li>\n",
      "<li><span>05-04-2020</span>\n",
      "<a href=\"https://www.mohfw.gov.in/pdf/Advisory&amp;StrategyforUseofRapidAntibodyBasedBloodTest.pdf\" target=\"_BLANK\">Advisory &amp; Strategy for Use of Rapid Antibody Based Blood Test </a>\n",
      "</li>\n",
      "<li><span>04.04.2020</span><a href=\"https://www.mohfw.gov.in/pdf/DO&amp;AnnexureAS&amp;MD.pdf\" target=\"_BLANK\">Letter to States/UTs with Control Room Emergency contact numbers of All India Industrial Gases Manufacturer’s Association </a>\n",
      "</li>\n",
      "<li><span>04.04.2020</span><a href=\"https://www.mohfw.gov.in/pdf/pdfjoiner.pdf\" target=\"_BLANK\">Letter to States/UTs and Heads of all the Associations of Doctors/Healthcare providers regarding 'Pradhan Mantri Garib Kalyan Package: Insurance Scheme with Forms </a>\n",
      "</li>\n",
      "<li><span>04.04.2020</span>Containment Plan for Large Outbreaks of COVID-19 Updated \t</li>\n",
      "<li><span>03.04.2020</span><a href=\"https://www.mohfw.gov.in/pdf/Covid19DOtoStatesSupportLabinrealtimeupdate.pdf\" target=\"_BLANK\">Request to States/UTs to provide support to ICMR Labs doing COVID-19 Testing </a> </li>\n",
      "<li><span>03.04.2020</span><a href=\"https://www.mohfw.gov.in/pdf/DOSecyHRD.pdf\" target=\"_BLANK\">DO Letter of Secretary, Ministry of Human Resource Development for  Arogya Setu App, and Light Candle at 09:00 PM on 5 April 2020 for 9 Minute </a> </li>\n",
      "<li><span>01-04-2020</span>\n",
      "<a href=\"https://www.mohfw.gov.in/pdf/SupremeCourtOrderonmigrants.pdf\" target=\"_BLANK\">Letter from Secretary Health to Chief Secretaries of all States/UTs in connection with directions of Hon'ble Supreme Court for migrant labourers  </a></li>\n",
      "<li><span>31-03-2020</span>\n",
      "<a href=\"https://www.mohfw.gov.in/pdf/DOtoStatesUTsreg.pdf\" target=\"_BLANK\"> DO Letter of Secretary, Department of Rural Development regarding utilizing services of DDU-GKY trained youth  </a></li>\n",
      "<li><span>31-03-2020</span>\n",
      "<a href=\"https://www.mohfw.gov.in/pdf/CopyofDDUGKY.xlsx\" target=\"_BLANK\"> List of youth trained under DDU-GKY (Deen Dayal Upadhyaya Grameen Kaushal Yojna)  </a></li>\n",
      "<li><span>31-03-2020</span>\n",
      "<a href=\"https://www.mohfw.gov.in/pdf/Advisoryforquarantineofmigrantworkers.pdf\" target=\"_BLANK\"> Advisory for quarantine of migrant workers   </a></li>\n",
      "<li><span>31-03-2020</span>\n",
      "<a href=\"https://www.mohfw.gov.in/pdf/1PreliminaryStakeholderEngagementPlan.pdf\" target=\"_BLANK\"> Preliminary Stakeholder Engagement Plan (SEP) – India COVID-19 Emergency Response and Health Systems Preparedness Project (P173836)</a></li>\n",
      "<li><span>31-03-2020</span>\n",
      "<a href=\"https://www.mohfw.gov.in/pdf/2EnvironmentalandSocialCommitmentPlanESCP.pdf\" target=\"_BLANK\"> Environmental and Social Commitment Plan (ESCP) - India COVID-19 Emergency Response and Health Systems Preparedness Project (P173836)</a></li>\n",
      "<li>\n",
      "<span>30.03.2020</span>\n",
      "<a href=\"https://www.mohfw.gov.in/pdf/SecysMHLetter2932020regconsolidatedguidelinesandmigrantlabourers.pdf\" target=\"_BLANK\">D.O Letter from Home Secretary to all Secretaries of Government Of India  on movement of Goods dated 29.03.2020 </a>\n",
      "</li>\n",
      "<li>\n",
      "<span>29.03.2020</span>\n",
      "<a href=\"https://www.mohfw.gov.in/pdf/Guidelinesondisinfectionofcommonpublicplacesincludingoffices.pdf\" target=\"_BLANK\">Guidelines on disinfection of common public places including offices</a>\n",
      "</li>\n",
      "<li>\n",
      "<span>29.03.2020</span>\n",
      "<a href=\"https://www.mohfw.gov.in/pdf/StandardOperatingProcedureSOPfortransportingasuspectorconfirmedcaseofCOVID19.pdf\" target=\"_BLANK\">Standard Operating Procedure (SOP) for transporting a suspect/confirmed case of COVID-19 </a>\n",
      "</li>\n",
      "<li>\n",
      "<span>28.03.2020</span>\n",
      "<a href=\"https://www.mohfw.gov.in/pdf/NPPADOLETTER28032020.pdf\" target=\"_BLANK\">Letter from National Pharmaceutical Pricing Authority (NPPA) to states for Ensuring availability and distribution of Masks, Gloves and Sanitizers</a>\n",
      "</li>\n",
      "<li>\n",
      "<span>26.03.2020</span>\n",
      "<a href=\"https://www.mohfw.gov.in/pdf/218927g.pdf\" target=\"_BLANK\">Gazette Notification - Hydroxychloroquine  now a schedule H1 drug, can be sold on prescription only</a>\n",
      "</li>\n",
      "<li>\n",
      "<span>26.03.2020</span>\n",
      "<a href=\"https://www.mohfw.gov.in/pdf/ChiefSecretary26032020.pdf\" target=\"_BLANK\">D.O. Letter  from Cabinet Secretary to Chief Secretaries for management and containment of COVID-19 dated 26.03.2020   </a>\n",
      "</li>\n",
      "<li>\n",
      "<span>24.03.2020</span>\n",
      "<a href=\"https://www.mohfw.gov.in/pdf/DOtoChiefSecretariesregCOVID19.pdf\" target=\"_BLANK\">D.O. Letter 3 from Secretary, Human Resource Development to Chief Secretaries for temporary Medical camps in Jawahar Navodaya Vidyalayas dated 24th March 2020  </a>\n",
      "</li>\n",
      "<li>\n",
      "<span>24.03.2020</span>\n",
      "<a href=\"https://www.mohfw.gov.in/pdf/DOletter_secretary.pdf\" target=\"_BLANK\">DO Letter of Home Secretary regarding urgent need to take stringent actions to contain the spread of COVID-19.</a>\n",
      "</li>\n",
      "<li>\n",
      "<span>24.03.2020</span>\n",
      "<a href=\"https://www.mohfw.gov.in/pdf/Annexure_MHA.pdf\" target=\"_BLANK\">Annexure to Ministry of Home Affairs Order No. 40-3/2020-D Dated 24-3-2020.</a>\n",
      "</li>\n",
      "<li>\n",
      "<span>24.03.2020</span><a href=\"https://www.mohfw.gov.in/pdf/cbsecretary2020.pdf\" target=\"_BLANK\">D.O. Letter 2 from Cabinet Secretary to Chief Secretaries for management and containment of COVID-19 dated 24.03.2020  </a>\n",
      "</li>\n",
      "<li>\n",
      "<span>24.03.2020</span>\n",
      "<a href=\"https://www.mohfw.gov.in/pdf/DOHealthSHIPPING.pdf\" target=\"_BLANK\">D.O. Letter from Secretary Shipping to States for smooth carrying of goods to &amp; from ports</a>\n",
      "</li>\n",
      "<li>\n",
      "<span>24.03.2020</span> <a href=\"https://www.mohfw.gov.in/pdf/GuidelinesonrationaluseofPersonalProtectiveEquipment.pdf\" target=\"_BLANK\">Guidelines on rational use of Personal Protective Equipment</a>\n",
      "</li>\n",
      "<li>\n",
      "<span>24.03.2020</span>\n",
      "<a href=\"https://www.mohfw.gov.in/pdf/ModelMicroplanforcontainmentoflocaltransmissionofCOVID19.pdf\" target=\"_BLANK\">Model Micro-plan for containment of local transmission of COVID-19 </a></li>\n",
      "<li>\n",
      "<span>24.03.2020</span>\n",
      "<a href=\"https://www.mohfw.gov.in/pdf/DOtoChiefSecretariesregCOVID19.pdf\" target=\"_BLANK\">D.O. Letter from Secretary, Human Resource Development to Chief Secretaries for temporary Medical camps in Jawahar Navodaya Vidyalayas dated 24th March 2020 </a>\n",
      "</li>\n",
      "<li>\n",
      "<span>24.03.2020</span>\n",
      "<a href=\"https://www.mohfw.gov.in/pdf/ReviewofpricesofEssentialCommodities.pdf\" target=\"_BLANK\">Letter from Ministry of Consumer Affairs, Food &amp; Public Distribution to States to take appropriate measures to ensure the availability of Ethyl Alcohol/Ethanol/ENA to the manufacturers of hand sanitizers in order to contain Corona Virus COVID- l9</a>\n",
      "</li>\n",
      "<li>\n",
      "<span>24.03.2020</span>\n",
      "<a href=\"https://www.mohfw.gov.in/pdf/doletter24032020.pdf\" target=\"_BLANK\">D.O. Letter from Cabinet Secretary to Chief Secretaries for management and containment of COVID-19 dated 24.03.2020</a></li>\n",
      "<li>\n",
      "<span>23.03.2020</span>\n",
      "<a href=\"https://www.mohfw.gov.in/pdf/DOletter23032020.pdf\" target=\"_BLANK\">D.O. Letter from Cabinet Secretary to Chief Secretaries for management and containment of COVID-19 dated 23.03.2020</a>\n",
      "</li>\n",
      "<li>\n",
      "<span>23.03.2020</span>\n",
      "<a href=\"https://www.mohfw.gov.in/pdf/ClosingofImmigrationCheckPosts.pdf\" target=\"_BLANK\">Letter from Ministry of Home Affairs - Restrictions on international passenger traffic through Authorized Immigration Check Posts in view of the COVID-19</a>\n",
      "</li>\n",
      "<li>\n",
      "<span>23.03.2020</span>\n",
      "<a href=\"https://www.mohfw.gov.in/pdf/ministryofshippingOrderdated2332020.pdf\" target=\"_BLANK\"> Office Order from Ministry of Shipping - State Government/Union Territories have issued prohibitory orders, Imposing restrictions on non-essential services in view of the COVID-19</a></li>\n",
      "<li>\n",
      "<span>22.03.2020</span>\n",
      "<a href=\"https://www.mohfw.gov.in/pdf/ChiefSecyDOLetter.pdf\" target=\"_BLANK\">D.O. Letter from Cabinet Secretary to Chief Secretaries for management and containment of COVID-19 dated 22.03.2020</a>\n",
      "</li>\n",
      "<li>\n",
      "<span>21.03.2020</span>\n",
      "<a href=\"https://www.mohfw.gov.in/pdf/ICMRrevisedtestingstrategyforCOVID.pdf\" target=\"_BLANK\">Revised Guidelines/Strategy for COVID-19 testing by Indian Council of Medical Research (ICMR)</a>\n",
      "</li>\n",
      "<li>\n",
      "<span>20.03.2020</span>\n",
      "<a href=\"https://www.mohfw.gov.in/pdf/DGSOrder04of2020.pdf\" target=\"_BLANK\">Instructions to all major and minor ports for dealing with(COVID-19)</a>\n",
      "</li>\n",
      "<li>\n",
      "<span>20.03.2020</span>\n",
      "<a href=\"https://www.mohfw.gov.in/pdf/Covid19.pdf\" target=\"_BLANK\">Letter from Secretary, Dept of Higher Education/School Education regarding Digital/e-Learning</a>\n",
      "</li>\n",
      "<li>\n",
      "<span>20.03.2020</span>\n",
      "<a href=\"https://www.mohfw.gov.in/pdf/MockDrill.pdf\" target=\"_BLANK\">SOP for Mock Drill on 22nd March 2020 for Hospital Preparedness</a>\n",
      "</li>\n",
      "<li>\n",
      "<span>19.03.2020</span>\n",
      "<a href=\"https://www.mohfw.gov.in/pdf/DepttofSports.pdf\" target=\"_BLANK\">Advisory from Department of Sports for Sports Organizations</a>\n",
      "</li>\n",
      "<li><span>19.03.2020</span>\n",
      "<a href=\"https://www.mohfw.gov.in/pdf/InstructionsforTrainingInstitutes.pdf\" target=\"_BLANK\">DOPT OM - Preventive measures to contain the spread of COVID-19 in Training Institutes</a>\n",
      "</li>\n",
      "<li>\n",
      "<span>18.03.2020</span>\n",
      "<a href=\"https://www.mohfw.gov.in/pdf/SanitizerLetter.pdf\" target=\"_BLANK\">Letter from Department of Food &amp; Public Distribution regarding Hand Sanitizer Production and Availability </a>\n",
      "</li>\n",
      "<li>\n",
      "<span>18.03.2020</span>\n",
      "<a href=\"https://www.mohfw.gov.in/pdf/Letterdated2032020toCSs.pdf\" target=\"_BLANK\">DO Letter from Secretary, DoHFW to State Chief Secretaries regarding Social Distancing Measures</a></li>\n",
      "<li>\n",
      "<span>18.03.2020</span>\n",
      "<a href=\"https://www.mohfw.gov.in/pdf/Monitoringofthequalitystandardsofhandsanitizers2020.pdf\" target=\"_BLANK\">Monitoring of the quality standards of hand Sanitizers</a>\n",
      "</li>\n",
      "<li>\n",
      "<span>18.03.2020</span>\n",
      "<a href=\"https://www.mohfw.gov.in/pdf/DOSecyHE.pdf\" target=\"_BLANK\">Directives from MoHRD for all Educational Institutions and Examination Boards regarding precautions to be taken in light of COVID-19</a></li> <li><span>18.03.2020</span> <a href=\"https://www.mohfw.gov.in/pdf/PreventivemeasuresDOPT.pdf\" target=\"_BLANK\">DoPT OM - Preventive measures to be taken to contain the spread of Novel Coronavirus (COVID-19)</a>\n",
      "</li>\n",
      "<li>\n",
      "<span>17-03-2020</span>\n",
      "<a href=\"https://www.mohfw.gov.in/pdf/GuidelinesfornotifyingCOVID-19affectedpersonsbyPrivateInstitutions.pdf\" target=\"_BLANK\">Guidelines for notifying COVID-19 affected persons by Private Institutions</a>\n",
      "</li>\n",
      "<li>\n",
      "<span>17-03-2020</span>\n",
      "<a href=\"https://www.mohfw.gov.in/pdf/LabTestingAdvisory.pdf\" target=\"_BLANK\">Latest Testing Guidelines of Indian Council of Medical Research (ICMR) </a></li>\n",
      "<li>\n",
      "<span>16-03-2020</span>\n",
      "<a href=\"https://www.mohfw.gov.in/pdf/SocialDistancingAdvisorybyMOHFW.pdf\" target=\"_BLANK\">Advisory - Social Distancing </a>\n",
      "</li>\n",
      "<li>\n",
      "<span>15-03-2020</span>\n",
      "<a href=\"https://www.mohfw.gov.in/pdf/1584423700568_COVID19GuidelinesonDeadbodymanagement.pdf\" target=\"_BLANK\">Guidelines on Dead Body Management</a>\n",
      "</li>\n",
      "<li>\n",
      "<span>14-03-2020</span>\n",
      "<a href=\"https://www.mohfw.gov.in/pdf/RevisedItem&amp;NormsforutilisationofSDRFdt14032020.pdf\" target=\"_BLANK\">Norms of assistance from State Disaster Response Fund (SDRF) in wake of COVID-19 outbreak</a>\n",
      "</li>\n",
      "<li><span>13-03-2020</span>\n",
      "<a href=\"https://www.mohfw.gov.in/pdf/Orderdated1332020.pdf\" target=\"_BLANK\">National Pharmaceutical Pricing Authority (NPPA) Order regarding Masks, Hand Sanitizers and Gloves </a>\n",
      "</li>\n",
      "<li>\n",
      "<span>13-03-2020</span>\n",
      "<a href=\"https://www.mohfw.gov.in/pdf/218645.pdf\" target=\"_BLANK\">Gazette Notification - Essential Commodities Order, 2020 - with regards to Masks and Hand Sanitizers (770KB)  </a>\n",
      "</li>\n",
      "<li><span>11-03-2020</span>\n",
      "<a href=\"https://www.mohfw.gov.in/pdf/disastermanagmentact.pdf\" target=\"_BLANK\">Invoking powers under Disaster Management Act 2005 </a>\n",
      "</li>\n",
      "<li><span>11-03-2020</span>\n",
      "<a href=\"https://www.mohfw.gov.in/pdf/HFWnCoVGoM11March2020II.pdf\" target=\"_BLANK\">Decisions- High level Group of Ministers meeting to review current status and actions for prevention and management of COVID-19 </a>\n",
      "</li>\n",
      "<li><span>10-03-2020</span>\n",
      "<a href=\"https://www.mohfw.gov.in/pdf/InternationalCruiseShipsSOPforCovid19.pdf\" target=\"_BLANK\">Standard Operating Procedure (SOP) for COVID-19 Management- International Cruise Ships at major Indian Ports</a>\n",
      "</li>\n",
      "<li><span>09-03-2020</span>\n",
      "<a href=\"https://www.mohfw.gov.in/pdf/ICMRstrategyforCOVID19testinginIndia.pdf\" target=\"_BLANK\">ICMR strategy for COVID-19 testing in India</a>\n",
      "</li>\n",
      "<li><span>09-03-2020</span>\n",
      "<a href=\"https://www.mohfw.gov.in/pdf/COVIDCabSecLetterGuidelines.pdf\" target=\"_BLANK\">Cabinet Secretary DO letter dated 8th March, 2020 to all Government of India Ministries on COVID-19 management</a>\n",
      "</li>\n",
      "<li><span>06-03-2020</span>\n",
      "<a href=\"https://www.mohfw.gov.in/pdf/advisoryforbiometricattendance.pdf\" target=\"_BLANK\">Advisory for Exemption to mark biometric attendance in AEBAS</a>\n",
      "</li>\n",
      "<li><span>05-03-2020</span>\n",
      "<a href=\"https://www.mohfw.gov.in/pdf/advisoryformassgathering.pdf\" target=\"_BLANK\"> Advisory - Mass Gatherings</a>\n",
      "</li>\n",
      "<!--<li><span>03-03-2020</span>\n",
      "\t<a href=\"https://dhs.kerala.gov.in/public-health-2019-n-corona-virus/#\" target=\"_BLANK\">Kerala COVID 19 updates and advisory </a>\n",
      "\t</li>-->\n",
      "<li><span>03-03-2020</span>\n",
      "<a href=\"https://www.mohfw.gov.in/pdf/AdvisoryforHospitalsandMedicalInstitutions.pdf\" target=\"_BLANK\">Advisory for Hospitals and Medical Institutions </a>\n",
      "</li>\n",
      "<li><span>02.03.2020</span>Cluster Containment Plan for COVID-19 [Reissued on 16<sub>th</sub> May 2020]\t</li>\n",
      "<li><span>25-01-2020</span>\n",
      "<a href=\"https://www.mohfw.gov.in/pdf/Guidance%20document%20-%202019-nCoV.pdf\" target=\"_BLANK\">Guidance on Surveillance for human infection with 2019-nCoV</a>\n",
      "</li>\n",
      "<li><span>24-01-2020</span>\n",
      "<a href=\"https://www.mohfw.gov.in/pdf/5Sample%20collection_packaging%20%202019-nCoV.pdf\" target=\"_BLANK\">Guidance for sample Collection, Packaging and Transportation for Novel Coronavirus</a>\n",
      "</li>\n",
      "</ul>\n",
      "</div>\n",
      "</div>\n",
      "<!--states-->\n",
      "<!--employees-->\n",
      "<div class=\"panes\">\n",
      "<div class=\"tab-content\">\n",
      "<ul>\n",
      "<li><span>03.09.2020</span><a href=\"https://www.mohfw.gov.in/pdf/ReimbursementofOPDmedicinestoCSMAbeneficiariesSpecialSanctioninviewofCOVID19.pdf\" target=\"_BLANK\"> Reimbursement of OPD medicines to CS (MA) beneficiaries- Special Sanction in view of COVID-19 </a></li>\n",
      "<li><span>15.05.2021</span><a href=\"https://www.mohfw.gov.in/pdf/SpecialSanctionofmedicinesforCSMAbeneficiary150.pdf\" target=\"_BLANK\">Reimbursement of OPD medicines to CS (MA) beneficiaries: Special Sanction in view of COVID-19 </a>\n",
      "</li>\n",
      "<li><span>04.06.2020</span><a href=\"https://www.mohfw.gov.in/pdf/OPDmedicinesspecialsanctionCOVID.pdf\" target=\"_BLANK\">Reimbursement of OPD medicines to CS (MA) beneficiaries: Special Sanction in view of COVID - 19\n",
      "</a></li>\n",
      "<li><span>18.05.2020</span><a href=\"https://www.mohfw.gov.in/pdf/GuidelinesonpreventivemeasurestocontainspreadofCOVID19inworkplacesettings.pdf\" target=\"_BLANK\"> Guidelines on preventive measures to contain spread of COVID-19 in workplace settings </a></li>\n",
      "<li><span>05-05-2020</span>\n",
      "<a href=\"https://www.mohfw.gov.in/pdf/OPDMedicines.pdf\" target=\"_BLANK\">Reimbursement of OPD medicines to CS (MA) beneficiaries: Special Sanction in view of COVID - 19 \n",
      "\n",
      "</a>\n",
      "</li>\n",
      "<li><span>19-04-2020</span>\n",
      "<a href=\"https://www.mohfw.gov.in/pdf/preventiveorders.pdf\" target=\"_BLANK\">   Preventive Measures to be taken by officals of Ministry of Health and Family Welfare\n",
      "</a>\n",
      "</li>\n",
      "<li><span>19-04-2020</span>\n",
      "<a href=\"https://www.mohfw.gov.in/pdf/consolidatedrevisedguidelines.pdf\" target=\"_BLANK\">  Consolidated Revised Guidelines on the measures to be taken by Ministries/Department of Government of India, State/UT Governments for containment of Covid-19\n",
      "  </a></li>\n",
      "<li><span>03-04-2020</span>\n",
      "<a href=\"https://www.mohfw.gov.in/pdf/ExtensionofValidityofCGHSCardtill30AprilinviewofCOVID19.pdf\" target=\"_BLANK\">Extension of Validity of CGHS Card in view of the Corona virus (COVID_19) infection  </a></li>\n",
      "<li><span>01-04-2020</span>\n",
      "<a href=\"https://www.mohfw.gov.in/pdf/20200401CSMAOM.pdf\" target=\"_BLANK\">Reimbursement of OPD medicines to CS(MA) beneficiaries: Special sanction in view of COVID-19  </a></li>\n",
      "<li><span>31-03-2020</span>\n",
      "<a href=\"https://www.mohfw.gov.in/pdf/Advisoryforquarantineofmigrantworkers.pdf\" target=\"_BLANK\"> Advisory for quarantine of migrant workers   </a></li>\n",
      "<li><span>29-03-2020</span> <a href=\"https://www.mohfw.gov.in/pdf/Guidelinesondisinfectionofcommonpublicplacesincludingoffices.pdf\" target=\"_BLANK\">Guidelines on disinfection of common public places including offices</a></li>\n",
      "<li><span>19-03-2020</span> <a href=\"https://www.mohfw.gov.in/pdf/InstructionsforTrainingInstitutes.pdf\" target=\"_BLANK\">DOPT OM - Preventive measures to contain the spread of COVID-19 in Training Institutes</a></li>\n",
      "<li><span>18-03-2020</span> <a href=\"https://www.mohfw.gov.in/pdf/DOSecyHE.pdf\" target=\"_BLANK\">Directives from MoHRD for all Educational Institutions and Examination Boards regarding precautions to be taken in light of COVID-19</a></li>\n",
      "<li><span>18.03.2020</span> <a href=\"https://www.mohfw.gov.in/pdf/PreventivemeasuresDOPT.pdf\" target=\"_BLANK\">DoPT OM - Preventive measures to be taken to contain the spread of Novel Coronavirus (COVID-19)</a></li>\n",
      "<li><span>18.03.2020</span> <a href=\"https://www.mohfw.gov.in/pdf/Letterdated2032020toCSs.pdf\" target=\"_BLANK\">DO Letter from Secretary, DoHFW to State Chief Secretaries regarding Social Distancing Measures</a></li>\n",
      "<li><span>06.03.2020</span> <a href=\"https://www.mohfw.gov.in/pdf/advisoryforbiometricattendance.pdf\" target=\"_BLANK\">Advisory for Exemption to mark biometric attendance in AEBAS</a></li>\n",
      "</ul>\n",
      "</div>\n",
      "</div>\n",
      "<!--employees-->\n",
      "<!--awareness-->\n",
      "<div class=\"panes\">\n",
      "<div class=\"tab-content\">\n",
      "<ul>\n",
      "<li><span>07.10.2021</span>Video on use of Pulse Oximeter\n",
      "<br/>\n",
      "<a href=\"https://nhsrcindia.org/sites/default/files/PULSE%20OXYMETER_ENGLISH_FINAL200921.mp4\" target=\"_BLANK\">English</a>\n",
      "<a href=\"https://nhsrcindia.org/sites/default/files/PULSE%20OXYMETER_HINDI_FINAL200921.mp4\" target=\"_BLANK\">Hindi</a>\n",
      "</li>\n",
      "<li><span>07.10.2021</span>Video on Proning Position\n",
      "<a href=\"https://nhsrc365-my.sharepoint.com/:v:/g/personal/mukesh_kumar_nhsrcindia_org/Ecbqis1WTQBCnIS4Xx9uUEYBom4VKMfUTKGveWGBvKNCBg?e=VHLS9T\" target=\"_BLANK\">Hindi</a>\n",
      "</li>\n",
      "<li><span>14.09.2020</span><a href=\"https://www.mohfw.gov.in/vaccinationbooklet/\" target=\"_BLANK\"> The World's Largest Vaccination Drive </a></li>\n",
      "<li><span>01.09.2021</span> <a href=\"https://www.mohfw.gov.in/pdf/FAQsCOVID19vaccinesvaccinationprogramWebsiteupload.pdf\" target=\"_BLANK\"> FAQs on COVID-19 Vaccines &amp; Vaccination Program</a></li>\n",
      "<li><span>14.07.2021</span>COVID-19 Vaccination of Pregnant Women\n",
      "<br/>\n",
      "<a href=\"https://www.mohfw.gov.in/pdf/PostersonvaccinationofpregnantwomenEnglish.pdf\" target=\"_BLANK\">English\n",
      "</a>\n",
      "<a href=\"https://www.mohfw.gov.in/pdf/PostersonvaccinationofpregnantwomenHindi.pdf\" target=\"_BLANK\">Hindi\n",
      "</a>\n",
      "</li>\n",
      "<li><span>14.07.2021</span>Counseling booklet for Frontline workers and Vaccinators\n",
      "<br/>\n",
      "<a href=\"https://www.mohfw.gov.in/pdf/CounsellingbookletforFLWsEnglish.pdf\" target=\"_BLANK\">English\n",
      "</a>\n",
      "<a href=\"https://www.mohfw.gov.in/pdf/CounsellingbookletforFLWsHindi.pdf\" target=\"_BLANK\">Hindi\n",
      "</a>\n",
      "</li>\n",
      "<li><span>22.06.2021</span>Toolkit for Youth Campaign on COVID Appropriate Behaviour, Vaccination drive and Psychosocial well-being \n",
      "<br/>\n",
      "<a href=\"https://www.mohfw.gov.in/pdf/YouthGuidebookonCAB&amp;VaccinationEnglish.pdf\" target=\"_BLANK\">English\n",
      "</a>\n",
      "<a href=\"https://www.mohfw.gov.in/pdf/YouthGuidebookCAB&amp;VaccinationDriveHindiV6.pdf\" target=\"_BLANK\">Hindi\n",
      "</a>\n",
      "</li>\n",
      "<li><span>12.04.2021</span> <a href=\"https://www.mohfw.gov.in/pdf/CoronaHordingfinal.PDF\" target=\"_BLANK\">Jan Andolan\n",
      "</a>\n",
      "</li>\n",
      "<li><span>02.03.2021</span> FAQs on COVID 19 vaccine for Healthcare providers and Frontline workers (2)\n",
      "</li>\n",
      "<li><span>10.02.2021</span> COVID 19 Vaccination - A Guide for Eligible Beneficiaries\n",
      "\n",
      "</li>\n",
      "<li><span>10.02.2021</span> COVID 19 Vaccination - A Guide for Healthcare and Front-line Workers \n",
      "\n",
      "</li>\n",
      "<li><span>04.01.2021</span>Audio visual on Dr Guleria, Director, AIIMS sharing FAQs on COVID 19 vaccine rollout <a href=\"https://youtu.be/krneH_d9nd8\" target=\"_BLANK\"> Episode 1/3\n",
      "</a><a href=\"https://youtu.be/jL3Fh8yJQKo\" target=\"_BLANK\"> Episode 2/3  </a> <a href=\"https://youtu.be/Sc_Pjo7pnto\" target=\"_BLANK\"> Episode 3/3 </a>\n",
      "</li>\n",
      "<li><span>17.12.2020</span>FAQs on COVID 19 Vaccine for Healthcare providers and Frontline workers  \n",
      "\n",
      "</li>\n",
      "<li><span>17.12.2020</span>FAQs on COVID 19 Vaccine for General Public\n",
      "</li>\n",
      "<!--<li><span>17.12.2020</span><a  href=\"https://www.mohfw.gov.in/pdf/FAQsonCOVID19VaccineDecember2020.pdf\" target=\"_BLANK\">  FAQs on COVID 19 Vaccine </a>\n",
      "</li>-->\n",
      "<li><span>12.10.2020</span><a href=\"https://www.mohfw.gov.in/pdf/EncouragingYouthtoadvocateagainstS&amp;DduringCOVID19EnglishToolkit_final.pdf\" target=\"_BLANK\"> Encouraging youth to advocate against stigma and discrimination during COVID-19 - English\n",
      "</a>\n",
      "</li>\n",
      "<li><span>12.10.2020</span><a href=\"https://www.mohfw.gov.in/pdf/EncouragingYouthtoadvocateagainstS&amp;DduringCOVID19HindiToolkit_final.pdf\" target=\"_BLANK\"> Encouraging youth to advocate against stigma and discrimination during COVID-19 - Hindi\n",
      "</a>\n",
      "</li>\n",
      "<li><span>15.07.2020</span><a href=\"https://www.youtube.com/watch?v=3cJjlwakFt4\" target=\"_BLANK\"> Patients, their families and health care providers stand together to counter stigma and discrimination associated with COVID19  </a>\n",
      "</li>\n",
      "<li><span>15.07.2020</span><a href=\"https://www.youtube.com/watch?v=3dpTbtUSIcI\" target=\"_BLANK\">A/V on 15 COVID Appropriate Behaviours English</a>\n",
      "</li>\n",
      "<li><span>15.07.2020</span><a href=\"https://www.youtube.com/watch?v=CsfeOigWzM4\" target=\"_BLANK\">A/V on 15 COVID Appropriate Behaviours Hindi </a>\n",
      "</li>\n",
      "<li><span>03.07.2020</span><a href=\"https://www.youtube.com/watch?v=Lnpb2ErJBNY\" target=\"_BLANK\">Hindi Video on supporting COVID recovered patients</a>\n",
      "</li>\n",
      "<li><span>03.07.2020</span><a href=\"https://www.youtube.com/watch?v=-IwF5M8ouCE\" target=\"_BLANK\">Hindi Video on COVID Appropriate Behaviours during COVID-19</a>\n",
      "</li>\n",
      "<li><span>03.07.2020</span><a href=\"https://www.youtube.com/watch?v=i3Agjjke3VM\" target=\"_BLANK\">Hindi Video on extending support towards persons returning home during COVID-19</a>\n",
      "</li>\n",
      "<li><span>03.07.2020</span><a href=\"https://www.youtube.com/watch?v=uZ2i3gTTeao\" target=\"_BLANK\">Hindi Video on showing respect to healthcare workers</a>\n",
      "</li>\n",
      "<li><span>03.07.2020</span><a href=\"https://www.youtube.com/watch?v=547fS6toqls\" target=\"_BLANK\">Hindi Video on showing respect to sanitation workers</a>\n",
      "</li>\n",
      "<li><span>03.07.2020</span><a href=\"https://www.youtube.com/watch?v=8fc6YbRDJUk\" target=\"_BLANK\">Video on health care workers’ helping us fight the battle against COVID-19</a>\n",
      "</li>\n",
      "<li><span>03.07.2020</span><a href=\"https://www.youtube.com/watch?v=8NoKhfkiHTw\" target=\"_BLANK\">Heartfelt thanks to Corona Warriors</a>\n",
      "</li>\n",
      "<li><span>03.07.2020</span><a href=\"https://www.youtube.com/watch?v=rGDLr9ExbnU\" target=\"_BLANK\">Video on showing support for persons in quarantine / isolation</a>\n",
      "</li>\n",
      "<li><span>02.07.2020</span><a href=\"https://www.youtube.com/watch?v=OFZAk0EScPA\" target=\"_BLANK\">A/V on thanking Corona Warriors\n",
      "</a>\n",
      "</li>\n",
      "<li><span>02.07.2020</span><a href=\"https://www.youtube.com/watch?v=ZndoALSgT4Q\" target=\"_BLANK\">Video on Home Isolation for very mild/ pre-symptomatic COVID-19 patients\n",
      "</a>\n",
      "</li>\n",
      "<li><span>22.06.2020</span> <p>A/V on COVID Appropriate Behaviours  \n",
      "\t\t\t<a href=\"https://www.youtube.com/watch?v=GIozNNgMfkI\" target=\"_BLANK\"> (1/5),</a>\n",
      "<a href=\"https://www.youtube.com/watch?v=f1M1cadOhJE\" target=\"_BLANK\"> (2/5),</a>\n",
      "<a href=\"https://www.youtube.com/watch?v=xvq0KhxbPtQ\" target=\"_BLANK\"> (3/5),</a>\n",
      "<a href=\"https://www.youtube.com/watch?v=3nowMYAYHN0\" target=\"_BLANK\">(4/5) &amp; </a>\n",
      "<a href=\"https://www.youtube.com/watch?v=Hr_Q7qo4aPg\" target=\"_BLANK\"> (5/5)</a></p>\n",
      "</li>\n",
      "<li><span>18.06.2020</span>An Illustrative Guide on COVID Appropriate Behaviours <a href=\"https://www.mohfw.gov.in/pdf/Illustrativeguidelineupdate.pdf\" target=\"_BLANK\"> English, </a><a href=\"https://www.mohfw.gov.in/pdf/HindiIllustrativeGuideCAB.pdf\" target=\"_BLANK\">Hindi</a>\n",
      "</li>\n",
      "<li><span>18.06.2020</span><a href=\"https://www.youtube.com/watch?v=nG2wUimnSSk\" target=\"_BLANK\">A/V on \"Quit using spit as it can increase the risk of spread of COVID-19\" (English) </a>\n",
      "</li>\n",
      "<li><span>18.06.2020</span><a href=\"https://www.youtube.com/watch?v=5ZS6Hp6TK60\" target=\"_BLANK\">A/V on \"Quit using spit as it can increase the risk of spread of COVID-19\" (Hindi) </a>\n",
      "</li>\n",
      "<li><span>16.06.2020</span><a href=\"https://www.mohfw.gov.in/pdf/GuidetoaddressstigmaassociatedwithCOVID19.pdf\" target=\"_BLANK\">Guide to address stigma associated with COVID-19  English\n",
      "</a>\n",
      "</li>\n",
      "<li><span>16.06.2020</span><a href=\"https://www.mohfw.gov.in/pdf/COVIDStigmahindiFINAL.pdf\" target=\"_BLANK\">Guide to address stigma associated with COVID-19 Hindi\n",
      "</a>\n",
      "</li>\n",
      "<li><span>12.06.2020</span><a href=\"https://www.mohfw.gov.in/pdf/HotelsGuidelines11thJune.pdf\" target=\"_BLANK\">Guidelines for Hotels on preventive measures to contain spread of COVID-19 </a></li>\n",
      "<li><span>12.06.2020</span><a href=\"https://www.mohfw.gov.in/pdf/OfficesGuidelines11thJune.pdf\" target=\"_BLANK\">Guidelines for Offices on preventive measures to contain spread of COVID-19\n",
      " </a></li>\n",
      "<li><span>12.06.2020</span><a href=\"https://www.mohfw.gov.in/pdf/ReligiousPlacesGuidelines11thJune.pdf\" target=\"_BLANK\">Guidelines for Religious Places on preventive measures to contain spread of COVID-19\n",
      "</a></li>\n",
      "<li><span>12.06.2020</span><a href=\"https://www.mohfw.gov.in/pdf/RestaurantsGuidelines11thJune.pdf\" target=\"_BLANK\">Guidelines for Restaurants on preventive measures to contain spread of COVID-19\n",
      " </a></li>\n",
      "<li><span>12.06.2020</span><a href=\"https://www.mohfw.gov.in/pdf/ShoppingMallsGuidelines11thJune.pdf\" target=\"_BLANK\">Guidelines for Shopping Malls on preventive measures to contain spread of COVID-19\n",
      "</a></li>\n",
      "<li><span>08.06.2020</span><a href=\"https://www.youtube.com/watch?v=s4mzM1dNFzo\" target=\"_BLANK\">A/V on the need to address Stigma and Discrimination associated with COVID-19\n",
      "</a>\n",
      "</li>\n",
      "<li><span>08.06.2020</span><a href=\"https://www.youtube.com/watch?v=yXncHLQA2_k\" target=\"_BLANK\">A/V on COVID Appropriate Behaviours (English)\n",
      "</a>\n",
      "</li>\n",
      "<li><span>08.06.2020</span><a href=\"https://www.youtube.com/watch?v=mRqIoAq4hu4\" target=\"_BLANK\">A/V on COVID Appropriate Behaviours (Hindi)\n",
      "</a> </li>\n",
      "<li><span>28.05.2020</span><a href=\"https://youtu.be/SDRVr7tG2p0\" target=\"_BLANK\">RAP video to advocate no spitting</a></li>\n",
      "<li><span>27.05.2020</span><a href=\"https://www.youtube.com/watch?v=YSWvuKz1cy8\" target=\"_BLANK\">Video on Caring and Sharing, the new normal</a></li>\n",
      "<li><span>16.05.2020</span><a href=\"https://youtu.be/Ku-8B_sGKRA\" target=\"_BLANK \">NO Spitting in public places  (Video) </a></li>\n",
      "<li><span>15.05.2020</span><a href=\"https://youtu.be/JMeaFYCGxVw\" target=\"_BLANK \"> Guidelines for Home Isolation of very mild / pre-symptomatic COVID-19 cases (Video) </a></li>\n",
      "<li><span>05.05.2020</span>Thematic Bank of  COVID19 Creatives </li>\n",
      "<ul>\n",
      "<li><a href=\"https://www.mohfw.gov.in/pdf/CoronaVirus.pptx\" target=\"_BLANK\">1.   What is Corona Virus and how does it transmits  </a></li>\n",
      "<li><a href=\"https://www.mohfw.gov.in/pdf/Handwash.pptx\" target=\"_BLANK\">2.   Handwashing  </a></li>\n",
      "<li><a href=\"https://www.mohfw.gov.in/pdf/PreventiveMeasures.pptx\" target=\"_BLANK\">3.   COVID Appropriate Behaviours Pack 1.0 </a></li>\n",
      "<li><a href=\"https://www.mohfw.gov.in/pdf/MoHFWCAB20.pptx\" target=\"_BLANK\">4.   COVID Appropriate Behaviours Pack 2.0 </a></li>\n",
      "<li><a href=\"https://www.mohfw.gov.in/pdf/HomeQuarantine.pptx\" target=\"_BLANK\">5.    Home Quarantine  </a></li>\n",
      "<li><a href=\"https://www.mohfw.gov.in/pdf/MythBusters.pptx\" target=\"_BLANK\">6.    Myth Busters  </a></li>\n",
      "<li><a href=\"https://www.mohfw.gov.in/pdf/1075.pptx\" target=\"_BLANK\">7.    All India National Helpline 1075  </a></li>\n",
      "<li><a href=\"https://www.mohfw.gov.in/pdf/NoSpitting.pptx\" target=\"_BLANK\">8.    No Spitting  </a></li>\n",
      "<li><a href=\"https://www.mohfw.gov.in/pdf/Stigma&amp;Discrimination.pptx\" target=\"_BLANK\">9.    Stigma and Discrimination  </a></li>\n",
      "<li><a href=\"https://www.mohfw.gov.in/pdf/ThankYouCOVIDWarriors.pptx\" target=\"_BLANK\">10.    Thank you COVID Warriors  </a></li>\n",
      "</ul>\n",
      "<li><span>29.04.2020</span><a href=\"https://youtu.be/ykZJ-jcE-Do\" target=\"_BLANK\">Awareness Material for front line workers of COVID-19 - Hindi </a></li>\n",
      "<li><span>29.04.2020</span><a href=\"https://youtu.be/bNtMcllkWFw\" target=\"_BLANK\">Awareness Material for front line workers of COVID-19 - Punjabi </a></li>\n",
      "<li><span>29.04.2020</span><a href=\"https://youtu.be/l8A31uLN3Ok\" target=\"_BLANK\">Awareness Material for front line workers of COVID-19 - Bengali </a></li>\n",
      "<li><span>29.04.2020</span><a href=\"https://youtu.be/9kL5yPT_uDc\" target=\"_BLANK\">Awareness Material for front line workers of COVID-19 - Marathi </a></li>\n",
      "<li><span>29.04.2020</span><a href=\"https://youtu.be/xxv7uFdJ9Qc\" target=\"_BLANK\">Awareness Material for front line workers of COVID-19 - Telgu (Telangana) </a></li>\n",
      "<li><span>29.04.2020</span><a href=\"https://youtu.be/f92uPHQjRk0\" target=\"_BLANK\">Awareness Material for front line workers of COVID-19 - Telgu (Andra Pradesh) </a></li>\n",
      "<li><span>29.04.2020</span><a href=\"https://youtu.be/rS48uuPG0PA\" target=\"_BLANK\">Awareness Material for front line workers of COVID-19 - Malayalam </a></li>\n",
      "<li><span>29.04.2020</span><a href=\"https://youtu.be/rFIyEv38mkY\" target=\"_BLANK\">Awareness Material for front line workers of COVID-19 - Kannada </a></li>\n",
      "<li><span>29.04.2020</span><a href=\"https://youtu.be/LCG6eJ0j-Cg\" target=\"_BLANK\">Awareness Material for front line workers of COVID-19 - Tripura </a></li>\n",
      "<li><span>29.04.2020</span><a href=\"https://youtu.be/XR2eBoDMrOA\" target=\"_BLANK\">Awareness Material for front line workers of COVID-19 - Tamil </a></li>\n",
      "<li><span>29.04.2020</span><a href=\"https://youtu.be/xM0pmZOiUyI\" target=\"_BLANK\">Awareness Material for front line workers of COVID-19 - Gujrati </a></li>\n",
      "<li><span>29.04.2020</span><a href=\"https://youtu.be/IXlIx2b4nmQ\" target=\"_BLANK\">Awareness Material for front line workers of COVID-19 - Odia </a></li>\n",
      "<!--<li><span>02.04.2020</span><a  href=\"https://youtu.be/UIQlZBO2ilA\" target=\"_BLANK\">Video on Covid-19  awareness for community level workers </a></li>-->\n",
      "<li><span>20.04.2020</span><a href=\"https://youtu.be/yJZ06JsREW4\" target=\"_BLANK\">  Audio Visual on Addressing Stigma Related to COVID-19\n",
      "</a>\n",
      "</li>\n",
      "<li><span>18.04.2020</span><a href=\"https://www.mohfw.gov.in/pdf/HCQPosterFinal.pdf\" target=\"_BLANK\"> Information for general public on use of necessary medicines for COVID19 (Poster)\n",
      "</a>\n",
      "</li>\n",
      "<li><span>18.04.2020</span><a href=\"https://youtu.be/cQBo6Bbk0_A\" target=\"_BLANK\"> Information for general public on use of necessary medicines for COVID19 - Audio Visual\n",
      "</a>\n",
      "</li>\n",
      "<li><span>11.04.2020</span><a href=\"https://youtu.be/pC6lKNdZZ8o\" target=\"_BLANK\">Video on use of reusable face cover (English) - Part 1\n",
      "</a></li>\n",
      "<li><span>11.04.2020</span><a href=\"https://youtu.be/IJoXu0k4fIU\" target=\"_BLANK\">Video on use of reusable face cover (English) - Part 2\n",
      "</a></li>\n",
      "<li><span>08.04.2020</span><a href=\"https://youtu.be/xMWe4UnykWc\" target=\"_BLANK\">Video on Salutations to Coronavirus Warriors - I\n",
      "</a></li>\n",
      "<li><span>08.04.2020</span><a href=\"https://youtu.be/Llw7zjc1_r8\" target=\"_BLANK\">Video on Salutations to Coronavirus Warriors - II </a></li>\n",
      "<li><span>08.04.2020</span><a href=\"https://youtu.be/Q-Iy7ccCpS4\" target=\"_BLANK\">Know how to use your own Homemade Reusable Face Cover\n",
      "</a></li>\n",
      "<li><span>07.04.2020</span><a href=\"https://youtu.be/Q-Iy7ccCpS4\" target=\"_BLANK\">Know how to use your own Homemade Reusable Face Cover\n",
      "</a></li>\n",
      "<li><span>04.04.2020</span><a href=\" https://youtu.be/maBw7HmrU8c\" target=\"_BLANK\">Video on Lockdown - Staying Active at Home </a></li>\n",
      "<li> <span>02.04.2020</span>\tAarogyaSetu App for staying informed and alert  against COVID19. Government initiative to develop a digital Bridge to fight against COVID_19. Download Today!\n",
      "<a href=\"https://bit.ly/AarogyaSetu_PS\" target=\"_BLANK\">Play Store APP </a>\n",
      "<a href=\"https://apple.co/2X1KMzO\" target=\"_BLANK\">IOS APP</a>\n",
      "</li>\n",
      "<li><span>31.03.2020</span><a href=\"https://www.mohfw.gov.in/pdf/MoHFWCOVIDNODALOFFICER.pdf\" target=\"_BLANK\"> Handling Public Grievances pertaining to COVID-19 in M/o Health &amp; Family Welfare</a></li>\n",
      "<li><span>29.03.2020</span><a href=\" https://www.youtube.com/watch?v=htl6ZUQ-b3Y&amp;list=PL1a9DHjZmejE-Ep2PAu2OR8HBfLP0BLIk&amp;index=1\" target=\"_BLANK\">Video from experts from AIIMS, New Delhi sharing basic steps on hand washing to fight against COVID-19 – English </a></li>\n",
      "<li><span>29.03.2020</span><a href=\" https://www.youtube.com/watch?v=8Dt1BTGXn5I&amp;list=PL1a9DHjZmejE-Ep2PAu2OR8HBfLP0BLIk&amp;index=2\" target=\"_BLANK\">Video from experts from AIIMS, New Delhi sharing basic steps on hand washing to fight against COVID-19 - Hindi </a></li>\n",
      "<li><span>29.03.2020</span><a href=\" https://www.youtube.com/watch?v=yZd8bPTfYOg&amp;list=PL1a9DHjZmejE-Ep2PAu2OR8HBfLP0BLIk&amp;index=3\" target=\"_BLANK\">Video from experts from AIIMS Advising Stay Home Stay Safe – English </a></li>\n",
      "<li><span>29.03.2020</span><a href=\" https://www.youtube.com/watch?v=IfeWAxE4OZE&amp;list=PL1a9DHjZmejE-Ep2PAu2OR8HBfLP0BLIk&amp;index=4\" target=\"_BLANK\">Video from experts from AIIMS Advising “Stay Home Stay Safe” – Hindi </a></li>\n",
      "<li><span>29.03.2020</span><a href=\"https://www.mohfw.gov.in/pdf/socialdistancingEnglish.pdf\" target=\"_BLANK\">Poster on Social distancing in a market place during COVID-19 English </a></li>\n",
      "<li><span>29.03.2020</span><a href=\"https://www.mohfw.gov.in/pdf/socialdistancingHindi.pdf\" target=\"_BLANK\">Poster on Social distancing in a market place during COVID-19 Hindi </a></li>\n",
      "<li><span>28.03.2020</span>COVID-19 Health Service Providers Toolkit: General Health Facilities</li>\n",
      "<ul>\n",
      "<li><a href=\"https://www.mohfw.gov.in/pdf/HFMLettergeneralawarness.pdf\" target=\"_BLANK\">1.   A letter from HFM to the Health Administrators  </a></li>\n",
      "<li><a href=\"https://www.mohfw.gov.in/pdf/LeafletGHFandDHGA.pdf\" target=\"_BLANK\">2.  Community leaflet  </a></li>\n",
      "<li><a href=\"https://www.mohfw.gov.in/pdf/Poster1GHFanDHGA.pdf\" target=\"_BLANK\">3.  What is Novel Coronavirus?</a></li>\n",
      "<li><a href=\"https://www.mohfw.gov.in/pdf/Poster2GHFGA.pdf\" target=\"_BLANK\">4. Is your Healthcare facility ready to manage patients with COVID-19?  </a></li>\n",
      "<li> <a href=\"https://www.mohfw.gov.in/pdf/Poster3GHFGA.pdf\" target=\"_BLANK\">5. How to use the handrub? </a></li>\n",
      "<li> <a href=\"https://www.mohfw.gov.in/pdf/Poster4GHFGA.pdf\" target=\"_BLANK\">6. When and How to wear mask? </a></li>\n",
      "<li> <a href=\"https://www.mohfw.gov.in/pdf/GuidelinebookGA1mb.pdf\" target=\"_BLANK\">7. Guidelines on the use of materials </a></li>\n",
      "</ul>\n",
      "<li><span>28.03.2020</span>COVID-19 Health Service Providers Toolkit: Designated Hospitals</li>\n",
      "<ul>\n",
      "<li><a href=\"https://www.mohfw.gov.in/pdf/HFMLetter.pdf\" target=\"_BLANK\">1.   A letter from HFM to the Health Administrators  </a></li>\n",
      "<li><a href=\"https://www.mohfw.gov.in/pdf/LeafletGHFandDH.pdf\" target=\"_BLANK\">2.  Community leaflet  </a></li>\n",
      "<li><a href=\"https://www.mohfw.gov.in/pdf/Poster1GHFandDH.pdf\" target=\"_BLANK\">3.  What is Novel Coronavirus?</a></li>\n",
      "<li><a href=\"https://www.mohfw.gov.in/pdf/Poster2.pdf\" target=\"_BLANK\">4. Is your Healthcare facility ready to manage patients with COVID-19?  </a></li>\n",
      "<li> <a href=\"https://www.mohfw.gov.in/pdf/Poster3.pdf\" target=\"_BLANK\">5. How to protect all health workers at designated hospital? </a></li>\n",
      "<li> <a href=\"https://www.mohfw.gov.in/pdf/Poster4.pdf\" target=\"_BLANK\">6. What are my moments of hand hygiene? </a></li>\n",
      "<li> <a href=\"https://www.mohfw.gov.in/pdf/Poster5DH.pdf\" target=\"_BLANK\">7. How to manage Suspected or confirmed COVID-19 patients at designated hospital? </a></li>\n",
      "<li> <a href=\"https://www.mohfw.gov.in/pdf/Guidelinebook1mb.pdf\" target=\"_BLANK\">8. Guidelines on the use of materials </a></li>\n",
      "</ul>\n",
      "<li><span>28.03.2020</span>COVID-19 Frontline Worker Toolkit in Englsih</li>\n",
      "<ul>\n",
      "<li><a href=\"https://www.mohfw.gov.in/pdf/FacilitatorGuideCOVID19_27 March.pdf\" target=\"_BLANK\">1.  Facilitator Guide  </a></li>\n",
      "<li><a href=\"https://www.mohfw.gov.in/pdf/2COVID19PPT_25MarchPPTWithAnimation.pdf\" target=\"_BLANK\">2.  PPT with seven sessions including for Urban  </a></li>\n",
      "<li><a href=\"https://www.mohfw.gov.in/pdf/3Pocketbookof5_Covid19_27March.pdf\" target=\"_BLANK\">3.  A digital pocket book for front line workers</a></li>\n",
      "<li><a href=\"https://www.mohfw.gov.in/pdf/4FLWToolkitHowtousethetoolkit.pdf\" target=\"_BLANK\">4. Training Protocols and guidelines  </a></li>\n",
      "<li> <a href=\"https://www.mohfw.gov.in/pdf/5COVIDFLWTrainingPlan27March.pdf\" target=\"_BLANK\">5. Training Plan template </a></li>\n",
      "</ul>\n",
      "<li><span>28.03.2020</span><a href=\"https://www.mohfw.gov.in/pdf/FINAL_14_03_2020_ENg.pdf\" target=\"_BLANK\">When to get tested for COVID-19 English </a></li>\n",
      "<li><span>28.03.2020</span><a href=\"https://www.mohfw.gov.in/pdf/FINAL_14_03_2020_Hindi.pdf\" target=\"_BLANK\">When to get tested for COVID-19 Hindi </a></li>\n",
      "<li><span>25.03.2020</span><a href=\"https://www.mohfw.gov.in/pdf/PreventionandManagementofCOVID19FLWEnglish.pdf\" target=\"_BLANK\">Role of Frontline Workers in Prevention and Management of CORONA VIRUS- English </a></li>\n",
      "<li><span>25.03.2020</span><a href=\"https://www.mohfw.gov.in/pdf/PreventionandManagementofCOVID19FLWHindi.pdf\" target=\"_BLANK\"> Role of Frontline Workers in Prevention and Management of CORONA VIRUS - Hindi </a></li>\n",
      "<li><span>23.03.2020</span><a href=\"https://www.mohfw.gov.in/pdf/ProtectivemeasuresEng.pdf\" target=\"_BLANK\">Posters for Safety measures against COVID-19 - English </a></li>\n",
      "<li><span>23.03.2020</span><a href=\"https://www.mohfw.gov.in/pdf/ProtectivemeasuresHin.pdf\" target=\"_BLANK\"> Posters for Safety measures against COVID-19 - Hindi </a></li>\n",
      "<li><span>22.03.2020</span> <a href=\"https://www.mohfw.gov.in/pdf/CoronaComic2PGIPU22Mar20.pdf\" target=\"_BLANK\">KIDS, VAAYU &amp; CORONA : Comic book for children to provide correct information about COVID-19 - Part 2</a></li>\n",
      "<li><span>19.03.2020</span> <a href=\"https://www.mohfw.gov.in/pdf/PostrerEnglishtraveller.pdf\" target=\"_BLANK\">Posters for Indians traveling from abroad - English  </a></li>\n",
      "<li><span>19.03.2020</span><a href=\"https://www.mohfw.gov.in/pdf/PosterTravellerHindi.pdf\" target=\"_BLANK\">Posters for Indians traveling from abroad - Hindi </a></li>\n",
      "<!--<li><span>17.03.2020</span><a href=\"https://www.mohfw.gov.in/pdf/Mask-Eng.pdf\" target=\"_BLANK\">When to wear mask?: English </a></li>\n",
      "\t<li><span>17.03.2020</span><a href=\"https://www.mohfw.gov.in/pdf/Mask-Hindi.pdf\" target=\"_BLANK\">When to wear mask?: Hindi </a></li>-->\n",
      "<li> <span>09.03.2020</span><a href=\"https://www.mohfw.gov.in/pdf/Corona_comic_PGI.pdf\" target=\"_BLANK\">KIDS, VAAYU &amp; CORONA : Comic book for children to provide correct information about COVID-19</a></li>\n",
      "<li><span>06.03.2020</span><a href=\"https://www.mohfw.gov.in/pdf/Poster_Corona_ad_Eng.pdf\" target=\"_BLANK\">Do's and Don't Poster in English </a></li>\n",
      "<li><span>06.03.2020</span><a href=\"https://www.mohfw.gov.in/pdf/Poster_Corona_ad_Hin.pdf\" target=\"_BLANK\">Do's and Don't Poster in Hindi </a></li>\n",
      "<li><span>06.03.2020</span><a href=\"https://www.youtube.com/playlist?list=PL1a9DHjZmejE-Ep2PAu2OR8HBfLP0BLIk\" target=\"_BLANK\">Watch all COVID-19 management videos here </a></li>\n",
      "<li><span>06.03.2020</span><a href=\"https://drive.google.com/drive/folders/1wvEmLyv3w3gUMpJP5VhgZgXruuusRpJS\" target=\"_BLANK\">TV and Radio Spots (English &amp; Hindi) for COVID-19</a></li>\n",
      "</ul>\n",
      "</div>\n",
      "</div>\n",
      "<!--awareness end-->\n",
      "<div class=\"panes\">\n",
      "<div class=\"tab-content\">\n",
      "<ul>\n",
      "<li><span>12.05.2020</span><a href=\"https://www.mohfw.gov.in/pdf/PosterInternationalNurseDay2020.pdf\" target=\"_BLANK\">Poster for Felicitating our Nurses and Midwives on International Nurses day 2020 </a></li>\n",
      "<li><span>12.05.2020</span><a href=\"https://youtu.be/HmPneP8XeLs\" target=\"_BLANK\">Felicitating our Nurses and Midwives on International Nurses day 2020 (Video) </a></li>\n",
      "<li><span>22.04.2020</span><a href=\"https://youtu.be/7Oei4aI_1j8\" target=\"_BLANK\">Musical tribute to Healthcare Service Personnel</a></li>\n",
      "<li><span>22.04.2020</span><a href=\"https://youtu.be/yJZ06JsREW4\" target=\"_BLANK\">Doctors of AIIMS, New Delhi addressing the Stigma around COVID-19</a></li>\n",
      "<li><span>21.04.2020</span><a href=\"https://twitter.com/MoHFW_INDIA/status/1252514576480063489/photo/1\" target=\"_BLANK\">Thank you healthcare workers (Hindi)  </a></li>\n",
      "<li><span>20.04.2020</span><a href=\"https://twitter.com/MoHFW_INDIA/status/1252075744454467586\" target=\"_BLANK\">Support to healthcare workers  </a></li>\n",
      "<li><span>19.04.2020</span><a href=\"https://twitter.com/MoHFW_INDIA/status/1251729616932188160\" target=\"_BLANK\">Not to discriminate against service providers   </a></li>\n",
      "<li><span>19.04.2020</span><a href=\"https://twitter.com/MoHFW_INDIA/status/1251764434302795776\" target=\"_BLANK\">Stigmatization against Covid Warriors (Hindi)   </a></li>\n",
      "<li><span>18.04.2020</span><a href=\"https://twitter.com/MoHFW_INDIA/status/1251352572851441665\" target=\"_BLANK\">Gratitude towards health care providers   </a></li>\n",
      "<li><span>17.04.2020</span><a href=\"https://twitter.com/MoHFW_INDIA/status/1251065002770837505/photo/1\" target=\"_BLANK\">Gratitude towards health care providers - Hindi  </a></li>\n",
      "<li><span>17.04.2020</span><a href=\"https://twitter.com/MoHFW_INDIA/status/1251014601023426560/photo/1\" target=\"_BLANK\">Break the stigma  </a></li>\n",
      "<li><span>16.04.2020</span><a href=\"https://business.facebook.com/MoHFWIndia/photos/a.359124487580298/1488472204645515/?type=3&amp;theater\" target=\"_BLANK\">Break the stigma – Hindi  </a></li>\n",
      "<li><span>16.04.2020</span><a href=\"https://twitter.com/MoHFW_INDIA/status/1250670872450551810/photo/1\" target=\"_BLANK\">Break the Stigma (Do’s and Don’ts)  </a></li>\n",
      "<li><span>16.04.2020</span><a href=\"https://twitter.com/MoHFW_INDIA/status/1250677663770898432/photo/1\" target=\"_BLANK\">Break the Stigma (Do’s and Don’ts) Hindi </a></li>\n",
      "<li><span>15.04.2020</span><a href=\"https://business.facebook.com/MoHFWIndia/photos/a.359124487580298/1486774838148585/?type=3&amp;theater\" target=\"_BLANK\">Thank you healthcare workers </a></li>\n",
      "<li><span>10.04.2020</span><a href=\"https://youtu.be/ca0gl2C3SVI\" target=\"_BLANK\">Video on Addressing Social Stigma Associated with COVID-19 (Hindi)</a></li>\n",
      "<li><span>08.04.2020</span><a href=\"https://youtu.be/yJZ06JsREW4\" target=\"_BLANK\">Video on Addressing Social Stigma Associated with COVID-19 Englsih</a></li>\n",
      "<!--<li><span>08.04.2020</span><a  href=\"https://www.youtube.com/watch?v=xMWe4UnykWc#action=share\" target=\"_BLANK\">Salute to all Corona Warriors at the front line of COVID-19 response</a></li>-->\n",
      "<li><span>29.03.2020</span><a href=\"https://business.facebook.com/MoHFWIndia/photos/a.359124487580298/1472842286208507/?type=3&amp;theater\" target=\"_BLANK\">Coronavirus doesn’t discriminate, why should we? </a></li>\n",
      "<li><span>27.03.2020</span><a href=\"https://youtu.be/h84ZGdB8JKI\" target=\"_BLANK\">Our fight is against COVID19, not each other! Together we will fight COVID19</a></li>\n",
      "<li><span>21.03.2020</span><a href=\"https://youtu.be/7Oei4aI_1j8\" target=\"_BLANK\">Musical tribute to our healthcare workers by AIIMS New Delhi</a></li>\n",
      "</ul>\n",
      "</div>\n",
      "</div>\n",
      "</div>\n",
      "</div>\n",
      "</div>\n",
      "</div>\n",
      "</div>\n",
      "</section>\n",
      "<section class=\"site-update\" id=\"site-awareness\">\n",
      "<div class=\"container\">\n",
      "<div class=\"row\">\n",
      "<div class=\"col-xs-12\">\n",
      "<div class=\"isotope-container\">\n",
      "<div class=\"category-nav\">\n",
      "<h3>Awareness</h3>\n",
      "<ul id=\"filters\">\n",
      "<li class=\"active\"><a data-filter=\".english\" href=\"#\">English</a></li>\n",
      "<li><a data-filter=\".hindi\" href=\"#\">Hindi</a></li>\n",
      "</ul>\n",
      "</div>\n",
      "<div class=\"isotope clearfix\" style=\"position: relative; height: 610px;\">\n",
      "<div class=\"grid element-item english\" style=\"position: absolute; left: 0%; top: 0px;\">\n",
      "<div class=\"content-box\">\n",
      "<figure>\n",
      "<a href=\"https://www.mohfw.gov.in/pdf/socialdistancingEnglish.pdf\" target=\"_blank\">\n",
      "<img alt=\"Poster on Social distancing in a market place during COVID-19 English\" src=\"assets/images/socialdistancingEnglish_page-0001.png\"/>\n",
      "</a>\n",
      "</figure>\n",
      "</div>\n",
      "</div>\n",
      "<div class=\"grid element-item hindi\" style=\"position: absolute; left: 33.299%; top: 0px; opacity: 0; transform: scale(0.001); transition-property: opacity, transform; transition-duration: 0.4s;\">\n",
      "<div class=\"content-box\">\n",
      "<figure>\n",
      "<a href=\"https://www.mohfw.gov.in/pdf/socialdistancingHindi.pdf\" target=\"_blank\">\n",
      "<img alt=\"Poster on Social distancing in a market place during COVID-19 Hindi\" src=\"assets/images/socialdistancingHindi_page-0001.png\"/>\n",
      "</a>\n",
      "</figure>\n",
      "</div>\n",
      "</div>\n",
      "<div class=\"grid element-item english\" style=\"position: absolute; left: 66.5979%; top: 0px; transition-property: opacity, transform; transition-duration: 0.4s; transform: translate3d(-322.7px, 0px, 0px);\">\n",
      "<div class=\"content-box\">\n",
      "<figure>\n",
      "<a href=\"https://www.mohfw.gov.in/pdf/FINAL_14_03_2020_ENg.pdf\" target=\"_blank\">\n",
      "<img alt=\"When to get tested for COVID-19 English\" src=\"assets/images/FINAL_14_03_2020_ENg_page-0001.png\"/>\n",
      "</a>\n",
      "</figure>\n",
      "</div>\n",
      "</div>\n",
      "<div class=\"grid element-item hindi\" style=\"position: absolute; left: 0%; top: 305px; opacity: 0; transform: scale(0.001); transition-property: opacity, transform; transition-duration: 0.4s;\">\n",
      "<div class=\"content-box\">\n",
      "<figure>\n",
      "<a href=\"https://www.mohfw.gov.in/pdf/FINAL_14_03_2020_Hindi.pdf\" target=\"_blank\">\n",
      "<img alt=\"When to get tested for COVID-19 Hindi\" src=\"assets/images/FINAL_14_03_2020_Hindi_page-0001.png\"/>\n",
      "</a>\n",
      "</figure>\n",
      "</div>\n",
      "</div>\n",
      "<div class=\"grid element-item english\" style=\"position: absolute; left: 33.299%; top: 305px; transition-property: opacity, transform; transition-duration: 0.4s; transform: translate3d(323.6px, -305px, 0px);\">\n",
      "<div class=\"content-box\">\n",
      "<figure>\n",
      "<a href=\"https://www.mohfw.gov.in/pdf/ProtectivemeasuresEng.pdf\" target=\"_blank\">\n",
      "<img alt=\"Posters for Safety measures against COVID-19 - English\" src=\"assets/images/ProtectivemeasuresEng_page-0001.png\"/>\n",
      "</a>\n",
      "</figure>\n",
      "</div>\n",
      "</div>\n",
      "<div class=\"grid element-item hindi\" style=\"position: absolute; left: 66.5979%; top: 305px; opacity: 0; transform: scale(0.001); transition-property: opacity, transform; transition-duration: 0.4s;\">\n",
      "<div class=\"content-box\">\n",
      "<figure>\n",
      "<a href=\"https://www.mohfw.gov.in/pdf/ProtectivemeasuresHin.pdf\" target=\"_blank\">\n",
      "<img alt=\"Posters for Safety measures against COVID-19 - Hindi\" src=\"assets/images/ProtectivemeasuresHin_page-0001.png\"/>\n",
      "</a>\n",
      "</figure>\n",
      "</div>\n",
      "</div>\n",
      "<!-- <div class=\"grid element-item english\">\n",
      "                                    <div class=\"content-box\">\n",
      "                                        <figure>\n",
      "                                            <a href=\"https://www.mohfw.gov.in/pdf/PostrerEnglishtraveller.pdf\" target=\"_blank\">\n",
      "                                                <img src=\"assets/images/PostrerEnglishtraveller_page-0001.png\" alt=\"Posters for Indians traveling from abroad - English\">\n",
      "                                            </a>\n",
      "                                        </figure>\n",
      "                                    </div>\n",
      "                                </div>\n",
      "\t\t\t\t\t\t\t\t<div class=\"grid element-item hindi\">\n",
      "                                    <div class=\"content-box\">\n",
      "                                        <figure>\n",
      "                                            <a href=\"https://www.mohfw.gov.in/pdf/PosterTravellerHindi.pdf\" target=\"_blank\">\n",
      "                                                <img src=\"assets/images/PosterTravellerHindi_page-0001.png\" alt=\"Posters for Indians traveling from abroad - Hindi\">\n",
      "                                            </a>\n",
      "                                        </figure>\n",
      "                                    </div>\n",
      "                                </div>-->\n",
      "<!--<div class=\"grid element-item english\">\n",
      "                                    <div class=\"content-box\">\n",
      "                                        <figure>\n",
      "                                            <a href=\"https://www.mohfw.gov.in/pdf/Mask-Eng.pdf\" target=\"_blank\">\n",
      "                                                <img src=\"assets/images/Mask-Eng_page-0001.png\" alt=\"When to wear mask?: English\">\n",
      "                                            </a>\n",
      "                                        </figure>\n",
      "                                    </div>\n",
      "                                </div>\n",
      "\t\t\t\t\t\t\t\t<div class=\"grid element-item hindi\">\n",
      "                                    <div class=\"content-box\">\n",
      "                                        <figure>\n",
      "                                            <a href=\"https://www.mohfw.gov.in/pdf/Mask-Hindi.pdf\" target=\"_blank\">\n",
      "                                                <img src=\"assets/images/Mask-Hindi_page-0001.png\" alt=\"When to wear mask?: Hindi\">\n",
      "                                            </a>\n",
      "                                        </figure>\n",
      "                                    </div>\n",
      "                                </div>-->\n",
      "<div class=\"grid element-item english\" style=\"position: absolute; left: 0%; top: 610px; transition-property: opacity, transform; transition-duration: 0.4s; transform: translate3d(0px, -305px, 0px);\">\n",
      "<div class=\"content-box\">\n",
      "<figure>\n",
      "<a href=\"https://www.mohfw.gov.in/pdf/Poster_Corona_ad_Eng.pdf\" target=\"_blank\">\n",
      "<img alt=\"Do's and Don't Poster in English\" src=\"assets/images/Poster_Corona_ad_Eng_page-0001.png\"/>\n",
      "</a>\n",
      "</figure>\n",
      "</div>\n",
      "</div>\n",
      "<div class=\"grid element-item hindi\" style=\"position: absolute; left: 33.299%; top: 610px; opacity: 0; transform: scale(0.001); transition-property: opacity, transform; transition-duration: 0.4s;\">\n",
      "<div class=\"content-box\">\n",
      "<figure>\n",
      "<a href=\"https://www.mohfw.gov.in/pdf/Poster_Corona_ad_Hin.pdf\" target=\"_blank\">\n",
      "<img alt=\"Do's and Don't Poster in English\" src=\"assets/images/Poster_Corona_ad_Hin_page-0001.png\"/>\n",
      "</a>\n",
      "</figure>\n",
      "</div>\n",
      "</div>\n",
      "</div>\n",
      "</div>\n",
      "</div>\n",
      "</div>\n",
      "</div>\n",
      "</section>\n",
      "<section class=\"site-update\" id=\"site-faq\">\n",
      "<div class=\"container\">\n",
      "<div class=\"row\">\n",
      "<div class=\"col-xs-12\">\n",
      "<div class=\"site-faq\">\n",
      "<!--<h3>FAQs</h3>\n",
      "<div class=\"faq-content\">\n",
      "<embed src=\"https://www.mohfw.gov.in/pdf/FAQ.pdf\" type=\"application/pdf\" width=\"100%\" height=\"600px\" class=\"mob-hide\">\n",
      "<a class=\"btn-faq mob-show\" href=\" \" target=\"_blank\" class=\"mob-show\">Click to see the FAQ pdf</a>\n",
      "</div>-->\n",
      "</div>\n",
      "</div>\n",
      "</div>\n",
      "</div>\n",
      "</section>\n",
      "</div>\n",
      "<footer class=\"footer-section\">\n",
      "<div class=\"container\">\n",
      "<div class=\"row\">\n",
      "<div class=\"col-xs-12\">\n",
      "<div class=\"footer-content\">\n",
      "<div class=\"site-copyright\">\n",
      "<strong>Disclaimer :</strong> <br/>\n",
      "Website content managed by <a href=\"#\" target=\"_blank\">Ministry of Health and Family Welfare</a>, <a href=\"#\" target=\"_blank\">GOI</a>\n",
      "Design, Developed and Hosted by <a href=\"https://www.nic.in/\" target=\"_blank\">National Informatics Centre (NIC)</a>\n",
      "</div>\n",
      "</div>\n",
      "</div>\n",
      "</div>\n",
      "</div>\n",
      "<a class=\"top\" href=\"#top\"><i aria-hidden=\"true\" class=\"fa fa-chevron-up\"></i></a>\n",
      "</footer>\n",
      "</div>\n",
      "</div>\n",
      "<script type=\"text/javascript\">\n",
      "  \n",
      "  $(function() {\n",
      "\n",
      "  // the input field\n",
      "  var $input = $(\"input[type='search']\"),\n",
      "    // clear button\n",
      "    $clearBtn = $(\"button[data-search='clear']\"),\n",
      "    // prev button\n",
      "    $prevBtn = $(\"button[data-search='prev']\"),\n",
      "    // next button\n",
      "    $nextBtn = $(\"button[data-search='next']\"),\n",
      "    // the context where to search\n",
      "    $content = $(\".content\"),\n",
      "    // jQuery object to save <mark> elements\n",
      "    $results,\n",
      "    // the class that will be appended to the current\n",
      "    // focused element\n",
      "    currentClass = \"current\",\n",
      "    // top offset for the jump (the search bar)\n",
      "    offsetTop = 200,\n",
      "    // the current index of the focused element\n",
      "    currentIndex = 0;\n",
      "\n",
      "  /**\n",
      "   * Jumps to the element matching the currentIndex\n",
      "   */\n",
      "  function jumpTo() {\n",
      "    if ($results.length) {\n",
      "      var position,\n",
      "        $current = $results.eq(currentIndex);\n",
      "      $results.removeClass(currentClass);\n",
      "      if ($current.length) {\n",
      "        $current.addClass(currentClass);\n",
      "        var parent = $current.closest('table')\n",
      "        if (parent.length) {\n",
      "          $('html').scrollTop(parent.offset().top - offsetTop)\n",
      "          parent.scrollTop(parent.scrollTop() - parent.offset().top + $current.offset().top);\n",
      "        } else {\n",
      "          $('html').animate({\n",
      "            scrollTop: $current.offset().top - offsetTop\n",
      "          }, 300);\n",
      "        }\n",
      "\n",
      "      }\n",
      "    }\n",
      "  }\n",
      "\n",
      "  /**\n",
      "   * Searches for the entered keyword in the\n",
      "   * specified context on input\n",
      "   */\n",
      "  $input.on(\"input\", function() {\n",
      "    var searchVal = this.value;\n",
      "    $content.unmark({\n",
      "      done: function() {\n",
      "        $content.mark(searchVal, {\n",
      "          separateWordSearch: true,\n",
      "          done: function() {\n",
      "            $results = $content.find(\"mark\");\n",
      "            currentIndex = 0;\n",
      "            jumpTo();\n",
      "          }\n",
      "        });\n",
      "      }\n",
      "    });\n",
      "  });\n",
      "\n",
      "  /**\n",
      "   * Clears the search\n",
      "   */\n",
      "  $clearBtn.on(\"click\", function() {\n",
      "    $content.unmark();\n",
      "    $input.val(\"\").focus();\n",
      "  });\n",
      "\n",
      "  /**\n",
      "   * Next and previous search jump to\n",
      "   */\n",
      "  $nextBtn.add($prevBtn).on(\"click\", function() {\n",
      "    if ($results.length) {\n",
      "      currentIndex += $(this).is($prevBtn) ? -1 : 1;\n",
      "      if (currentIndex < 0) {\n",
      "        currentIndex = $results.length - 1;\n",
      "      }\n",
      "      if (currentIndex > $results.length - 1) {\n",
      "        currentIndex = 0;\n",
      "      }\n",
      "      jumpTo();\n",
      "    }\n",
      "  });\n",
      "});\n",
      "\n",
      "</script>\n",
      "<script>\n",
      "$(document).ready(function() {\n",
      " $.getJSON('data/datanew.json', function(data) {\n",
      "\tvar j=1;\n",
      "\tvar noofval=data.length-1;\n",
      "for (var i=0; i<data.length; i++) {\n",
      "\trow=\"<tr><td>\"+j+\"</td>\";\n",
      "if((data[i].new_positive!=0) && data[i].state_name!=\"\")\n",
      "{\t\n",
      "\t//for active cases\n",
      "\trow=row+\"<td>\" + data[i].state_name+ \"</td><td>\";\n",
      "\tif(data[i].new_active==data[i].active)\t{\n",
      "\tvar diffa=0;\n",
      "\trow=row + data[i].active+  \"</td><td><span>&nbsp;</span>  </td>\";}\n",
      "\tif(data[i].new_active-data[i].active>0)\t{\n",
      "\tvar diffa=data[i].new_active-data[i].active;\n",
      "\trow=row+ data[i].new_active+\"<td><span class='up'> \"+diffa+\" <i class='fa fa-arrow-up'></i></span> \" +  \"</td>\";}\n",
      "\tif(data[i].new_active-data[i].active<0)\t{\n",
      "\tvar diffa=data[i].active-data[i].new_active;\n",
      "\trow=row+ data[i].new_active+\"<td><span class='down'> \"+diffa+\" <i class='fa fa-arrow-down'></i></span> \" +  \"</td>\";}\n",
      "\t\n",
      "\t\n",
      "//for cured cases\t\n",
      "\trow=row+\"<td>\";\n",
      "\tif(data[i].new_cured-data[i].cured==0)\t{\n",
      "\tvar diffc=0;\n",
      "\trow=row + data[i].cured+  \"</td><td><span>&nbsp;</span>  </td>\";}\n",
      "\tif(data[i].new_cured-data[i].cured>0)\t{\n",
      "\tvar diffc=data[i].new_cured-data[i].cured;\n",
      "\trow=row+ data[i].new_cured+\"<td><span class='cup'> \"+diffc+\" <i class='fa fa-arrow-up'></i></span> \" +  \"</td>\";}\n",
      "if(data[i].new_cured-data[i].cured<0)\t{\n",
      "\tvar diffc=data[i].cured-data[i].new_cured;\n",
      "\trow=row + data[i].new_cured+ \"<td><span class='cup'> \"+diffc+\" <i class='fa fa-arrow-up'></i></span> \"+ \"</td>\";}\n",
      "\n",
      "\n",
      "//for death cases\n",
      "\trow=row+\"<td>\";\n",
      "\tif(data[i].new_death-data[i].death==0)\t{\n",
      "\tvar diffd=0;\n",
      "\trow=row +data[i].new_death+  \"</td><td><span>&nbsp;</span>  </td></tr>\";}\n",
      "if(data[i].new_death-data[i].death>0)\t{\n",
      "\tvar diffd=data[i].new_death-data[i].death;\n",
      "\trow=row+data[i].new_death+\"</td><td><span class='up'> \"+diffd+\" <i class='fa fa-arrow-up'></i></span> \" +  \"</td></tr>\";}\n",
      "\n",
      "\t\n",
      "\n",
      "\n",
      "$('.statetable').append(row);\n",
      "j=j+1;\n",
      "}\n",
      "\n",
      "if(data[i].sno==\"11111\")\n",
      "{\n",
      "\tvar active_per=(data[i].new_active/data[i].new_positive)*100;\n",
      "\tvar discharged_per=(data[i].new_cured/data[i].new_positive)*100;\n",
      "\tvar death_per=(data[i].new_death/data[i].new_positive)*100;\n",
      "\t//alert(active_per);\n",
      "\t$('.active_per').append(\"(\"+active_per.toFixed(2)+\"%)\");\n",
      "\t$('.discharged_per').append(\"(\"+discharged_per.toFixed(2)+\"%)\");\n",
      "\t$('.death_per').append(\"(\"+death_per.toFixed(2)+\"%)\");\n",
      "\n",
      "rowt=\"<tr><td colspan='2'>Total#</td>\";\n",
      "\t\t\n",
      "if(data[i].new_active-data[i].active>0)\t{\n",
      "\tvar difft=data[i].new_active-data[i].active;\n",
      "\trowt=rowt+\"<td> \" + data[i].new_active+\"</td><td><span class='up'> \"+difft+\" <i class='fa fa-arrow-up'></i></span>  \"+\"</td>\";}\n",
      "if(data[i].new_active-data[i].active<0)\t{\n",
      "\tvar difft=data[i].active-data[i].new_active;\n",
      "\trowt=rowt+\"<td>\" + data[i].new_active+ \"</td><td><span class='down'> \"+difft+\" <i class='fa fa-arrow-down'></i></span> \"+ \"</td>\";}\n",
      "if(data[i].new_active==data[i].active)\t{\n",
      "\tvar difft=0;\n",
      "\trowt=rowt + data[i].new_active+  \"</td><td>\";}\n",
      "\t\n",
      "\t\n",
      "\t\t\n",
      "if(data[i].new_cured-data[i].cured>0)\t{\n",
      "\tvar difft=data[i].new_cured-data[i].cured;\n",
      "\trowt=rowt +\"<td>\"+ data[i].new_cured+  \"</td><td><span class='cup'>  \"+difft+\" <i class='fa fa-arrow-up'></i></span> </td>\";}\n",
      "if(data[i].cured==data[i].new_cured)\t{\n",
      "\tvar difft=0;\n",
      "\trowt=rowt + \"<td>\"+data[i].new_cured+  \"</td>\";}\n",
      "\t\n",
      "if(data[i].new_death-data[i].death>0)\t{\n",
      "\tvar difft=data[i].new_death-data[i].death;\n",
      "\trowt=rowt+ \"<td>\"+data[i].new_death+  \"<td><span class='up'> \"+difft+\" <i class='fa fa-arrow-up'></i></span></td></tr>\";}\n",
      "if(data[i].death==data[i].new_death)\t{\n",
      "\tvar difft=0;\n",
      "\trowt=rowt +\"<td>\"+ data[i].new_death+  \"</td></tr>\";}\n",
      "\t\n",
      "$('.statetable').append(rowt);\n",
      "}\n",
      "}\n",
      "\tvar row1=\"<tr><td  align = 'center' style = 'text-align:center;' colspan = '8'><strong>***The outcome of 174 cases declared as COVID-19 deaths by the Haryana State Death Audit Committee report</strong></td></tr><tr><td  align = 'center' style = 'text-align:center;' colspan = '8'><strong>*(Including foreign Nationals)</strong></td></tr> <tr><td  align = 'center' style = 'text-align:center;' colspan = '8'><strong>**( more than 70% cases due to comorbidities )</strong></td></tr><tr><td  align = 'center' style = 'text-align:center;' colspan = '8'><strong>#States wise distribution is subject to further verification and reconciliation</strong></td></tr> <tr><td  align = 'center' style = 'text-align:center;' colspan = '8'><strong>#Our figures are being reconciled with ICMR</strong></td></tr>\";\n",
      "\t$('.statetable').append(row1);\n",
      "\n",
      "\t\n",
      "if(data[i].top_new_active-data[i].top_active>0)\t{\n",
      "\tvar diff_active=data[i].top_new_active-data[i].top_active;\n",
      "\trowt=rowt+\"<span class='up'>\"+diff_active+\" <i class='fa fa-arrow-up'></i></span> \" + data[i].top_new_active+  \"</td></tr>\";}\n",
      "if(data[i].top_new_active-data[i].top_active<0)\t{\n",
      "\tvar diff_active=data[i].top_active-data[i].top_new_active;\n",
      "\trowt=rowt+\"<span class='down'>\"+diff_active+\" <i class='fa fa-arrow-down'></i></span> \" + data[i].top_active+  \"</td></tr>\";}\n",
      "if(data[i].top_new_active==data[i].top_active)\t{\n",
      "\tvar diff_active=0;\n",
      "\trowt=rowt + data[i].top_active+  \"</td></tr>\";}\t\n",
      "\n",
      "if(data[i].top_new_cured-data[i].top_cured>0)\t{\n",
      "\tvar diff_cured=data[i].top_new_cured-data[i].top_cured;\n",
      "\trowt=rowt+\"<span class='up'>\"+diff_cured+\" <i class='fa fa-arrow-up'></i></span> \" + data[i].top_new_cured+  \"</td></tr>\";}\n",
      "if(data[i].top_new_cured-data[i].top_cured<0)\t{\n",
      "\tvar diff_cured=data[i].top_cured-data[i].top_new_cured;\n",
      "\trowt=rowt+\"<span class='down'>\"+diff_cured+\" <i class='fa fa-arrow-down'></i></span> \" + data[i].top_cured+  \"</td></tr>\";}\n",
      "if(data[i].top_new_cured==data[i].top_cured)\t{\n",
      "\tvar diff_cured=0;\n",
      "\trowt=rowt + data[i].top_cured+  \"</td></tr>\";}\t\n",
      "\t\n",
      "\tif(data[i].top_new_death-data[i].top_death>0)\t{\n",
      "\tvar diff_death=data[i].top_new_death-data[i].top_death;\n",
      "\trowt=rowt+\"<span class='up'>\"+diff_death+\" <i class='fa fa-arrow-up'></i></span> \" + data[i].top_new_death+  \"</td></tr>\";}\n",
      "if(data[i].top_new_death-data[i].top_death<0)\t{\n",
      "\tvar diff_death=data[i].top_death-data[i].top_new_death;\n",
      "\trowt=rowt+\"<span class='down'>\"+diff_death+\" <i class='fa fa-arrow-down'></i></span> \" + data[i].top_death+  \"</td></tr>\";}\n",
      "if(data[i].top_new_death==data[i].top_death)\t{\n",
      "\tvar diff_death=0;\n",
      "\trowt=rowt + data[i].top_death+  \"</td></tr>\";}\t\n",
      "\t});\n",
      "    });\n",
      "      </script>\n",
      "<!--<script type=\"text/javascript\" src=\"assets/js/jquery-2.2.4.min.js\"></script>-->\n",
      "<script src=\"assets/js/bootstrap.js\" type=\"text/javascript\"></script>\n",
      "<script src=\"assets/js/jquery.sticky.js\" type=\"text/javascript\"></script>\n",
      "<script src=\"assets/js/style.switcher.js\" type=\"text/javascript\"></script>\n",
      "<script src=\"assets/js/isotope.pkgd.min.js\" type=\"text/javascript\"></script>\n",
      "<script src=\"assets/js/custom.js\" type=\"text/javascript\"></script>\n",
      "<script>\n",
      "function blinker() {\n",
      "\t$('.blinking').fadeOut(500);\n",
      "\t$('.blinking').fadeIn(500);\n",
      "}\n",
      "setInterval(blinker, 2000);\n",
      "</script>\n",
      "</body></html>\n"
     ]
    }
   ],
   "source": [
    "path='C:\\\\Users\\\\adila\\\\chromedriver_win32\\\\chromedriver.exe'\n",
    "driver=webdriver.Chrome(executable_path=path)\n",
    "URL = \"https://www.mohfw.gov.in/\"\n",
    "driver.get(URL)\n",
    "webcontent=driver.page_source\n",
    "soup = BeautifulSoup(webcontent,'html')#lxml is fater than html\n",
    "driver.quit()\n",
    "print(soup)"
   ]
  },
  {
   "cell_type": "code",
   "execution_count": 7,
   "id": "a1a3f3a5",
   "metadata": {},
   "outputs": [
    {
     "data": {
      "text/plain": [
       "'as on : 15 October 2021'"
      ]
     },
     "execution_count": 7,
     "metadata": {},
     "output_type": "execute_result"
    }
   ],
   "source": [
    "div_data=soup.find('div',class_=\"data-table table-responsive\")\n",
    "div_date=div_data.h5.span.text.split(',')[0]\n",
    "div_date"
   ]
  },
  {
   "cell_type": "code",
   "execution_count": 8,
   "id": "73350814",
   "metadata": {},
   "outputs": [
    {
     "data": {
      "text/plain": [
       "'15 October 2021'"
      ]
     },
     "execution_count": 8,
     "metadata": {},
     "output_type": "execute_result"
    }
   ],
   "source": [
    "div_date=div_date.split(':')[1].strip()\n",
    "div_date"
   ]
  },
  {
   "cell_type": "code",
   "execution_count": 9,
   "id": "9b989fdc",
   "metadata": {},
   "outputs": [],
   "source": [
    "format='%d %B %Y'"
   ]
  },
  {
   "cell_type": "code",
   "execution_count": 10,
   "id": "00592638",
   "metadata": {},
   "outputs": [
    {
     "data": {
      "text/plain": [
       "datetime.date(2021, 10, 15)"
      ]
     },
     "execution_count": 10,
     "metadata": {},
     "output_type": "execute_result"
    }
   ],
   "source": [
    "datetimeobj=datetime.strptime(div_date,format).date()\n",
    "datetimeobj"
   ]
  },
  {
   "cell_type": "code",
   "execution_count": null,
   "id": "8a95f15f",
   "metadata": {
    "scrolled": true
   },
   "outputs": [],
   "source": []
  },
  {
   "cell_type": "markdown",
   "id": "ad18182d",
   "metadata": {},
   "source": [
    "# Extracting heading"
   ]
  },
  {
   "cell_type": "code",
   "execution_count": null,
   "id": "465d8435",
   "metadata": {},
   "outputs": [],
   "source": []
  },
  {
   "cell_type": "code",
   "execution_count": 11,
   "id": "cd36ad33",
   "metadata": {},
   "outputs": [
    {
     "data": {
      "text/plain": [
       "<thead>\n",
       "<tr></tr>\n",
       "<tr class=\"row1\">\n",
       "<th rowspan=\"2\" style=\"width:5%;\"><strong>S. No.</strong></th>\n",
       "<th rowspan=\"2\" style=\"width:24%;\"><strong>Name of State / UT</strong></th>\n",
       "<th colspan=\"2\" style=\"text-align:center;width:24%;\"><strong>Active Cases*</strong></th>\n",
       "<th colspan=\"2\" style=\"text-align:center;width:24%;\"><strong>Cured/Discharged/Migrated*</strong></th>\n",
       "<th colspan=\"2\" style=\"text-align:center;width:24%;\"><strong>Deaths**</strong></th>\n",
       "</tr>\n",
       "<tr class=\"row2\"><th style=\"width: 12%;\">Total</th><th style=\"width: 12%;\"><span class=\"mob-hide\">Change since yesterday</span><span class=\"mob-show\">Change since<br/> yesterday</span></th>\n",
       "<th style=\"width: 12%;\">Cumulative</th><th style=\"width: 12%;\">Change since yesterday</th>\n",
       "<th style=\"width: 12%;\">Cumulative</th><th style=\"width: 12%;\">Change since yesterday</th></tr>\n",
       "</thead>"
      ]
     },
     "execution_count": 11,
     "metadata": {},
     "output_type": "execute_result"
    }
   ],
   "source": [
    "heading_data1=soup.find('thead')\n",
    "heading_data1"
   ]
  },
  {
   "cell_type": "code",
   "execution_count": 12,
   "id": "dde4da46",
   "metadata": {},
   "outputs": [],
   "source": [
    "heading=[i.text.strip() for i in heading_data1.find_all('th')]"
   ]
  },
  {
   "cell_type": "code",
   "execution_count": 13,
   "id": "5873cf2d",
   "metadata": {},
   "outputs": [
    {
     "data": {
      "text/plain": [
       "['S. No.',\n",
       " 'Name of State / UT',\n",
       " 'Active Cases*',\n",
       " 'Cured/Discharged/Migrated*',\n",
       " 'Deaths**',\n",
       " 'Total',\n",
       " 'Change since yesterdayChange since yesterday',\n",
       " 'Cumulative',\n",
       " 'Change since yesterday',\n",
       " 'Cumulative',\n",
       " 'Change since yesterday']"
      ]
     },
     "execution_count": 13,
     "metadata": {},
     "output_type": "execute_result"
    }
   ],
   "source": [
    "heading"
   ]
  },
  {
   "cell_type": "code",
   "execution_count": 15,
   "id": "8a3c3526",
   "metadata": {},
   "outputs": [],
   "source": [
    "heading=['S. No.',\n",
    " 'Name of State / UT',\n",
    " 'Active Cases* Total',\n",
    " 'Active Cases* Change Since Yesterday',\n",
    " 'Cured/Discharged/Migrated* Cumulative',\n",
    " 'Cured/Discharged/Migrated* Change since yesterday',\n",
    " 'Deaths** Cumulative',\n",
    " 'Deaths** Change since yesterday']"
   ]
  },
  {
   "cell_type": "code",
   "execution_count": 16,
   "id": "994adb64",
   "metadata": {},
   "outputs": [
    {
     "data": {
      "text/plain": [
       "['S. No.',\n",
       " 'Name of State / UT',\n",
       " 'Active Cases* Total',\n",
       " 'Active Cases* Change Since Yesterday',\n",
       " 'Cured/Discharged/Migrated* Cumulative',\n",
       " 'Cured/Discharged/Migrated* Change since yesterday',\n",
       " 'Deaths** Cumulative',\n",
       " 'Deaths** Change since yesterday']"
      ]
     },
     "execution_count": 16,
     "metadata": {},
     "output_type": "execute_result"
    }
   ],
   "source": [
    "heading"
   ]
  },
  {
   "cell_type": "code",
   "execution_count": 32,
   "id": "4620b943",
   "metadata": {},
   "outputs": [
    {
     "data": {
      "text/plain": [
       "[<tr><td>1</td><td>Andaman and Nicobar Islands</td><td>10</td><td><span class=\"up\"> 1 <i class=\"fa fa-arrow-up\"></i></span> </td><td>7501</td><td><span class=\"cup\"> 2 <i class=\"fa fa-arrow-up\"></i></span> </td><td>129</td><td><span> </span> </td></tr>,\n",
       " <tr><td>2</td><td>Andhra Pradesh</td><td>6588</td><td><span class=\"down\"> 27 <i class=\"fa fa-arrow-down\"></i></span> </td><td>2038248</td><td><span class=\"cup\"> 557 <i class=\"fa fa-arrow-up\"></i></span> </td><td>14286</td><td><span class=\"up\"> 10 <i class=\"fa fa-arrow-up\"></i></span> </td></tr>,\n",
       " <tr><td>3</td><td>Arunachal Pradesh</td><td>202</td><td><span class=\"down\"> 22 <i class=\"fa fa-arrow-down\"></i></span> </td><td>54476</td><td><span class=\"cup\"> 26 <i class=\"fa fa-arrow-up\"></i></span> </td><td>280</td><td><span> </span> </td></tr>,\n",
       " <tr><td>4</td><td>Assam</td><td>3646</td><td><span class=\"down\"> 157 <i class=\"fa fa-arrow-down\"></i></span> </td><td>596263</td><td><span class=\"cup\"> 362 <i class=\"fa fa-arrow-up\"></i></span> </td><td>5938</td><td><span class=\"up\"> 2 <i class=\"fa fa-arrow-up\"></i></span> </td></tr>,\n",
       " <tr><td>5</td><td>Bihar</td><td>42</td><td><span class=\"up\"> 6 <i class=\"fa fa-arrow-up\"></i></span> </td><td>716313</td><td><span class=\"cup\"> 2 <i class=\"fa fa-arrow-up\"></i></span> </td><td>9661</td><td><span> </span> </td></tr>,\n",
       " <tr><td>6</td><td>Chandigarh</td><td>32</td><td><span class=\"down\"> 5 <i class=\"fa fa-arrow-down\"></i></span> </td><td>64443</td><td><span class=\"cup\"> 15 <i class=\"fa fa-arrow-up\"></i></span> </td><td>820</td><td><span> </span> </td></tr>,\n",
       " <tr><td>7</td><td>Chhattisgarh</td><td>203</td><td><span class=\"down\"> 4 <i class=\"fa fa-arrow-down\"></i></span> </td><td>991841</td><td><span class=\"cup\"> 20 <i class=\"fa fa-arrow-up\"></i></span> </td><td>13570</td><td><span> </span> </td></tr>,\n",
       " <tr><td>8</td><td>Dadra and Nagar Haveli and Daman and Diu</td><td>3</td><td><span class=\"down\"> 1 <i class=\"fa fa-arrow-down\"></i></span> </td><td>10668</td><td><span class=\"cup\"> 1 <i class=\"fa fa-arrow-up\"></i></span> </td><td>4</td><td><span> </span> </td></tr>,\n",
       " <tr><td>9</td><td>Delhi</td><td>337</td><td><span class=\"down\"> 1 <i class=\"fa fa-arrow-down\"></i></span> </td><td>1413885</td><td><span class=\"cup\"> 29 <i class=\"fa fa-arrow-up\"></i></span> </td><td>25089</td><td><span> </span> </td></tr>,\n",
       " <tr><td>10</td><td>Goa</td><td>679</td><td><span class=\"up\"> 27 <i class=\"fa fa-arrow-up\"></i></span> </td><td>173342</td><td><span class=\"cup\"> 39 <i class=\"fa fa-arrow-up\"></i></span> </td><td>3335</td><td><span class=\"up\"> 2 <i class=\"fa fa-arrow-up\"></i></span> </td></tr>,\n",
       " <tr><td>11</td><td>Gujarat</td><td>215</td><td><span class=\"up\"> 20 <i class=\"fa fa-arrow-up\"></i></span> </td><td>815943</td><td><span class=\"cup\"> 14 <i class=\"fa fa-arrow-up\"></i></span> </td><td>10086</td><td><span> </span> </td></tr>,\n",
       " <tr><td>12</td><td>Haryana***</td><td>105</td><td><span class=\"down\"> 158 <i class=\"fa fa-arrow-down\"></i></span> </td><td>760881</td><td><span> </span> </td><td>10049</td><td><span class=\"up\"> 174 <i class=\"fa fa-arrow-up\"></i></span> </td></tr>,\n",
       " <tr><td>13</td><td>Himachal Pradesh</td><td>1387</td><td><span class=\"up\"> 5 <i class=\"fa fa-arrow-up\"></i></span> </td><td>216011</td><td><span class=\"cup\"> 173 <i class=\"fa fa-arrow-up\"></i></span> </td><td>3715</td><td><span class=\"up\"> 4 <i class=\"fa fa-arrow-up\"></i></span> </td></tr>,\n",
       " <tr><td>14</td><td>Jammu and Kashmir</td><td>935</td><td><span class=\"down\"> 11 <i class=\"fa fa-arrow-down\"></i></span> </td><td>325473</td><td><span class=\"cup\"> 104 <i class=\"fa fa-arrow-up\"></i></span> </td><td>4426</td><td><span> </span> </td></tr>,\n",
       " <tr><td>15</td><td>Jharkhand</td><td>130</td><td><span class=\"up\"> 4 <i class=\"fa fa-arrow-up\"></i></span> </td><td>343141</td><td><span class=\"cup\"> 7 <i class=\"fa fa-arrow-up\"></i></span> </td><td>5135</td><td><span> </span> </td></tr>,\n",
       " <tr><td>16</td><td>Karnataka</td><td>9607</td><td><span class=\"down\"> 43 <i class=\"fa fa-arrow-down\"></i></span> </td><td>2934870</td><td><span class=\"cup\"> 347 <i class=\"fa fa-arrow-up\"></i></span> </td><td>37922</td><td><span class=\"up\"> 6 <i class=\"fa fa-arrow-up\"></i></span> </td></tr>,\n",
       " <tr><td>17</td><td>Kerala</td><td>96421</td><td><span class=\"down\"> 1802 <i class=\"fa fa-arrow-down\"></i></span> </td><td>4706856</td><td><span class=\"cup\"> 10952 <i class=\"fa fa-arrow-up\"></i></span> </td><td>26667</td><td><span class=\"up\"> 96 <i class=\"fa fa-arrow-up\"></i></span> </td></tr>,\n",
       " <tr><td>18</td><td>Ladakh</td><td>44</td><td><span class=\"up\"> 2 <i class=\"fa fa-arrow-up\"></i></span> </td><td>20615</td><td><span class=\"cup\"> 4 <i class=\"fa fa-arrow-up\"></i></span> </td><td>208</td><td><span> </span> </td></tr>,\n",
       " <tr><td>19</td><td>Lakshadweep</td><td>2</td><td><span> </span> </td><td>10312</td><td><span> </span> </td><td>51</td><td><span> </span> </td></tr>,\n",
       " <tr><td>20</td><td>Madhya Pradesh</td><td>111</td><td><span class=\"up\"> 1 <i class=\"fa fa-arrow-up\"></i></span> </td><td>782035</td><td><span class=\"cup\"> 11 <i class=\"fa fa-arrow-up\"></i></span> </td><td>10523</td><td><span> </span> </td></tr>,\n",
       " <tr><td>21</td><td>Maharashtra</td><td>33157</td><td><span class=\"up\"> 6 <i class=\"fa fa-arrow-up\"></i></span> </td><td>6413418</td><td><span class=\"cup\"> 2343 <i class=\"fa fa-arrow-up\"></i></span> </td><td>139705</td><td><span class=\"up\"> 35 <i class=\"fa fa-arrow-up\"></i></span> </td></tr>,\n",
       " <tr><td>22</td><td>Manipur</td><td>1444</td><td><span class=\"down\"> 15 <i class=\"fa fa-arrow-down\"></i></span> </td><td>119099</td><td><span class=\"cup\"> 84 <i class=\"fa fa-arrow-up\"></i></span> </td><td>1889</td><td><span> </span> </td></tr>,\n",
       " <tr><td>23</td><td>Meghalaya</td><td>892</td><td><span class=\"down\"> 31 <i class=\"fa fa-arrow-down\"></i></span> </td><td>80411</td><td><span class=\"cup\"> 115 <i class=\"fa fa-arrow-up\"></i></span> </td><td>1431</td><td><span class=\"up\"> 3 <i class=\"fa fa-arrow-up\"></i></span> </td></tr>,\n",
       " <tr><td>24</td><td>Mizoram</td><td>13601</td><td><span class=\"down\"> 435 <i class=\"fa fa-arrow-down\"></i></span> </td><td>96744</td><td><span class=\"cup\"> 1332 <i class=\"fa fa-arrow-up\"></i></span> </td><td>374</td><td><span class=\"up\"> 4 <i class=\"fa fa-arrow-up\"></i></span> </td></tr>,\n",
       " <tr><td>25</td><td>Nagaland</td><td>230</td><td><span class=\"down\"> 8 <i class=\"fa fa-arrow-down\"></i></span> </td><td>30613</td><td><span class=\"cup\"> 17 <i class=\"fa fa-arrow-up\"></i></span> </td><td>673</td><td><span> </span> </td></tr>,\n",
       " <tr><td>26</td><td>Odisha</td><td>4890</td><td><span class=\"up\"> 38 <i class=\"fa fa-arrow-up\"></i></span> </td><td>1020645</td><td><span class=\"cup\"> 477 <i class=\"fa fa-arrow-up\"></i></span> </td><td>8274</td><td><span class=\"up\"> 6 <i class=\"fa fa-arrow-up\"></i></span> </td></tr>,\n",
       " <tr><td>27</td><td>Puducherry</td><td>647</td><td><span class=\"down\"> 4 <i class=\"fa fa-arrow-down\"></i></span> </td><td>124763</td><td><span class=\"cup\"> 53 <i class=\"fa fa-arrow-up\"></i></span> </td><td>1849</td><td><span> </span> </td></tr>,\n",
       " <tr><td>28</td><td>Punjab</td><td>234</td><td><span class=\"up\"> 11 <i class=\"fa fa-arrow-up\"></i></span> </td><td>585199</td><td><span class=\"cup\"> 16 <i class=\"fa fa-arrow-up\"></i></span> </td><td>16538</td><td><span class=\"up\"> 6 <i class=\"fa fa-arrow-up\"></i></span> </td></tr>,\n",
       " <tr><td>29</td><td>Rajasthan</td><td>42</td><td><span class=\"up\"> 6 <i class=\"fa fa-arrow-up\"></i></span> </td><td>945386</td><td><span class=\"cup\"> 2 <i class=\"fa fa-arrow-up\"></i></span> </td><td>8954</td><td><span> </span> </td></tr>,\n",
       " <tr><td>30</td><td>Sikkim</td><td>224</td><td><span class=\"down\"> 1 <i class=\"fa fa-arrow-down\"></i></span> </td><td>31108</td><td><span class=\"cup\"> 7 <i class=\"fa fa-arrow-up\"></i></span> </td><td>390</td><td><span> </span> </td></tr>,\n",
       " <tr><td>31</td><td>Tamil Nadu</td><td>15451</td><td><span class=\"down\"> 199 <i class=\"fa fa-arrow-down\"></i></span> </td><td>2632092</td><td><span class=\"cup\"> 1438 <i class=\"fa fa-arrow-up\"></i></span> </td><td>35853</td><td><span class=\"up\"> 20 <i class=\"fa fa-arrow-up\"></i></span> </td></tr>,\n",
       " <tr><td>32</td><td>Telangana</td><td>4171</td><td><span class=\"down\"> 40 <i class=\"fa fa-arrow-down\"></i></span> </td><td>660512</td><td><span class=\"cup\"> 207 <i class=\"fa fa-arrow-up\"></i></span> </td><td>3935</td><td><span class=\"up\"> 1 <i class=\"fa fa-arrow-up\"></i></span> </td></tr>,\n",
       " <tr><td>33</td><td>Tripura</td><td>110</td><td><span class=\"down\"> 8 <i class=\"fa fa-arrow-down\"></i></span> </td><td>83369</td><td><span class=\"cup\"> 12 <i class=\"fa fa-arrow-up\"></i></span> </td><td>816</td><td><span> </span> </td></tr>,\n",
       " <tr><td>34</td><td>Uttarakhand</td><td>175</td><td><span class=\"up\"> 22 <i class=\"fa fa-arrow-up\"></i></span> </td><td>336157</td><td><span class=\"cup\"> 6 <i class=\"fa fa-arrow-up\"></i></span> </td><td>7397</td><td><span> </span> </td></tr>,\n",
       " <tr><td>35</td><td>Uttar Pradesh</td><td>135</td><td><span class=\"down\"> 4 <i class=\"fa fa-arrow-down\"></i></span> </td><td>1686976</td><td><span class=\"cup\"> 16 <i class=\"fa fa-arrow-up\"></i></span> </td><td>22897</td><td><span> </span> </td></tr>,\n",
       " <tr><td>36</td><td>West Bengal</td><td>7576</td><td><span class=\"down\"> 81 <i class=\"fa fa-arrow-down\"></i></span> </td><td>1552491</td><td><span class=\"cup\"> 601 <i class=\"fa fa-arrow-up\"></i></span> </td><td>18945</td><td><span class=\"up\"> 10 <i class=\"fa fa-arrow-up\"></i></span> </td></tr>,\n",
       " <tr><td colspan=\"2\">Total#</td><td>203678</td><td><span class=\"down\"> 2908 <i class=\"fa fa-arrow-down\"></i></span> </td><td>33382100</td><td><span class=\"cup\">  19391 <i class=\"fa fa-arrow-up\"></i></span> </td><td>451814</td><td><span class=\"up\"> 379 <i class=\"fa fa-arrow-up\"></i></span></td></tr>,\n",
       " <tr><td align=\"center\" colspan=\"8\" style=\"text-align:center;\"><strong>***The outcome of 174 cases declared as COVID-19 deaths by the Haryana State Death Audit Committee report</strong></td></tr>,\n",
       " <tr><td align=\"center\" colspan=\"8\" style=\"text-align:center;\"><strong>*(Including foreign Nationals)</strong></td></tr>,\n",
       " <tr><td align=\"center\" colspan=\"8\" style=\"text-align:center;\"><strong>**( more than 70% cases due to comorbidities )</strong></td></tr>,\n",
       " <tr><td align=\"center\" colspan=\"8\" style=\"text-align:center;\"><strong>#States wise distribution is subject to further verification and reconciliation</strong></td></tr>,\n",
       " <tr><td align=\"center\" colspan=\"8\" style=\"text-align:center;\"><strong>#Our figures are being reconciled with ICMR</strong></td></tr>]"
      ]
     },
     "execution_count": 32,
     "metadata": {},
     "output_type": "execute_result"
    }
   ],
   "source": [
    "my_data=soup.find('tbody').find_all('tr')# Rerun the BeautifulSoup code as it maight forget the page sometimes\n",
    "my_data\n"
   ]
  },
  {
   "cell_type": "code",
   "execution_count": 33,
   "id": "e1a568ec",
   "metadata": {},
   "outputs": [
    {
     "name": "stdout",
     "output_type": "stream",
     "text": [
      "1\n",
      "Andaman and Nicobar Islands\n",
      "10\n",
      "1\n",
      "7501\n",
      "2\n",
      "129\n",
      "\n",
      "2\n",
      "Andhra Pradesh\n",
      "6588\n",
      "27\n",
      "2038248\n",
      "557\n",
      "14286\n",
      "10\n",
      "3\n",
      "Arunachal Pradesh\n",
      "202\n",
      "22\n",
      "54476\n",
      "26\n",
      "280\n",
      "\n",
      "4\n",
      "Assam\n",
      "3646\n",
      "157\n",
      "596263\n",
      "362\n",
      "5938\n",
      "2\n",
      "5\n",
      "Bihar\n",
      "42\n",
      "6\n",
      "716313\n",
      "2\n",
      "9661\n",
      "\n",
      "6\n",
      "Chandigarh\n",
      "32\n",
      "5\n",
      "64443\n",
      "15\n",
      "820\n",
      "\n",
      "7\n",
      "Chhattisgarh\n",
      "203\n",
      "4\n",
      "991841\n",
      "20\n",
      "13570\n",
      "\n",
      "8\n",
      "Dadra and Nagar Haveli and Daman and Diu\n",
      "3\n",
      "1\n",
      "10668\n",
      "1\n",
      "4\n",
      "\n",
      "9\n",
      "Delhi\n",
      "337\n",
      "1\n",
      "1413885\n",
      "29\n",
      "25089\n",
      "\n",
      "10\n",
      "Goa\n",
      "679\n",
      "27\n",
      "173342\n",
      "39\n",
      "3335\n",
      "2\n",
      "11\n",
      "Gujarat\n",
      "215\n",
      "20\n",
      "815943\n",
      "14\n",
      "10086\n",
      "\n",
      "12\n",
      "Haryana***\n",
      "105\n",
      "158\n",
      "760881\n",
      "\n",
      "10049\n",
      "174\n",
      "13\n",
      "Himachal Pradesh\n",
      "1387\n",
      "5\n",
      "216011\n",
      "173\n",
      "3715\n",
      "4\n",
      "14\n",
      "Jammu and Kashmir\n",
      "935\n",
      "11\n",
      "325473\n",
      "104\n",
      "4426\n",
      "\n",
      "15\n",
      "Jharkhand\n",
      "130\n",
      "4\n",
      "343141\n",
      "7\n",
      "5135\n",
      "\n",
      "16\n",
      "Karnataka\n",
      "9607\n",
      "43\n",
      "2934870\n",
      "347\n",
      "37922\n",
      "6\n",
      "17\n",
      "Kerala\n",
      "96421\n",
      "1802\n",
      "4706856\n",
      "10952\n",
      "26667\n",
      "96\n",
      "18\n",
      "Ladakh\n",
      "44\n",
      "2\n",
      "20615\n",
      "4\n",
      "208\n",
      "\n",
      "19\n",
      "Lakshadweep\n",
      "2\n",
      "\n",
      "10312\n",
      "\n",
      "51\n",
      "\n",
      "20\n",
      "Madhya Pradesh\n",
      "111\n",
      "1\n",
      "782035\n",
      "11\n",
      "10523\n",
      "\n",
      "21\n",
      "Maharashtra\n",
      "33157\n",
      "6\n",
      "6413418\n",
      "2343\n",
      "139705\n",
      "35\n",
      "22\n",
      "Manipur\n",
      "1444\n",
      "15\n",
      "119099\n",
      "84\n",
      "1889\n",
      "\n",
      "23\n",
      "Meghalaya\n",
      "892\n",
      "31\n",
      "80411\n",
      "115\n",
      "1431\n",
      "3\n",
      "24\n",
      "Mizoram\n",
      "13601\n",
      "435\n",
      "96744\n",
      "1332\n",
      "374\n",
      "4\n",
      "25\n",
      "Nagaland\n",
      "230\n",
      "8\n",
      "30613\n",
      "17\n",
      "673\n",
      "\n",
      "26\n",
      "Odisha\n",
      "4890\n",
      "38\n",
      "1020645\n",
      "477\n",
      "8274\n",
      "6\n",
      "27\n",
      "Puducherry\n",
      "647\n",
      "4\n",
      "124763\n",
      "53\n",
      "1849\n",
      "\n",
      "28\n",
      "Punjab\n",
      "234\n",
      "11\n",
      "585199\n",
      "16\n",
      "16538\n",
      "6\n",
      "29\n",
      "Rajasthan\n",
      "42\n",
      "6\n",
      "945386\n",
      "2\n",
      "8954\n",
      "\n",
      "30\n",
      "Sikkim\n",
      "224\n",
      "1\n",
      "31108\n",
      "7\n",
      "390\n",
      "\n",
      "31\n",
      "Tamil Nadu\n",
      "15451\n",
      "199\n",
      "2632092\n",
      "1438\n",
      "35853\n",
      "20\n",
      "32\n",
      "Telangana\n",
      "4171\n",
      "40\n",
      "660512\n",
      "207\n",
      "3935\n",
      "1\n",
      "33\n",
      "Tripura\n",
      "110\n",
      "8\n",
      "83369\n",
      "12\n",
      "816\n",
      "\n",
      "34\n",
      "Uttarakhand\n",
      "175\n",
      "22\n",
      "336157\n",
      "6\n",
      "7397\n",
      "\n",
      "35\n",
      "Uttar Pradesh\n",
      "135\n",
      "4\n",
      "1686976\n",
      "16\n",
      "22897\n",
      "\n",
      "36\n",
      "West Bengal\n",
      "7576\n",
      "81\n",
      "1552491\n",
      "601\n",
      "18945\n",
      "10\n",
      "Total#\n",
      "203678\n",
      "2908\n",
      "33382100\n",
      "19391\n",
      "451814\n",
      "379\n",
      "***The outcome of 174 cases declared as COVID-19 deaths by the Haryana State Death Audit Committee report\n",
      "*(Including foreign Nationals)\n",
      "**( more than 70% cases due to comorbidities )\n",
      "#States wise distribution is subject to further verification and reconciliation\n",
      "#Our figures are being reconciled with ICMR\n"
     ]
    }
   ],
   "source": [
    "for tr in my_data:\n",
    "    for td in tr:\n",
    "        print(td.text.strip())"
   ]
  },
  {
   "cell_type": "code",
   "execution_count": 34,
   "id": "180843fa",
   "metadata": {},
   "outputs": [],
   "source": [
    "mytable_data=[]"
   ]
  },
  {
   "cell_type": "code",
   "execution_count": 35,
   "id": "a8bdc90b",
   "metadata": {},
   "outputs": [],
   "source": [
    "for tr in my_data:#one by one every tr tag will be iterated\n",
    "    if isinstance(tr,NavigableString):\n",
    "        continue\n",
    "    if isinstance(tr, Tag):\n",
    "        statedata_singlerow = [-int(td.get_text().strip()) \\\n",
    "                               if (td.span != None) and (td.span.get('class',[0])[0] == \"down\") \\\n",
    "                               else td.get_text().strip() \\\n",
    "                               for td in tr.find_all(\"td\")]\n",
    "        data = dict(zip( heading,(statedata_singlerow) )) \n",
    "        mytable_data.append(data)"
   ]
  },
  {
   "cell_type": "code",
   "execution_count": 36,
   "id": "e1ab7311",
   "metadata": {},
   "outputs": [
    {
     "data": {
      "text/plain": [
       "[{'S. No.': '1',\n",
       "  'Name of State / UT': 'Andaman and Nicobar Islands',\n",
       "  'Active Cases* Total': '10',\n",
       "  'Active Cases* Change Since Yesterday': '1',\n",
       "  'Cured/Discharged/Migrated* Cumulative': '7501',\n",
       "  'Cured/Discharged/Migrated* Change since yesterday': '2',\n",
       "  'Deaths** Cumulative': '129',\n",
       "  'Deaths** Change since yesterday': ''},\n",
       " {'S. No.': '2',\n",
       "  'Name of State / UT': 'Andhra Pradesh',\n",
       "  'Active Cases* Total': '6588',\n",
       "  'Active Cases* Change Since Yesterday': -27,\n",
       "  'Cured/Discharged/Migrated* Cumulative': '2038248',\n",
       "  'Cured/Discharged/Migrated* Change since yesterday': '557',\n",
       "  'Deaths** Cumulative': '14286',\n",
       "  'Deaths** Change since yesterday': '10'},\n",
       " {'S. No.': '3',\n",
       "  'Name of State / UT': 'Arunachal Pradesh',\n",
       "  'Active Cases* Total': '202',\n",
       "  'Active Cases* Change Since Yesterday': -22,\n",
       "  'Cured/Discharged/Migrated* Cumulative': '54476',\n",
       "  'Cured/Discharged/Migrated* Change since yesterday': '26',\n",
       "  'Deaths** Cumulative': '280',\n",
       "  'Deaths** Change since yesterday': ''},\n",
       " {'S. No.': '4',\n",
       "  'Name of State / UT': 'Assam',\n",
       "  'Active Cases* Total': '3646',\n",
       "  'Active Cases* Change Since Yesterday': -157,\n",
       "  'Cured/Discharged/Migrated* Cumulative': '596263',\n",
       "  'Cured/Discharged/Migrated* Change since yesterday': '362',\n",
       "  'Deaths** Cumulative': '5938',\n",
       "  'Deaths** Change since yesterday': '2'},\n",
       " {'S. No.': '5',\n",
       "  'Name of State / UT': 'Bihar',\n",
       "  'Active Cases* Total': '42',\n",
       "  'Active Cases* Change Since Yesterday': '6',\n",
       "  'Cured/Discharged/Migrated* Cumulative': '716313',\n",
       "  'Cured/Discharged/Migrated* Change since yesterday': '2',\n",
       "  'Deaths** Cumulative': '9661',\n",
       "  'Deaths** Change since yesterday': ''},\n",
       " {'S. No.': '6',\n",
       "  'Name of State / UT': 'Chandigarh',\n",
       "  'Active Cases* Total': '32',\n",
       "  'Active Cases* Change Since Yesterday': -5,\n",
       "  'Cured/Discharged/Migrated* Cumulative': '64443',\n",
       "  'Cured/Discharged/Migrated* Change since yesterday': '15',\n",
       "  'Deaths** Cumulative': '820',\n",
       "  'Deaths** Change since yesterday': ''},\n",
       " {'S. No.': '7',\n",
       "  'Name of State / UT': 'Chhattisgarh',\n",
       "  'Active Cases* Total': '203',\n",
       "  'Active Cases* Change Since Yesterday': -4,\n",
       "  'Cured/Discharged/Migrated* Cumulative': '991841',\n",
       "  'Cured/Discharged/Migrated* Change since yesterday': '20',\n",
       "  'Deaths** Cumulative': '13570',\n",
       "  'Deaths** Change since yesterday': ''},\n",
       " {'S. No.': '8',\n",
       "  'Name of State / UT': 'Dadra and Nagar Haveli and Daman and Diu',\n",
       "  'Active Cases* Total': '3',\n",
       "  'Active Cases* Change Since Yesterday': -1,\n",
       "  'Cured/Discharged/Migrated* Cumulative': '10668',\n",
       "  'Cured/Discharged/Migrated* Change since yesterday': '1',\n",
       "  'Deaths** Cumulative': '4',\n",
       "  'Deaths** Change since yesterday': ''},\n",
       " {'S. No.': '9',\n",
       "  'Name of State / UT': 'Delhi',\n",
       "  'Active Cases* Total': '337',\n",
       "  'Active Cases* Change Since Yesterday': -1,\n",
       "  'Cured/Discharged/Migrated* Cumulative': '1413885',\n",
       "  'Cured/Discharged/Migrated* Change since yesterday': '29',\n",
       "  'Deaths** Cumulative': '25089',\n",
       "  'Deaths** Change since yesterday': ''},\n",
       " {'S. No.': '10',\n",
       "  'Name of State / UT': 'Goa',\n",
       "  'Active Cases* Total': '679',\n",
       "  'Active Cases* Change Since Yesterday': '27',\n",
       "  'Cured/Discharged/Migrated* Cumulative': '173342',\n",
       "  'Cured/Discharged/Migrated* Change since yesterday': '39',\n",
       "  'Deaths** Cumulative': '3335',\n",
       "  'Deaths** Change since yesterday': '2'},\n",
       " {'S. No.': '11',\n",
       "  'Name of State / UT': 'Gujarat',\n",
       "  'Active Cases* Total': '215',\n",
       "  'Active Cases* Change Since Yesterday': '20',\n",
       "  'Cured/Discharged/Migrated* Cumulative': '815943',\n",
       "  'Cured/Discharged/Migrated* Change since yesterday': '14',\n",
       "  'Deaths** Cumulative': '10086',\n",
       "  'Deaths** Change since yesterday': ''},\n",
       " {'S. No.': '12',\n",
       "  'Name of State / UT': 'Haryana***',\n",
       "  'Active Cases* Total': '105',\n",
       "  'Active Cases* Change Since Yesterday': -158,\n",
       "  'Cured/Discharged/Migrated* Cumulative': '760881',\n",
       "  'Cured/Discharged/Migrated* Change since yesterday': '',\n",
       "  'Deaths** Cumulative': '10049',\n",
       "  'Deaths** Change since yesterday': '174'},\n",
       " {'S. No.': '13',\n",
       "  'Name of State / UT': 'Himachal Pradesh',\n",
       "  'Active Cases* Total': '1387',\n",
       "  'Active Cases* Change Since Yesterday': '5',\n",
       "  'Cured/Discharged/Migrated* Cumulative': '216011',\n",
       "  'Cured/Discharged/Migrated* Change since yesterday': '173',\n",
       "  'Deaths** Cumulative': '3715',\n",
       "  'Deaths** Change since yesterday': '4'},\n",
       " {'S. No.': '14',\n",
       "  'Name of State / UT': 'Jammu and Kashmir',\n",
       "  'Active Cases* Total': '935',\n",
       "  'Active Cases* Change Since Yesterday': -11,\n",
       "  'Cured/Discharged/Migrated* Cumulative': '325473',\n",
       "  'Cured/Discharged/Migrated* Change since yesterday': '104',\n",
       "  'Deaths** Cumulative': '4426',\n",
       "  'Deaths** Change since yesterday': ''},\n",
       " {'S. No.': '15',\n",
       "  'Name of State / UT': 'Jharkhand',\n",
       "  'Active Cases* Total': '130',\n",
       "  'Active Cases* Change Since Yesterday': '4',\n",
       "  'Cured/Discharged/Migrated* Cumulative': '343141',\n",
       "  'Cured/Discharged/Migrated* Change since yesterday': '7',\n",
       "  'Deaths** Cumulative': '5135',\n",
       "  'Deaths** Change since yesterday': ''},\n",
       " {'S. No.': '16',\n",
       "  'Name of State / UT': 'Karnataka',\n",
       "  'Active Cases* Total': '9607',\n",
       "  'Active Cases* Change Since Yesterday': -43,\n",
       "  'Cured/Discharged/Migrated* Cumulative': '2934870',\n",
       "  'Cured/Discharged/Migrated* Change since yesterday': '347',\n",
       "  'Deaths** Cumulative': '37922',\n",
       "  'Deaths** Change since yesterday': '6'},\n",
       " {'S. No.': '17',\n",
       "  'Name of State / UT': 'Kerala',\n",
       "  'Active Cases* Total': '96421',\n",
       "  'Active Cases* Change Since Yesterday': -1802,\n",
       "  'Cured/Discharged/Migrated* Cumulative': '4706856',\n",
       "  'Cured/Discharged/Migrated* Change since yesterday': '10952',\n",
       "  'Deaths** Cumulative': '26667',\n",
       "  'Deaths** Change since yesterday': '96'},\n",
       " {'S. No.': '18',\n",
       "  'Name of State / UT': 'Ladakh',\n",
       "  'Active Cases* Total': '44',\n",
       "  'Active Cases* Change Since Yesterday': '2',\n",
       "  'Cured/Discharged/Migrated* Cumulative': '20615',\n",
       "  'Cured/Discharged/Migrated* Change since yesterday': '4',\n",
       "  'Deaths** Cumulative': '208',\n",
       "  'Deaths** Change since yesterday': ''},\n",
       " {'S. No.': '19',\n",
       "  'Name of State / UT': 'Lakshadweep',\n",
       "  'Active Cases* Total': '2',\n",
       "  'Active Cases* Change Since Yesterday': '',\n",
       "  'Cured/Discharged/Migrated* Cumulative': '10312',\n",
       "  'Cured/Discharged/Migrated* Change since yesterday': '',\n",
       "  'Deaths** Cumulative': '51',\n",
       "  'Deaths** Change since yesterday': ''},\n",
       " {'S. No.': '20',\n",
       "  'Name of State / UT': 'Madhya Pradesh',\n",
       "  'Active Cases* Total': '111',\n",
       "  'Active Cases* Change Since Yesterday': '1',\n",
       "  'Cured/Discharged/Migrated* Cumulative': '782035',\n",
       "  'Cured/Discharged/Migrated* Change since yesterday': '11',\n",
       "  'Deaths** Cumulative': '10523',\n",
       "  'Deaths** Change since yesterday': ''},\n",
       " {'S. No.': '21',\n",
       "  'Name of State / UT': 'Maharashtra',\n",
       "  'Active Cases* Total': '33157',\n",
       "  'Active Cases* Change Since Yesterday': '6',\n",
       "  'Cured/Discharged/Migrated* Cumulative': '6413418',\n",
       "  'Cured/Discharged/Migrated* Change since yesterday': '2343',\n",
       "  'Deaths** Cumulative': '139705',\n",
       "  'Deaths** Change since yesterday': '35'},\n",
       " {'S. No.': '22',\n",
       "  'Name of State / UT': 'Manipur',\n",
       "  'Active Cases* Total': '1444',\n",
       "  'Active Cases* Change Since Yesterday': -15,\n",
       "  'Cured/Discharged/Migrated* Cumulative': '119099',\n",
       "  'Cured/Discharged/Migrated* Change since yesterday': '84',\n",
       "  'Deaths** Cumulative': '1889',\n",
       "  'Deaths** Change since yesterday': ''},\n",
       " {'S. No.': '23',\n",
       "  'Name of State / UT': 'Meghalaya',\n",
       "  'Active Cases* Total': '892',\n",
       "  'Active Cases* Change Since Yesterday': -31,\n",
       "  'Cured/Discharged/Migrated* Cumulative': '80411',\n",
       "  'Cured/Discharged/Migrated* Change since yesterday': '115',\n",
       "  'Deaths** Cumulative': '1431',\n",
       "  'Deaths** Change since yesterday': '3'},\n",
       " {'S. No.': '24',\n",
       "  'Name of State / UT': 'Mizoram',\n",
       "  'Active Cases* Total': '13601',\n",
       "  'Active Cases* Change Since Yesterday': -435,\n",
       "  'Cured/Discharged/Migrated* Cumulative': '96744',\n",
       "  'Cured/Discharged/Migrated* Change since yesterday': '1332',\n",
       "  'Deaths** Cumulative': '374',\n",
       "  'Deaths** Change since yesterday': '4'},\n",
       " {'S. No.': '25',\n",
       "  'Name of State / UT': 'Nagaland',\n",
       "  'Active Cases* Total': '230',\n",
       "  'Active Cases* Change Since Yesterday': -8,\n",
       "  'Cured/Discharged/Migrated* Cumulative': '30613',\n",
       "  'Cured/Discharged/Migrated* Change since yesterday': '17',\n",
       "  'Deaths** Cumulative': '673',\n",
       "  'Deaths** Change since yesterday': ''},\n",
       " {'S. No.': '26',\n",
       "  'Name of State / UT': 'Odisha',\n",
       "  'Active Cases* Total': '4890',\n",
       "  'Active Cases* Change Since Yesterday': '38',\n",
       "  'Cured/Discharged/Migrated* Cumulative': '1020645',\n",
       "  'Cured/Discharged/Migrated* Change since yesterday': '477',\n",
       "  'Deaths** Cumulative': '8274',\n",
       "  'Deaths** Change since yesterday': '6'},\n",
       " {'S. No.': '27',\n",
       "  'Name of State / UT': 'Puducherry',\n",
       "  'Active Cases* Total': '647',\n",
       "  'Active Cases* Change Since Yesterday': -4,\n",
       "  'Cured/Discharged/Migrated* Cumulative': '124763',\n",
       "  'Cured/Discharged/Migrated* Change since yesterday': '53',\n",
       "  'Deaths** Cumulative': '1849',\n",
       "  'Deaths** Change since yesterday': ''},\n",
       " {'S. No.': '28',\n",
       "  'Name of State / UT': 'Punjab',\n",
       "  'Active Cases* Total': '234',\n",
       "  'Active Cases* Change Since Yesterday': '11',\n",
       "  'Cured/Discharged/Migrated* Cumulative': '585199',\n",
       "  'Cured/Discharged/Migrated* Change since yesterday': '16',\n",
       "  'Deaths** Cumulative': '16538',\n",
       "  'Deaths** Change since yesterday': '6'},\n",
       " {'S. No.': '29',\n",
       "  'Name of State / UT': 'Rajasthan',\n",
       "  'Active Cases* Total': '42',\n",
       "  'Active Cases* Change Since Yesterday': '6',\n",
       "  'Cured/Discharged/Migrated* Cumulative': '945386',\n",
       "  'Cured/Discharged/Migrated* Change since yesterday': '2',\n",
       "  'Deaths** Cumulative': '8954',\n",
       "  'Deaths** Change since yesterday': ''},\n",
       " {'S. No.': '30',\n",
       "  'Name of State / UT': 'Sikkim',\n",
       "  'Active Cases* Total': '224',\n",
       "  'Active Cases* Change Since Yesterday': -1,\n",
       "  'Cured/Discharged/Migrated* Cumulative': '31108',\n",
       "  'Cured/Discharged/Migrated* Change since yesterday': '7',\n",
       "  'Deaths** Cumulative': '390',\n",
       "  'Deaths** Change since yesterday': ''},\n",
       " {'S. No.': '31',\n",
       "  'Name of State / UT': 'Tamil Nadu',\n",
       "  'Active Cases* Total': '15451',\n",
       "  'Active Cases* Change Since Yesterday': -199,\n",
       "  'Cured/Discharged/Migrated* Cumulative': '2632092',\n",
       "  'Cured/Discharged/Migrated* Change since yesterday': '1438',\n",
       "  'Deaths** Cumulative': '35853',\n",
       "  'Deaths** Change since yesterday': '20'},\n",
       " {'S. No.': '32',\n",
       "  'Name of State / UT': 'Telangana',\n",
       "  'Active Cases* Total': '4171',\n",
       "  'Active Cases* Change Since Yesterday': -40,\n",
       "  'Cured/Discharged/Migrated* Cumulative': '660512',\n",
       "  'Cured/Discharged/Migrated* Change since yesterday': '207',\n",
       "  'Deaths** Cumulative': '3935',\n",
       "  'Deaths** Change since yesterday': '1'},\n",
       " {'S. No.': '33',\n",
       "  'Name of State / UT': 'Tripura',\n",
       "  'Active Cases* Total': '110',\n",
       "  'Active Cases* Change Since Yesterday': -8,\n",
       "  'Cured/Discharged/Migrated* Cumulative': '83369',\n",
       "  'Cured/Discharged/Migrated* Change since yesterday': '12',\n",
       "  'Deaths** Cumulative': '816',\n",
       "  'Deaths** Change since yesterday': ''},\n",
       " {'S. No.': '34',\n",
       "  'Name of State / UT': 'Uttarakhand',\n",
       "  'Active Cases* Total': '175',\n",
       "  'Active Cases* Change Since Yesterday': '22',\n",
       "  'Cured/Discharged/Migrated* Cumulative': '336157',\n",
       "  'Cured/Discharged/Migrated* Change since yesterday': '6',\n",
       "  'Deaths** Cumulative': '7397',\n",
       "  'Deaths** Change since yesterday': ''},\n",
       " {'S. No.': '35',\n",
       "  'Name of State / UT': 'Uttar Pradesh',\n",
       "  'Active Cases* Total': '135',\n",
       "  'Active Cases* Change Since Yesterday': -4,\n",
       "  'Cured/Discharged/Migrated* Cumulative': '1686976',\n",
       "  'Cured/Discharged/Migrated* Change since yesterday': '16',\n",
       "  'Deaths** Cumulative': '22897',\n",
       "  'Deaths** Change since yesterday': ''},\n",
       " {'S. No.': '36',\n",
       "  'Name of State / UT': 'West Bengal',\n",
       "  'Active Cases* Total': '7576',\n",
       "  'Active Cases* Change Since Yesterday': -81,\n",
       "  'Cured/Discharged/Migrated* Cumulative': '1552491',\n",
       "  'Cured/Discharged/Migrated* Change since yesterday': '601',\n",
       "  'Deaths** Cumulative': '18945',\n",
       "  'Deaths** Change since yesterday': '10'},\n",
       " {'S. No.': 'Total#',\n",
       "  'Name of State / UT': '203678',\n",
       "  'Active Cases* Total': -2908,\n",
       "  'Active Cases* Change Since Yesterday': '33382100',\n",
       "  'Cured/Discharged/Migrated* Cumulative': '19391',\n",
       "  'Cured/Discharged/Migrated* Change since yesterday': '451814',\n",
       "  'Deaths** Cumulative': '379'},\n",
       " {'S. No.': '***The outcome of 174 cases declared as COVID-19 deaths by the Haryana State Death Audit Committee report'}]"
      ]
     },
     "execution_count": 36,
     "metadata": {},
     "output_type": "execute_result"
    }
   ],
   "source": [
    "mytable_data=mytable_data[0:-4]\n",
    "mytable_data"
   ]
  },
  {
   "cell_type": "code",
   "execution_count": 37,
   "id": "9c07ab0a",
   "metadata": {},
   "outputs": [],
   "source": [
    "india_covid_data=pd.DataFrame(mytable_data,columns=heading)\n",
    "india_covid_data.drop(axis=1,labels='S. No.',inplace=True)"
   ]
  },
  {
   "cell_type": "code",
   "execution_count": 38,
   "id": "8857cec6",
   "metadata": {},
   "outputs": [],
   "source": [
    "india_covid_data.drop(axis=0,labels=37,inplace=True)"
   ]
  },
  {
   "cell_type": "code",
   "execution_count": 39,
   "id": "3c07b5d4",
   "metadata": {},
   "outputs": [
    {
     "data": {
      "text/html": [
       "<div>\n",
       "<style scoped>\n",
       "    .dataframe tbody tr th:only-of-type {\n",
       "        vertical-align: middle;\n",
       "    }\n",
       "\n",
       "    .dataframe tbody tr th {\n",
       "        vertical-align: top;\n",
       "    }\n",
       "\n",
       "    .dataframe thead th {\n",
       "        text-align: right;\n",
       "    }\n",
       "</style>\n",
       "<table border=\"1\" class=\"dataframe\">\n",
       "  <thead>\n",
       "    <tr style=\"text-align: right;\">\n",
       "      <th></th>\n",
       "      <th>Name of State / UT</th>\n",
       "      <th>Active Cases* Total</th>\n",
       "      <th>Active Cases* Change Since Yesterday</th>\n",
       "      <th>Cured/Discharged/Migrated* Cumulative</th>\n",
       "      <th>Cured/Discharged/Migrated* Change since yesterday</th>\n",
       "      <th>Deaths** Cumulative</th>\n",
       "      <th>Deaths** Change since yesterday</th>\n",
       "    </tr>\n",
       "  </thead>\n",
       "  <tbody>\n",
       "    <tr>\n",
       "      <th>0</th>\n",
       "      <td>Andaman and Nicobar Islands</td>\n",
       "      <td>10</td>\n",
       "      <td>1</td>\n",
       "      <td>7501</td>\n",
       "      <td>2</td>\n",
       "      <td>129</td>\n",
       "      <td></td>\n",
       "    </tr>\n",
       "    <tr>\n",
       "      <th>1</th>\n",
       "      <td>Andhra Pradesh</td>\n",
       "      <td>6588</td>\n",
       "      <td>-27</td>\n",
       "      <td>2038248</td>\n",
       "      <td>557</td>\n",
       "      <td>14286</td>\n",
       "      <td>10</td>\n",
       "    </tr>\n",
       "    <tr>\n",
       "      <th>2</th>\n",
       "      <td>Arunachal Pradesh</td>\n",
       "      <td>202</td>\n",
       "      <td>-22</td>\n",
       "      <td>54476</td>\n",
       "      <td>26</td>\n",
       "      <td>280</td>\n",
       "      <td></td>\n",
       "    </tr>\n",
       "    <tr>\n",
       "      <th>3</th>\n",
       "      <td>Assam</td>\n",
       "      <td>3646</td>\n",
       "      <td>-157</td>\n",
       "      <td>596263</td>\n",
       "      <td>362</td>\n",
       "      <td>5938</td>\n",
       "      <td>2</td>\n",
       "    </tr>\n",
       "    <tr>\n",
       "      <th>4</th>\n",
       "      <td>Bihar</td>\n",
       "      <td>42</td>\n",
       "      <td>6</td>\n",
       "      <td>716313</td>\n",
       "      <td>2</td>\n",
       "      <td>9661</td>\n",
       "      <td></td>\n",
       "    </tr>\n",
       "    <tr>\n",
       "      <th>5</th>\n",
       "      <td>Chandigarh</td>\n",
       "      <td>32</td>\n",
       "      <td>-5</td>\n",
       "      <td>64443</td>\n",
       "      <td>15</td>\n",
       "      <td>820</td>\n",
       "      <td></td>\n",
       "    </tr>\n",
       "    <tr>\n",
       "      <th>6</th>\n",
       "      <td>Chhattisgarh</td>\n",
       "      <td>203</td>\n",
       "      <td>-4</td>\n",
       "      <td>991841</td>\n",
       "      <td>20</td>\n",
       "      <td>13570</td>\n",
       "      <td></td>\n",
       "    </tr>\n",
       "    <tr>\n",
       "      <th>7</th>\n",
       "      <td>Dadra and Nagar Haveli and Daman and Diu</td>\n",
       "      <td>3</td>\n",
       "      <td>-1</td>\n",
       "      <td>10668</td>\n",
       "      <td>1</td>\n",
       "      <td>4</td>\n",
       "      <td></td>\n",
       "    </tr>\n",
       "    <tr>\n",
       "      <th>8</th>\n",
       "      <td>Delhi</td>\n",
       "      <td>337</td>\n",
       "      <td>-1</td>\n",
       "      <td>1413885</td>\n",
       "      <td>29</td>\n",
       "      <td>25089</td>\n",
       "      <td></td>\n",
       "    </tr>\n",
       "    <tr>\n",
       "      <th>9</th>\n",
       "      <td>Goa</td>\n",
       "      <td>679</td>\n",
       "      <td>27</td>\n",
       "      <td>173342</td>\n",
       "      <td>39</td>\n",
       "      <td>3335</td>\n",
       "      <td>2</td>\n",
       "    </tr>\n",
       "    <tr>\n",
       "      <th>10</th>\n",
       "      <td>Gujarat</td>\n",
       "      <td>215</td>\n",
       "      <td>20</td>\n",
       "      <td>815943</td>\n",
       "      <td>14</td>\n",
       "      <td>10086</td>\n",
       "      <td></td>\n",
       "    </tr>\n",
       "    <tr>\n",
       "      <th>11</th>\n",
       "      <td>Haryana***</td>\n",
       "      <td>105</td>\n",
       "      <td>-158</td>\n",
       "      <td>760881</td>\n",
       "      <td></td>\n",
       "      <td>10049</td>\n",
       "      <td>174</td>\n",
       "    </tr>\n",
       "    <tr>\n",
       "      <th>12</th>\n",
       "      <td>Himachal Pradesh</td>\n",
       "      <td>1387</td>\n",
       "      <td>5</td>\n",
       "      <td>216011</td>\n",
       "      <td>173</td>\n",
       "      <td>3715</td>\n",
       "      <td>4</td>\n",
       "    </tr>\n",
       "    <tr>\n",
       "      <th>13</th>\n",
       "      <td>Jammu and Kashmir</td>\n",
       "      <td>935</td>\n",
       "      <td>-11</td>\n",
       "      <td>325473</td>\n",
       "      <td>104</td>\n",
       "      <td>4426</td>\n",
       "      <td></td>\n",
       "    </tr>\n",
       "    <tr>\n",
       "      <th>14</th>\n",
       "      <td>Jharkhand</td>\n",
       "      <td>130</td>\n",
       "      <td>4</td>\n",
       "      <td>343141</td>\n",
       "      <td>7</td>\n",
       "      <td>5135</td>\n",
       "      <td></td>\n",
       "    </tr>\n",
       "    <tr>\n",
       "      <th>15</th>\n",
       "      <td>Karnataka</td>\n",
       "      <td>9607</td>\n",
       "      <td>-43</td>\n",
       "      <td>2934870</td>\n",
       "      <td>347</td>\n",
       "      <td>37922</td>\n",
       "      <td>6</td>\n",
       "    </tr>\n",
       "    <tr>\n",
       "      <th>16</th>\n",
       "      <td>Kerala</td>\n",
       "      <td>96421</td>\n",
       "      <td>-1802</td>\n",
       "      <td>4706856</td>\n",
       "      <td>10952</td>\n",
       "      <td>26667</td>\n",
       "      <td>96</td>\n",
       "    </tr>\n",
       "    <tr>\n",
       "      <th>17</th>\n",
       "      <td>Ladakh</td>\n",
       "      <td>44</td>\n",
       "      <td>2</td>\n",
       "      <td>20615</td>\n",
       "      <td>4</td>\n",
       "      <td>208</td>\n",
       "      <td></td>\n",
       "    </tr>\n",
       "    <tr>\n",
       "      <th>18</th>\n",
       "      <td>Lakshadweep</td>\n",
       "      <td>2</td>\n",
       "      <td></td>\n",
       "      <td>10312</td>\n",
       "      <td></td>\n",
       "      <td>51</td>\n",
       "      <td></td>\n",
       "    </tr>\n",
       "    <tr>\n",
       "      <th>19</th>\n",
       "      <td>Madhya Pradesh</td>\n",
       "      <td>111</td>\n",
       "      <td>1</td>\n",
       "      <td>782035</td>\n",
       "      <td>11</td>\n",
       "      <td>10523</td>\n",
       "      <td></td>\n",
       "    </tr>\n",
       "    <tr>\n",
       "      <th>20</th>\n",
       "      <td>Maharashtra</td>\n",
       "      <td>33157</td>\n",
       "      <td>6</td>\n",
       "      <td>6413418</td>\n",
       "      <td>2343</td>\n",
       "      <td>139705</td>\n",
       "      <td>35</td>\n",
       "    </tr>\n",
       "    <tr>\n",
       "      <th>21</th>\n",
       "      <td>Manipur</td>\n",
       "      <td>1444</td>\n",
       "      <td>-15</td>\n",
       "      <td>119099</td>\n",
       "      <td>84</td>\n",
       "      <td>1889</td>\n",
       "      <td></td>\n",
       "    </tr>\n",
       "    <tr>\n",
       "      <th>22</th>\n",
       "      <td>Meghalaya</td>\n",
       "      <td>892</td>\n",
       "      <td>-31</td>\n",
       "      <td>80411</td>\n",
       "      <td>115</td>\n",
       "      <td>1431</td>\n",
       "      <td>3</td>\n",
       "    </tr>\n",
       "    <tr>\n",
       "      <th>23</th>\n",
       "      <td>Mizoram</td>\n",
       "      <td>13601</td>\n",
       "      <td>-435</td>\n",
       "      <td>96744</td>\n",
       "      <td>1332</td>\n",
       "      <td>374</td>\n",
       "      <td>4</td>\n",
       "    </tr>\n",
       "    <tr>\n",
       "      <th>24</th>\n",
       "      <td>Nagaland</td>\n",
       "      <td>230</td>\n",
       "      <td>-8</td>\n",
       "      <td>30613</td>\n",
       "      <td>17</td>\n",
       "      <td>673</td>\n",
       "      <td></td>\n",
       "    </tr>\n",
       "    <tr>\n",
       "      <th>25</th>\n",
       "      <td>Odisha</td>\n",
       "      <td>4890</td>\n",
       "      <td>38</td>\n",
       "      <td>1020645</td>\n",
       "      <td>477</td>\n",
       "      <td>8274</td>\n",
       "      <td>6</td>\n",
       "    </tr>\n",
       "    <tr>\n",
       "      <th>26</th>\n",
       "      <td>Puducherry</td>\n",
       "      <td>647</td>\n",
       "      <td>-4</td>\n",
       "      <td>124763</td>\n",
       "      <td>53</td>\n",
       "      <td>1849</td>\n",
       "      <td></td>\n",
       "    </tr>\n",
       "    <tr>\n",
       "      <th>27</th>\n",
       "      <td>Punjab</td>\n",
       "      <td>234</td>\n",
       "      <td>11</td>\n",
       "      <td>585199</td>\n",
       "      <td>16</td>\n",
       "      <td>16538</td>\n",
       "      <td>6</td>\n",
       "    </tr>\n",
       "    <tr>\n",
       "      <th>28</th>\n",
       "      <td>Rajasthan</td>\n",
       "      <td>42</td>\n",
       "      <td>6</td>\n",
       "      <td>945386</td>\n",
       "      <td>2</td>\n",
       "      <td>8954</td>\n",
       "      <td></td>\n",
       "    </tr>\n",
       "    <tr>\n",
       "      <th>29</th>\n",
       "      <td>Sikkim</td>\n",
       "      <td>224</td>\n",
       "      <td>-1</td>\n",
       "      <td>31108</td>\n",
       "      <td>7</td>\n",
       "      <td>390</td>\n",
       "      <td></td>\n",
       "    </tr>\n",
       "    <tr>\n",
       "      <th>30</th>\n",
       "      <td>Tamil Nadu</td>\n",
       "      <td>15451</td>\n",
       "      <td>-199</td>\n",
       "      <td>2632092</td>\n",
       "      <td>1438</td>\n",
       "      <td>35853</td>\n",
       "      <td>20</td>\n",
       "    </tr>\n",
       "    <tr>\n",
       "      <th>31</th>\n",
       "      <td>Telangana</td>\n",
       "      <td>4171</td>\n",
       "      <td>-40</td>\n",
       "      <td>660512</td>\n",
       "      <td>207</td>\n",
       "      <td>3935</td>\n",
       "      <td>1</td>\n",
       "    </tr>\n",
       "    <tr>\n",
       "      <th>32</th>\n",
       "      <td>Tripura</td>\n",
       "      <td>110</td>\n",
       "      <td>-8</td>\n",
       "      <td>83369</td>\n",
       "      <td>12</td>\n",
       "      <td>816</td>\n",
       "      <td></td>\n",
       "    </tr>\n",
       "    <tr>\n",
       "      <th>33</th>\n",
       "      <td>Uttarakhand</td>\n",
       "      <td>175</td>\n",
       "      <td>22</td>\n",
       "      <td>336157</td>\n",
       "      <td>6</td>\n",
       "      <td>7397</td>\n",
       "      <td></td>\n",
       "    </tr>\n",
       "    <tr>\n",
       "      <th>34</th>\n",
       "      <td>Uttar Pradesh</td>\n",
       "      <td>135</td>\n",
       "      <td>-4</td>\n",
       "      <td>1686976</td>\n",
       "      <td>16</td>\n",
       "      <td>22897</td>\n",
       "      <td></td>\n",
       "    </tr>\n",
       "    <tr>\n",
       "      <th>35</th>\n",
       "      <td>West Bengal</td>\n",
       "      <td>7576</td>\n",
       "      <td>-81</td>\n",
       "      <td>1552491</td>\n",
       "      <td>601</td>\n",
       "      <td>18945</td>\n",
       "      <td>10</td>\n",
       "    </tr>\n",
       "    <tr>\n",
       "      <th>36</th>\n",
       "      <td>203678</td>\n",
       "      <td>-2908</td>\n",
       "      <td>33382100</td>\n",
       "      <td>19391</td>\n",
       "      <td>451814</td>\n",
       "      <td>379</td>\n",
       "      <td>NaN</td>\n",
       "    </tr>\n",
       "  </tbody>\n",
       "</table>\n",
       "</div>"
      ],
      "text/plain": [
       "                          Name of State / UT Active Cases* Total  \\\n",
       "0                Andaman and Nicobar Islands                  10   \n",
       "1                             Andhra Pradesh                6588   \n",
       "2                          Arunachal Pradesh                 202   \n",
       "3                                      Assam                3646   \n",
       "4                                      Bihar                  42   \n",
       "5                                 Chandigarh                  32   \n",
       "6                               Chhattisgarh                 203   \n",
       "7   Dadra and Nagar Haveli and Daman and Diu                   3   \n",
       "8                                      Delhi                 337   \n",
       "9                                        Goa                 679   \n",
       "10                                   Gujarat                 215   \n",
       "11                                Haryana***                 105   \n",
       "12                          Himachal Pradesh                1387   \n",
       "13                         Jammu and Kashmir                 935   \n",
       "14                                 Jharkhand                 130   \n",
       "15                                 Karnataka                9607   \n",
       "16                                    Kerala               96421   \n",
       "17                                    Ladakh                  44   \n",
       "18                               Lakshadweep                   2   \n",
       "19                            Madhya Pradesh                 111   \n",
       "20                               Maharashtra               33157   \n",
       "21                                   Manipur                1444   \n",
       "22                                 Meghalaya                 892   \n",
       "23                                   Mizoram               13601   \n",
       "24                                  Nagaland                 230   \n",
       "25                                    Odisha                4890   \n",
       "26                                Puducherry                 647   \n",
       "27                                    Punjab                 234   \n",
       "28                                 Rajasthan                  42   \n",
       "29                                    Sikkim                 224   \n",
       "30                                Tamil Nadu               15451   \n",
       "31                                 Telangana                4171   \n",
       "32                                   Tripura                 110   \n",
       "33                               Uttarakhand                 175   \n",
       "34                             Uttar Pradesh                 135   \n",
       "35                               West Bengal                7576   \n",
       "36                                    203678               -2908   \n",
       "\n",
       "   Active Cases* Change Since Yesterday Cured/Discharged/Migrated* Cumulative  \\\n",
       "0                                     1                                  7501   \n",
       "1                                   -27                               2038248   \n",
       "2                                   -22                                 54476   \n",
       "3                                  -157                                596263   \n",
       "4                                     6                                716313   \n",
       "5                                    -5                                 64443   \n",
       "6                                    -4                                991841   \n",
       "7                                    -1                                 10668   \n",
       "8                                    -1                               1413885   \n",
       "9                                    27                                173342   \n",
       "10                                   20                                815943   \n",
       "11                                 -158                                760881   \n",
       "12                                    5                                216011   \n",
       "13                                  -11                                325473   \n",
       "14                                    4                                343141   \n",
       "15                                  -43                               2934870   \n",
       "16                                -1802                               4706856   \n",
       "17                                    2                                 20615   \n",
       "18                                                                      10312   \n",
       "19                                    1                                782035   \n",
       "20                                    6                               6413418   \n",
       "21                                  -15                                119099   \n",
       "22                                  -31                                 80411   \n",
       "23                                 -435                                 96744   \n",
       "24                                   -8                                 30613   \n",
       "25                                   38                               1020645   \n",
       "26                                   -4                                124763   \n",
       "27                                   11                                585199   \n",
       "28                                    6                                945386   \n",
       "29                                   -1                                 31108   \n",
       "30                                 -199                               2632092   \n",
       "31                                  -40                                660512   \n",
       "32                                   -8                                 83369   \n",
       "33                                   22                                336157   \n",
       "34                                   -4                               1686976   \n",
       "35                                  -81                               1552491   \n",
       "36                             33382100                                 19391   \n",
       "\n",
       "   Cured/Discharged/Migrated* Change since yesterday Deaths** Cumulative  \\\n",
       "0                                                  2                 129   \n",
       "1                                                557               14286   \n",
       "2                                                 26                 280   \n",
       "3                                                362                5938   \n",
       "4                                                  2                9661   \n",
       "5                                                 15                 820   \n",
       "6                                                 20               13570   \n",
       "7                                                  1                   4   \n",
       "8                                                 29               25089   \n",
       "9                                                 39                3335   \n",
       "10                                                14               10086   \n",
       "11                                                                 10049   \n",
       "12                                               173                3715   \n",
       "13                                               104                4426   \n",
       "14                                                 7                5135   \n",
       "15                                               347               37922   \n",
       "16                                             10952               26667   \n",
       "17                                                 4                 208   \n",
       "18                                                                    51   \n",
       "19                                                11               10523   \n",
       "20                                              2343              139705   \n",
       "21                                                84                1889   \n",
       "22                                               115                1431   \n",
       "23                                              1332                 374   \n",
       "24                                                17                 673   \n",
       "25                                               477                8274   \n",
       "26                                                53                1849   \n",
       "27                                                16               16538   \n",
       "28                                                 2                8954   \n",
       "29                                                 7                 390   \n",
       "30                                              1438               35853   \n",
       "31                                               207                3935   \n",
       "32                                                12                 816   \n",
       "33                                                 6                7397   \n",
       "34                                                16               22897   \n",
       "35                                               601               18945   \n",
       "36                                            451814                 379   \n",
       "\n",
       "   Deaths** Change since yesterday  \n",
       "0                                   \n",
       "1                               10  \n",
       "2                                   \n",
       "3                                2  \n",
       "4                                   \n",
       "5                                   \n",
       "6                                   \n",
       "7                                   \n",
       "8                                   \n",
       "9                                2  \n",
       "10                                  \n",
       "11                             174  \n",
       "12                               4  \n",
       "13                                  \n",
       "14                                  \n",
       "15                               6  \n",
       "16                              96  \n",
       "17                                  \n",
       "18                                  \n",
       "19                                  \n",
       "20                              35  \n",
       "21                                  \n",
       "22                               3  \n",
       "23                               4  \n",
       "24                                  \n",
       "25                               6  \n",
       "26                                  \n",
       "27                               6  \n",
       "28                                  \n",
       "29                                  \n",
       "30                              20  \n",
       "31                               1  \n",
       "32                                  \n",
       "33                                  \n",
       "34                                  \n",
       "35                              10  \n",
       "36                             NaN  "
      ]
     },
     "execution_count": 39,
     "metadata": {},
     "output_type": "execute_result"
    }
   ],
   "source": [
    "india_covid_data"
   ]
  },
  {
   "cell_type": "code",
   "execution_count": null,
   "id": "4b159374",
   "metadata": {},
   "outputs": [],
   "source": []
  },
  {
   "cell_type": "code",
   "execution_count": 42,
   "id": "be34eca5",
   "metadata": {},
   "outputs": [],
   "source": [
    "india_covid_data.loc[36:37,'Deaths** Change since yesterday']=india_covid_data.loc[36:37,'Deaths** Cumulative']\n",
    "\n",
    "india_covid_data.loc[36:37,'Deaths** Cumulative']=india_covid_data.loc[36:37,'Cured/Discharged/Migrated* Change since yesterday']\n",
    "\n",
    "india_covid_data.loc[36:37,'Cured/Discharged/Migrated* Change since yesterday']=india_covid_data.loc[36:37,'Cured/Discharged/Migrated* Cumulative']\n",
    "\n",
    "india_covid_data.loc[36:37,'Cured/Discharged/Migrated* Cumulative']=india_covid_data.loc[36:37,'Active Cases* Change Since Yesterday']\n",
    "\n",
    "india_covid_data.loc[36:37,'Active Cases* Change Since Yesterday']=india_covid_data.loc[36:37,'Active Cases* Total']\n",
    "\n",
    "india_covid_data.loc[36:37,'Active Cases* Total']=india_covid_data.loc[36:37,'Name of State / UT']\n",
    "\n",
    "india_covid_data.loc[36:37,'Name of State / UT']='Total'"
   ]
  },
  {
   "cell_type": "code",
   "execution_count": 43,
   "id": "42935018",
   "metadata": {},
   "outputs": [
    {
     "data": {
      "text/html": [
       "<div>\n",
       "<style scoped>\n",
       "    .dataframe tbody tr th:only-of-type {\n",
       "        vertical-align: middle;\n",
       "    }\n",
       "\n",
       "    .dataframe tbody tr th {\n",
       "        vertical-align: top;\n",
       "    }\n",
       "\n",
       "    .dataframe thead th {\n",
       "        text-align: right;\n",
       "    }\n",
       "</style>\n",
       "<table border=\"1\" class=\"dataframe\">\n",
       "  <thead>\n",
       "    <tr style=\"text-align: right;\">\n",
       "      <th></th>\n",
       "      <th>Name of State / UT</th>\n",
       "      <th>Active Cases* Total</th>\n",
       "      <th>Active Cases* Change Since Yesterday</th>\n",
       "      <th>Cured/Discharged/Migrated* Cumulative</th>\n",
       "      <th>Cured/Discharged/Migrated* Change since yesterday</th>\n",
       "      <th>Deaths** Cumulative</th>\n",
       "      <th>Deaths** Change since yesterday</th>\n",
       "    </tr>\n",
       "  </thead>\n",
       "  <tbody>\n",
       "    <tr>\n",
       "      <th>0</th>\n",
       "      <td>Andaman and Nicobar Islands</td>\n",
       "      <td>10</td>\n",
       "      <td>1</td>\n",
       "      <td>7501</td>\n",
       "      <td>2</td>\n",
       "      <td>129</td>\n",
       "      <td></td>\n",
       "    </tr>\n",
       "    <tr>\n",
       "      <th>1</th>\n",
       "      <td>Andhra Pradesh</td>\n",
       "      <td>6588</td>\n",
       "      <td>-27</td>\n",
       "      <td>2038248</td>\n",
       "      <td>557</td>\n",
       "      <td>14286</td>\n",
       "      <td>10</td>\n",
       "    </tr>\n",
       "    <tr>\n",
       "      <th>2</th>\n",
       "      <td>Arunachal Pradesh</td>\n",
       "      <td>202</td>\n",
       "      <td>-22</td>\n",
       "      <td>54476</td>\n",
       "      <td>26</td>\n",
       "      <td>280</td>\n",
       "      <td></td>\n",
       "    </tr>\n",
       "    <tr>\n",
       "      <th>3</th>\n",
       "      <td>Assam</td>\n",
       "      <td>3646</td>\n",
       "      <td>-157</td>\n",
       "      <td>596263</td>\n",
       "      <td>362</td>\n",
       "      <td>5938</td>\n",
       "      <td>2</td>\n",
       "    </tr>\n",
       "    <tr>\n",
       "      <th>4</th>\n",
       "      <td>Bihar</td>\n",
       "      <td>42</td>\n",
       "      <td>6</td>\n",
       "      <td>716313</td>\n",
       "      <td>2</td>\n",
       "      <td>9661</td>\n",
       "      <td></td>\n",
       "    </tr>\n",
       "    <tr>\n",
       "      <th>5</th>\n",
       "      <td>Chandigarh</td>\n",
       "      <td>32</td>\n",
       "      <td>-5</td>\n",
       "      <td>64443</td>\n",
       "      <td>15</td>\n",
       "      <td>820</td>\n",
       "      <td></td>\n",
       "    </tr>\n",
       "    <tr>\n",
       "      <th>6</th>\n",
       "      <td>Chhattisgarh</td>\n",
       "      <td>203</td>\n",
       "      <td>-4</td>\n",
       "      <td>991841</td>\n",
       "      <td>20</td>\n",
       "      <td>13570</td>\n",
       "      <td></td>\n",
       "    </tr>\n",
       "    <tr>\n",
       "      <th>7</th>\n",
       "      <td>Dadra and Nagar Haveli and Daman and Diu</td>\n",
       "      <td>3</td>\n",
       "      <td>-1</td>\n",
       "      <td>10668</td>\n",
       "      <td>1</td>\n",
       "      <td>4</td>\n",
       "      <td></td>\n",
       "    </tr>\n",
       "    <tr>\n",
       "      <th>8</th>\n",
       "      <td>Delhi</td>\n",
       "      <td>337</td>\n",
       "      <td>-1</td>\n",
       "      <td>1413885</td>\n",
       "      <td>29</td>\n",
       "      <td>25089</td>\n",
       "      <td></td>\n",
       "    </tr>\n",
       "    <tr>\n",
       "      <th>9</th>\n",
       "      <td>Goa</td>\n",
       "      <td>679</td>\n",
       "      <td>27</td>\n",
       "      <td>173342</td>\n",
       "      <td>39</td>\n",
       "      <td>3335</td>\n",
       "      <td>2</td>\n",
       "    </tr>\n",
       "    <tr>\n",
       "      <th>10</th>\n",
       "      <td>Gujarat</td>\n",
       "      <td>215</td>\n",
       "      <td>20</td>\n",
       "      <td>815943</td>\n",
       "      <td>14</td>\n",
       "      <td>10086</td>\n",
       "      <td></td>\n",
       "    </tr>\n",
       "    <tr>\n",
       "      <th>11</th>\n",
       "      <td>Haryana***</td>\n",
       "      <td>105</td>\n",
       "      <td>-158</td>\n",
       "      <td>760881</td>\n",
       "      <td></td>\n",
       "      <td>10049</td>\n",
       "      <td>174</td>\n",
       "    </tr>\n",
       "    <tr>\n",
       "      <th>12</th>\n",
       "      <td>Himachal Pradesh</td>\n",
       "      <td>1387</td>\n",
       "      <td>5</td>\n",
       "      <td>216011</td>\n",
       "      <td>173</td>\n",
       "      <td>3715</td>\n",
       "      <td>4</td>\n",
       "    </tr>\n",
       "    <tr>\n",
       "      <th>13</th>\n",
       "      <td>Jammu and Kashmir</td>\n",
       "      <td>935</td>\n",
       "      <td>-11</td>\n",
       "      <td>325473</td>\n",
       "      <td>104</td>\n",
       "      <td>4426</td>\n",
       "      <td></td>\n",
       "    </tr>\n",
       "    <tr>\n",
       "      <th>14</th>\n",
       "      <td>Jharkhand</td>\n",
       "      <td>130</td>\n",
       "      <td>4</td>\n",
       "      <td>343141</td>\n",
       "      <td>7</td>\n",
       "      <td>5135</td>\n",
       "      <td></td>\n",
       "    </tr>\n",
       "    <tr>\n",
       "      <th>15</th>\n",
       "      <td>Karnataka</td>\n",
       "      <td>9607</td>\n",
       "      <td>-43</td>\n",
       "      <td>2934870</td>\n",
       "      <td>347</td>\n",
       "      <td>37922</td>\n",
       "      <td>6</td>\n",
       "    </tr>\n",
       "    <tr>\n",
       "      <th>16</th>\n",
       "      <td>Kerala</td>\n",
       "      <td>96421</td>\n",
       "      <td>-1802</td>\n",
       "      <td>4706856</td>\n",
       "      <td>10952</td>\n",
       "      <td>26667</td>\n",
       "      <td>96</td>\n",
       "    </tr>\n",
       "    <tr>\n",
       "      <th>17</th>\n",
       "      <td>Ladakh</td>\n",
       "      <td>44</td>\n",
       "      <td>2</td>\n",
       "      <td>20615</td>\n",
       "      <td>4</td>\n",
       "      <td>208</td>\n",
       "      <td></td>\n",
       "    </tr>\n",
       "    <tr>\n",
       "      <th>18</th>\n",
       "      <td>Lakshadweep</td>\n",
       "      <td>2</td>\n",
       "      <td></td>\n",
       "      <td>10312</td>\n",
       "      <td></td>\n",
       "      <td>51</td>\n",
       "      <td></td>\n",
       "    </tr>\n",
       "    <tr>\n",
       "      <th>19</th>\n",
       "      <td>Madhya Pradesh</td>\n",
       "      <td>111</td>\n",
       "      <td>1</td>\n",
       "      <td>782035</td>\n",
       "      <td>11</td>\n",
       "      <td>10523</td>\n",
       "      <td></td>\n",
       "    </tr>\n",
       "    <tr>\n",
       "      <th>20</th>\n",
       "      <td>Maharashtra</td>\n",
       "      <td>33157</td>\n",
       "      <td>6</td>\n",
       "      <td>6413418</td>\n",
       "      <td>2343</td>\n",
       "      <td>139705</td>\n",
       "      <td>35</td>\n",
       "    </tr>\n",
       "    <tr>\n",
       "      <th>21</th>\n",
       "      <td>Manipur</td>\n",
       "      <td>1444</td>\n",
       "      <td>-15</td>\n",
       "      <td>119099</td>\n",
       "      <td>84</td>\n",
       "      <td>1889</td>\n",
       "      <td></td>\n",
       "    </tr>\n",
       "    <tr>\n",
       "      <th>22</th>\n",
       "      <td>Meghalaya</td>\n",
       "      <td>892</td>\n",
       "      <td>-31</td>\n",
       "      <td>80411</td>\n",
       "      <td>115</td>\n",
       "      <td>1431</td>\n",
       "      <td>3</td>\n",
       "    </tr>\n",
       "    <tr>\n",
       "      <th>23</th>\n",
       "      <td>Mizoram</td>\n",
       "      <td>13601</td>\n",
       "      <td>-435</td>\n",
       "      <td>96744</td>\n",
       "      <td>1332</td>\n",
       "      <td>374</td>\n",
       "      <td>4</td>\n",
       "    </tr>\n",
       "    <tr>\n",
       "      <th>24</th>\n",
       "      <td>Nagaland</td>\n",
       "      <td>230</td>\n",
       "      <td>-8</td>\n",
       "      <td>30613</td>\n",
       "      <td>17</td>\n",
       "      <td>673</td>\n",
       "      <td></td>\n",
       "    </tr>\n",
       "    <tr>\n",
       "      <th>25</th>\n",
       "      <td>Odisha</td>\n",
       "      <td>4890</td>\n",
       "      <td>38</td>\n",
       "      <td>1020645</td>\n",
       "      <td>477</td>\n",
       "      <td>8274</td>\n",
       "      <td>6</td>\n",
       "    </tr>\n",
       "    <tr>\n",
       "      <th>26</th>\n",
       "      <td>Puducherry</td>\n",
       "      <td>647</td>\n",
       "      <td>-4</td>\n",
       "      <td>124763</td>\n",
       "      <td>53</td>\n",
       "      <td>1849</td>\n",
       "      <td></td>\n",
       "    </tr>\n",
       "    <tr>\n",
       "      <th>27</th>\n",
       "      <td>Punjab</td>\n",
       "      <td>234</td>\n",
       "      <td>11</td>\n",
       "      <td>585199</td>\n",
       "      <td>16</td>\n",
       "      <td>16538</td>\n",
       "      <td>6</td>\n",
       "    </tr>\n",
       "    <tr>\n",
       "      <th>28</th>\n",
       "      <td>Rajasthan</td>\n",
       "      <td>42</td>\n",
       "      <td>6</td>\n",
       "      <td>945386</td>\n",
       "      <td>2</td>\n",
       "      <td>8954</td>\n",
       "      <td></td>\n",
       "    </tr>\n",
       "    <tr>\n",
       "      <th>29</th>\n",
       "      <td>Sikkim</td>\n",
       "      <td>224</td>\n",
       "      <td>-1</td>\n",
       "      <td>31108</td>\n",
       "      <td>7</td>\n",
       "      <td>390</td>\n",
       "      <td></td>\n",
       "    </tr>\n",
       "    <tr>\n",
       "      <th>30</th>\n",
       "      <td>Tamil Nadu</td>\n",
       "      <td>15451</td>\n",
       "      <td>-199</td>\n",
       "      <td>2632092</td>\n",
       "      <td>1438</td>\n",
       "      <td>35853</td>\n",
       "      <td>20</td>\n",
       "    </tr>\n",
       "    <tr>\n",
       "      <th>31</th>\n",
       "      <td>Telangana</td>\n",
       "      <td>4171</td>\n",
       "      <td>-40</td>\n",
       "      <td>660512</td>\n",
       "      <td>207</td>\n",
       "      <td>3935</td>\n",
       "      <td>1</td>\n",
       "    </tr>\n",
       "    <tr>\n",
       "      <th>32</th>\n",
       "      <td>Tripura</td>\n",
       "      <td>110</td>\n",
       "      <td>-8</td>\n",
       "      <td>83369</td>\n",
       "      <td>12</td>\n",
       "      <td>816</td>\n",
       "      <td></td>\n",
       "    </tr>\n",
       "    <tr>\n",
       "      <th>33</th>\n",
       "      <td>Uttarakhand</td>\n",
       "      <td>175</td>\n",
       "      <td>22</td>\n",
       "      <td>336157</td>\n",
       "      <td>6</td>\n",
       "      <td>7397</td>\n",
       "      <td></td>\n",
       "    </tr>\n",
       "    <tr>\n",
       "      <th>34</th>\n",
       "      <td>Uttar Pradesh</td>\n",
       "      <td>135</td>\n",
       "      <td>-4</td>\n",
       "      <td>1686976</td>\n",
       "      <td>16</td>\n",
       "      <td>22897</td>\n",
       "      <td></td>\n",
       "    </tr>\n",
       "    <tr>\n",
       "      <th>35</th>\n",
       "      <td>West Bengal</td>\n",
       "      <td>7576</td>\n",
       "      <td>-81</td>\n",
       "      <td>1552491</td>\n",
       "      <td>601</td>\n",
       "      <td>18945</td>\n",
       "      <td>10</td>\n",
       "    </tr>\n",
       "    <tr>\n",
       "      <th>36</th>\n",
       "      <td>Total</td>\n",
       "      <td>203678</td>\n",
       "      <td>-2908</td>\n",
       "      <td>33382100</td>\n",
       "      <td>19391</td>\n",
       "      <td>451814</td>\n",
       "      <td>379</td>\n",
       "    </tr>\n",
       "  </tbody>\n",
       "</table>\n",
       "</div>"
      ],
      "text/plain": [
       "                          Name of State / UT Active Cases* Total  \\\n",
       "0                Andaman and Nicobar Islands                  10   \n",
       "1                             Andhra Pradesh                6588   \n",
       "2                          Arunachal Pradesh                 202   \n",
       "3                                      Assam                3646   \n",
       "4                                      Bihar                  42   \n",
       "5                                 Chandigarh                  32   \n",
       "6                               Chhattisgarh                 203   \n",
       "7   Dadra and Nagar Haveli and Daman and Diu                   3   \n",
       "8                                      Delhi                 337   \n",
       "9                                        Goa                 679   \n",
       "10                                   Gujarat                 215   \n",
       "11                                Haryana***                 105   \n",
       "12                          Himachal Pradesh                1387   \n",
       "13                         Jammu and Kashmir                 935   \n",
       "14                                 Jharkhand                 130   \n",
       "15                                 Karnataka                9607   \n",
       "16                                    Kerala               96421   \n",
       "17                                    Ladakh                  44   \n",
       "18                               Lakshadweep                   2   \n",
       "19                            Madhya Pradesh                 111   \n",
       "20                               Maharashtra               33157   \n",
       "21                                   Manipur                1444   \n",
       "22                                 Meghalaya                 892   \n",
       "23                                   Mizoram               13601   \n",
       "24                                  Nagaland                 230   \n",
       "25                                    Odisha                4890   \n",
       "26                                Puducherry                 647   \n",
       "27                                    Punjab                 234   \n",
       "28                                 Rajasthan                  42   \n",
       "29                                    Sikkim                 224   \n",
       "30                                Tamil Nadu               15451   \n",
       "31                                 Telangana                4171   \n",
       "32                                   Tripura                 110   \n",
       "33                               Uttarakhand                 175   \n",
       "34                             Uttar Pradesh                 135   \n",
       "35                               West Bengal                7576   \n",
       "36                                     Total              203678   \n",
       "\n",
       "   Active Cases* Change Since Yesterday Cured/Discharged/Migrated* Cumulative  \\\n",
       "0                                     1                                  7501   \n",
       "1                                   -27                               2038248   \n",
       "2                                   -22                                 54476   \n",
       "3                                  -157                                596263   \n",
       "4                                     6                                716313   \n",
       "5                                    -5                                 64443   \n",
       "6                                    -4                                991841   \n",
       "7                                    -1                                 10668   \n",
       "8                                    -1                               1413885   \n",
       "9                                    27                                173342   \n",
       "10                                   20                                815943   \n",
       "11                                 -158                                760881   \n",
       "12                                    5                                216011   \n",
       "13                                  -11                                325473   \n",
       "14                                    4                                343141   \n",
       "15                                  -43                               2934870   \n",
       "16                                -1802                               4706856   \n",
       "17                                    2                                 20615   \n",
       "18                                                                      10312   \n",
       "19                                    1                                782035   \n",
       "20                                    6                               6413418   \n",
       "21                                  -15                                119099   \n",
       "22                                  -31                                 80411   \n",
       "23                                 -435                                 96744   \n",
       "24                                   -8                                 30613   \n",
       "25                                   38                               1020645   \n",
       "26                                   -4                                124763   \n",
       "27                                   11                                585199   \n",
       "28                                    6                                945386   \n",
       "29                                   -1                                 31108   \n",
       "30                                 -199                               2632092   \n",
       "31                                  -40                                660512   \n",
       "32                                   -8                                 83369   \n",
       "33                                   22                                336157   \n",
       "34                                   -4                               1686976   \n",
       "35                                  -81                               1552491   \n",
       "36                                -2908                              33382100   \n",
       "\n",
       "   Cured/Discharged/Migrated* Change since yesterday Deaths** Cumulative  \\\n",
       "0                                                  2                 129   \n",
       "1                                                557               14286   \n",
       "2                                                 26                 280   \n",
       "3                                                362                5938   \n",
       "4                                                  2                9661   \n",
       "5                                                 15                 820   \n",
       "6                                                 20               13570   \n",
       "7                                                  1                   4   \n",
       "8                                                 29               25089   \n",
       "9                                                 39                3335   \n",
       "10                                                14               10086   \n",
       "11                                                                 10049   \n",
       "12                                               173                3715   \n",
       "13                                               104                4426   \n",
       "14                                                 7                5135   \n",
       "15                                               347               37922   \n",
       "16                                             10952               26667   \n",
       "17                                                 4                 208   \n",
       "18                                                                    51   \n",
       "19                                                11               10523   \n",
       "20                                              2343              139705   \n",
       "21                                                84                1889   \n",
       "22                                               115                1431   \n",
       "23                                              1332                 374   \n",
       "24                                                17                 673   \n",
       "25                                               477                8274   \n",
       "26                                                53                1849   \n",
       "27                                                16               16538   \n",
       "28                                                 2                8954   \n",
       "29                                                 7                 390   \n",
       "30                                              1438               35853   \n",
       "31                                               207                3935   \n",
       "32                                                12                 816   \n",
       "33                                                 6                7397   \n",
       "34                                                16               22897   \n",
       "35                                               601               18945   \n",
       "36                                             19391              451814   \n",
       "\n",
       "   Deaths** Change since yesterday  \n",
       "0                                   \n",
       "1                               10  \n",
       "2                                   \n",
       "3                                2  \n",
       "4                                   \n",
       "5                                   \n",
       "6                                   \n",
       "7                                   \n",
       "8                                   \n",
       "9                                2  \n",
       "10                                  \n",
       "11                             174  \n",
       "12                               4  \n",
       "13                                  \n",
       "14                                  \n",
       "15                               6  \n",
       "16                              96  \n",
       "17                                  \n",
       "18                                  \n",
       "19                                  \n",
       "20                              35  \n",
       "21                                  \n",
       "22                               3  \n",
       "23                               4  \n",
       "24                                  \n",
       "25                               6  \n",
       "26                                  \n",
       "27                               6  \n",
       "28                                  \n",
       "29                                  \n",
       "30                              20  \n",
       "31                               1  \n",
       "32                                  \n",
       "33                                  \n",
       "34                                  \n",
       "35                              10  \n",
       "36                             379  "
      ]
     },
     "execution_count": 43,
     "metadata": {},
     "output_type": "execute_result"
    }
   ],
   "source": [
    "india_covid_data"
   ]
  },
  {
   "cell_type": "code",
   "execution_count": 44,
   "id": "36cd4204",
   "metadata": {},
   "outputs": [
    {
     "data": {
      "text/html": [
       "<div>\n",
       "<style scoped>\n",
       "    .dataframe tbody tr th:only-of-type {\n",
       "        vertical-align: middle;\n",
       "    }\n",
       "\n",
       "    .dataframe tbody tr th {\n",
       "        vertical-align: top;\n",
       "    }\n",
       "\n",
       "    .dataframe thead th {\n",
       "        text-align: right;\n",
       "    }\n",
       "</style>\n",
       "<table border=\"1\" class=\"dataframe\">\n",
       "  <thead>\n",
       "    <tr style=\"text-align: right;\">\n",
       "      <th></th>\n",
       "      <th>Name of State / UT</th>\n",
       "      <th>Active Cases* Total</th>\n",
       "      <th>Active Cases* Change Since Yesterday</th>\n",
       "      <th>Cured/Discharged/Migrated* Cumulative</th>\n",
       "      <th>Cured/Discharged/Migrated* Change since yesterday</th>\n",
       "      <th>Deaths** Cumulative</th>\n",
       "      <th>Deaths** Change since yesterday</th>\n",
       "    </tr>\n",
       "  </thead>\n",
       "  <tbody>\n",
       "    <tr>\n",
       "      <th>0</th>\n",
       "      <td>Andaman and Nicobar Islands</td>\n",
       "      <td>10</td>\n",
       "      <td>1</td>\n",
       "      <td>7501</td>\n",
       "      <td>2</td>\n",
       "      <td>129</td>\n",
       "      <td>0</td>\n",
       "    </tr>\n",
       "    <tr>\n",
       "      <th>1</th>\n",
       "      <td>Andhra Pradesh</td>\n",
       "      <td>6588</td>\n",
       "      <td>-27</td>\n",
       "      <td>2038248</td>\n",
       "      <td>557</td>\n",
       "      <td>14286</td>\n",
       "      <td>10</td>\n",
       "    </tr>\n",
       "    <tr>\n",
       "      <th>2</th>\n",
       "      <td>Arunachal Pradesh</td>\n",
       "      <td>202</td>\n",
       "      <td>-22</td>\n",
       "      <td>54476</td>\n",
       "      <td>26</td>\n",
       "      <td>280</td>\n",
       "      <td>0</td>\n",
       "    </tr>\n",
       "    <tr>\n",
       "      <th>3</th>\n",
       "      <td>Assam</td>\n",
       "      <td>3646</td>\n",
       "      <td>-157</td>\n",
       "      <td>596263</td>\n",
       "      <td>362</td>\n",
       "      <td>5938</td>\n",
       "      <td>2</td>\n",
       "    </tr>\n",
       "    <tr>\n",
       "      <th>4</th>\n",
       "      <td>Bihar</td>\n",
       "      <td>42</td>\n",
       "      <td>6</td>\n",
       "      <td>716313</td>\n",
       "      <td>2</td>\n",
       "      <td>9661</td>\n",
       "      <td>0</td>\n",
       "    </tr>\n",
       "    <tr>\n",
       "      <th>5</th>\n",
       "      <td>Chandigarh</td>\n",
       "      <td>32</td>\n",
       "      <td>-5</td>\n",
       "      <td>64443</td>\n",
       "      <td>15</td>\n",
       "      <td>820</td>\n",
       "      <td>0</td>\n",
       "    </tr>\n",
       "    <tr>\n",
       "      <th>6</th>\n",
       "      <td>Chhattisgarh</td>\n",
       "      <td>203</td>\n",
       "      <td>-4</td>\n",
       "      <td>991841</td>\n",
       "      <td>20</td>\n",
       "      <td>13570</td>\n",
       "      <td>0</td>\n",
       "    </tr>\n",
       "    <tr>\n",
       "      <th>7</th>\n",
       "      <td>Dadra and Nagar Haveli and Daman and Diu</td>\n",
       "      <td>3</td>\n",
       "      <td>-1</td>\n",
       "      <td>10668</td>\n",
       "      <td>1</td>\n",
       "      <td>4</td>\n",
       "      <td>0</td>\n",
       "    </tr>\n",
       "    <tr>\n",
       "      <th>8</th>\n",
       "      <td>Delhi</td>\n",
       "      <td>337</td>\n",
       "      <td>-1</td>\n",
       "      <td>1413885</td>\n",
       "      <td>29</td>\n",
       "      <td>25089</td>\n",
       "      <td>0</td>\n",
       "    </tr>\n",
       "    <tr>\n",
       "      <th>9</th>\n",
       "      <td>Goa</td>\n",
       "      <td>679</td>\n",
       "      <td>27</td>\n",
       "      <td>173342</td>\n",
       "      <td>39</td>\n",
       "      <td>3335</td>\n",
       "      <td>2</td>\n",
       "    </tr>\n",
       "    <tr>\n",
       "      <th>10</th>\n",
       "      <td>Gujarat</td>\n",
       "      <td>215</td>\n",
       "      <td>20</td>\n",
       "      <td>815943</td>\n",
       "      <td>14</td>\n",
       "      <td>10086</td>\n",
       "      <td>0</td>\n",
       "    </tr>\n",
       "    <tr>\n",
       "      <th>11</th>\n",
       "      <td>Haryana***</td>\n",
       "      <td>105</td>\n",
       "      <td>-158</td>\n",
       "      <td>760881</td>\n",
       "      <td>0</td>\n",
       "      <td>10049</td>\n",
       "      <td>174</td>\n",
       "    </tr>\n",
       "    <tr>\n",
       "      <th>12</th>\n",
       "      <td>Himachal Pradesh</td>\n",
       "      <td>1387</td>\n",
       "      <td>5</td>\n",
       "      <td>216011</td>\n",
       "      <td>173</td>\n",
       "      <td>3715</td>\n",
       "      <td>4</td>\n",
       "    </tr>\n",
       "    <tr>\n",
       "      <th>13</th>\n",
       "      <td>Jammu and Kashmir</td>\n",
       "      <td>935</td>\n",
       "      <td>-11</td>\n",
       "      <td>325473</td>\n",
       "      <td>104</td>\n",
       "      <td>4426</td>\n",
       "      <td>0</td>\n",
       "    </tr>\n",
       "    <tr>\n",
       "      <th>14</th>\n",
       "      <td>Jharkhand</td>\n",
       "      <td>130</td>\n",
       "      <td>4</td>\n",
       "      <td>343141</td>\n",
       "      <td>7</td>\n",
       "      <td>5135</td>\n",
       "      <td>0</td>\n",
       "    </tr>\n",
       "    <tr>\n",
       "      <th>15</th>\n",
       "      <td>Karnataka</td>\n",
       "      <td>9607</td>\n",
       "      <td>-43</td>\n",
       "      <td>2934870</td>\n",
       "      <td>347</td>\n",
       "      <td>37922</td>\n",
       "      <td>6</td>\n",
       "    </tr>\n",
       "    <tr>\n",
       "      <th>16</th>\n",
       "      <td>Kerala</td>\n",
       "      <td>96421</td>\n",
       "      <td>-1802</td>\n",
       "      <td>4706856</td>\n",
       "      <td>10952</td>\n",
       "      <td>26667</td>\n",
       "      <td>96</td>\n",
       "    </tr>\n",
       "    <tr>\n",
       "      <th>17</th>\n",
       "      <td>Ladakh</td>\n",
       "      <td>44</td>\n",
       "      <td>2</td>\n",
       "      <td>20615</td>\n",
       "      <td>4</td>\n",
       "      <td>208</td>\n",
       "      <td>0</td>\n",
       "    </tr>\n",
       "    <tr>\n",
       "      <th>18</th>\n",
       "      <td>Lakshadweep</td>\n",
       "      <td>2</td>\n",
       "      <td>0</td>\n",
       "      <td>10312</td>\n",
       "      <td>0</td>\n",
       "      <td>51</td>\n",
       "      <td>0</td>\n",
       "    </tr>\n",
       "    <tr>\n",
       "      <th>19</th>\n",
       "      <td>Madhya Pradesh</td>\n",
       "      <td>111</td>\n",
       "      <td>1</td>\n",
       "      <td>782035</td>\n",
       "      <td>11</td>\n",
       "      <td>10523</td>\n",
       "      <td>0</td>\n",
       "    </tr>\n",
       "    <tr>\n",
       "      <th>20</th>\n",
       "      <td>Maharashtra</td>\n",
       "      <td>33157</td>\n",
       "      <td>6</td>\n",
       "      <td>6413418</td>\n",
       "      <td>2343</td>\n",
       "      <td>139705</td>\n",
       "      <td>35</td>\n",
       "    </tr>\n",
       "    <tr>\n",
       "      <th>21</th>\n",
       "      <td>Manipur</td>\n",
       "      <td>1444</td>\n",
       "      <td>-15</td>\n",
       "      <td>119099</td>\n",
       "      <td>84</td>\n",
       "      <td>1889</td>\n",
       "      <td>0</td>\n",
       "    </tr>\n",
       "    <tr>\n",
       "      <th>22</th>\n",
       "      <td>Meghalaya</td>\n",
       "      <td>892</td>\n",
       "      <td>-31</td>\n",
       "      <td>80411</td>\n",
       "      <td>115</td>\n",
       "      <td>1431</td>\n",
       "      <td>3</td>\n",
       "    </tr>\n",
       "    <tr>\n",
       "      <th>23</th>\n",
       "      <td>Mizoram</td>\n",
       "      <td>13601</td>\n",
       "      <td>-435</td>\n",
       "      <td>96744</td>\n",
       "      <td>1332</td>\n",
       "      <td>374</td>\n",
       "      <td>4</td>\n",
       "    </tr>\n",
       "    <tr>\n",
       "      <th>24</th>\n",
       "      <td>Nagaland</td>\n",
       "      <td>230</td>\n",
       "      <td>-8</td>\n",
       "      <td>30613</td>\n",
       "      <td>17</td>\n",
       "      <td>673</td>\n",
       "      <td>0</td>\n",
       "    </tr>\n",
       "    <tr>\n",
       "      <th>25</th>\n",
       "      <td>Odisha</td>\n",
       "      <td>4890</td>\n",
       "      <td>38</td>\n",
       "      <td>1020645</td>\n",
       "      <td>477</td>\n",
       "      <td>8274</td>\n",
       "      <td>6</td>\n",
       "    </tr>\n",
       "    <tr>\n",
       "      <th>26</th>\n",
       "      <td>Puducherry</td>\n",
       "      <td>647</td>\n",
       "      <td>-4</td>\n",
       "      <td>124763</td>\n",
       "      <td>53</td>\n",
       "      <td>1849</td>\n",
       "      <td>0</td>\n",
       "    </tr>\n",
       "    <tr>\n",
       "      <th>27</th>\n",
       "      <td>Punjab</td>\n",
       "      <td>234</td>\n",
       "      <td>11</td>\n",
       "      <td>585199</td>\n",
       "      <td>16</td>\n",
       "      <td>16538</td>\n",
       "      <td>6</td>\n",
       "    </tr>\n",
       "    <tr>\n",
       "      <th>28</th>\n",
       "      <td>Rajasthan</td>\n",
       "      <td>42</td>\n",
       "      <td>6</td>\n",
       "      <td>945386</td>\n",
       "      <td>2</td>\n",
       "      <td>8954</td>\n",
       "      <td>0</td>\n",
       "    </tr>\n",
       "    <tr>\n",
       "      <th>29</th>\n",
       "      <td>Sikkim</td>\n",
       "      <td>224</td>\n",
       "      <td>-1</td>\n",
       "      <td>31108</td>\n",
       "      <td>7</td>\n",
       "      <td>390</td>\n",
       "      <td>0</td>\n",
       "    </tr>\n",
       "    <tr>\n",
       "      <th>30</th>\n",
       "      <td>Tamil Nadu</td>\n",
       "      <td>15451</td>\n",
       "      <td>-199</td>\n",
       "      <td>2632092</td>\n",
       "      <td>1438</td>\n",
       "      <td>35853</td>\n",
       "      <td>20</td>\n",
       "    </tr>\n",
       "    <tr>\n",
       "      <th>31</th>\n",
       "      <td>Telangana</td>\n",
       "      <td>4171</td>\n",
       "      <td>-40</td>\n",
       "      <td>660512</td>\n",
       "      <td>207</td>\n",
       "      <td>3935</td>\n",
       "      <td>1</td>\n",
       "    </tr>\n",
       "    <tr>\n",
       "      <th>32</th>\n",
       "      <td>Tripura</td>\n",
       "      <td>110</td>\n",
       "      <td>-8</td>\n",
       "      <td>83369</td>\n",
       "      <td>12</td>\n",
       "      <td>816</td>\n",
       "      <td>0</td>\n",
       "    </tr>\n",
       "    <tr>\n",
       "      <th>33</th>\n",
       "      <td>Uttarakhand</td>\n",
       "      <td>175</td>\n",
       "      <td>22</td>\n",
       "      <td>336157</td>\n",
       "      <td>6</td>\n",
       "      <td>7397</td>\n",
       "      <td>0</td>\n",
       "    </tr>\n",
       "    <tr>\n",
       "      <th>34</th>\n",
       "      <td>Uttar Pradesh</td>\n",
       "      <td>135</td>\n",
       "      <td>-4</td>\n",
       "      <td>1686976</td>\n",
       "      <td>16</td>\n",
       "      <td>22897</td>\n",
       "      <td>0</td>\n",
       "    </tr>\n",
       "    <tr>\n",
       "      <th>35</th>\n",
       "      <td>West Bengal</td>\n",
       "      <td>7576</td>\n",
       "      <td>-81</td>\n",
       "      <td>1552491</td>\n",
       "      <td>601</td>\n",
       "      <td>18945</td>\n",
       "      <td>10</td>\n",
       "    </tr>\n",
       "    <tr>\n",
       "      <th>36</th>\n",
       "      <td>Total</td>\n",
       "      <td>203678</td>\n",
       "      <td>-2908</td>\n",
       "      <td>33382100</td>\n",
       "      <td>19391</td>\n",
       "      <td>451814</td>\n",
       "      <td>379</td>\n",
       "    </tr>\n",
       "  </tbody>\n",
       "</table>\n",
       "</div>"
      ],
      "text/plain": [
       "                          Name of State / UT Active Cases* Total  \\\n",
       "0                Andaman and Nicobar Islands                  10   \n",
       "1                             Andhra Pradesh                6588   \n",
       "2                          Arunachal Pradesh                 202   \n",
       "3                                      Assam                3646   \n",
       "4                                      Bihar                  42   \n",
       "5                                 Chandigarh                  32   \n",
       "6                               Chhattisgarh                 203   \n",
       "7   Dadra and Nagar Haveli and Daman and Diu                   3   \n",
       "8                                      Delhi                 337   \n",
       "9                                        Goa                 679   \n",
       "10                                   Gujarat                 215   \n",
       "11                                Haryana***                 105   \n",
       "12                          Himachal Pradesh                1387   \n",
       "13                         Jammu and Kashmir                 935   \n",
       "14                                 Jharkhand                 130   \n",
       "15                                 Karnataka                9607   \n",
       "16                                    Kerala               96421   \n",
       "17                                    Ladakh                  44   \n",
       "18                               Lakshadweep                   2   \n",
       "19                            Madhya Pradesh                 111   \n",
       "20                               Maharashtra               33157   \n",
       "21                                   Manipur                1444   \n",
       "22                                 Meghalaya                 892   \n",
       "23                                   Mizoram               13601   \n",
       "24                                  Nagaland                 230   \n",
       "25                                    Odisha                4890   \n",
       "26                                Puducherry                 647   \n",
       "27                                    Punjab                 234   \n",
       "28                                 Rajasthan                  42   \n",
       "29                                    Sikkim                 224   \n",
       "30                                Tamil Nadu               15451   \n",
       "31                                 Telangana                4171   \n",
       "32                                   Tripura                 110   \n",
       "33                               Uttarakhand                 175   \n",
       "34                             Uttar Pradesh                 135   \n",
       "35                               West Bengal                7576   \n",
       "36                                     Total              203678   \n",
       "\n",
       "   Active Cases* Change Since Yesterday Cured/Discharged/Migrated* Cumulative  \\\n",
       "0                                     1                                  7501   \n",
       "1                                   -27                               2038248   \n",
       "2                                   -22                                 54476   \n",
       "3                                  -157                                596263   \n",
       "4                                     6                                716313   \n",
       "5                                    -5                                 64443   \n",
       "6                                    -4                                991841   \n",
       "7                                    -1                                 10668   \n",
       "8                                    -1                               1413885   \n",
       "9                                    27                                173342   \n",
       "10                                   20                                815943   \n",
       "11                                 -158                                760881   \n",
       "12                                    5                                216011   \n",
       "13                                  -11                                325473   \n",
       "14                                    4                                343141   \n",
       "15                                  -43                               2934870   \n",
       "16                                -1802                               4706856   \n",
       "17                                    2                                 20615   \n",
       "18                                    0                                 10312   \n",
       "19                                    1                                782035   \n",
       "20                                    6                               6413418   \n",
       "21                                  -15                                119099   \n",
       "22                                  -31                                 80411   \n",
       "23                                 -435                                 96744   \n",
       "24                                   -8                                 30613   \n",
       "25                                   38                               1020645   \n",
       "26                                   -4                                124763   \n",
       "27                                   11                                585199   \n",
       "28                                    6                                945386   \n",
       "29                                   -1                                 31108   \n",
       "30                                 -199                               2632092   \n",
       "31                                  -40                                660512   \n",
       "32                                   -8                                 83369   \n",
       "33                                   22                                336157   \n",
       "34                                   -4                               1686976   \n",
       "35                                  -81                               1552491   \n",
       "36                                -2908                              33382100   \n",
       "\n",
       "   Cured/Discharged/Migrated* Change since yesterday Deaths** Cumulative  \\\n",
       "0                                                  2                 129   \n",
       "1                                                557               14286   \n",
       "2                                                 26                 280   \n",
       "3                                                362                5938   \n",
       "4                                                  2                9661   \n",
       "5                                                 15                 820   \n",
       "6                                                 20               13570   \n",
       "7                                                  1                   4   \n",
       "8                                                 29               25089   \n",
       "9                                                 39                3335   \n",
       "10                                                14               10086   \n",
       "11                                                 0               10049   \n",
       "12                                               173                3715   \n",
       "13                                               104                4426   \n",
       "14                                                 7                5135   \n",
       "15                                               347               37922   \n",
       "16                                             10952               26667   \n",
       "17                                                 4                 208   \n",
       "18                                                 0                  51   \n",
       "19                                                11               10523   \n",
       "20                                              2343              139705   \n",
       "21                                                84                1889   \n",
       "22                                               115                1431   \n",
       "23                                              1332                 374   \n",
       "24                                                17                 673   \n",
       "25                                               477                8274   \n",
       "26                                                53                1849   \n",
       "27                                                16               16538   \n",
       "28                                                 2                8954   \n",
       "29                                                 7                 390   \n",
       "30                                              1438               35853   \n",
       "31                                               207                3935   \n",
       "32                                                12                 816   \n",
       "33                                                 6                7397   \n",
       "34                                                16               22897   \n",
       "35                                               601               18945   \n",
       "36                                             19391              451814   \n",
       "\n",
       "   Deaths** Change since yesterday  \n",
       "0                                0  \n",
       "1                               10  \n",
       "2                                0  \n",
       "3                                2  \n",
       "4                                0  \n",
       "5                                0  \n",
       "6                                0  \n",
       "7                                0  \n",
       "8                                0  \n",
       "9                                2  \n",
       "10                               0  \n",
       "11                             174  \n",
       "12                               4  \n",
       "13                               0  \n",
       "14                               0  \n",
       "15                               6  \n",
       "16                              96  \n",
       "17                               0  \n",
       "18                               0  \n",
       "19                               0  \n",
       "20                              35  \n",
       "21                               0  \n",
       "22                               3  \n",
       "23                               4  \n",
       "24                               0  \n",
       "25                               6  \n",
       "26                               0  \n",
       "27                               6  \n",
       "28                               0  \n",
       "29                               0  \n",
       "30                              20  \n",
       "31                               1  \n",
       "32                               0  \n",
       "33                               0  \n",
       "34                               0  \n",
       "35                              10  \n",
       "36                             379  "
      ]
     },
     "execution_count": 44,
     "metadata": {},
     "output_type": "execute_result"
    }
   ],
   "source": [
    "india_covid_data=india_covid_data.replace(to_replace='',value=0)\n",
    "india_covid_data"
   ]
  },
  {
   "cell_type": "code",
   "execution_count": null,
   "id": "6bbca7f4",
   "metadata": {},
   "outputs": [],
   "source": []
  },
  {
   "cell_type": "code",
   "execution_count": 45,
   "id": "c9fff427",
   "metadata": {},
   "outputs": [],
   "source": [
    "india_covid_data['Date'] = str(datetimeobj)"
   ]
  },
  {
   "cell_type": "code",
   "execution_count": 47,
   "id": "1222a2db",
   "metadata": {},
   "outputs": [
    {
     "data": {
      "text/html": [
       "<div>\n",
       "<style scoped>\n",
       "    .dataframe tbody tr th:only-of-type {\n",
       "        vertical-align: middle;\n",
       "    }\n",
       "\n",
       "    .dataframe tbody tr th {\n",
       "        vertical-align: top;\n",
       "    }\n",
       "\n",
       "    .dataframe thead th {\n",
       "        text-align: right;\n",
       "    }\n",
       "</style>\n",
       "<table border=\"1\" class=\"dataframe\">\n",
       "  <thead>\n",
       "    <tr style=\"text-align: right;\">\n",
       "      <th></th>\n",
       "      <th>Name of State / UT</th>\n",
       "      <th>Active Cases* Total</th>\n",
       "      <th>Active Cases* Change Since Yesterday</th>\n",
       "      <th>Cured/Discharged/Migrated* Cumulative</th>\n",
       "      <th>Cured/Discharged/Migrated* Change since yesterday</th>\n",
       "      <th>Deaths** Cumulative</th>\n",
       "      <th>Deaths** Change since yesterday</th>\n",
       "      <th>Date</th>\n",
       "    </tr>\n",
       "  </thead>\n",
       "  <tbody>\n",
       "    <tr>\n",
       "      <th>0</th>\n",
       "      <td>Andaman and Nicobar Islands</td>\n",
       "      <td>10</td>\n",
       "      <td>1</td>\n",
       "      <td>7501</td>\n",
       "      <td>2</td>\n",
       "      <td>129</td>\n",
       "      <td>0</td>\n",
       "      <td>2021-10-15</td>\n",
       "    </tr>\n",
       "    <tr>\n",
       "      <th>1</th>\n",
       "      <td>Andhra Pradesh</td>\n",
       "      <td>6588</td>\n",
       "      <td>-27</td>\n",
       "      <td>2038248</td>\n",
       "      <td>557</td>\n",
       "      <td>14286</td>\n",
       "      <td>10</td>\n",
       "      <td>2021-10-15</td>\n",
       "    </tr>\n",
       "    <tr>\n",
       "      <th>2</th>\n",
       "      <td>Arunachal Pradesh</td>\n",
       "      <td>202</td>\n",
       "      <td>-22</td>\n",
       "      <td>54476</td>\n",
       "      <td>26</td>\n",
       "      <td>280</td>\n",
       "      <td>0</td>\n",
       "      <td>2021-10-15</td>\n",
       "    </tr>\n",
       "    <tr>\n",
       "      <th>3</th>\n",
       "      <td>Assam</td>\n",
       "      <td>3646</td>\n",
       "      <td>-157</td>\n",
       "      <td>596263</td>\n",
       "      <td>362</td>\n",
       "      <td>5938</td>\n",
       "      <td>2</td>\n",
       "      <td>2021-10-15</td>\n",
       "    </tr>\n",
       "    <tr>\n",
       "      <th>4</th>\n",
       "      <td>Bihar</td>\n",
       "      <td>42</td>\n",
       "      <td>6</td>\n",
       "      <td>716313</td>\n",
       "      <td>2</td>\n",
       "      <td>9661</td>\n",
       "      <td>0</td>\n",
       "      <td>2021-10-15</td>\n",
       "    </tr>\n",
       "    <tr>\n",
       "      <th>5</th>\n",
       "      <td>Chandigarh</td>\n",
       "      <td>32</td>\n",
       "      <td>-5</td>\n",
       "      <td>64443</td>\n",
       "      <td>15</td>\n",
       "      <td>820</td>\n",
       "      <td>0</td>\n",
       "      <td>2021-10-15</td>\n",
       "    </tr>\n",
       "    <tr>\n",
       "      <th>6</th>\n",
       "      <td>Chhattisgarh</td>\n",
       "      <td>203</td>\n",
       "      <td>-4</td>\n",
       "      <td>991841</td>\n",
       "      <td>20</td>\n",
       "      <td>13570</td>\n",
       "      <td>0</td>\n",
       "      <td>2021-10-15</td>\n",
       "    </tr>\n",
       "    <tr>\n",
       "      <th>7</th>\n",
       "      <td>Dadra and Nagar Haveli and Daman and Diu</td>\n",
       "      <td>3</td>\n",
       "      <td>-1</td>\n",
       "      <td>10668</td>\n",
       "      <td>1</td>\n",
       "      <td>4</td>\n",
       "      <td>0</td>\n",
       "      <td>2021-10-15</td>\n",
       "    </tr>\n",
       "    <tr>\n",
       "      <th>8</th>\n",
       "      <td>Delhi</td>\n",
       "      <td>337</td>\n",
       "      <td>-1</td>\n",
       "      <td>1413885</td>\n",
       "      <td>29</td>\n",
       "      <td>25089</td>\n",
       "      <td>0</td>\n",
       "      <td>2021-10-15</td>\n",
       "    </tr>\n",
       "    <tr>\n",
       "      <th>9</th>\n",
       "      <td>Goa</td>\n",
       "      <td>679</td>\n",
       "      <td>27</td>\n",
       "      <td>173342</td>\n",
       "      <td>39</td>\n",
       "      <td>3335</td>\n",
       "      <td>2</td>\n",
       "      <td>2021-10-15</td>\n",
       "    </tr>\n",
       "    <tr>\n",
       "      <th>10</th>\n",
       "      <td>Gujarat</td>\n",
       "      <td>215</td>\n",
       "      <td>20</td>\n",
       "      <td>815943</td>\n",
       "      <td>14</td>\n",
       "      <td>10086</td>\n",
       "      <td>0</td>\n",
       "      <td>2021-10-15</td>\n",
       "    </tr>\n",
       "    <tr>\n",
       "      <th>11</th>\n",
       "      <td>Haryana***</td>\n",
       "      <td>105</td>\n",
       "      <td>-158</td>\n",
       "      <td>760881</td>\n",
       "      <td>0</td>\n",
       "      <td>10049</td>\n",
       "      <td>174</td>\n",
       "      <td>2021-10-15</td>\n",
       "    </tr>\n",
       "    <tr>\n",
       "      <th>12</th>\n",
       "      <td>Himachal Pradesh</td>\n",
       "      <td>1387</td>\n",
       "      <td>5</td>\n",
       "      <td>216011</td>\n",
       "      <td>173</td>\n",
       "      <td>3715</td>\n",
       "      <td>4</td>\n",
       "      <td>2021-10-15</td>\n",
       "    </tr>\n",
       "    <tr>\n",
       "      <th>13</th>\n",
       "      <td>Jammu and Kashmir</td>\n",
       "      <td>935</td>\n",
       "      <td>-11</td>\n",
       "      <td>325473</td>\n",
       "      <td>104</td>\n",
       "      <td>4426</td>\n",
       "      <td>0</td>\n",
       "      <td>2021-10-15</td>\n",
       "    </tr>\n",
       "    <tr>\n",
       "      <th>14</th>\n",
       "      <td>Jharkhand</td>\n",
       "      <td>130</td>\n",
       "      <td>4</td>\n",
       "      <td>343141</td>\n",
       "      <td>7</td>\n",
       "      <td>5135</td>\n",
       "      <td>0</td>\n",
       "      <td>2021-10-15</td>\n",
       "    </tr>\n",
       "    <tr>\n",
       "      <th>15</th>\n",
       "      <td>Karnataka</td>\n",
       "      <td>9607</td>\n",
       "      <td>-43</td>\n",
       "      <td>2934870</td>\n",
       "      <td>347</td>\n",
       "      <td>37922</td>\n",
       "      <td>6</td>\n",
       "      <td>2021-10-15</td>\n",
       "    </tr>\n",
       "    <tr>\n",
       "      <th>16</th>\n",
       "      <td>Kerala</td>\n",
       "      <td>96421</td>\n",
       "      <td>-1802</td>\n",
       "      <td>4706856</td>\n",
       "      <td>10952</td>\n",
       "      <td>26667</td>\n",
       "      <td>96</td>\n",
       "      <td>2021-10-15</td>\n",
       "    </tr>\n",
       "    <tr>\n",
       "      <th>17</th>\n",
       "      <td>Ladakh</td>\n",
       "      <td>44</td>\n",
       "      <td>2</td>\n",
       "      <td>20615</td>\n",
       "      <td>4</td>\n",
       "      <td>208</td>\n",
       "      <td>0</td>\n",
       "      <td>2021-10-15</td>\n",
       "    </tr>\n",
       "    <tr>\n",
       "      <th>18</th>\n",
       "      <td>Lakshadweep</td>\n",
       "      <td>2</td>\n",
       "      <td>0</td>\n",
       "      <td>10312</td>\n",
       "      <td>0</td>\n",
       "      <td>51</td>\n",
       "      <td>0</td>\n",
       "      <td>2021-10-15</td>\n",
       "    </tr>\n",
       "    <tr>\n",
       "      <th>19</th>\n",
       "      <td>Madhya Pradesh</td>\n",
       "      <td>111</td>\n",
       "      <td>1</td>\n",
       "      <td>782035</td>\n",
       "      <td>11</td>\n",
       "      <td>10523</td>\n",
       "      <td>0</td>\n",
       "      <td>2021-10-15</td>\n",
       "    </tr>\n",
       "    <tr>\n",
       "      <th>20</th>\n",
       "      <td>Maharashtra</td>\n",
       "      <td>33157</td>\n",
       "      <td>6</td>\n",
       "      <td>6413418</td>\n",
       "      <td>2343</td>\n",
       "      <td>139705</td>\n",
       "      <td>35</td>\n",
       "      <td>2021-10-15</td>\n",
       "    </tr>\n",
       "    <tr>\n",
       "      <th>21</th>\n",
       "      <td>Manipur</td>\n",
       "      <td>1444</td>\n",
       "      <td>-15</td>\n",
       "      <td>119099</td>\n",
       "      <td>84</td>\n",
       "      <td>1889</td>\n",
       "      <td>0</td>\n",
       "      <td>2021-10-15</td>\n",
       "    </tr>\n",
       "    <tr>\n",
       "      <th>22</th>\n",
       "      <td>Meghalaya</td>\n",
       "      <td>892</td>\n",
       "      <td>-31</td>\n",
       "      <td>80411</td>\n",
       "      <td>115</td>\n",
       "      <td>1431</td>\n",
       "      <td>3</td>\n",
       "      <td>2021-10-15</td>\n",
       "    </tr>\n",
       "    <tr>\n",
       "      <th>23</th>\n",
       "      <td>Mizoram</td>\n",
       "      <td>13601</td>\n",
       "      <td>-435</td>\n",
       "      <td>96744</td>\n",
       "      <td>1332</td>\n",
       "      <td>374</td>\n",
       "      <td>4</td>\n",
       "      <td>2021-10-15</td>\n",
       "    </tr>\n",
       "    <tr>\n",
       "      <th>24</th>\n",
       "      <td>Nagaland</td>\n",
       "      <td>230</td>\n",
       "      <td>-8</td>\n",
       "      <td>30613</td>\n",
       "      <td>17</td>\n",
       "      <td>673</td>\n",
       "      <td>0</td>\n",
       "      <td>2021-10-15</td>\n",
       "    </tr>\n",
       "    <tr>\n",
       "      <th>25</th>\n",
       "      <td>Odisha</td>\n",
       "      <td>4890</td>\n",
       "      <td>38</td>\n",
       "      <td>1020645</td>\n",
       "      <td>477</td>\n",
       "      <td>8274</td>\n",
       "      <td>6</td>\n",
       "      <td>2021-10-15</td>\n",
       "    </tr>\n",
       "    <tr>\n",
       "      <th>26</th>\n",
       "      <td>Puducherry</td>\n",
       "      <td>647</td>\n",
       "      <td>-4</td>\n",
       "      <td>124763</td>\n",
       "      <td>53</td>\n",
       "      <td>1849</td>\n",
       "      <td>0</td>\n",
       "      <td>2021-10-15</td>\n",
       "    </tr>\n",
       "    <tr>\n",
       "      <th>27</th>\n",
       "      <td>Punjab</td>\n",
       "      <td>234</td>\n",
       "      <td>11</td>\n",
       "      <td>585199</td>\n",
       "      <td>16</td>\n",
       "      <td>16538</td>\n",
       "      <td>6</td>\n",
       "      <td>2021-10-15</td>\n",
       "    </tr>\n",
       "    <tr>\n",
       "      <th>28</th>\n",
       "      <td>Rajasthan</td>\n",
       "      <td>42</td>\n",
       "      <td>6</td>\n",
       "      <td>945386</td>\n",
       "      <td>2</td>\n",
       "      <td>8954</td>\n",
       "      <td>0</td>\n",
       "      <td>2021-10-15</td>\n",
       "    </tr>\n",
       "    <tr>\n",
       "      <th>29</th>\n",
       "      <td>Sikkim</td>\n",
       "      <td>224</td>\n",
       "      <td>-1</td>\n",
       "      <td>31108</td>\n",
       "      <td>7</td>\n",
       "      <td>390</td>\n",
       "      <td>0</td>\n",
       "      <td>2021-10-15</td>\n",
       "    </tr>\n",
       "    <tr>\n",
       "      <th>30</th>\n",
       "      <td>Tamil Nadu</td>\n",
       "      <td>15451</td>\n",
       "      <td>-199</td>\n",
       "      <td>2632092</td>\n",
       "      <td>1438</td>\n",
       "      <td>35853</td>\n",
       "      <td>20</td>\n",
       "      <td>2021-10-15</td>\n",
       "    </tr>\n",
       "    <tr>\n",
       "      <th>31</th>\n",
       "      <td>Telangana</td>\n",
       "      <td>4171</td>\n",
       "      <td>-40</td>\n",
       "      <td>660512</td>\n",
       "      <td>207</td>\n",
       "      <td>3935</td>\n",
       "      <td>1</td>\n",
       "      <td>2021-10-15</td>\n",
       "    </tr>\n",
       "    <tr>\n",
       "      <th>32</th>\n",
       "      <td>Tripura</td>\n",
       "      <td>110</td>\n",
       "      <td>-8</td>\n",
       "      <td>83369</td>\n",
       "      <td>12</td>\n",
       "      <td>816</td>\n",
       "      <td>0</td>\n",
       "      <td>2021-10-15</td>\n",
       "    </tr>\n",
       "    <tr>\n",
       "      <th>33</th>\n",
       "      <td>Uttarakhand</td>\n",
       "      <td>175</td>\n",
       "      <td>22</td>\n",
       "      <td>336157</td>\n",
       "      <td>6</td>\n",
       "      <td>7397</td>\n",
       "      <td>0</td>\n",
       "      <td>2021-10-15</td>\n",
       "    </tr>\n",
       "    <tr>\n",
       "      <th>34</th>\n",
       "      <td>Uttar Pradesh</td>\n",
       "      <td>135</td>\n",
       "      <td>-4</td>\n",
       "      <td>1686976</td>\n",
       "      <td>16</td>\n",
       "      <td>22897</td>\n",
       "      <td>0</td>\n",
       "      <td>2021-10-15</td>\n",
       "    </tr>\n",
       "    <tr>\n",
       "      <th>35</th>\n",
       "      <td>West Bengal</td>\n",
       "      <td>7576</td>\n",
       "      <td>-81</td>\n",
       "      <td>1552491</td>\n",
       "      <td>601</td>\n",
       "      <td>18945</td>\n",
       "      <td>10</td>\n",
       "      <td>2021-10-15</td>\n",
       "    </tr>\n",
       "    <tr>\n",
       "      <th>36</th>\n",
       "      <td>Total</td>\n",
       "      <td>203678</td>\n",
       "      <td>-2908</td>\n",
       "      <td>33382100</td>\n",
       "      <td>19391</td>\n",
       "      <td>451814</td>\n",
       "      <td>379</td>\n",
       "      <td>2021-10-15</td>\n",
       "    </tr>\n",
       "  </tbody>\n",
       "</table>\n",
       "</div>"
      ],
      "text/plain": [
       "                          Name of State / UT Active Cases* Total  \\\n",
       "0                Andaman and Nicobar Islands                  10   \n",
       "1                             Andhra Pradesh                6588   \n",
       "2                          Arunachal Pradesh                 202   \n",
       "3                                      Assam                3646   \n",
       "4                                      Bihar                  42   \n",
       "5                                 Chandigarh                  32   \n",
       "6                               Chhattisgarh                 203   \n",
       "7   Dadra and Nagar Haveli and Daman and Diu                   3   \n",
       "8                                      Delhi                 337   \n",
       "9                                        Goa                 679   \n",
       "10                                   Gujarat                 215   \n",
       "11                                Haryana***                 105   \n",
       "12                          Himachal Pradesh                1387   \n",
       "13                         Jammu and Kashmir                 935   \n",
       "14                                 Jharkhand                 130   \n",
       "15                                 Karnataka                9607   \n",
       "16                                    Kerala               96421   \n",
       "17                                    Ladakh                  44   \n",
       "18                               Lakshadweep                   2   \n",
       "19                            Madhya Pradesh                 111   \n",
       "20                               Maharashtra               33157   \n",
       "21                                   Manipur                1444   \n",
       "22                                 Meghalaya                 892   \n",
       "23                                   Mizoram               13601   \n",
       "24                                  Nagaland                 230   \n",
       "25                                    Odisha                4890   \n",
       "26                                Puducherry                 647   \n",
       "27                                    Punjab                 234   \n",
       "28                                 Rajasthan                  42   \n",
       "29                                    Sikkim                 224   \n",
       "30                                Tamil Nadu               15451   \n",
       "31                                 Telangana                4171   \n",
       "32                                   Tripura                 110   \n",
       "33                               Uttarakhand                 175   \n",
       "34                             Uttar Pradesh                 135   \n",
       "35                               West Bengal                7576   \n",
       "36                                     Total              203678   \n",
       "\n",
       "   Active Cases* Change Since Yesterday Cured/Discharged/Migrated* Cumulative  \\\n",
       "0                                     1                                  7501   \n",
       "1                                   -27                               2038248   \n",
       "2                                   -22                                 54476   \n",
       "3                                  -157                                596263   \n",
       "4                                     6                                716313   \n",
       "5                                    -5                                 64443   \n",
       "6                                    -4                                991841   \n",
       "7                                    -1                                 10668   \n",
       "8                                    -1                               1413885   \n",
       "9                                    27                                173342   \n",
       "10                                   20                                815943   \n",
       "11                                 -158                                760881   \n",
       "12                                    5                                216011   \n",
       "13                                  -11                                325473   \n",
       "14                                    4                                343141   \n",
       "15                                  -43                               2934870   \n",
       "16                                -1802                               4706856   \n",
       "17                                    2                                 20615   \n",
       "18                                    0                                 10312   \n",
       "19                                    1                                782035   \n",
       "20                                    6                               6413418   \n",
       "21                                  -15                                119099   \n",
       "22                                  -31                                 80411   \n",
       "23                                 -435                                 96744   \n",
       "24                                   -8                                 30613   \n",
       "25                                   38                               1020645   \n",
       "26                                   -4                                124763   \n",
       "27                                   11                                585199   \n",
       "28                                    6                                945386   \n",
       "29                                   -1                                 31108   \n",
       "30                                 -199                               2632092   \n",
       "31                                  -40                                660512   \n",
       "32                                   -8                                 83369   \n",
       "33                                   22                                336157   \n",
       "34                                   -4                               1686976   \n",
       "35                                  -81                               1552491   \n",
       "36                                -2908                              33382100   \n",
       "\n",
       "   Cured/Discharged/Migrated* Change since yesterday Deaths** Cumulative  \\\n",
       "0                                                  2                 129   \n",
       "1                                                557               14286   \n",
       "2                                                 26                 280   \n",
       "3                                                362                5938   \n",
       "4                                                  2                9661   \n",
       "5                                                 15                 820   \n",
       "6                                                 20               13570   \n",
       "7                                                  1                   4   \n",
       "8                                                 29               25089   \n",
       "9                                                 39                3335   \n",
       "10                                                14               10086   \n",
       "11                                                 0               10049   \n",
       "12                                               173                3715   \n",
       "13                                               104                4426   \n",
       "14                                                 7                5135   \n",
       "15                                               347               37922   \n",
       "16                                             10952               26667   \n",
       "17                                                 4                 208   \n",
       "18                                                 0                  51   \n",
       "19                                                11               10523   \n",
       "20                                              2343              139705   \n",
       "21                                                84                1889   \n",
       "22                                               115                1431   \n",
       "23                                              1332                 374   \n",
       "24                                                17                 673   \n",
       "25                                               477                8274   \n",
       "26                                                53                1849   \n",
       "27                                                16               16538   \n",
       "28                                                 2                8954   \n",
       "29                                                 7                 390   \n",
       "30                                              1438               35853   \n",
       "31                                               207                3935   \n",
       "32                                                12                 816   \n",
       "33                                                 6                7397   \n",
       "34                                                16               22897   \n",
       "35                                               601               18945   \n",
       "36                                             19391              451814   \n",
       "\n",
       "   Deaths** Change since yesterday        Date  \n",
       "0                                0  2021-10-15  \n",
       "1                               10  2021-10-15  \n",
       "2                                0  2021-10-15  \n",
       "3                                2  2021-10-15  \n",
       "4                                0  2021-10-15  \n",
       "5                                0  2021-10-15  \n",
       "6                                0  2021-10-15  \n",
       "7                                0  2021-10-15  \n",
       "8                                0  2021-10-15  \n",
       "9                                2  2021-10-15  \n",
       "10                               0  2021-10-15  \n",
       "11                             174  2021-10-15  \n",
       "12                               4  2021-10-15  \n",
       "13                               0  2021-10-15  \n",
       "14                               0  2021-10-15  \n",
       "15                               6  2021-10-15  \n",
       "16                              96  2021-10-15  \n",
       "17                               0  2021-10-15  \n",
       "18                               0  2021-10-15  \n",
       "19                               0  2021-10-15  \n",
       "20                              35  2021-10-15  \n",
       "21                               0  2021-10-15  \n",
       "22                               3  2021-10-15  \n",
       "23                               4  2021-10-15  \n",
       "24                               0  2021-10-15  \n",
       "25                               6  2021-10-15  \n",
       "26                               0  2021-10-15  \n",
       "27                               6  2021-10-15  \n",
       "28                               0  2021-10-15  \n",
       "29                               0  2021-10-15  \n",
       "30                              20  2021-10-15  \n",
       "31                               1  2021-10-15  \n",
       "32                               0  2021-10-15  \n",
       "33                               0  2021-10-15  \n",
       "34                               0  2021-10-15  \n",
       "35                              10  2021-10-15  \n",
       "36                             379  2021-10-15  "
      ]
     },
     "execution_count": 47,
     "metadata": {},
     "output_type": "execute_result"
    }
   ],
   "source": [
    "india_covid_data"
   ]
  },
  {
   "cell_type": "code",
   "execution_count": 48,
   "id": "66440319",
   "metadata": {},
   "outputs": [],
   "source": [
    "india_covid_data.to_csv('Covid19 India Statewise 15-10-21.csv')"
   ]
  },
  {
   "cell_type": "markdown",
   "id": "2bbcca73",
   "metadata": {},
   "source": [
    "state having lowest and highest\n",
    "active cases since \n",
    ",yesterday\n",
    ",cumilative\n",
    ",deaths\n",
    "etc...."
   ]
  },
  {
   "cell_type": "code",
   "execution_count": 70,
   "id": "dd3b62f3",
   "metadata": {},
   "outputs": [
    {
     "data": {
      "text/plain": [
       "Name of State / UT                                   object\n",
       "Active Cases* Total                                  object\n",
       "Active Cases* Change Since Yesterday                 object\n",
       "Cured/Discharged/Migrated* Cumulative                object\n",
       "Cured/Discharged/Migrated* Change since yesterday    object\n",
       "Deaths** Cumulative                                  object\n",
       "Deaths** Change since yesterday                      object\n",
       "Date                                                 object\n",
       "dtype: object"
      ]
     },
     "execution_count": 70,
     "metadata": {},
     "output_type": "execute_result"
    }
   ],
   "source": [
    "india_covid_data.dtypes"
   ]
  },
  {
   "cell_type": "code",
   "execution_count": 100,
   "id": "05632af7",
   "metadata": {},
   "outputs": [],
   "source": [
    "#Convert object number to int and datetime"
   ]
  },
  {
   "cell_type": "code",
   "execution_count": 76,
   "id": "7588fd79",
   "metadata": {},
   "outputs": [
    {
     "data": {
      "text/plain": [
       "0         10\n",
       "1       6588\n",
       "2        202\n",
       "3       3646\n",
       "4         42\n",
       "5         32\n",
       "6        203\n",
       "7          3\n",
       "8        337\n",
       "9        679\n",
       "10       215\n",
       "11       105\n",
       "12      1387\n",
       "13       935\n",
       "14       130\n",
       "15      9607\n",
       "16     96421\n",
       "17        44\n",
       "18         2\n",
       "19       111\n",
       "20     33157\n",
       "21      1444\n",
       "22       892\n",
       "23     13601\n",
       "24       230\n",
       "25      4890\n",
       "26       647\n",
       "27       234\n",
       "28        42\n",
       "29       224\n",
       "30     15451\n",
       "31      4171\n",
       "32       110\n",
       "33       175\n",
       "34       135\n",
       "35      7576\n",
       "36    203678\n",
       "Name: Active Cases* Total, dtype: int32"
      ]
     },
     "execution_count": 76,
     "metadata": {},
     "output_type": "execute_result"
    }
   ],
   "source": [
    "india_covid_data['Active Cases* Total']=india_covid_data['Active Cases* Total'].astype(int)\n",
    "india_covid_data['Active Cases* Total']"
   ]
  },
  {
   "cell_type": "code",
   "execution_count": null,
   "id": "78b933d9",
   "metadata": {},
   "outputs": [],
   "source": []
  },
  {
   "cell_type": "code",
   "execution_count": 79,
   "id": "971024fb",
   "metadata": {},
   "outputs": [
    {
     "data": {
      "text/plain": [
       "0        1\n",
       "1      -27\n",
       "2      -22\n",
       "3     -157\n",
       "4        6\n",
       "5       -5\n",
       "6       -4\n",
       "7       -1\n",
       "8       -1\n",
       "9       27\n",
       "10      20\n",
       "11    -158\n",
       "12       5\n",
       "13     -11\n",
       "14       4\n",
       "15     -43\n",
       "16   -1802\n",
       "17       2\n",
       "18       0\n",
       "19       1\n",
       "20       6\n",
       "21     -15\n",
       "22     -31\n",
       "23    -435\n",
       "24      -8\n",
       "25      38\n",
       "26      -4\n",
       "27      11\n",
       "28       6\n",
       "29      -1\n",
       "30    -199\n",
       "31     -40\n",
       "32      -8\n",
       "33      22\n",
       "34      -4\n",
       "35     -81\n",
       "36   -2908\n",
       "Name: Active Cases* Change Since Yesterday, dtype: int32"
      ]
     },
     "execution_count": 79,
     "metadata": {},
     "output_type": "execute_result"
    }
   ],
   "source": [
    "india_covid_data[\"Active Cases* Change Since Yesterday\"]=india_covid_data[\"Active Cases* Change Since Yesterday\"].astype(int)\n",
    "india_covid_data[\"Active Cases* Change Since Yesterday\"]"
   ]
  },
  {
   "cell_type": "code",
   "execution_count": 82,
   "id": "f35e30dc",
   "metadata": {},
   "outputs": [
    {
     "data": {
      "text/plain": [
       "0         7501\n",
       "1      2038248\n",
       "2        54476\n",
       "3       596263\n",
       "4       716313\n",
       "5        64443\n",
       "6       991841\n",
       "7        10668\n",
       "8      1413885\n",
       "9       173342\n",
       "10      815943\n",
       "11      760881\n",
       "12      216011\n",
       "13      325473\n",
       "14      343141\n",
       "15     2934870\n",
       "16     4706856\n",
       "17       20615\n",
       "18       10312\n",
       "19      782035\n",
       "20     6413418\n",
       "21      119099\n",
       "22       80411\n",
       "23       96744\n",
       "24       30613\n",
       "25     1020645\n",
       "26      124763\n",
       "27      585199\n",
       "28      945386\n",
       "29       31108\n",
       "30     2632092\n",
       "31      660512\n",
       "32       83369\n",
       "33      336157\n",
       "34     1686976\n",
       "35     1552491\n",
       "36    33382100\n",
       "Name: Cured/Discharged/Migrated* Cumulative, dtype: int32"
      ]
     },
     "execution_count": 82,
     "metadata": {},
     "output_type": "execute_result"
    }
   ],
   "source": [
    "india_covid_data['Cured/Discharged/Migrated* Cumulative']=india_covid_data['Cured/Discharged/Migrated* Cumulative'].astype(int)\n",
    "india_covid_data['Cured/Discharged/Migrated* Cumulative']"
   ]
  },
  {
   "cell_type": "code",
   "execution_count": 84,
   "id": "3742d95b",
   "metadata": {},
   "outputs": [
    {
     "data": {
      "text/plain": [
       "0         2\n",
       "1       557\n",
       "2        26\n",
       "3       362\n",
       "4         2\n",
       "5        15\n",
       "6        20\n",
       "7         1\n",
       "8        29\n",
       "9        39\n",
       "10       14\n",
       "11        0\n",
       "12      173\n",
       "13      104\n",
       "14        7\n",
       "15      347\n",
       "16    10952\n",
       "17        4\n",
       "18        0\n",
       "19       11\n",
       "20     2343\n",
       "21       84\n",
       "22      115\n",
       "23     1332\n",
       "24       17\n",
       "25      477\n",
       "26       53\n",
       "27       16\n",
       "28        2\n",
       "29        7\n",
       "30     1438\n",
       "31      207\n",
       "32       12\n",
       "33        6\n",
       "34       16\n",
       "35      601\n",
       "36    19391\n",
       "Name: Cured/Discharged/Migrated* Change since yesterday, dtype: int32"
      ]
     },
     "execution_count": 84,
     "metadata": {},
     "output_type": "execute_result"
    }
   ],
   "source": [
    "india_covid_data['Cured/Discharged/Migrated* Change since yesterday']=india_covid_data['Cured/Discharged/Migrated* Change since yesterday'].astype(int)\n",
    "india_covid_data['Cured/Discharged/Migrated* Change since yesterday']"
   ]
  },
  {
   "cell_type": "code",
   "execution_count": 85,
   "id": "601cbee2",
   "metadata": {},
   "outputs": [
    {
     "data": {
      "text/plain": [
       "0        129\n",
       "1      14286\n",
       "2        280\n",
       "3       5938\n",
       "4       9661\n",
       "5        820\n",
       "6      13570\n",
       "7          4\n",
       "8      25089\n",
       "9       3335\n",
       "10     10086\n",
       "11     10049\n",
       "12      3715\n",
       "13      4426\n",
       "14      5135\n",
       "15     37922\n",
       "16     26667\n",
       "17       208\n",
       "18        51\n",
       "19     10523\n",
       "20    139705\n",
       "21      1889\n",
       "22      1431\n",
       "23       374\n",
       "24       673\n",
       "25      8274\n",
       "26      1849\n",
       "27     16538\n",
       "28      8954\n",
       "29       390\n",
       "30     35853\n",
       "31      3935\n",
       "32       816\n",
       "33      7397\n",
       "34     22897\n",
       "35     18945\n",
       "36    451814\n",
       "Name: Deaths** Cumulative, dtype: int32"
      ]
     },
     "execution_count": 85,
     "metadata": {},
     "output_type": "execute_result"
    }
   ],
   "source": [
    "india_covid_data['Deaths** Cumulative']=india_covid_data['Deaths** Cumulative'].astype(int)\n",
    "india_covid_data['Deaths** Cumulative']"
   ]
  },
  {
   "cell_type": "code",
   "execution_count": 86,
   "id": "9d94a672",
   "metadata": {},
   "outputs": [
    {
     "data": {
      "text/plain": [
       "0       0\n",
       "1      10\n",
       "2       0\n",
       "3       2\n",
       "4       0\n",
       "5       0\n",
       "6       0\n",
       "7       0\n",
       "8       0\n",
       "9       2\n",
       "10      0\n",
       "11    174\n",
       "12      4\n",
       "13      0\n",
       "14      0\n",
       "15      6\n",
       "16     96\n",
       "17      0\n",
       "18      0\n",
       "19      0\n",
       "20     35\n",
       "21      0\n",
       "22      3\n",
       "23      4\n",
       "24      0\n",
       "25      6\n",
       "26      0\n",
       "27      6\n",
       "28      0\n",
       "29      0\n",
       "30     20\n",
       "31      1\n",
       "32      0\n",
       "33      0\n",
       "34      0\n",
       "35     10\n",
       "36    379\n",
       "Name: Deaths** Change since yesterday, dtype: int32"
      ]
     },
     "execution_count": 86,
     "metadata": {},
     "output_type": "execute_result"
    }
   ],
   "source": [
    "india_covid_data['Deaths** Change since yesterday']=india_covid_data['Deaths** Change since yesterday'].astype(int)\n",
    "india_covid_data['Deaths** Change since yesterday']"
   ]
  },
  {
   "cell_type": "code",
   "execution_count": 98,
   "id": "76fe4c54",
   "metadata": {},
   "outputs": [
    {
     "data": {
      "text/plain": [
       "0    2021-10-15\n",
       "1    2021-10-15\n",
       "2    2021-10-15\n",
       "3    2021-10-15\n",
       "4    2021-10-15\n",
       "5    2021-10-15\n",
       "6    2021-10-15\n",
       "7    2021-10-15\n",
       "8    2021-10-15\n",
       "9    2021-10-15\n",
       "10   2021-10-15\n",
       "11   2021-10-15\n",
       "12   2021-10-15\n",
       "13   2021-10-15\n",
       "14   2021-10-15\n",
       "15   2021-10-15\n",
       "16   2021-10-15\n",
       "17   2021-10-15\n",
       "18   2021-10-15\n",
       "19   2021-10-15\n",
       "20   2021-10-15\n",
       "21   2021-10-15\n",
       "22   2021-10-15\n",
       "23   2021-10-15\n",
       "24   2021-10-15\n",
       "25   2021-10-15\n",
       "26   2021-10-15\n",
       "27   2021-10-15\n",
       "28   2021-10-15\n",
       "29   2021-10-15\n",
       "30   2021-10-15\n",
       "31   2021-10-15\n",
       "32   2021-10-15\n",
       "33   2021-10-15\n",
       "34   2021-10-15\n",
       "35   2021-10-15\n",
       "36   2021-10-15\n",
       "Name: Date, dtype: datetime64[ns]"
      ]
     },
     "execution_count": 98,
     "metadata": {},
     "output_type": "execute_result"
    }
   ],
   "source": [
    "india_covid_data['Date']=pd.to_datetime(india_covid_data['Date'])\n",
    "india_covid_data['Date']"
   ]
  },
  {
   "cell_type": "code",
   "execution_count": 99,
   "id": "90bfa7ea",
   "metadata": {},
   "outputs": [
    {
     "data": {
      "text/plain": [
       "Name of State / UT                                           object\n",
       "Active Cases* Total                                           int32\n",
       "Active Cases* Change Since Yesterday                          int32\n",
       "Cured/Discharged/Migrated* Cumulative                         int32\n",
       "Cured/Discharged/Migrated* Change since yesterday             int32\n",
       "Deaths** Cumulative                                           int32\n",
       "Deaths** Change since yesterday                               int32\n",
       "Date                                                 datetime64[ns]\n",
       "dtype: object"
      ]
     },
     "execution_count": 99,
     "metadata": {},
     "output_type": "execute_result"
    }
   ],
   "source": [
    "india_covid_data.dtypes"
   ]
  },
  {
   "cell_type": "code",
   "execution_count": 111,
   "id": "7868f10d",
   "metadata": {},
   "outputs": [
    {
     "data": {
      "text/html": [
       "<div>\n",
       "<style scoped>\n",
       "    .dataframe tbody tr th:only-of-type {\n",
       "        vertical-align: middle;\n",
       "    }\n",
       "\n",
       "    .dataframe tbody tr th {\n",
       "        vertical-align: top;\n",
       "    }\n",
       "\n",
       "    .dataframe thead th {\n",
       "        text-align: right;\n",
       "    }\n",
       "</style>\n",
       "<table border=\"1\" class=\"dataframe\">\n",
       "  <thead>\n",
       "    <tr style=\"text-align: right;\">\n",
       "      <th></th>\n",
       "      <th>Name of State / UT</th>\n",
       "      <th>Active Cases* Total</th>\n",
       "      <th>Active Cases* Change Since Yesterday</th>\n",
       "      <th>Cured/Discharged/Migrated* Cumulative</th>\n",
       "      <th>Cured/Discharged/Migrated* Change since yesterday</th>\n",
       "      <th>Deaths** Cumulative</th>\n",
       "      <th>Deaths** Change since yesterday</th>\n",
       "      <th>Date</th>\n",
       "    </tr>\n",
       "  </thead>\n",
       "  <tbody>\n",
       "    <tr>\n",
       "      <th>0</th>\n",
       "      <td>Andaman and Nicobar Islands</td>\n",
       "      <td>10</td>\n",
       "      <td>1</td>\n",
       "      <td>7501</td>\n",
       "      <td>2</td>\n",
       "      <td>129</td>\n",
       "      <td>0</td>\n",
       "      <td>2021-10-15</td>\n",
       "    </tr>\n",
       "    <tr>\n",
       "      <th>1</th>\n",
       "      <td>Andhra Pradesh</td>\n",
       "      <td>6588</td>\n",
       "      <td>-27</td>\n",
       "      <td>2038248</td>\n",
       "      <td>557</td>\n",
       "      <td>14286</td>\n",
       "      <td>10</td>\n",
       "      <td>2021-10-15</td>\n",
       "    </tr>\n",
       "    <tr>\n",
       "      <th>2</th>\n",
       "      <td>Arunachal Pradesh</td>\n",
       "      <td>202</td>\n",
       "      <td>-22</td>\n",
       "      <td>54476</td>\n",
       "      <td>26</td>\n",
       "      <td>280</td>\n",
       "      <td>0</td>\n",
       "      <td>2021-10-15</td>\n",
       "    </tr>\n",
       "    <tr>\n",
       "      <th>3</th>\n",
       "      <td>Assam</td>\n",
       "      <td>3646</td>\n",
       "      <td>-157</td>\n",
       "      <td>596263</td>\n",
       "      <td>362</td>\n",
       "      <td>5938</td>\n",
       "      <td>2</td>\n",
       "      <td>2021-10-15</td>\n",
       "    </tr>\n",
       "    <tr>\n",
       "      <th>4</th>\n",
       "      <td>Bihar</td>\n",
       "      <td>42</td>\n",
       "      <td>6</td>\n",
       "      <td>716313</td>\n",
       "      <td>2</td>\n",
       "      <td>9661</td>\n",
       "      <td>0</td>\n",
       "      <td>2021-10-15</td>\n",
       "    </tr>\n",
       "    <tr>\n",
       "      <th>5</th>\n",
       "      <td>Chandigarh</td>\n",
       "      <td>32</td>\n",
       "      <td>-5</td>\n",
       "      <td>64443</td>\n",
       "      <td>15</td>\n",
       "      <td>820</td>\n",
       "      <td>0</td>\n",
       "      <td>2021-10-15</td>\n",
       "    </tr>\n",
       "    <tr>\n",
       "      <th>6</th>\n",
       "      <td>Chhattisgarh</td>\n",
       "      <td>203</td>\n",
       "      <td>-4</td>\n",
       "      <td>991841</td>\n",
       "      <td>20</td>\n",
       "      <td>13570</td>\n",
       "      <td>0</td>\n",
       "      <td>2021-10-15</td>\n",
       "    </tr>\n",
       "    <tr>\n",
       "      <th>7</th>\n",
       "      <td>Dadra and Nagar Haveli and Daman and Diu</td>\n",
       "      <td>3</td>\n",
       "      <td>-1</td>\n",
       "      <td>10668</td>\n",
       "      <td>1</td>\n",
       "      <td>4</td>\n",
       "      <td>0</td>\n",
       "      <td>2021-10-15</td>\n",
       "    </tr>\n",
       "    <tr>\n",
       "      <th>8</th>\n",
       "      <td>Delhi</td>\n",
       "      <td>337</td>\n",
       "      <td>-1</td>\n",
       "      <td>1413885</td>\n",
       "      <td>29</td>\n",
       "      <td>25089</td>\n",
       "      <td>0</td>\n",
       "      <td>2021-10-15</td>\n",
       "    </tr>\n",
       "    <tr>\n",
       "      <th>9</th>\n",
       "      <td>Goa</td>\n",
       "      <td>679</td>\n",
       "      <td>27</td>\n",
       "      <td>173342</td>\n",
       "      <td>39</td>\n",
       "      <td>3335</td>\n",
       "      <td>2</td>\n",
       "      <td>2021-10-15</td>\n",
       "    </tr>\n",
       "    <tr>\n",
       "      <th>10</th>\n",
       "      <td>Gujarat</td>\n",
       "      <td>215</td>\n",
       "      <td>20</td>\n",
       "      <td>815943</td>\n",
       "      <td>14</td>\n",
       "      <td>10086</td>\n",
       "      <td>0</td>\n",
       "      <td>2021-10-15</td>\n",
       "    </tr>\n",
       "    <tr>\n",
       "      <th>11</th>\n",
       "      <td>Haryana***</td>\n",
       "      <td>105</td>\n",
       "      <td>-158</td>\n",
       "      <td>760881</td>\n",
       "      <td>0</td>\n",
       "      <td>10049</td>\n",
       "      <td>174</td>\n",
       "      <td>2021-10-15</td>\n",
       "    </tr>\n",
       "    <tr>\n",
       "      <th>12</th>\n",
       "      <td>Himachal Pradesh</td>\n",
       "      <td>1387</td>\n",
       "      <td>5</td>\n",
       "      <td>216011</td>\n",
       "      <td>173</td>\n",
       "      <td>3715</td>\n",
       "      <td>4</td>\n",
       "      <td>2021-10-15</td>\n",
       "    </tr>\n",
       "    <tr>\n",
       "      <th>13</th>\n",
       "      <td>Jammu and Kashmir</td>\n",
       "      <td>935</td>\n",
       "      <td>-11</td>\n",
       "      <td>325473</td>\n",
       "      <td>104</td>\n",
       "      <td>4426</td>\n",
       "      <td>0</td>\n",
       "      <td>2021-10-15</td>\n",
       "    </tr>\n",
       "    <tr>\n",
       "      <th>14</th>\n",
       "      <td>Jharkhand</td>\n",
       "      <td>130</td>\n",
       "      <td>4</td>\n",
       "      <td>343141</td>\n",
       "      <td>7</td>\n",
       "      <td>5135</td>\n",
       "      <td>0</td>\n",
       "      <td>2021-10-15</td>\n",
       "    </tr>\n",
       "    <tr>\n",
       "      <th>15</th>\n",
       "      <td>Karnataka</td>\n",
       "      <td>9607</td>\n",
       "      <td>-43</td>\n",
       "      <td>2934870</td>\n",
       "      <td>347</td>\n",
       "      <td>37922</td>\n",
       "      <td>6</td>\n",
       "      <td>2021-10-15</td>\n",
       "    </tr>\n",
       "    <tr>\n",
       "      <th>16</th>\n",
       "      <td>Kerala</td>\n",
       "      <td>96421</td>\n",
       "      <td>-1802</td>\n",
       "      <td>4706856</td>\n",
       "      <td>10952</td>\n",
       "      <td>26667</td>\n",
       "      <td>96</td>\n",
       "      <td>2021-10-15</td>\n",
       "    </tr>\n",
       "    <tr>\n",
       "      <th>17</th>\n",
       "      <td>Ladakh</td>\n",
       "      <td>44</td>\n",
       "      <td>2</td>\n",
       "      <td>20615</td>\n",
       "      <td>4</td>\n",
       "      <td>208</td>\n",
       "      <td>0</td>\n",
       "      <td>2021-10-15</td>\n",
       "    </tr>\n",
       "    <tr>\n",
       "      <th>18</th>\n",
       "      <td>Lakshadweep</td>\n",
       "      <td>2</td>\n",
       "      <td>0</td>\n",
       "      <td>10312</td>\n",
       "      <td>0</td>\n",
       "      <td>51</td>\n",
       "      <td>0</td>\n",
       "      <td>2021-10-15</td>\n",
       "    </tr>\n",
       "    <tr>\n",
       "      <th>19</th>\n",
       "      <td>Madhya Pradesh</td>\n",
       "      <td>111</td>\n",
       "      <td>1</td>\n",
       "      <td>782035</td>\n",
       "      <td>11</td>\n",
       "      <td>10523</td>\n",
       "      <td>0</td>\n",
       "      <td>2021-10-15</td>\n",
       "    </tr>\n",
       "    <tr>\n",
       "      <th>20</th>\n",
       "      <td>Maharashtra</td>\n",
       "      <td>33157</td>\n",
       "      <td>6</td>\n",
       "      <td>6413418</td>\n",
       "      <td>2343</td>\n",
       "      <td>139705</td>\n",
       "      <td>35</td>\n",
       "      <td>2021-10-15</td>\n",
       "    </tr>\n",
       "    <tr>\n",
       "      <th>21</th>\n",
       "      <td>Manipur</td>\n",
       "      <td>1444</td>\n",
       "      <td>-15</td>\n",
       "      <td>119099</td>\n",
       "      <td>84</td>\n",
       "      <td>1889</td>\n",
       "      <td>0</td>\n",
       "      <td>2021-10-15</td>\n",
       "    </tr>\n",
       "    <tr>\n",
       "      <th>22</th>\n",
       "      <td>Meghalaya</td>\n",
       "      <td>892</td>\n",
       "      <td>-31</td>\n",
       "      <td>80411</td>\n",
       "      <td>115</td>\n",
       "      <td>1431</td>\n",
       "      <td>3</td>\n",
       "      <td>2021-10-15</td>\n",
       "    </tr>\n",
       "    <tr>\n",
       "      <th>23</th>\n",
       "      <td>Mizoram</td>\n",
       "      <td>13601</td>\n",
       "      <td>-435</td>\n",
       "      <td>96744</td>\n",
       "      <td>1332</td>\n",
       "      <td>374</td>\n",
       "      <td>4</td>\n",
       "      <td>2021-10-15</td>\n",
       "    </tr>\n",
       "    <tr>\n",
       "      <th>24</th>\n",
       "      <td>Nagaland</td>\n",
       "      <td>230</td>\n",
       "      <td>-8</td>\n",
       "      <td>30613</td>\n",
       "      <td>17</td>\n",
       "      <td>673</td>\n",
       "      <td>0</td>\n",
       "      <td>2021-10-15</td>\n",
       "    </tr>\n",
       "    <tr>\n",
       "      <th>25</th>\n",
       "      <td>Odisha</td>\n",
       "      <td>4890</td>\n",
       "      <td>38</td>\n",
       "      <td>1020645</td>\n",
       "      <td>477</td>\n",
       "      <td>8274</td>\n",
       "      <td>6</td>\n",
       "      <td>2021-10-15</td>\n",
       "    </tr>\n",
       "    <tr>\n",
       "      <th>26</th>\n",
       "      <td>Puducherry</td>\n",
       "      <td>647</td>\n",
       "      <td>-4</td>\n",
       "      <td>124763</td>\n",
       "      <td>53</td>\n",
       "      <td>1849</td>\n",
       "      <td>0</td>\n",
       "      <td>2021-10-15</td>\n",
       "    </tr>\n",
       "    <tr>\n",
       "      <th>27</th>\n",
       "      <td>Punjab</td>\n",
       "      <td>234</td>\n",
       "      <td>11</td>\n",
       "      <td>585199</td>\n",
       "      <td>16</td>\n",
       "      <td>16538</td>\n",
       "      <td>6</td>\n",
       "      <td>2021-10-15</td>\n",
       "    </tr>\n",
       "    <tr>\n",
       "      <th>28</th>\n",
       "      <td>Rajasthan</td>\n",
       "      <td>42</td>\n",
       "      <td>6</td>\n",
       "      <td>945386</td>\n",
       "      <td>2</td>\n",
       "      <td>8954</td>\n",
       "      <td>0</td>\n",
       "      <td>2021-10-15</td>\n",
       "    </tr>\n",
       "    <tr>\n",
       "      <th>29</th>\n",
       "      <td>Sikkim</td>\n",
       "      <td>224</td>\n",
       "      <td>-1</td>\n",
       "      <td>31108</td>\n",
       "      <td>7</td>\n",
       "      <td>390</td>\n",
       "      <td>0</td>\n",
       "      <td>2021-10-15</td>\n",
       "    </tr>\n",
       "    <tr>\n",
       "      <th>30</th>\n",
       "      <td>Tamil Nadu</td>\n",
       "      <td>15451</td>\n",
       "      <td>-199</td>\n",
       "      <td>2632092</td>\n",
       "      <td>1438</td>\n",
       "      <td>35853</td>\n",
       "      <td>20</td>\n",
       "      <td>2021-10-15</td>\n",
       "    </tr>\n",
       "    <tr>\n",
       "      <th>31</th>\n",
       "      <td>Telangana</td>\n",
       "      <td>4171</td>\n",
       "      <td>-40</td>\n",
       "      <td>660512</td>\n",
       "      <td>207</td>\n",
       "      <td>3935</td>\n",
       "      <td>1</td>\n",
       "      <td>2021-10-15</td>\n",
       "    </tr>\n",
       "    <tr>\n",
       "      <th>32</th>\n",
       "      <td>Tripura</td>\n",
       "      <td>110</td>\n",
       "      <td>-8</td>\n",
       "      <td>83369</td>\n",
       "      <td>12</td>\n",
       "      <td>816</td>\n",
       "      <td>0</td>\n",
       "      <td>2021-10-15</td>\n",
       "    </tr>\n",
       "    <tr>\n",
       "      <th>33</th>\n",
       "      <td>Uttarakhand</td>\n",
       "      <td>175</td>\n",
       "      <td>22</td>\n",
       "      <td>336157</td>\n",
       "      <td>6</td>\n",
       "      <td>7397</td>\n",
       "      <td>0</td>\n",
       "      <td>2021-10-15</td>\n",
       "    </tr>\n",
       "    <tr>\n",
       "      <th>34</th>\n",
       "      <td>Uttar Pradesh</td>\n",
       "      <td>135</td>\n",
       "      <td>-4</td>\n",
       "      <td>1686976</td>\n",
       "      <td>16</td>\n",
       "      <td>22897</td>\n",
       "      <td>0</td>\n",
       "      <td>2021-10-15</td>\n",
       "    </tr>\n",
       "    <tr>\n",
       "      <th>35</th>\n",
       "      <td>West Bengal</td>\n",
       "      <td>7576</td>\n",
       "      <td>-81</td>\n",
       "      <td>1552491</td>\n",
       "      <td>601</td>\n",
       "      <td>18945</td>\n",
       "      <td>10</td>\n",
       "      <td>2021-10-15</td>\n",
       "    </tr>\n",
       "    <tr>\n",
       "      <th>36</th>\n",
       "      <td>Total</td>\n",
       "      <td>203678</td>\n",
       "      <td>-2908</td>\n",
       "      <td>33382100</td>\n",
       "      <td>19391</td>\n",
       "      <td>451814</td>\n",
       "      <td>379</td>\n",
       "      <td>2021-10-15</td>\n",
       "    </tr>\n",
       "  </tbody>\n",
       "</table>\n",
       "</div>"
      ],
      "text/plain": [
       "                          Name of State / UT  Active Cases* Total  \\\n",
       "0                Andaman and Nicobar Islands                   10   \n",
       "1                             Andhra Pradesh                 6588   \n",
       "2                          Arunachal Pradesh                  202   \n",
       "3                                      Assam                 3646   \n",
       "4                                      Bihar                   42   \n",
       "5                                 Chandigarh                   32   \n",
       "6                               Chhattisgarh                  203   \n",
       "7   Dadra and Nagar Haveli and Daman and Diu                    3   \n",
       "8                                      Delhi                  337   \n",
       "9                                        Goa                  679   \n",
       "10                                   Gujarat                  215   \n",
       "11                                Haryana***                  105   \n",
       "12                          Himachal Pradesh                 1387   \n",
       "13                         Jammu and Kashmir                  935   \n",
       "14                                 Jharkhand                  130   \n",
       "15                                 Karnataka                 9607   \n",
       "16                                    Kerala                96421   \n",
       "17                                    Ladakh                   44   \n",
       "18                               Lakshadweep                    2   \n",
       "19                            Madhya Pradesh                  111   \n",
       "20                               Maharashtra                33157   \n",
       "21                                   Manipur                 1444   \n",
       "22                                 Meghalaya                  892   \n",
       "23                                   Mizoram                13601   \n",
       "24                                  Nagaland                  230   \n",
       "25                                    Odisha                 4890   \n",
       "26                                Puducherry                  647   \n",
       "27                                    Punjab                  234   \n",
       "28                                 Rajasthan                   42   \n",
       "29                                    Sikkim                  224   \n",
       "30                                Tamil Nadu                15451   \n",
       "31                                 Telangana                 4171   \n",
       "32                                   Tripura                  110   \n",
       "33                               Uttarakhand                  175   \n",
       "34                             Uttar Pradesh                  135   \n",
       "35                               West Bengal                 7576   \n",
       "36                                     Total               203678   \n",
       "\n",
       "    Active Cases* Change Since Yesterday  \\\n",
       "0                                      1   \n",
       "1                                    -27   \n",
       "2                                    -22   \n",
       "3                                   -157   \n",
       "4                                      6   \n",
       "5                                     -5   \n",
       "6                                     -4   \n",
       "7                                     -1   \n",
       "8                                     -1   \n",
       "9                                     27   \n",
       "10                                    20   \n",
       "11                                  -158   \n",
       "12                                     5   \n",
       "13                                   -11   \n",
       "14                                     4   \n",
       "15                                   -43   \n",
       "16                                 -1802   \n",
       "17                                     2   \n",
       "18                                     0   \n",
       "19                                     1   \n",
       "20                                     6   \n",
       "21                                   -15   \n",
       "22                                   -31   \n",
       "23                                  -435   \n",
       "24                                    -8   \n",
       "25                                    38   \n",
       "26                                    -4   \n",
       "27                                    11   \n",
       "28                                     6   \n",
       "29                                    -1   \n",
       "30                                  -199   \n",
       "31                                   -40   \n",
       "32                                    -8   \n",
       "33                                    22   \n",
       "34                                    -4   \n",
       "35                                   -81   \n",
       "36                                 -2908   \n",
       "\n",
       "    Cured/Discharged/Migrated* Cumulative  \\\n",
       "0                                    7501   \n",
       "1                                 2038248   \n",
       "2                                   54476   \n",
       "3                                  596263   \n",
       "4                                  716313   \n",
       "5                                   64443   \n",
       "6                                  991841   \n",
       "7                                   10668   \n",
       "8                                 1413885   \n",
       "9                                  173342   \n",
       "10                                 815943   \n",
       "11                                 760881   \n",
       "12                                 216011   \n",
       "13                                 325473   \n",
       "14                                 343141   \n",
       "15                                2934870   \n",
       "16                                4706856   \n",
       "17                                  20615   \n",
       "18                                  10312   \n",
       "19                                 782035   \n",
       "20                                6413418   \n",
       "21                                 119099   \n",
       "22                                  80411   \n",
       "23                                  96744   \n",
       "24                                  30613   \n",
       "25                                1020645   \n",
       "26                                 124763   \n",
       "27                                 585199   \n",
       "28                                 945386   \n",
       "29                                  31108   \n",
       "30                                2632092   \n",
       "31                                 660512   \n",
       "32                                  83369   \n",
       "33                                 336157   \n",
       "34                                1686976   \n",
       "35                                1552491   \n",
       "36                               33382100   \n",
       "\n",
       "    Cured/Discharged/Migrated* Change since yesterday  Deaths** Cumulative  \\\n",
       "0                                                   2                  129   \n",
       "1                                                 557                14286   \n",
       "2                                                  26                  280   \n",
       "3                                                 362                 5938   \n",
       "4                                                   2                 9661   \n",
       "5                                                  15                  820   \n",
       "6                                                  20                13570   \n",
       "7                                                   1                    4   \n",
       "8                                                  29                25089   \n",
       "9                                                  39                 3335   \n",
       "10                                                 14                10086   \n",
       "11                                                  0                10049   \n",
       "12                                                173                 3715   \n",
       "13                                                104                 4426   \n",
       "14                                                  7                 5135   \n",
       "15                                                347                37922   \n",
       "16                                              10952                26667   \n",
       "17                                                  4                  208   \n",
       "18                                                  0                   51   \n",
       "19                                                 11                10523   \n",
       "20                                               2343               139705   \n",
       "21                                                 84                 1889   \n",
       "22                                                115                 1431   \n",
       "23                                               1332                  374   \n",
       "24                                                 17                  673   \n",
       "25                                                477                 8274   \n",
       "26                                                 53                 1849   \n",
       "27                                                 16                16538   \n",
       "28                                                  2                 8954   \n",
       "29                                                  7                  390   \n",
       "30                                               1438                35853   \n",
       "31                                                207                 3935   \n",
       "32                                                 12                  816   \n",
       "33                                                  6                 7397   \n",
       "34                                                 16                22897   \n",
       "35                                                601                18945   \n",
       "36                                              19391               451814   \n",
       "\n",
       "    Deaths** Change since yesterday       Date  \n",
       "0                                 0 2021-10-15  \n",
       "1                                10 2021-10-15  \n",
       "2                                 0 2021-10-15  \n",
       "3                                 2 2021-10-15  \n",
       "4                                 0 2021-10-15  \n",
       "5                                 0 2021-10-15  \n",
       "6                                 0 2021-10-15  \n",
       "7                                 0 2021-10-15  \n",
       "8                                 0 2021-10-15  \n",
       "9                                 2 2021-10-15  \n",
       "10                                0 2021-10-15  \n",
       "11                              174 2021-10-15  \n",
       "12                                4 2021-10-15  \n",
       "13                                0 2021-10-15  \n",
       "14                                0 2021-10-15  \n",
       "15                                6 2021-10-15  \n",
       "16                               96 2021-10-15  \n",
       "17                                0 2021-10-15  \n",
       "18                                0 2021-10-15  \n",
       "19                                0 2021-10-15  \n",
       "20                               35 2021-10-15  \n",
       "21                                0 2021-10-15  \n",
       "22                                3 2021-10-15  \n",
       "23                                4 2021-10-15  \n",
       "24                                0 2021-10-15  \n",
       "25                                6 2021-10-15  \n",
       "26                                0 2021-10-15  \n",
       "27                                6 2021-10-15  \n",
       "28                                0 2021-10-15  \n",
       "29                                0 2021-10-15  \n",
       "30                               20 2021-10-15  \n",
       "31                                1 2021-10-15  \n",
       "32                                0 2021-10-15  \n",
       "33                                0 2021-10-15  \n",
       "34                                0 2021-10-15  \n",
       "35                               10 2021-10-15  \n",
       "36                              379 2021-10-15  "
      ]
     },
     "execution_count": 111,
     "metadata": {},
     "output_type": "execute_result"
    }
   ],
   "source": [
    "india_covid_data"
   ]
  },
  {
   "cell_type": "code",
   "execution_count": 49,
   "id": "d3542585",
   "metadata": {},
   "outputs": [],
   "source": [
    "# Graphical Representation"
   ]
  },
  {
   "cell_type": "code",
   "execution_count": 50,
   "id": "f38e3995",
   "metadata": {},
   "outputs": [],
   "source": [
    "import seaborn as sns\n",
    "import matplotlib.pyplot as plt\n",
    "%matplotlib inline"
   ]
  },
  {
   "cell_type": "code",
   "execution_count": null,
   "id": "203aaf21",
   "metadata": {},
   "outputs": [],
   "source": []
  },
  {
   "cell_type": "code",
   "execution_count": 109,
   "id": "abbb7909",
   "metadata": {},
   "outputs": [
    {
     "name": "stdout",
     "output_type": "stream",
     "text": [
      "Collecting plotlyNote: you may need to restart the kernel to use updated packages.\n",
      "\n",
      "  Downloading plotly-5.3.1-py2.py3-none-any.whl (23.9 MB)\n",
      "Collecting tenacity>=6.2.0\n",
      "  Downloading tenacity-8.0.1-py3-none-any.whl (24 kB)\n",
      "Requirement already satisfied: six in c:\\users\\adila\\anaconda3\\lib\\site-packages (from plotly) (1.16.0)\n",
      "Installing collected packages: tenacity, plotly\n",
      "Successfully installed plotly-5.3.1 tenacity-8.0.1\n"
     ]
    }
   ],
   "source": [
    "pip install plotly"
   ]
  },
  {
   "cell_type": "code",
   "execution_count": null,
   "id": "b06bc34c",
   "metadata": {},
   "outputs": [],
   "source": []
  },
  {
   "cell_type": "code",
   "execution_count": 144,
   "id": "6c97b4a9",
   "metadata": {},
   "outputs": [],
   "source": [
    "states_covid_data=india_covid_data.copy()"
   ]
  },
  {
   "cell_type": "code",
   "execution_count": 189,
   "id": "a32e702d",
   "metadata": {},
   "outputs": [
    {
     "data": {
      "text/html": [
       "<div>\n",
       "<style scoped>\n",
       "    .dataframe tbody tr th:only-of-type {\n",
       "        vertical-align: middle;\n",
       "    }\n",
       "\n",
       "    .dataframe tbody tr th {\n",
       "        vertical-align: top;\n",
       "    }\n",
       "\n",
       "    .dataframe thead th {\n",
       "        text-align: right;\n",
       "    }\n",
       "</style>\n",
       "<table border=\"1\" class=\"dataframe\">\n",
       "  <thead>\n",
       "    <tr style=\"text-align: right;\">\n",
       "      <th></th>\n",
       "      <th>Name of State / UT</th>\n",
       "      <th>Active Cases* Total</th>\n",
       "      <th>Active Cases* Change Since Yesterday</th>\n",
       "      <th>Cured/Discharged/Migrated* Cumulative</th>\n",
       "      <th>Cured/Discharged/Migrated* Change since yesterday</th>\n",
       "      <th>Deaths** Cumulative</th>\n",
       "      <th>Deaths** Change since yesterday</th>\n",
       "      <th>Date</th>\n",
       "    </tr>\n",
       "  </thead>\n",
       "  <tbody>\n",
       "    <tr>\n",
       "      <th>0</th>\n",
       "      <td>Andaman and Nicobar Islands</td>\n",
       "      <td>10</td>\n",
       "      <td>1</td>\n",
       "      <td>7501</td>\n",
       "      <td>2</td>\n",
       "      <td>129</td>\n",
       "      <td>0</td>\n",
       "      <td>2021-10-15</td>\n",
       "    </tr>\n",
       "    <tr>\n",
       "      <th>1</th>\n",
       "      <td>Andhra Pradesh</td>\n",
       "      <td>6588</td>\n",
       "      <td>-27</td>\n",
       "      <td>2038248</td>\n",
       "      <td>557</td>\n",
       "      <td>14286</td>\n",
       "      <td>10</td>\n",
       "      <td>2021-10-15</td>\n",
       "    </tr>\n",
       "    <tr>\n",
       "      <th>2</th>\n",
       "      <td>Arunachal Pradesh</td>\n",
       "      <td>202</td>\n",
       "      <td>-22</td>\n",
       "      <td>54476</td>\n",
       "      <td>26</td>\n",
       "      <td>280</td>\n",
       "      <td>0</td>\n",
       "      <td>2021-10-15</td>\n",
       "    </tr>\n",
       "    <tr>\n",
       "      <th>3</th>\n",
       "      <td>Assam</td>\n",
       "      <td>3646</td>\n",
       "      <td>-157</td>\n",
       "      <td>596263</td>\n",
       "      <td>362</td>\n",
       "      <td>5938</td>\n",
       "      <td>2</td>\n",
       "      <td>2021-10-15</td>\n",
       "    </tr>\n",
       "    <tr>\n",
       "      <th>4</th>\n",
       "      <td>Bihar</td>\n",
       "      <td>42</td>\n",
       "      <td>6</td>\n",
       "      <td>716313</td>\n",
       "      <td>2</td>\n",
       "      <td>9661</td>\n",
       "      <td>0</td>\n",
       "      <td>2021-10-15</td>\n",
       "    </tr>\n",
       "  </tbody>\n",
       "</table>\n",
       "</div>"
      ],
      "text/plain": [
       "            Name of State / UT  Active Cases* Total  \\\n",
       "0  Andaman and Nicobar Islands                   10   \n",
       "1               Andhra Pradesh                 6588   \n",
       "2            Arunachal Pradesh                  202   \n",
       "3                        Assam                 3646   \n",
       "4                        Bihar                   42   \n",
       "\n",
       "   Active Cases* Change Since Yesterday  \\\n",
       "0                                     1   \n",
       "1                                   -27   \n",
       "2                                   -22   \n",
       "3                                  -157   \n",
       "4                                     6   \n",
       "\n",
       "   Cured/Discharged/Migrated* Cumulative  \\\n",
       "0                                   7501   \n",
       "1                                2038248   \n",
       "2                                  54476   \n",
       "3                                 596263   \n",
       "4                                 716313   \n",
       "\n",
       "   Cured/Discharged/Migrated* Change since yesterday  Deaths** Cumulative  \\\n",
       "0                                                  2                  129   \n",
       "1                                                557                14286   \n",
       "2                                                 26                  280   \n",
       "3                                                362                 5938   \n",
       "4                                                  2                 9661   \n",
       "\n",
       "   Deaths** Change since yesterday       Date  \n",
       "0                                0 2021-10-15  \n",
       "1                               10 2021-10-15  \n",
       "2                                0 2021-10-15  \n",
       "3                                2 2021-10-15  \n",
       "4                                0 2021-10-15  "
      ]
     },
     "execution_count": 189,
     "metadata": {},
     "output_type": "execute_result"
    }
   ],
   "source": [
    "states_covid_data.head()"
   ]
  },
  {
   "cell_type": "code",
   "execution_count": null,
   "id": "c361c184",
   "metadata": {},
   "outputs": [],
   "source": []
  },
  {
   "cell_type": "code",
   "execution_count": 192,
   "id": "e5a239b9",
   "metadata": {},
   "outputs": [],
   "source": [
    "states_covid_data.insert(2, \"Active Cases* Total by %\", round(states_covid_data['Active Cases* Total']/int(states_covid_data.iloc[-1:,1])*100,ndigits=2))"
   ]
  },
  {
   "cell_type": "code",
   "execution_count": null,
   "id": "3c04b48c",
   "metadata": {},
   "outputs": [],
   "source": []
  },
  {
   "cell_type": "code",
   "execution_count": 201,
   "id": "fb28464c",
   "metadata": {},
   "outputs": [],
   "source": [
    "states_covid_data.insert(4, \"Active Cases* Change Since Yesterday by %\", round(states_covid_data['Active Cases* Change Since Yesterday']/-int(states_covid_data.iloc[-1:,3])*100,ndigits=2))"
   ]
  },
  {
   "cell_type": "code",
   "execution_count": 208,
   "id": "49661f3c",
   "metadata": {},
   "outputs": [],
   "source": [
    "states_covid_data.insert(6, \"Cured/Discharged/Migrated* Cumulative by %\", round(states_covid_data['Cured/Discharged/Migrated* Cumulative']/int(states_covid_data.iloc[-1:,5])*100,ndigits=2))"
   ]
  },
  {
   "cell_type": "code",
   "execution_count": 212,
   "id": "c4e946fc",
   "metadata": {},
   "outputs": [],
   "source": [
    "states_covid_data.insert(8, \"Cured/Discharged/Migrated* Change since yesterday by %\", round(states_covid_data['Cured/Discharged/Migrated* Change since yesterday']/int(states_covid_data.iloc[-1:,7])*100,ndigits=2))"
   ]
  },
  {
   "cell_type": "code",
   "execution_count": 215,
   "id": "6e970e03",
   "metadata": {},
   "outputs": [],
   "source": [
    "states_covid_data.insert(10, \"Deaths** Cumulative by %\", round(states_covid_data['Deaths** Cumulative']/int(states_covid_data.iloc[-1:,9])*100,ndigits=2))"
   ]
  },
  {
   "cell_type": "code",
   "execution_count": 218,
   "id": "41c33d74",
   "metadata": {},
   "outputs": [],
   "source": [
    "states_covid_data.insert(12, \"Deaths** Change since yesterday by %\", round(states_covid_data['Deaths** Change since yesterday']/int(states_covid_data.iloc[-1:,11])*100,ndigits=2))"
   ]
  },
  {
   "cell_type": "code",
   "execution_count": 227,
   "id": "4b3428b3",
   "metadata": {},
   "outputs": [],
   "source": [
    "india_covid_data=states_covid_data.copy()"
   ]
  },
  {
   "cell_type": "code",
   "execution_count": 266,
   "id": "9b96586a",
   "metadata": {},
   "outputs": [],
   "source": [
    "india_covid_data.to_csv(\"india_covid_data\")"
   ]
  },
  {
   "cell_type": "code",
   "execution_count": 265,
   "id": "eeddbadb",
   "metadata": {},
   "outputs": [
    {
     "data": {
      "text/plain": [
       "'C:\\\\Users\\\\adila\\\\Desktop\\\\Projects\\\\Datasets for ML'"
      ]
     },
     "execution_count": 265,
     "metadata": {},
     "output_type": "execute_result"
    }
   ],
   "source": [
    "pwd"
   ]
  },
  {
   "cell_type": "code",
   "execution_count": 232,
   "id": "8fc926f4",
   "metadata": {},
   "outputs": [
    {
     "data": {
      "text/html": [
       "<div>\n",
       "<style scoped>\n",
       "    .dataframe tbody tr th:only-of-type {\n",
       "        vertical-align: middle;\n",
       "    }\n",
       "\n",
       "    .dataframe tbody tr th {\n",
       "        vertical-align: top;\n",
       "    }\n",
       "\n",
       "    .dataframe thead th {\n",
       "        text-align: right;\n",
       "    }\n",
       "</style>\n",
       "<table border=\"1\" class=\"dataframe\">\n",
       "  <thead>\n",
       "    <tr style=\"text-align: right;\">\n",
       "      <th></th>\n",
       "      <th>Name of State / UT</th>\n",
       "      <th>Active Cases* Total</th>\n",
       "      <th>Active Cases* Total by %</th>\n",
       "      <th>Active Cases* Change Since Yesterday</th>\n",
       "      <th>Active Cases* Change Since Yesterday by %</th>\n",
       "      <th>Cured/Discharged/Migrated* Cumulative</th>\n",
       "      <th>Cured/Discharged/Migrated* Cumulative by %</th>\n",
       "      <th>Cured/Discharged/Migrated* Change since yesterday</th>\n",
       "      <th>Cured/Discharged/Migrated* Change since yesterday by %</th>\n",
       "      <th>Deaths** Cumulative</th>\n",
       "      <th>Deaths** Cumulative by %</th>\n",
       "      <th>Deaths** Change since yesterday</th>\n",
       "      <th>Deaths** Change since yesterday by %</th>\n",
       "      <th>Date</th>\n",
       "    </tr>\n",
       "  </thead>\n",
       "  <tbody>\n",
       "    <tr>\n",
       "      <th>0</th>\n",
       "      <td>Andaman and Nicobar Islands</td>\n",
       "      <td>10</td>\n",
       "      <td>0.00</td>\n",
       "      <td>1</td>\n",
       "      <td>0.03</td>\n",
       "      <td>7501</td>\n",
       "      <td>0.02</td>\n",
       "      <td>2</td>\n",
       "      <td>0.01</td>\n",
       "      <td>129</td>\n",
       "      <td>0.03</td>\n",
       "      <td>0</td>\n",
       "      <td>0.00</td>\n",
       "      <td>2021-10-15</td>\n",
       "    </tr>\n",
       "    <tr>\n",
       "      <th>1</th>\n",
       "      <td>Andhra Pradesh</td>\n",
       "      <td>6588</td>\n",
       "      <td>3.23</td>\n",
       "      <td>-27</td>\n",
       "      <td>-0.93</td>\n",
       "      <td>2038248</td>\n",
       "      <td>6.11</td>\n",
       "      <td>557</td>\n",
       "      <td>2.87</td>\n",
       "      <td>14286</td>\n",
       "      <td>3.16</td>\n",
       "      <td>10</td>\n",
       "      <td>2.64</td>\n",
       "      <td>2021-10-15</td>\n",
       "    </tr>\n",
       "    <tr>\n",
       "      <th>2</th>\n",
       "      <td>Arunachal Pradesh</td>\n",
       "      <td>202</td>\n",
       "      <td>0.10</td>\n",
       "      <td>-22</td>\n",
       "      <td>-0.76</td>\n",
       "      <td>54476</td>\n",
       "      <td>0.16</td>\n",
       "      <td>26</td>\n",
       "      <td>0.13</td>\n",
       "      <td>280</td>\n",
       "      <td>0.06</td>\n",
       "      <td>0</td>\n",
       "      <td>0.00</td>\n",
       "      <td>2021-10-15</td>\n",
       "    </tr>\n",
       "    <tr>\n",
       "      <th>3</th>\n",
       "      <td>Assam</td>\n",
       "      <td>3646</td>\n",
       "      <td>1.79</td>\n",
       "      <td>-157</td>\n",
       "      <td>-5.40</td>\n",
       "      <td>596263</td>\n",
       "      <td>1.79</td>\n",
       "      <td>362</td>\n",
       "      <td>1.87</td>\n",
       "      <td>5938</td>\n",
       "      <td>1.31</td>\n",
       "      <td>2</td>\n",
       "      <td>0.53</td>\n",
       "      <td>2021-10-15</td>\n",
       "    </tr>\n",
       "    <tr>\n",
       "      <th>4</th>\n",
       "      <td>Bihar</td>\n",
       "      <td>42</td>\n",
       "      <td>0.02</td>\n",
       "      <td>6</td>\n",
       "      <td>0.21</td>\n",
       "      <td>716313</td>\n",
       "      <td>2.15</td>\n",
       "      <td>2</td>\n",
       "      <td>0.01</td>\n",
       "      <td>9661</td>\n",
       "      <td>2.14</td>\n",
       "      <td>0</td>\n",
       "      <td>0.00</td>\n",
       "      <td>2021-10-15</td>\n",
       "    </tr>\n",
       "    <tr>\n",
       "      <th>5</th>\n",
       "      <td>Chandigarh</td>\n",
       "      <td>32</td>\n",
       "      <td>0.02</td>\n",
       "      <td>-5</td>\n",
       "      <td>-0.17</td>\n",
       "      <td>64443</td>\n",
       "      <td>0.19</td>\n",
       "      <td>15</td>\n",
       "      <td>0.08</td>\n",
       "      <td>820</td>\n",
       "      <td>0.18</td>\n",
       "      <td>0</td>\n",
       "      <td>0.00</td>\n",
       "      <td>2021-10-15</td>\n",
       "    </tr>\n",
       "    <tr>\n",
       "      <th>6</th>\n",
       "      <td>Chhattisgarh</td>\n",
       "      <td>203</td>\n",
       "      <td>0.10</td>\n",
       "      <td>-4</td>\n",
       "      <td>-0.14</td>\n",
       "      <td>991841</td>\n",
       "      <td>2.97</td>\n",
       "      <td>20</td>\n",
       "      <td>0.10</td>\n",
       "      <td>13570</td>\n",
       "      <td>3.00</td>\n",
       "      <td>0</td>\n",
       "      <td>0.00</td>\n",
       "      <td>2021-10-15</td>\n",
       "    </tr>\n",
       "    <tr>\n",
       "      <th>7</th>\n",
       "      <td>Dadra and Nagar Haveli and Daman and Diu</td>\n",
       "      <td>3</td>\n",
       "      <td>0.00</td>\n",
       "      <td>-1</td>\n",
       "      <td>-0.03</td>\n",
       "      <td>10668</td>\n",
       "      <td>0.03</td>\n",
       "      <td>1</td>\n",
       "      <td>0.01</td>\n",
       "      <td>4</td>\n",
       "      <td>0.00</td>\n",
       "      <td>0</td>\n",
       "      <td>0.00</td>\n",
       "      <td>2021-10-15</td>\n",
       "    </tr>\n",
       "    <tr>\n",
       "      <th>8</th>\n",
       "      <td>Delhi</td>\n",
       "      <td>337</td>\n",
       "      <td>0.17</td>\n",
       "      <td>-1</td>\n",
       "      <td>-0.03</td>\n",
       "      <td>1413885</td>\n",
       "      <td>4.24</td>\n",
       "      <td>29</td>\n",
       "      <td>0.15</td>\n",
       "      <td>25089</td>\n",
       "      <td>5.55</td>\n",
       "      <td>0</td>\n",
       "      <td>0.00</td>\n",
       "      <td>2021-10-15</td>\n",
       "    </tr>\n",
       "    <tr>\n",
       "      <th>9</th>\n",
       "      <td>Goa</td>\n",
       "      <td>679</td>\n",
       "      <td>0.33</td>\n",
       "      <td>27</td>\n",
       "      <td>0.93</td>\n",
       "      <td>173342</td>\n",
       "      <td>0.52</td>\n",
       "      <td>39</td>\n",
       "      <td>0.20</td>\n",
       "      <td>3335</td>\n",
       "      <td>0.74</td>\n",
       "      <td>2</td>\n",
       "      <td>0.53</td>\n",
       "      <td>2021-10-15</td>\n",
       "    </tr>\n",
       "    <tr>\n",
       "      <th>10</th>\n",
       "      <td>Gujarat</td>\n",
       "      <td>215</td>\n",
       "      <td>0.11</td>\n",
       "      <td>20</td>\n",
       "      <td>0.69</td>\n",
       "      <td>815943</td>\n",
       "      <td>2.44</td>\n",
       "      <td>14</td>\n",
       "      <td>0.07</td>\n",
       "      <td>10086</td>\n",
       "      <td>2.23</td>\n",
       "      <td>0</td>\n",
       "      <td>0.00</td>\n",
       "      <td>2021-10-15</td>\n",
       "    </tr>\n",
       "    <tr>\n",
       "      <th>11</th>\n",
       "      <td>Haryana***</td>\n",
       "      <td>105</td>\n",
       "      <td>0.05</td>\n",
       "      <td>-158</td>\n",
       "      <td>-5.43</td>\n",
       "      <td>760881</td>\n",
       "      <td>2.28</td>\n",
       "      <td>0</td>\n",
       "      <td>0.00</td>\n",
       "      <td>10049</td>\n",
       "      <td>2.22</td>\n",
       "      <td>174</td>\n",
       "      <td>45.91</td>\n",
       "      <td>2021-10-15</td>\n",
       "    </tr>\n",
       "    <tr>\n",
       "      <th>12</th>\n",
       "      <td>Himachal Pradesh</td>\n",
       "      <td>1387</td>\n",
       "      <td>0.68</td>\n",
       "      <td>5</td>\n",
       "      <td>0.17</td>\n",
       "      <td>216011</td>\n",
       "      <td>0.65</td>\n",
       "      <td>173</td>\n",
       "      <td>0.89</td>\n",
       "      <td>3715</td>\n",
       "      <td>0.82</td>\n",
       "      <td>4</td>\n",
       "      <td>1.06</td>\n",
       "      <td>2021-10-15</td>\n",
       "    </tr>\n",
       "    <tr>\n",
       "      <th>13</th>\n",
       "      <td>Jammu and Kashmir</td>\n",
       "      <td>935</td>\n",
       "      <td>0.46</td>\n",
       "      <td>-11</td>\n",
       "      <td>-0.38</td>\n",
       "      <td>325473</td>\n",
       "      <td>0.97</td>\n",
       "      <td>104</td>\n",
       "      <td>0.54</td>\n",
       "      <td>4426</td>\n",
       "      <td>0.98</td>\n",
       "      <td>0</td>\n",
       "      <td>0.00</td>\n",
       "      <td>2021-10-15</td>\n",
       "    </tr>\n",
       "    <tr>\n",
       "      <th>14</th>\n",
       "      <td>Jharkhand</td>\n",
       "      <td>130</td>\n",
       "      <td>0.06</td>\n",
       "      <td>4</td>\n",
       "      <td>0.14</td>\n",
       "      <td>343141</td>\n",
       "      <td>1.03</td>\n",
       "      <td>7</td>\n",
       "      <td>0.04</td>\n",
       "      <td>5135</td>\n",
       "      <td>1.14</td>\n",
       "      <td>0</td>\n",
       "      <td>0.00</td>\n",
       "      <td>2021-10-15</td>\n",
       "    </tr>\n",
       "    <tr>\n",
       "      <th>15</th>\n",
       "      <td>Karnataka</td>\n",
       "      <td>9607</td>\n",
       "      <td>4.72</td>\n",
       "      <td>-43</td>\n",
       "      <td>-1.48</td>\n",
       "      <td>2934870</td>\n",
       "      <td>8.79</td>\n",
       "      <td>347</td>\n",
       "      <td>1.79</td>\n",
       "      <td>37922</td>\n",
       "      <td>8.39</td>\n",
       "      <td>6</td>\n",
       "      <td>1.58</td>\n",
       "      <td>2021-10-15</td>\n",
       "    </tr>\n",
       "    <tr>\n",
       "      <th>16</th>\n",
       "      <td>Kerala</td>\n",
       "      <td>96421</td>\n",
       "      <td>47.34</td>\n",
       "      <td>-1802</td>\n",
       "      <td>-61.97</td>\n",
       "      <td>4706856</td>\n",
       "      <td>14.10</td>\n",
       "      <td>10952</td>\n",
       "      <td>56.48</td>\n",
       "      <td>26667</td>\n",
       "      <td>5.90</td>\n",
       "      <td>96</td>\n",
       "      <td>25.33</td>\n",
       "      <td>2021-10-15</td>\n",
       "    </tr>\n",
       "    <tr>\n",
       "      <th>17</th>\n",
       "      <td>Ladakh</td>\n",
       "      <td>44</td>\n",
       "      <td>0.02</td>\n",
       "      <td>2</td>\n",
       "      <td>0.07</td>\n",
       "      <td>20615</td>\n",
       "      <td>0.06</td>\n",
       "      <td>4</td>\n",
       "      <td>0.02</td>\n",
       "      <td>208</td>\n",
       "      <td>0.05</td>\n",
       "      <td>0</td>\n",
       "      <td>0.00</td>\n",
       "      <td>2021-10-15</td>\n",
       "    </tr>\n",
       "    <tr>\n",
       "      <th>18</th>\n",
       "      <td>Lakshadweep</td>\n",
       "      <td>2</td>\n",
       "      <td>0.00</td>\n",
       "      <td>0</td>\n",
       "      <td>0.00</td>\n",
       "      <td>10312</td>\n",
       "      <td>0.03</td>\n",
       "      <td>0</td>\n",
       "      <td>0.00</td>\n",
       "      <td>51</td>\n",
       "      <td>0.01</td>\n",
       "      <td>0</td>\n",
       "      <td>0.00</td>\n",
       "      <td>2021-10-15</td>\n",
       "    </tr>\n",
       "    <tr>\n",
       "      <th>19</th>\n",
       "      <td>Madhya Pradesh</td>\n",
       "      <td>111</td>\n",
       "      <td>0.05</td>\n",
       "      <td>1</td>\n",
       "      <td>0.03</td>\n",
       "      <td>782035</td>\n",
       "      <td>2.34</td>\n",
       "      <td>11</td>\n",
       "      <td>0.06</td>\n",
       "      <td>10523</td>\n",
       "      <td>2.33</td>\n",
       "      <td>0</td>\n",
       "      <td>0.00</td>\n",
       "      <td>2021-10-15</td>\n",
       "    </tr>\n",
       "    <tr>\n",
       "      <th>20</th>\n",
       "      <td>Maharashtra</td>\n",
       "      <td>33157</td>\n",
       "      <td>16.28</td>\n",
       "      <td>6</td>\n",
       "      <td>0.21</td>\n",
       "      <td>6413418</td>\n",
       "      <td>19.21</td>\n",
       "      <td>2343</td>\n",
       "      <td>12.08</td>\n",
       "      <td>139705</td>\n",
       "      <td>30.92</td>\n",
       "      <td>35</td>\n",
       "      <td>9.23</td>\n",
       "      <td>2021-10-15</td>\n",
       "    </tr>\n",
       "    <tr>\n",
       "      <th>21</th>\n",
       "      <td>Manipur</td>\n",
       "      <td>1444</td>\n",
       "      <td>0.71</td>\n",
       "      <td>-15</td>\n",
       "      <td>-0.52</td>\n",
       "      <td>119099</td>\n",
       "      <td>0.36</td>\n",
       "      <td>84</td>\n",
       "      <td>0.43</td>\n",
       "      <td>1889</td>\n",
       "      <td>0.42</td>\n",
       "      <td>0</td>\n",
       "      <td>0.00</td>\n",
       "      <td>2021-10-15</td>\n",
       "    </tr>\n",
       "    <tr>\n",
       "      <th>22</th>\n",
       "      <td>Meghalaya</td>\n",
       "      <td>892</td>\n",
       "      <td>0.44</td>\n",
       "      <td>-31</td>\n",
       "      <td>-1.07</td>\n",
       "      <td>80411</td>\n",
       "      <td>0.24</td>\n",
       "      <td>115</td>\n",
       "      <td>0.59</td>\n",
       "      <td>1431</td>\n",
       "      <td>0.32</td>\n",
       "      <td>3</td>\n",
       "      <td>0.79</td>\n",
       "      <td>2021-10-15</td>\n",
       "    </tr>\n",
       "    <tr>\n",
       "      <th>23</th>\n",
       "      <td>Mizoram</td>\n",
       "      <td>13601</td>\n",
       "      <td>6.68</td>\n",
       "      <td>-435</td>\n",
       "      <td>-14.96</td>\n",
       "      <td>96744</td>\n",
       "      <td>0.29</td>\n",
       "      <td>1332</td>\n",
       "      <td>6.87</td>\n",
       "      <td>374</td>\n",
       "      <td>0.08</td>\n",
       "      <td>4</td>\n",
       "      <td>1.06</td>\n",
       "      <td>2021-10-15</td>\n",
       "    </tr>\n",
       "    <tr>\n",
       "      <th>24</th>\n",
       "      <td>Nagaland</td>\n",
       "      <td>230</td>\n",
       "      <td>0.11</td>\n",
       "      <td>-8</td>\n",
       "      <td>-0.28</td>\n",
       "      <td>30613</td>\n",
       "      <td>0.09</td>\n",
       "      <td>17</td>\n",
       "      <td>0.09</td>\n",
       "      <td>673</td>\n",
       "      <td>0.15</td>\n",
       "      <td>0</td>\n",
       "      <td>0.00</td>\n",
       "      <td>2021-10-15</td>\n",
       "    </tr>\n",
       "    <tr>\n",
       "      <th>25</th>\n",
       "      <td>Odisha</td>\n",
       "      <td>4890</td>\n",
       "      <td>2.40</td>\n",
       "      <td>38</td>\n",
       "      <td>1.31</td>\n",
       "      <td>1020645</td>\n",
       "      <td>3.06</td>\n",
       "      <td>477</td>\n",
       "      <td>2.46</td>\n",
       "      <td>8274</td>\n",
       "      <td>1.83</td>\n",
       "      <td>6</td>\n",
       "      <td>1.58</td>\n",
       "      <td>2021-10-15</td>\n",
       "    </tr>\n",
       "    <tr>\n",
       "      <th>26</th>\n",
       "      <td>Puducherry</td>\n",
       "      <td>647</td>\n",
       "      <td>0.32</td>\n",
       "      <td>-4</td>\n",
       "      <td>-0.14</td>\n",
       "      <td>124763</td>\n",
       "      <td>0.37</td>\n",
       "      <td>53</td>\n",
       "      <td>0.27</td>\n",
       "      <td>1849</td>\n",
       "      <td>0.41</td>\n",
       "      <td>0</td>\n",
       "      <td>0.00</td>\n",
       "      <td>2021-10-15</td>\n",
       "    </tr>\n",
       "    <tr>\n",
       "      <th>27</th>\n",
       "      <td>Punjab</td>\n",
       "      <td>234</td>\n",
       "      <td>0.11</td>\n",
       "      <td>11</td>\n",
       "      <td>0.38</td>\n",
       "      <td>585199</td>\n",
       "      <td>1.75</td>\n",
       "      <td>16</td>\n",
       "      <td>0.08</td>\n",
       "      <td>16538</td>\n",
       "      <td>3.66</td>\n",
       "      <td>6</td>\n",
       "      <td>1.58</td>\n",
       "      <td>2021-10-15</td>\n",
       "    </tr>\n",
       "    <tr>\n",
       "      <th>28</th>\n",
       "      <td>Rajasthan</td>\n",
       "      <td>42</td>\n",
       "      <td>0.02</td>\n",
       "      <td>6</td>\n",
       "      <td>0.21</td>\n",
       "      <td>945386</td>\n",
       "      <td>2.83</td>\n",
       "      <td>2</td>\n",
       "      <td>0.01</td>\n",
       "      <td>8954</td>\n",
       "      <td>1.98</td>\n",
       "      <td>0</td>\n",
       "      <td>0.00</td>\n",
       "      <td>2021-10-15</td>\n",
       "    </tr>\n",
       "    <tr>\n",
       "      <th>29</th>\n",
       "      <td>Sikkim</td>\n",
       "      <td>224</td>\n",
       "      <td>0.11</td>\n",
       "      <td>-1</td>\n",
       "      <td>-0.03</td>\n",
       "      <td>31108</td>\n",
       "      <td>0.09</td>\n",
       "      <td>7</td>\n",
       "      <td>0.04</td>\n",
       "      <td>390</td>\n",
       "      <td>0.09</td>\n",
       "      <td>0</td>\n",
       "      <td>0.00</td>\n",
       "      <td>2021-10-15</td>\n",
       "    </tr>\n",
       "    <tr>\n",
       "      <th>30</th>\n",
       "      <td>Tamil Nadu</td>\n",
       "      <td>15451</td>\n",
       "      <td>7.59</td>\n",
       "      <td>-199</td>\n",
       "      <td>-6.84</td>\n",
       "      <td>2632092</td>\n",
       "      <td>7.88</td>\n",
       "      <td>1438</td>\n",
       "      <td>7.42</td>\n",
       "      <td>35853</td>\n",
       "      <td>7.94</td>\n",
       "      <td>20</td>\n",
       "      <td>5.28</td>\n",
       "      <td>2021-10-15</td>\n",
       "    </tr>\n",
       "    <tr>\n",
       "      <th>31</th>\n",
       "      <td>Telangana</td>\n",
       "      <td>4171</td>\n",
       "      <td>2.05</td>\n",
       "      <td>-40</td>\n",
       "      <td>-1.38</td>\n",
       "      <td>660512</td>\n",
       "      <td>1.98</td>\n",
       "      <td>207</td>\n",
       "      <td>1.07</td>\n",
       "      <td>3935</td>\n",
       "      <td>0.87</td>\n",
       "      <td>1</td>\n",
       "      <td>0.26</td>\n",
       "      <td>2021-10-15</td>\n",
       "    </tr>\n",
       "    <tr>\n",
       "      <th>32</th>\n",
       "      <td>Tripura</td>\n",
       "      <td>110</td>\n",
       "      <td>0.05</td>\n",
       "      <td>-8</td>\n",
       "      <td>-0.28</td>\n",
       "      <td>83369</td>\n",
       "      <td>0.25</td>\n",
       "      <td>12</td>\n",
       "      <td>0.06</td>\n",
       "      <td>816</td>\n",
       "      <td>0.18</td>\n",
       "      <td>0</td>\n",
       "      <td>0.00</td>\n",
       "      <td>2021-10-15</td>\n",
       "    </tr>\n",
       "    <tr>\n",
       "      <th>33</th>\n",
       "      <td>Uttarakhand</td>\n",
       "      <td>175</td>\n",
       "      <td>0.09</td>\n",
       "      <td>22</td>\n",
       "      <td>0.76</td>\n",
       "      <td>336157</td>\n",
       "      <td>1.01</td>\n",
       "      <td>6</td>\n",
       "      <td>0.03</td>\n",
       "      <td>7397</td>\n",
       "      <td>1.64</td>\n",
       "      <td>0</td>\n",
       "      <td>0.00</td>\n",
       "      <td>2021-10-15</td>\n",
       "    </tr>\n",
       "    <tr>\n",
       "      <th>34</th>\n",
       "      <td>Uttar Pradesh</td>\n",
       "      <td>135</td>\n",
       "      <td>0.07</td>\n",
       "      <td>-4</td>\n",
       "      <td>-0.14</td>\n",
       "      <td>1686976</td>\n",
       "      <td>5.05</td>\n",
       "      <td>16</td>\n",
       "      <td>0.08</td>\n",
       "      <td>22897</td>\n",
       "      <td>5.07</td>\n",
       "      <td>0</td>\n",
       "      <td>0.00</td>\n",
       "      <td>2021-10-15</td>\n",
       "    </tr>\n",
       "    <tr>\n",
       "      <th>35</th>\n",
       "      <td>West Bengal</td>\n",
       "      <td>7576</td>\n",
       "      <td>3.72</td>\n",
       "      <td>-81</td>\n",
       "      <td>-2.79</td>\n",
       "      <td>1552491</td>\n",
       "      <td>4.65</td>\n",
       "      <td>601</td>\n",
       "      <td>3.10</td>\n",
       "      <td>18945</td>\n",
       "      <td>4.19</td>\n",
       "      <td>10</td>\n",
       "      <td>2.64</td>\n",
       "      <td>2021-10-15</td>\n",
       "    </tr>\n",
       "  </tbody>\n",
       "</table>\n",
       "</div>"
      ],
      "text/plain": [
       "                          Name of State / UT  Active Cases* Total  \\\n",
       "0                Andaman and Nicobar Islands                   10   \n",
       "1                             Andhra Pradesh                 6588   \n",
       "2                          Arunachal Pradesh                  202   \n",
       "3                                      Assam                 3646   \n",
       "4                                      Bihar                   42   \n",
       "5                                 Chandigarh                   32   \n",
       "6                               Chhattisgarh                  203   \n",
       "7   Dadra and Nagar Haveli and Daman and Diu                    3   \n",
       "8                                      Delhi                  337   \n",
       "9                                        Goa                  679   \n",
       "10                                   Gujarat                  215   \n",
       "11                                Haryana***                  105   \n",
       "12                          Himachal Pradesh                 1387   \n",
       "13                         Jammu and Kashmir                  935   \n",
       "14                                 Jharkhand                  130   \n",
       "15                                 Karnataka                 9607   \n",
       "16                                    Kerala                96421   \n",
       "17                                    Ladakh                   44   \n",
       "18                               Lakshadweep                    2   \n",
       "19                            Madhya Pradesh                  111   \n",
       "20                               Maharashtra                33157   \n",
       "21                                   Manipur                 1444   \n",
       "22                                 Meghalaya                  892   \n",
       "23                                   Mizoram                13601   \n",
       "24                                  Nagaland                  230   \n",
       "25                                    Odisha                 4890   \n",
       "26                                Puducherry                  647   \n",
       "27                                    Punjab                  234   \n",
       "28                                 Rajasthan                   42   \n",
       "29                                    Sikkim                  224   \n",
       "30                                Tamil Nadu                15451   \n",
       "31                                 Telangana                 4171   \n",
       "32                                   Tripura                  110   \n",
       "33                               Uttarakhand                  175   \n",
       "34                             Uttar Pradesh                  135   \n",
       "35                               West Bengal                 7576   \n",
       "\n",
       "    Active Cases* Total by %  Active Cases* Change Since Yesterday  \\\n",
       "0                       0.00                                     1   \n",
       "1                       3.23                                   -27   \n",
       "2                       0.10                                   -22   \n",
       "3                       1.79                                  -157   \n",
       "4                       0.02                                     6   \n",
       "5                       0.02                                    -5   \n",
       "6                       0.10                                    -4   \n",
       "7                       0.00                                    -1   \n",
       "8                       0.17                                    -1   \n",
       "9                       0.33                                    27   \n",
       "10                      0.11                                    20   \n",
       "11                      0.05                                  -158   \n",
       "12                      0.68                                     5   \n",
       "13                      0.46                                   -11   \n",
       "14                      0.06                                     4   \n",
       "15                      4.72                                   -43   \n",
       "16                     47.34                                 -1802   \n",
       "17                      0.02                                     2   \n",
       "18                      0.00                                     0   \n",
       "19                      0.05                                     1   \n",
       "20                     16.28                                     6   \n",
       "21                      0.71                                   -15   \n",
       "22                      0.44                                   -31   \n",
       "23                      6.68                                  -435   \n",
       "24                      0.11                                    -8   \n",
       "25                      2.40                                    38   \n",
       "26                      0.32                                    -4   \n",
       "27                      0.11                                    11   \n",
       "28                      0.02                                     6   \n",
       "29                      0.11                                    -1   \n",
       "30                      7.59                                  -199   \n",
       "31                      2.05                                   -40   \n",
       "32                      0.05                                    -8   \n",
       "33                      0.09                                    22   \n",
       "34                      0.07                                    -4   \n",
       "35                      3.72                                   -81   \n",
       "\n",
       "    Active Cases* Change Since Yesterday by %  \\\n",
       "0                                        0.03   \n",
       "1                                       -0.93   \n",
       "2                                       -0.76   \n",
       "3                                       -5.40   \n",
       "4                                        0.21   \n",
       "5                                       -0.17   \n",
       "6                                       -0.14   \n",
       "7                                       -0.03   \n",
       "8                                       -0.03   \n",
       "9                                        0.93   \n",
       "10                                       0.69   \n",
       "11                                      -5.43   \n",
       "12                                       0.17   \n",
       "13                                      -0.38   \n",
       "14                                       0.14   \n",
       "15                                      -1.48   \n",
       "16                                     -61.97   \n",
       "17                                       0.07   \n",
       "18                                       0.00   \n",
       "19                                       0.03   \n",
       "20                                       0.21   \n",
       "21                                      -0.52   \n",
       "22                                      -1.07   \n",
       "23                                     -14.96   \n",
       "24                                      -0.28   \n",
       "25                                       1.31   \n",
       "26                                      -0.14   \n",
       "27                                       0.38   \n",
       "28                                       0.21   \n",
       "29                                      -0.03   \n",
       "30                                      -6.84   \n",
       "31                                      -1.38   \n",
       "32                                      -0.28   \n",
       "33                                       0.76   \n",
       "34                                      -0.14   \n",
       "35                                      -2.79   \n",
       "\n",
       "    Cured/Discharged/Migrated* Cumulative  \\\n",
       "0                                    7501   \n",
       "1                                 2038248   \n",
       "2                                   54476   \n",
       "3                                  596263   \n",
       "4                                  716313   \n",
       "5                                   64443   \n",
       "6                                  991841   \n",
       "7                                   10668   \n",
       "8                                 1413885   \n",
       "9                                  173342   \n",
       "10                                 815943   \n",
       "11                                 760881   \n",
       "12                                 216011   \n",
       "13                                 325473   \n",
       "14                                 343141   \n",
       "15                                2934870   \n",
       "16                                4706856   \n",
       "17                                  20615   \n",
       "18                                  10312   \n",
       "19                                 782035   \n",
       "20                                6413418   \n",
       "21                                 119099   \n",
       "22                                  80411   \n",
       "23                                  96744   \n",
       "24                                  30613   \n",
       "25                                1020645   \n",
       "26                                 124763   \n",
       "27                                 585199   \n",
       "28                                 945386   \n",
       "29                                  31108   \n",
       "30                                2632092   \n",
       "31                                 660512   \n",
       "32                                  83369   \n",
       "33                                 336157   \n",
       "34                                1686976   \n",
       "35                                1552491   \n",
       "\n",
       "    Cured/Discharged/Migrated* Cumulative by %  \\\n",
       "0                                         0.02   \n",
       "1                                         6.11   \n",
       "2                                         0.16   \n",
       "3                                         1.79   \n",
       "4                                         2.15   \n",
       "5                                         0.19   \n",
       "6                                         2.97   \n",
       "7                                         0.03   \n",
       "8                                         4.24   \n",
       "9                                         0.52   \n",
       "10                                        2.44   \n",
       "11                                        2.28   \n",
       "12                                        0.65   \n",
       "13                                        0.97   \n",
       "14                                        1.03   \n",
       "15                                        8.79   \n",
       "16                                       14.10   \n",
       "17                                        0.06   \n",
       "18                                        0.03   \n",
       "19                                        2.34   \n",
       "20                                       19.21   \n",
       "21                                        0.36   \n",
       "22                                        0.24   \n",
       "23                                        0.29   \n",
       "24                                        0.09   \n",
       "25                                        3.06   \n",
       "26                                        0.37   \n",
       "27                                        1.75   \n",
       "28                                        2.83   \n",
       "29                                        0.09   \n",
       "30                                        7.88   \n",
       "31                                        1.98   \n",
       "32                                        0.25   \n",
       "33                                        1.01   \n",
       "34                                        5.05   \n",
       "35                                        4.65   \n",
       "\n",
       "    Cured/Discharged/Migrated* Change since yesterday  \\\n",
       "0                                                   2   \n",
       "1                                                 557   \n",
       "2                                                  26   \n",
       "3                                                 362   \n",
       "4                                                   2   \n",
       "5                                                  15   \n",
       "6                                                  20   \n",
       "7                                                   1   \n",
       "8                                                  29   \n",
       "9                                                  39   \n",
       "10                                                 14   \n",
       "11                                                  0   \n",
       "12                                                173   \n",
       "13                                                104   \n",
       "14                                                  7   \n",
       "15                                                347   \n",
       "16                                              10952   \n",
       "17                                                  4   \n",
       "18                                                  0   \n",
       "19                                                 11   \n",
       "20                                               2343   \n",
       "21                                                 84   \n",
       "22                                                115   \n",
       "23                                               1332   \n",
       "24                                                 17   \n",
       "25                                                477   \n",
       "26                                                 53   \n",
       "27                                                 16   \n",
       "28                                                  2   \n",
       "29                                                  7   \n",
       "30                                               1438   \n",
       "31                                                207   \n",
       "32                                                 12   \n",
       "33                                                  6   \n",
       "34                                                 16   \n",
       "35                                                601   \n",
       "\n",
       "    Cured/Discharged/Migrated* Change since yesterday by %  \\\n",
       "0                                                0.01        \n",
       "1                                                2.87        \n",
       "2                                                0.13        \n",
       "3                                                1.87        \n",
       "4                                                0.01        \n",
       "5                                                0.08        \n",
       "6                                                0.10        \n",
       "7                                                0.01        \n",
       "8                                                0.15        \n",
       "9                                                0.20        \n",
       "10                                               0.07        \n",
       "11                                               0.00        \n",
       "12                                               0.89        \n",
       "13                                               0.54        \n",
       "14                                               0.04        \n",
       "15                                               1.79        \n",
       "16                                              56.48        \n",
       "17                                               0.02        \n",
       "18                                               0.00        \n",
       "19                                               0.06        \n",
       "20                                              12.08        \n",
       "21                                               0.43        \n",
       "22                                               0.59        \n",
       "23                                               6.87        \n",
       "24                                               0.09        \n",
       "25                                               2.46        \n",
       "26                                               0.27        \n",
       "27                                               0.08        \n",
       "28                                               0.01        \n",
       "29                                               0.04        \n",
       "30                                               7.42        \n",
       "31                                               1.07        \n",
       "32                                               0.06        \n",
       "33                                               0.03        \n",
       "34                                               0.08        \n",
       "35                                               3.10        \n",
       "\n",
       "    Deaths** Cumulative  Deaths** Cumulative by %  \\\n",
       "0                   129                      0.03   \n",
       "1                 14286                      3.16   \n",
       "2                   280                      0.06   \n",
       "3                  5938                      1.31   \n",
       "4                  9661                      2.14   \n",
       "5                   820                      0.18   \n",
       "6                 13570                      3.00   \n",
       "7                     4                      0.00   \n",
       "8                 25089                      5.55   \n",
       "9                  3335                      0.74   \n",
       "10                10086                      2.23   \n",
       "11                10049                      2.22   \n",
       "12                 3715                      0.82   \n",
       "13                 4426                      0.98   \n",
       "14                 5135                      1.14   \n",
       "15                37922                      8.39   \n",
       "16                26667                      5.90   \n",
       "17                  208                      0.05   \n",
       "18                   51                      0.01   \n",
       "19                10523                      2.33   \n",
       "20               139705                     30.92   \n",
       "21                 1889                      0.42   \n",
       "22                 1431                      0.32   \n",
       "23                  374                      0.08   \n",
       "24                  673                      0.15   \n",
       "25                 8274                      1.83   \n",
       "26                 1849                      0.41   \n",
       "27                16538                      3.66   \n",
       "28                 8954                      1.98   \n",
       "29                  390                      0.09   \n",
       "30                35853                      7.94   \n",
       "31                 3935                      0.87   \n",
       "32                  816                      0.18   \n",
       "33                 7397                      1.64   \n",
       "34                22897                      5.07   \n",
       "35                18945                      4.19   \n",
       "\n",
       "    Deaths** Change since yesterday  Deaths** Change since yesterday by %  \\\n",
       "0                                 0                                  0.00   \n",
       "1                                10                                  2.64   \n",
       "2                                 0                                  0.00   \n",
       "3                                 2                                  0.53   \n",
       "4                                 0                                  0.00   \n",
       "5                                 0                                  0.00   \n",
       "6                                 0                                  0.00   \n",
       "7                                 0                                  0.00   \n",
       "8                                 0                                  0.00   \n",
       "9                                 2                                  0.53   \n",
       "10                                0                                  0.00   \n",
       "11                              174                                 45.91   \n",
       "12                                4                                  1.06   \n",
       "13                                0                                  0.00   \n",
       "14                                0                                  0.00   \n",
       "15                                6                                  1.58   \n",
       "16                               96                                 25.33   \n",
       "17                                0                                  0.00   \n",
       "18                                0                                  0.00   \n",
       "19                                0                                  0.00   \n",
       "20                               35                                  9.23   \n",
       "21                                0                                  0.00   \n",
       "22                                3                                  0.79   \n",
       "23                                4                                  1.06   \n",
       "24                                0                                  0.00   \n",
       "25                                6                                  1.58   \n",
       "26                                0                                  0.00   \n",
       "27                                6                                  1.58   \n",
       "28                                0                                  0.00   \n",
       "29                                0                                  0.00   \n",
       "30                               20                                  5.28   \n",
       "31                                1                                  0.26   \n",
       "32                                0                                  0.00   \n",
       "33                                0                                  0.00   \n",
       "34                                0                                  0.00   \n",
       "35                               10                                  2.64   \n",
       "\n",
       "         Date  \n",
       "0  2021-10-15  \n",
       "1  2021-10-15  \n",
       "2  2021-10-15  \n",
       "3  2021-10-15  \n",
       "4  2021-10-15  \n",
       "5  2021-10-15  \n",
       "6  2021-10-15  \n",
       "7  2021-10-15  \n",
       "8  2021-10-15  \n",
       "9  2021-10-15  \n",
       "10 2021-10-15  \n",
       "11 2021-10-15  \n",
       "12 2021-10-15  \n",
       "13 2021-10-15  \n",
       "14 2021-10-15  \n",
       "15 2021-10-15  \n",
       "16 2021-10-15  \n",
       "17 2021-10-15  \n",
       "18 2021-10-15  \n",
       "19 2021-10-15  \n",
       "20 2021-10-15  \n",
       "21 2021-10-15  \n",
       "22 2021-10-15  \n",
       "23 2021-10-15  \n",
       "24 2021-10-15  \n",
       "25 2021-10-15  \n",
       "26 2021-10-15  \n",
       "27 2021-10-15  \n",
       "28 2021-10-15  \n",
       "29 2021-10-15  \n",
       "30 2021-10-15  \n",
       "31 2021-10-15  \n",
       "32 2021-10-15  \n",
       "33 2021-10-15  \n",
       "34 2021-10-15  \n",
       "35 2021-10-15  "
      ]
     },
     "execution_count": 232,
     "metadata": {},
     "output_type": "execute_result"
    }
   ],
   "source": [
    "states_covid_data=states_covid_data[:-1]\n",
    "states_covid_data#Excluding Total for better Graphical Representation"
   ]
  },
  {
   "cell_type": "markdown",
   "id": "6fc26643",
   "metadata": {},
   "source": [
    "# Graphical Representation"
   ]
  },
  {
   "cell_type": "code",
   "execution_count": 268,
   "id": "d0ce4acf",
   "metadata": {},
   "outputs": [
    {
     "data": {
      "application/vnd.plotly.v1+json": {
       "config": {
        "plotlyServerURL": "https://plot.ly"
       },
       "data": [
        {
         "alignmentgroup": "True",
         "hovertemplate": "Active Cases* Total=%{x}<br>Name of State / UT=%{y}<br>Active Cases* Total by %=%{marker.color}<extra></extra>",
         "legendgroup": "",
         "marker": {
          "color": [
           0,
           3.23,
           0.1,
           1.79,
           0.02,
           0.02,
           0.1,
           0,
           0.17,
           0.33,
           0.11,
           0.05,
           0.68,
           0.46,
           0.06,
           4.72,
           47.34,
           0.02,
           0,
           0.05,
           16.28,
           0.71,
           0.44,
           6.68,
           0.11,
           2.4,
           0.32,
           0.11,
           0.02,
           0.11,
           7.59,
           2.05,
           0.05,
           0.09,
           0.07,
           3.72
          ],
          "coloraxis": "coloraxis",
          "pattern": {
           "shape": ""
          }
         },
         "name": "",
         "offsetgroup": "",
         "orientation": "h",
         "showlegend": false,
         "textposition": "auto",
         "type": "bar",
         "x": [
          10,
          6588,
          202,
          3646,
          42,
          32,
          203,
          3,
          337,
          679,
          215,
          105,
          1387,
          935,
          130,
          9607,
          96421,
          44,
          2,
          111,
          33157,
          1444,
          892,
          13601,
          230,
          4890,
          647,
          234,
          42,
          224,
          15451,
          4171,
          110,
          175,
          135,
          7576
         ],
         "xaxis": "x",
         "y": [
          "Andaman and Nicobar Islands",
          "Andhra Pradesh",
          "Arunachal Pradesh",
          "Assam",
          "Bihar",
          "Chandigarh",
          "Chhattisgarh",
          "Dadra and Nagar Haveli and Daman and Diu",
          "Delhi",
          "Goa",
          "Gujarat",
          "Haryana***",
          "Himachal Pradesh",
          "Jammu and Kashmir",
          "Jharkhand",
          "Karnataka",
          "Kerala",
          "Ladakh",
          "Lakshadweep",
          "Madhya Pradesh",
          "Maharashtra",
          "Manipur",
          "Meghalaya",
          "Mizoram",
          "Nagaland",
          "Odisha",
          "Puducherry",
          "Punjab",
          "Rajasthan",
          "Sikkim",
          "Tamil Nadu",
          "Telangana",
          "Tripura",
          "Uttarakhand",
          "Uttar Pradesh",
          "West Bengal"
         ],
         "yaxis": "y"
        }
       ],
       "layout": {
        "autosize": false,
        "barmode": "relative",
        "coloraxis": {
         "colorbar": {
          "title": {
           "text": "Active Cases* Total by %"
          }
         },
         "colorscale": [
          [
           0,
           "#0d0887"
          ],
          [
           0.1111111111111111,
           "#46039f"
          ],
          [
           0.2222222222222222,
           "#7201a8"
          ],
          [
           0.3333333333333333,
           "#9c179e"
          ],
          [
           0.4444444444444444,
           "#bd3786"
          ],
          [
           0.5555555555555556,
           "#d8576b"
          ],
          [
           0.6666666666666666,
           "#ed7953"
          ],
          [
           0.7777777777777778,
           "#fb9f3a"
          ],
          [
           0.8888888888888888,
           "#fdca26"
          ],
          [
           1,
           "#f0f921"
          ]
         ]
        },
        "height": 700,
        "legend": {
         "tracegroupgap": 0
        },
        "template": {
         "data": {
          "bar": [
           {
            "error_x": {
             "color": "#2a3f5f"
            },
            "error_y": {
             "color": "#2a3f5f"
            },
            "marker": {
             "line": {
              "color": "#E5ECF6",
              "width": 0.5
             },
             "pattern": {
              "fillmode": "overlay",
              "size": 10,
              "solidity": 0.2
             }
            },
            "type": "bar"
           }
          ],
          "barpolar": [
           {
            "marker": {
             "line": {
              "color": "#E5ECF6",
              "width": 0.5
             },
             "pattern": {
              "fillmode": "overlay",
              "size": 10,
              "solidity": 0.2
             }
            },
            "type": "barpolar"
           }
          ],
          "carpet": [
           {
            "aaxis": {
             "endlinecolor": "#2a3f5f",
             "gridcolor": "white",
             "linecolor": "white",
             "minorgridcolor": "white",
             "startlinecolor": "#2a3f5f"
            },
            "baxis": {
             "endlinecolor": "#2a3f5f",
             "gridcolor": "white",
             "linecolor": "white",
             "minorgridcolor": "white",
             "startlinecolor": "#2a3f5f"
            },
            "type": "carpet"
           }
          ],
          "choropleth": [
           {
            "colorbar": {
             "outlinewidth": 0,
             "ticks": ""
            },
            "type": "choropleth"
           }
          ],
          "contour": [
           {
            "colorbar": {
             "outlinewidth": 0,
             "ticks": ""
            },
            "colorscale": [
             [
              0,
              "#0d0887"
             ],
             [
              0.1111111111111111,
              "#46039f"
             ],
             [
              0.2222222222222222,
              "#7201a8"
             ],
             [
              0.3333333333333333,
              "#9c179e"
             ],
             [
              0.4444444444444444,
              "#bd3786"
             ],
             [
              0.5555555555555556,
              "#d8576b"
             ],
             [
              0.6666666666666666,
              "#ed7953"
             ],
             [
              0.7777777777777778,
              "#fb9f3a"
             ],
             [
              0.8888888888888888,
              "#fdca26"
             ],
             [
              1,
              "#f0f921"
             ]
            ],
            "type": "contour"
           }
          ],
          "contourcarpet": [
           {
            "colorbar": {
             "outlinewidth": 0,
             "ticks": ""
            },
            "type": "contourcarpet"
           }
          ],
          "heatmap": [
           {
            "colorbar": {
             "outlinewidth": 0,
             "ticks": ""
            },
            "colorscale": [
             [
              0,
              "#0d0887"
             ],
             [
              0.1111111111111111,
              "#46039f"
             ],
             [
              0.2222222222222222,
              "#7201a8"
             ],
             [
              0.3333333333333333,
              "#9c179e"
             ],
             [
              0.4444444444444444,
              "#bd3786"
             ],
             [
              0.5555555555555556,
              "#d8576b"
             ],
             [
              0.6666666666666666,
              "#ed7953"
             ],
             [
              0.7777777777777778,
              "#fb9f3a"
             ],
             [
              0.8888888888888888,
              "#fdca26"
             ],
             [
              1,
              "#f0f921"
             ]
            ],
            "type": "heatmap"
           }
          ],
          "heatmapgl": [
           {
            "colorbar": {
             "outlinewidth": 0,
             "ticks": ""
            },
            "colorscale": [
             [
              0,
              "#0d0887"
             ],
             [
              0.1111111111111111,
              "#46039f"
             ],
             [
              0.2222222222222222,
              "#7201a8"
             ],
             [
              0.3333333333333333,
              "#9c179e"
             ],
             [
              0.4444444444444444,
              "#bd3786"
             ],
             [
              0.5555555555555556,
              "#d8576b"
             ],
             [
              0.6666666666666666,
              "#ed7953"
             ],
             [
              0.7777777777777778,
              "#fb9f3a"
             ],
             [
              0.8888888888888888,
              "#fdca26"
             ],
             [
              1,
              "#f0f921"
             ]
            ],
            "type": "heatmapgl"
           }
          ],
          "histogram": [
           {
            "marker": {
             "pattern": {
              "fillmode": "overlay",
              "size": 10,
              "solidity": 0.2
             }
            },
            "type": "histogram"
           }
          ],
          "histogram2d": [
           {
            "colorbar": {
             "outlinewidth": 0,
             "ticks": ""
            },
            "colorscale": [
             [
              0,
              "#0d0887"
             ],
             [
              0.1111111111111111,
              "#46039f"
             ],
             [
              0.2222222222222222,
              "#7201a8"
             ],
             [
              0.3333333333333333,
              "#9c179e"
             ],
             [
              0.4444444444444444,
              "#bd3786"
             ],
             [
              0.5555555555555556,
              "#d8576b"
             ],
             [
              0.6666666666666666,
              "#ed7953"
             ],
             [
              0.7777777777777778,
              "#fb9f3a"
             ],
             [
              0.8888888888888888,
              "#fdca26"
             ],
             [
              1,
              "#f0f921"
             ]
            ],
            "type": "histogram2d"
           }
          ],
          "histogram2dcontour": [
           {
            "colorbar": {
             "outlinewidth": 0,
             "ticks": ""
            },
            "colorscale": [
             [
              0,
              "#0d0887"
             ],
             [
              0.1111111111111111,
              "#46039f"
             ],
             [
              0.2222222222222222,
              "#7201a8"
             ],
             [
              0.3333333333333333,
              "#9c179e"
             ],
             [
              0.4444444444444444,
              "#bd3786"
             ],
             [
              0.5555555555555556,
              "#d8576b"
             ],
             [
              0.6666666666666666,
              "#ed7953"
             ],
             [
              0.7777777777777778,
              "#fb9f3a"
             ],
             [
              0.8888888888888888,
              "#fdca26"
             ],
             [
              1,
              "#f0f921"
             ]
            ],
            "type": "histogram2dcontour"
           }
          ],
          "mesh3d": [
           {
            "colorbar": {
             "outlinewidth": 0,
             "ticks": ""
            },
            "type": "mesh3d"
           }
          ],
          "parcoords": [
           {
            "line": {
             "colorbar": {
              "outlinewidth": 0,
              "ticks": ""
             }
            },
            "type": "parcoords"
           }
          ],
          "pie": [
           {
            "automargin": true,
            "type": "pie"
           }
          ],
          "scatter": [
           {
            "marker": {
             "colorbar": {
              "outlinewidth": 0,
              "ticks": ""
             }
            },
            "type": "scatter"
           }
          ],
          "scatter3d": [
           {
            "line": {
             "colorbar": {
              "outlinewidth": 0,
              "ticks": ""
             }
            },
            "marker": {
             "colorbar": {
              "outlinewidth": 0,
              "ticks": ""
             }
            },
            "type": "scatter3d"
           }
          ],
          "scattercarpet": [
           {
            "marker": {
             "colorbar": {
              "outlinewidth": 0,
              "ticks": ""
             }
            },
            "type": "scattercarpet"
           }
          ],
          "scattergeo": [
           {
            "marker": {
             "colorbar": {
              "outlinewidth": 0,
              "ticks": ""
             }
            },
            "type": "scattergeo"
           }
          ],
          "scattergl": [
           {
            "marker": {
             "colorbar": {
              "outlinewidth": 0,
              "ticks": ""
             }
            },
            "type": "scattergl"
           }
          ],
          "scattermapbox": [
           {
            "marker": {
             "colorbar": {
              "outlinewidth": 0,
              "ticks": ""
             }
            },
            "type": "scattermapbox"
           }
          ],
          "scatterpolar": [
           {
            "marker": {
             "colorbar": {
              "outlinewidth": 0,
              "ticks": ""
             }
            },
            "type": "scatterpolar"
           }
          ],
          "scatterpolargl": [
           {
            "marker": {
             "colorbar": {
              "outlinewidth": 0,
              "ticks": ""
             }
            },
            "type": "scatterpolargl"
           }
          ],
          "scatterternary": [
           {
            "marker": {
             "colorbar": {
              "outlinewidth": 0,
              "ticks": ""
             }
            },
            "type": "scatterternary"
           }
          ],
          "surface": [
           {
            "colorbar": {
             "outlinewidth": 0,
             "ticks": ""
            },
            "colorscale": [
             [
              0,
              "#0d0887"
             ],
             [
              0.1111111111111111,
              "#46039f"
             ],
             [
              0.2222222222222222,
              "#7201a8"
             ],
             [
              0.3333333333333333,
              "#9c179e"
             ],
             [
              0.4444444444444444,
              "#bd3786"
             ],
             [
              0.5555555555555556,
              "#d8576b"
             ],
             [
              0.6666666666666666,
              "#ed7953"
             ],
             [
              0.7777777777777778,
              "#fb9f3a"
             ],
             [
              0.8888888888888888,
              "#fdca26"
             ],
             [
              1,
              "#f0f921"
             ]
            ],
            "type": "surface"
           }
          ],
          "table": [
           {
            "cells": {
             "fill": {
              "color": "#EBF0F8"
             },
             "line": {
              "color": "white"
             }
            },
            "header": {
             "fill": {
              "color": "#C8D4E3"
             },
             "line": {
              "color": "white"
             }
            },
            "type": "table"
           }
          ]
         },
         "layout": {
          "annotationdefaults": {
           "arrowcolor": "#2a3f5f",
           "arrowhead": 0,
           "arrowwidth": 1
          },
          "autotypenumbers": "strict",
          "coloraxis": {
           "colorbar": {
            "outlinewidth": 0,
            "ticks": ""
           }
          },
          "colorscale": {
           "diverging": [
            [
             0,
             "#8e0152"
            ],
            [
             0.1,
             "#c51b7d"
            ],
            [
             0.2,
             "#de77ae"
            ],
            [
             0.3,
             "#f1b6da"
            ],
            [
             0.4,
             "#fde0ef"
            ],
            [
             0.5,
             "#f7f7f7"
            ],
            [
             0.6,
             "#e6f5d0"
            ],
            [
             0.7,
             "#b8e186"
            ],
            [
             0.8,
             "#7fbc41"
            ],
            [
             0.9,
             "#4d9221"
            ],
            [
             1,
             "#276419"
            ]
           ],
           "sequential": [
            [
             0,
             "#0d0887"
            ],
            [
             0.1111111111111111,
             "#46039f"
            ],
            [
             0.2222222222222222,
             "#7201a8"
            ],
            [
             0.3333333333333333,
             "#9c179e"
            ],
            [
             0.4444444444444444,
             "#bd3786"
            ],
            [
             0.5555555555555556,
             "#d8576b"
            ],
            [
             0.6666666666666666,
             "#ed7953"
            ],
            [
             0.7777777777777778,
             "#fb9f3a"
            ],
            [
             0.8888888888888888,
             "#fdca26"
            ],
            [
             1,
             "#f0f921"
            ]
           ],
           "sequentialminus": [
            [
             0,
             "#0d0887"
            ],
            [
             0.1111111111111111,
             "#46039f"
            ],
            [
             0.2222222222222222,
             "#7201a8"
            ],
            [
             0.3333333333333333,
             "#9c179e"
            ],
            [
             0.4444444444444444,
             "#bd3786"
            ],
            [
             0.5555555555555556,
             "#d8576b"
            ],
            [
             0.6666666666666666,
             "#ed7953"
            ],
            [
             0.7777777777777778,
             "#fb9f3a"
            ],
            [
             0.8888888888888888,
             "#fdca26"
            ],
            [
             1,
             "#f0f921"
            ]
           ]
          },
          "colorway": [
           "#636efa",
           "#EF553B",
           "#00cc96",
           "#ab63fa",
           "#FFA15A",
           "#19d3f3",
           "#FF6692",
           "#B6E880",
           "#FF97FF",
           "#FECB52"
          ],
          "font": {
           "color": "#2a3f5f"
          },
          "geo": {
           "bgcolor": "white",
           "lakecolor": "white",
           "landcolor": "#E5ECF6",
           "showlakes": true,
           "showland": true,
           "subunitcolor": "white"
          },
          "hoverlabel": {
           "align": "left"
          },
          "hovermode": "closest",
          "mapbox": {
           "style": "light"
          },
          "paper_bgcolor": "white",
          "plot_bgcolor": "#E5ECF6",
          "polar": {
           "angularaxis": {
            "gridcolor": "white",
            "linecolor": "white",
            "ticks": ""
           },
           "bgcolor": "#E5ECF6",
           "radialaxis": {
            "gridcolor": "white",
            "linecolor": "white",
            "ticks": ""
           }
          },
          "scene": {
           "xaxis": {
            "backgroundcolor": "#E5ECF6",
            "gridcolor": "white",
            "gridwidth": 2,
            "linecolor": "white",
            "showbackground": true,
            "ticks": "",
            "zerolinecolor": "white"
           },
           "yaxis": {
            "backgroundcolor": "#E5ECF6",
            "gridcolor": "white",
            "gridwidth": 2,
            "linecolor": "white",
            "showbackground": true,
            "ticks": "",
            "zerolinecolor": "white"
           },
           "zaxis": {
            "backgroundcolor": "#E5ECF6",
            "gridcolor": "white",
            "gridwidth": 2,
            "linecolor": "white",
            "showbackground": true,
            "ticks": "",
            "zerolinecolor": "white"
           }
          },
          "shapedefaults": {
           "line": {
            "color": "#2a3f5f"
           }
          },
          "ternary": {
           "aaxis": {
            "gridcolor": "white",
            "linecolor": "white",
            "ticks": ""
           },
           "baxis": {
            "gridcolor": "white",
            "linecolor": "white",
            "ticks": ""
           },
           "bgcolor": "#E5ECF6",
           "caxis": {
            "gridcolor": "white",
            "linecolor": "white",
            "ticks": ""
           }
          },
          "title": {
           "x": 0.05
          },
          "xaxis": {
           "automargin": true,
           "gridcolor": "white",
           "linecolor": "white",
           "ticks": "",
           "title": {
            "standoff": 15
           },
           "zerolinecolor": "white",
           "zerolinewidth": 2
          },
          "yaxis": {
           "automargin": true,
           "gridcolor": "white",
           "linecolor": "white",
           "ticks": "",
           "title": {
            "standoff": 15
           },
           "zerolinecolor": "white",
           "zerolinewidth": 2
          }
         }
        },
        "title": {
         "text": "States vs Covid Cases"
        },
        "width": 900,
        "xaxis": {
         "anchor": "y",
         "domain": [
          0,
          1
         ],
         "title": {
          "text": "Total Active Covid cases"
         }
        },
        "yaxis": {
         "anchor": "x",
         "domain": [
          0,
          1
         ],
         "title": {
          "text": "States/UT"
         }
        }
       }
      },
      "text/html": [
       "<div>                            <div id=\"01734238-484a-4dc1-a119-26ffef9be85d\" class=\"plotly-graph-div\" style=\"height:700px; width:900px;\"></div>            <script type=\"text/javascript\">                require([\"plotly\"], function(Plotly) {                    window.PLOTLYENV=window.PLOTLYENV || {};                                    if (document.getElementById(\"01734238-484a-4dc1-a119-26ffef9be85d\")) {                    Plotly.newPlot(                        \"01734238-484a-4dc1-a119-26ffef9be85d\",                        [{\"alignmentgroup\":\"True\",\"hovertemplate\":\"Active Cases* Total=%{x}<br>Name of State / UT=%{y}<br>Active Cases* Total by %=%{marker.color}<extra></extra>\",\"legendgroup\":\"\",\"marker\":{\"color\":[0.0,3.23,0.1,1.79,0.02,0.02,0.1,0.0,0.17,0.33,0.11,0.05,0.68,0.46,0.06,4.72,47.34,0.02,0.0,0.05,16.28,0.71,0.44,6.68,0.11,2.4,0.32,0.11,0.02,0.11,7.59,2.05,0.05,0.09,0.07,3.72],\"coloraxis\":\"coloraxis\",\"pattern\":{\"shape\":\"\"}},\"name\":\"\",\"offsetgroup\":\"\",\"orientation\":\"h\",\"showlegend\":false,\"textposition\":\"auto\",\"type\":\"bar\",\"x\":[10,6588,202,3646,42,32,203,3,337,679,215,105,1387,935,130,9607,96421,44,2,111,33157,1444,892,13601,230,4890,647,234,42,224,15451,4171,110,175,135,7576],\"xaxis\":\"x\",\"y\":[\"Andaman and Nicobar Islands\",\"Andhra Pradesh\",\"Arunachal Pradesh\",\"Assam\",\"Bihar\",\"Chandigarh\",\"Chhattisgarh\",\"Dadra and Nagar Haveli and Daman and Diu\",\"Delhi\",\"Goa\",\"Gujarat\",\"Haryana***\",\"Himachal Pradesh\",\"Jammu and Kashmir\",\"Jharkhand\",\"Karnataka\",\"Kerala\",\"Ladakh\",\"Lakshadweep\",\"Madhya Pradesh\",\"Maharashtra\",\"Manipur\",\"Meghalaya\",\"Mizoram\",\"Nagaland\",\"Odisha\",\"Puducherry\",\"Punjab\",\"Rajasthan\",\"Sikkim\",\"Tamil Nadu\",\"Telangana\",\"Tripura\",\"Uttarakhand\",\"Uttar Pradesh\",\"West Bengal\"],\"yaxis\":\"y\"}],                        {\"autosize\":false,\"barmode\":\"relative\",\"coloraxis\":{\"colorbar\":{\"title\":{\"text\":\"Active Cases* Total by %\"}},\"colorscale\":[[0.0,\"#0d0887\"],[0.1111111111111111,\"#46039f\"],[0.2222222222222222,\"#7201a8\"],[0.3333333333333333,\"#9c179e\"],[0.4444444444444444,\"#bd3786\"],[0.5555555555555556,\"#d8576b\"],[0.6666666666666666,\"#ed7953\"],[0.7777777777777778,\"#fb9f3a\"],[0.8888888888888888,\"#fdca26\"],[1.0,\"#f0f921\"]]},\"height\":700,\"legend\":{\"tracegroupgap\":0},\"template\":{\"data\":{\"bar\":[{\"error_x\":{\"color\":\"#2a3f5f\"},\"error_y\":{\"color\":\"#2a3f5f\"},\"marker\":{\"line\":{\"color\":\"#E5ECF6\",\"width\":0.5},\"pattern\":{\"fillmode\":\"overlay\",\"size\":10,\"solidity\":0.2}},\"type\":\"bar\"}],\"barpolar\":[{\"marker\":{\"line\":{\"color\":\"#E5ECF6\",\"width\":0.5},\"pattern\":{\"fillmode\":\"overlay\",\"size\":10,\"solidity\":0.2}},\"type\":\"barpolar\"}],\"carpet\":[{\"aaxis\":{\"endlinecolor\":\"#2a3f5f\",\"gridcolor\":\"white\",\"linecolor\":\"white\",\"minorgridcolor\":\"white\",\"startlinecolor\":\"#2a3f5f\"},\"baxis\":{\"endlinecolor\":\"#2a3f5f\",\"gridcolor\":\"white\",\"linecolor\":\"white\",\"minorgridcolor\":\"white\",\"startlinecolor\":\"#2a3f5f\"},\"type\":\"carpet\"}],\"choropleth\":[{\"colorbar\":{\"outlinewidth\":0,\"ticks\":\"\"},\"type\":\"choropleth\"}],\"contour\":[{\"colorbar\":{\"outlinewidth\":0,\"ticks\":\"\"},\"colorscale\":[[0.0,\"#0d0887\"],[0.1111111111111111,\"#46039f\"],[0.2222222222222222,\"#7201a8\"],[0.3333333333333333,\"#9c179e\"],[0.4444444444444444,\"#bd3786\"],[0.5555555555555556,\"#d8576b\"],[0.6666666666666666,\"#ed7953\"],[0.7777777777777778,\"#fb9f3a\"],[0.8888888888888888,\"#fdca26\"],[1.0,\"#f0f921\"]],\"type\":\"contour\"}],\"contourcarpet\":[{\"colorbar\":{\"outlinewidth\":0,\"ticks\":\"\"},\"type\":\"contourcarpet\"}],\"heatmap\":[{\"colorbar\":{\"outlinewidth\":0,\"ticks\":\"\"},\"colorscale\":[[0.0,\"#0d0887\"],[0.1111111111111111,\"#46039f\"],[0.2222222222222222,\"#7201a8\"],[0.3333333333333333,\"#9c179e\"],[0.4444444444444444,\"#bd3786\"],[0.5555555555555556,\"#d8576b\"],[0.6666666666666666,\"#ed7953\"],[0.7777777777777778,\"#fb9f3a\"],[0.8888888888888888,\"#fdca26\"],[1.0,\"#f0f921\"]],\"type\":\"heatmap\"}],\"heatmapgl\":[{\"colorbar\":{\"outlinewidth\":0,\"ticks\":\"\"},\"colorscale\":[[0.0,\"#0d0887\"],[0.1111111111111111,\"#46039f\"],[0.2222222222222222,\"#7201a8\"],[0.3333333333333333,\"#9c179e\"],[0.4444444444444444,\"#bd3786\"],[0.5555555555555556,\"#d8576b\"],[0.6666666666666666,\"#ed7953\"],[0.7777777777777778,\"#fb9f3a\"],[0.8888888888888888,\"#fdca26\"],[1.0,\"#f0f921\"]],\"type\":\"heatmapgl\"}],\"histogram\":[{\"marker\":{\"pattern\":{\"fillmode\":\"overlay\",\"size\":10,\"solidity\":0.2}},\"type\":\"histogram\"}],\"histogram2d\":[{\"colorbar\":{\"outlinewidth\":0,\"ticks\":\"\"},\"colorscale\":[[0.0,\"#0d0887\"],[0.1111111111111111,\"#46039f\"],[0.2222222222222222,\"#7201a8\"],[0.3333333333333333,\"#9c179e\"],[0.4444444444444444,\"#bd3786\"],[0.5555555555555556,\"#d8576b\"],[0.6666666666666666,\"#ed7953\"],[0.7777777777777778,\"#fb9f3a\"],[0.8888888888888888,\"#fdca26\"],[1.0,\"#f0f921\"]],\"type\":\"histogram2d\"}],\"histogram2dcontour\":[{\"colorbar\":{\"outlinewidth\":0,\"ticks\":\"\"},\"colorscale\":[[0.0,\"#0d0887\"],[0.1111111111111111,\"#46039f\"],[0.2222222222222222,\"#7201a8\"],[0.3333333333333333,\"#9c179e\"],[0.4444444444444444,\"#bd3786\"],[0.5555555555555556,\"#d8576b\"],[0.6666666666666666,\"#ed7953\"],[0.7777777777777778,\"#fb9f3a\"],[0.8888888888888888,\"#fdca26\"],[1.0,\"#f0f921\"]],\"type\":\"histogram2dcontour\"}],\"mesh3d\":[{\"colorbar\":{\"outlinewidth\":0,\"ticks\":\"\"},\"type\":\"mesh3d\"}],\"parcoords\":[{\"line\":{\"colorbar\":{\"outlinewidth\":0,\"ticks\":\"\"}},\"type\":\"parcoords\"}],\"pie\":[{\"automargin\":true,\"type\":\"pie\"}],\"scatter\":[{\"marker\":{\"colorbar\":{\"outlinewidth\":0,\"ticks\":\"\"}},\"type\":\"scatter\"}],\"scatter3d\":[{\"line\":{\"colorbar\":{\"outlinewidth\":0,\"ticks\":\"\"}},\"marker\":{\"colorbar\":{\"outlinewidth\":0,\"ticks\":\"\"}},\"type\":\"scatter3d\"}],\"scattercarpet\":[{\"marker\":{\"colorbar\":{\"outlinewidth\":0,\"ticks\":\"\"}},\"type\":\"scattercarpet\"}],\"scattergeo\":[{\"marker\":{\"colorbar\":{\"outlinewidth\":0,\"ticks\":\"\"}},\"type\":\"scattergeo\"}],\"scattergl\":[{\"marker\":{\"colorbar\":{\"outlinewidth\":0,\"ticks\":\"\"}},\"type\":\"scattergl\"}],\"scattermapbox\":[{\"marker\":{\"colorbar\":{\"outlinewidth\":0,\"ticks\":\"\"}},\"type\":\"scattermapbox\"}],\"scatterpolar\":[{\"marker\":{\"colorbar\":{\"outlinewidth\":0,\"ticks\":\"\"}},\"type\":\"scatterpolar\"}],\"scatterpolargl\":[{\"marker\":{\"colorbar\":{\"outlinewidth\":0,\"ticks\":\"\"}},\"type\":\"scatterpolargl\"}],\"scatterternary\":[{\"marker\":{\"colorbar\":{\"outlinewidth\":0,\"ticks\":\"\"}},\"type\":\"scatterternary\"}],\"surface\":[{\"colorbar\":{\"outlinewidth\":0,\"ticks\":\"\"},\"colorscale\":[[0.0,\"#0d0887\"],[0.1111111111111111,\"#46039f\"],[0.2222222222222222,\"#7201a8\"],[0.3333333333333333,\"#9c179e\"],[0.4444444444444444,\"#bd3786\"],[0.5555555555555556,\"#d8576b\"],[0.6666666666666666,\"#ed7953\"],[0.7777777777777778,\"#fb9f3a\"],[0.8888888888888888,\"#fdca26\"],[1.0,\"#f0f921\"]],\"type\":\"surface\"}],\"table\":[{\"cells\":{\"fill\":{\"color\":\"#EBF0F8\"},\"line\":{\"color\":\"white\"}},\"header\":{\"fill\":{\"color\":\"#C8D4E3\"},\"line\":{\"color\":\"white\"}},\"type\":\"table\"}]},\"layout\":{\"annotationdefaults\":{\"arrowcolor\":\"#2a3f5f\",\"arrowhead\":0,\"arrowwidth\":1},\"autotypenumbers\":\"strict\",\"coloraxis\":{\"colorbar\":{\"outlinewidth\":0,\"ticks\":\"\"}},\"colorscale\":{\"diverging\":[[0,\"#8e0152\"],[0.1,\"#c51b7d\"],[0.2,\"#de77ae\"],[0.3,\"#f1b6da\"],[0.4,\"#fde0ef\"],[0.5,\"#f7f7f7\"],[0.6,\"#e6f5d0\"],[0.7,\"#b8e186\"],[0.8,\"#7fbc41\"],[0.9,\"#4d9221\"],[1,\"#276419\"]],\"sequential\":[[0.0,\"#0d0887\"],[0.1111111111111111,\"#46039f\"],[0.2222222222222222,\"#7201a8\"],[0.3333333333333333,\"#9c179e\"],[0.4444444444444444,\"#bd3786\"],[0.5555555555555556,\"#d8576b\"],[0.6666666666666666,\"#ed7953\"],[0.7777777777777778,\"#fb9f3a\"],[0.8888888888888888,\"#fdca26\"],[1.0,\"#f0f921\"]],\"sequentialminus\":[[0.0,\"#0d0887\"],[0.1111111111111111,\"#46039f\"],[0.2222222222222222,\"#7201a8\"],[0.3333333333333333,\"#9c179e\"],[0.4444444444444444,\"#bd3786\"],[0.5555555555555556,\"#d8576b\"],[0.6666666666666666,\"#ed7953\"],[0.7777777777777778,\"#fb9f3a\"],[0.8888888888888888,\"#fdca26\"],[1.0,\"#f0f921\"]]},\"colorway\":[\"#636efa\",\"#EF553B\",\"#00cc96\",\"#ab63fa\",\"#FFA15A\",\"#19d3f3\",\"#FF6692\",\"#B6E880\",\"#FF97FF\",\"#FECB52\"],\"font\":{\"color\":\"#2a3f5f\"},\"geo\":{\"bgcolor\":\"white\",\"lakecolor\":\"white\",\"landcolor\":\"#E5ECF6\",\"showlakes\":true,\"showland\":true,\"subunitcolor\":\"white\"},\"hoverlabel\":{\"align\":\"left\"},\"hovermode\":\"closest\",\"mapbox\":{\"style\":\"light\"},\"paper_bgcolor\":\"white\",\"plot_bgcolor\":\"#E5ECF6\",\"polar\":{\"angularaxis\":{\"gridcolor\":\"white\",\"linecolor\":\"white\",\"ticks\":\"\"},\"bgcolor\":\"#E5ECF6\",\"radialaxis\":{\"gridcolor\":\"white\",\"linecolor\":\"white\",\"ticks\":\"\"}},\"scene\":{\"xaxis\":{\"backgroundcolor\":\"#E5ECF6\",\"gridcolor\":\"white\",\"gridwidth\":2,\"linecolor\":\"white\",\"showbackground\":true,\"ticks\":\"\",\"zerolinecolor\":\"white\"},\"yaxis\":{\"backgroundcolor\":\"#E5ECF6\",\"gridcolor\":\"white\",\"gridwidth\":2,\"linecolor\":\"white\",\"showbackground\":true,\"ticks\":\"\",\"zerolinecolor\":\"white\"},\"zaxis\":{\"backgroundcolor\":\"#E5ECF6\",\"gridcolor\":\"white\",\"gridwidth\":2,\"linecolor\":\"white\",\"showbackground\":true,\"ticks\":\"\",\"zerolinecolor\":\"white\"}},\"shapedefaults\":{\"line\":{\"color\":\"#2a3f5f\"}},\"ternary\":{\"aaxis\":{\"gridcolor\":\"white\",\"linecolor\":\"white\",\"ticks\":\"\"},\"baxis\":{\"gridcolor\":\"white\",\"linecolor\":\"white\",\"ticks\":\"\"},\"bgcolor\":\"#E5ECF6\",\"caxis\":{\"gridcolor\":\"white\",\"linecolor\":\"white\",\"ticks\":\"\"}},\"title\":{\"x\":0.05},\"xaxis\":{\"automargin\":true,\"gridcolor\":\"white\",\"linecolor\":\"white\",\"ticks\":\"\",\"title\":{\"standoff\":15},\"zerolinecolor\":\"white\",\"zerolinewidth\":2},\"yaxis\":{\"automargin\":true,\"gridcolor\":\"white\",\"linecolor\":\"white\",\"ticks\":\"\",\"title\":{\"standoff\":15},\"zerolinecolor\":\"white\",\"zerolinewidth\":2}}},\"title\":{\"text\":\"States vs Covid Cases\"},\"width\":900,\"xaxis\":{\"anchor\":\"y\",\"domain\":[0.0,1.0],\"title\":{\"text\":\"Total Active Covid cases\"}},\"yaxis\":{\"anchor\":\"x\",\"domain\":[0.0,1.0],\"title\":{\"text\":\"States/UT\"}}},                        {\"responsive\": true}                    ).then(function(){\n",
       "                            \n",
       "var gd = document.getElementById('01734238-484a-4dc1-a119-26ffef9be85d');\n",
       "var x = new MutationObserver(function (mutations, observer) {{\n",
       "        var display = window.getComputedStyle(gd).display;\n",
       "        if (!display || display === 'none') {{\n",
       "            console.log([gd, 'removed!']);\n",
       "            Plotly.purge(gd);\n",
       "            observer.disconnect();\n",
       "        }}\n",
       "}});\n",
       "\n",
       "// Listen for the removal of the full notebook cells\n",
       "var notebookContainer = gd.closest('#notebook-container');\n",
       "if (notebookContainer) {{\n",
       "    x.observe(notebookContainer, {childList: true});\n",
       "}}\n",
       "\n",
       "// Listen for the clearing of the current output cell\n",
       "var outputEl = gd.closest('.output');\n",
       "if (outputEl) {{\n",
       "    x.observe(outputEl, {childList: true});\n",
       "}}\n",
       "\n",
       "                        })                };                });            </script>        </div>"
      ]
     },
     "metadata": {},
     "output_type": "display_data"
    }
   ],
   "source": [
    "import plotly.express as px\n",
    "fig1 = px.bar(states_covid_data,title='States vs Covid Cases', x='Active Cases* Total', y='Name of State / UT', orientation='h',color='Active Cases* Total by %')\n",
    "fig1.update_layout(xaxis_title=\"Total Active Covid cases\",yaxis_title=\"States/UT\",autosize=False,\n",
    "width=900,\n",
    "height=700)\n",
    "fig1.show()"
   ]
  },
  {
   "cell_type": "markdown",
   "id": "23a09b53",
   "metadata": {},
   "source": [
    "{% include figure1.html %}"
   ]
  },
  {
   "cell_type": "code",
   "execution_count": 269,
   "id": "90139dba",
   "metadata": {},
   "outputs": [
    {
     "data": {
      "application/vnd.plotly.v1+json": {
       "config": {
        "plotlyServerURL": "https://plot.ly"
       },
       "data": [
        {
         "alignmentgroup": "True",
         "hovertemplate": "Active Cases* Change Since Yesterday=%{x}<br>Name of State / UT=%{y}<br>Active Cases* Change Since Yesterday by %=%{marker.color}<extra></extra>",
         "legendgroup": "",
         "marker": {
          "color": [
           0.03,
           -0.93,
           -0.76,
           -5.4,
           0.21,
           -0.17,
           -0.14,
           -0.03,
           -0.03,
           0.93,
           0.69,
           -5.43,
           0.17,
           -0.38,
           0.14,
           -1.48,
           -61.97,
           0.07,
           0,
           0.03,
           0.21,
           -0.52,
           -1.07,
           -14.96,
           -0.28,
           1.31,
           -0.14,
           0.38,
           0.21,
           -0.03,
           -6.84,
           -1.38,
           -0.28,
           0.76,
           -0.14,
           -2.79
          ],
          "coloraxis": "coloraxis",
          "pattern": {
           "shape": ""
          }
         },
         "name": "",
         "offsetgroup": "",
         "orientation": "h",
         "showlegend": false,
         "textposition": "auto",
         "type": "bar",
         "x": [
          1,
          -27,
          -22,
          -157,
          6,
          -5,
          -4,
          -1,
          -1,
          27,
          20,
          -158,
          5,
          -11,
          4,
          -43,
          -1802,
          2,
          0,
          1,
          6,
          -15,
          -31,
          -435,
          -8,
          38,
          -4,
          11,
          6,
          -1,
          -199,
          -40,
          -8,
          22,
          -4,
          -81
         ],
         "xaxis": "x",
         "y": [
          "Andaman and Nicobar Islands",
          "Andhra Pradesh",
          "Arunachal Pradesh",
          "Assam",
          "Bihar",
          "Chandigarh",
          "Chhattisgarh",
          "Dadra and Nagar Haveli and Daman and Diu",
          "Delhi",
          "Goa",
          "Gujarat",
          "Haryana***",
          "Himachal Pradesh",
          "Jammu and Kashmir",
          "Jharkhand",
          "Karnataka",
          "Kerala",
          "Ladakh",
          "Lakshadweep",
          "Madhya Pradesh",
          "Maharashtra",
          "Manipur",
          "Meghalaya",
          "Mizoram",
          "Nagaland",
          "Odisha",
          "Puducherry",
          "Punjab",
          "Rajasthan",
          "Sikkim",
          "Tamil Nadu",
          "Telangana",
          "Tripura",
          "Uttarakhand",
          "Uttar Pradesh",
          "West Bengal"
         ],
         "yaxis": "y"
        }
       ],
       "layout": {
        "autosize": false,
        "barmode": "relative",
        "coloraxis": {
         "colorbar": {
          "title": {
           "text": "Active Cases* Change Since Yesterday by %"
          }
         },
         "colorscale": [
          [
           0,
           "#0d0887"
          ],
          [
           0.1111111111111111,
           "#46039f"
          ],
          [
           0.2222222222222222,
           "#7201a8"
          ],
          [
           0.3333333333333333,
           "#9c179e"
          ],
          [
           0.4444444444444444,
           "#bd3786"
          ],
          [
           0.5555555555555556,
           "#d8576b"
          ],
          [
           0.6666666666666666,
           "#ed7953"
          ],
          [
           0.7777777777777778,
           "#fb9f3a"
          ],
          [
           0.8888888888888888,
           "#fdca26"
          ],
          [
           1,
           "#f0f921"
          ]
         ]
        },
        "height": 700,
        "legend": {
         "tracegroupgap": 0
        },
        "template": {
         "data": {
          "bar": [
           {
            "error_x": {
             "color": "#2a3f5f"
            },
            "error_y": {
             "color": "#2a3f5f"
            },
            "marker": {
             "line": {
              "color": "#E5ECF6",
              "width": 0.5
             },
             "pattern": {
              "fillmode": "overlay",
              "size": 10,
              "solidity": 0.2
             }
            },
            "type": "bar"
           }
          ],
          "barpolar": [
           {
            "marker": {
             "line": {
              "color": "#E5ECF6",
              "width": 0.5
             },
             "pattern": {
              "fillmode": "overlay",
              "size": 10,
              "solidity": 0.2
             }
            },
            "type": "barpolar"
           }
          ],
          "carpet": [
           {
            "aaxis": {
             "endlinecolor": "#2a3f5f",
             "gridcolor": "white",
             "linecolor": "white",
             "minorgridcolor": "white",
             "startlinecolor": "#2a3f5f"
            },
            "baxis": {
             "endlinecolor": "#2a3f5f",
             "gridcolor": "white",
             "linecolor": "white",
             "minorgridcolor": "white",
             "startlinecolor": "#2a3f5f"
            },
            "type": "carpet"
           }
          ],
          "choropleth": [
           {
            "colorbar": {
             "outlinewidth": 0,
             "ticks": ""
            },
            "type": "choropleth"
           }
          ],
          "contour": [
           {
            "colorbar": {
             "outlinewidth": 0,
             "ticks": ""
            },
            "colorscale": [
             [
              0,
              "#0d0887"
             ],
             [
              0.1111111111111111,
              "#46039f"
             ],
             [
              0.2222222222222222,
              "#7201a8"
             ],
             [
              0.3333333333333333,
              "#9c179e"
             ],
             [
              0.4444444444444444,
              "#bd3786"
             ],
             [
              0.5555555555555556,
              "#d8576b"
             ],
             [
              0.6666666666666666,
              "#ed7953"
             ],
             [
              0.7777777777777778,
              "#fb9f3a"
             ],
             [
              0.8888888888888888,
              "#fdca26"
             ],
             [
              1,
              "#f0f921"
             ]
            ],
            "type": "contour"
           }
          ],
          "contourcarpet": [
           {
            "colorbar": {
             "outlinewidth": 0,
             "ticks": ""
            },
            "type": "contourcarpet"
           }
          ],
          "heatmap": [
           {
            "colorbar": {
             "outlinewidth": 0,
             "ticks": ""
            },
            "colorscale": [
             [
              0,
              "#0d0887"
             ],
             [
              0.1111111111111111,
              "#46039f"
             ],
             [
              0.2222222222222222,
              "#7201a8"
             ],
             [
              0.3333333333333333,
              "#9c179e"
             ],
             [
              0.4444444444444444,
              "#bd3786"
             ],
             [
              0.5555555555555556,
              "#d8576b"
             ],
             [
              0.6666666666666666,
              "#ed7953"
             ],
             [
              0.7777777777777778,
              "#fb9f3a"
             ],
             [
              0.8888888888888888,
              "#fdca26"
             ],
             [
              1,
              "#f0f921"
             ]
            ],
            "type": "heatmap"
           }
          ],
          "heatmapgl": [
           {
            "colorbar": {
             "outlinewidth": 0,
             "ticks": ""
            },
            "colorscale": [
             [
              0,
              "#0d0887"
             ],
             [
              0.1111111111111111,
              "#46039f"
             ],
             [
              0.2222222222222222,
              "#7201a8"
             ],
             [
              0.3333333333333333,
              "#9c179e"
             ],
             [
              0.4444444444444444,
              "#bd3786"
             ],
             [
              0.5555555555555556,
              "#d8576b"
             ],
             [
              0.6666666666666666,
              "#ed7953"
             ],
             [
              0.7777777777777778,
              "#fb9f3a"
             ],
             [
              0.8888888888888888,
              "#fdca26"
             ],
             [
              1,
              "#f0f921"
             ]
            ],
            "type": "heatmapgl"
           }
          ],
          "histogram": [
           {
            "marker": {
             "pattern": {
              "fillmode": "overlay",
              "size": 10,
              "solidity": 0.2
             }
            },
            "type": "histogram"
           }
          ],
          "histogram2d": [
           {
            "colorbar": {
             "outlinewidth": 0,
             "ticks": ""
            },
            "colorscale": [
             [
              0,
              "#0d0887"
             ],
             [
              0.1111111111111111,
              "#46039f"
             ],
             [
              0.2222222222222222,
              "#7201a8"
             ],
             [
              0.3333333333333333,
              "#9c179e"
             ],
             [
              0.4444444444444444,
              "#bd3786"
             ],
             [
              0.5555555555555556,
              "#d8576b"
             ],
             [
              0.6666666666666666,
              "#ed7953"
             ],
             [
              0.7777777777777778,
              "#fb9f3a"
             ],
             [
              0.8888888888888888,
              "#fdca26"
             ],
             [
              1,
              "#f0f921"
             ]
            ],
            "type": "histogram2d"
           }
          ],
          "histogram2dcontour": [
           {
            "colorbar": {
             "outlinewidth": 0,
             "ticks": ""
            },
            "colorscale": [
             [
              0,
              "#0d0887"
             ],
             [
              0.1111111111111111,
              "#46039f"
             ],
             [
              0.2222222222222222,
              "#7201a8"
             ],
             [
              0.3333333333333333,
              "#9c179e"
             ],
             [
              0.4444444444444444,
              "#bd3786"
             ],
             [
              0.5555555555555556,
              "#d8576b"
             ],
             [
              0.6666666666666666,
              "#ed7953"
             ],
             [
              0.7777777777777778,
              "#fb9f3a"
             ],
             [
              0.8888888888888888,
              "#fdca26"
             ],
             [
              1,
              "#f0f921"
             ]
            ],
            "type": "histogram2dcontour"
           }
          ],
          "mesh3d": [
           {
            "colorbar": {
             "outlinewidth": 0,
             "ticks": ""
            },
            "type": "mesh3d"
           }
          ],
          "parcoords": [
           {
            "line": {
             "colorbar": {
              "outlinewidth": 0,
              "ticks": ""
             }
            },
            "type": "parcoords"
           }
          ],
          "pie": [
           {
            "automargin": true,
            "type": "pie"
           }
          ],
          "scatter": [
           {
            "marker": {
             "colorbar": {
              "outlinewidth": 0,
              "ticks": ""
             }
            },
            "type": "scatter"
           }
          ],
          "scatter3d": [
           {
            "line": {
             "colorbar": {
              "outlinewidth": 0,
              "ticks": ""
             }
            },
            "marker": {
             "colorbar": {
              "outlinewidth": 0,
              "ticks": ""
             }
            },
            "type": "scatter3d"
           }
          ],
          "scattercarpet": [
           {
            "marker": {
             "colorbar": {
              "outlinewidth": 0,
              "ticks": ""
             }
            },
            "type": "scattercarpet"
           }
          ],
          "scattergeo": [
           {
            "marker": {
             "colorbar": {
              "outlinewidth": 0,
              "ticks": ""
             }
            },
            "type": "scattergeo"
           }
          ],
          "scattergl": [
           {
            "marker": {
             "colorbar": {
              "outlinewidth": 0,
              "ticks": ""
             }
            },
            "type": "scattergl"
           }
          ],
          "scattermapbox": [
           {
            "marker": {
             "colorbar": {
              "outlinewidth": 0,
              "ticks": ""
             }
            },
            "type": "scattermapbox"
           }
          ],
          "scatterpolar": [
           {
            "marker": {
             "colorbar": {
              "outlinewidth": 0,
              "ticks": ""
             }
            },
            "type": "scatterpolar"
           }
          ],
          "scatterpolargl": [
           {
            "marker": {
             "colorbar": {
              "outlinewidth": 0,
              "ticks": ""
             }
            },
            "type": "scatterpolargl"
           }
          ],
          "scatterternary": [
           {
            "marker": {
             "colorbar": {
              "outlinewidth": 0,
              "ticks": ""
             }
            },
            "type": "scatterternary"
           }
          ],
          "surface": [
           {
            "colorbar": {
             "outlinewidth": 0,
             "ticks": ""
            },
            "colorscale": [
             [
              0,
              "#0d0887"
             ],
             [
              0.1111111111111111,
              "#46039f"
             ],
             [
              0.2222222222222222,
              "#7201a8"
             ],
             [
              0.3333333333333333,
              "#9c179e"
             ],
             [
              0.4444444444444444,
              "#bd3786"
             ],
             [
              0.5555555555555556,
              "#d8576b"
             ],
             [
              0.6666666666666666,
              "#ed7953"
             ],
             [
              0.7777777777777778,
              "#fb9f3a"
             ],
             [
              0.8888888888888888,
              "#fdca26"
             ],
             [
              1,
              "#f0f921"
             ]
            ],
            "type": "surface"
           }
          ],
          "table": [
           {
            "cells": {
             "fill": {
              "color": "#EBF0F8"
             },
             "line": {
              "color": "white"
             }
            },
            "header": {
             "fill": {
              "color": "#C8D4E3"
             },
             "line": {
              "color": "white"
             }
            },
            "type": "table"
           }
          ]
         },
         "layout": {
          "annotationdefaults": {
           "arrowcolor": "#2a3f5f",
           "arrowhead": 0,
           "arrowwidth": 1
          },
          "autotypenumbers": "strict",
          "coloraxis": {
           "colorbar": {
            "outlinewidth": 0,
            "ticks": ""
           }
          },
          "colorscale": {
           "diverging": [
            [
             0,
             "#8e0152"
            ],
            [
             0.1,
             "#c51b7d"
            ],
            [
             0.2,
             "#de77ae"
            ],
            [
             0.3,
             "#f1b6da"
            ],
            [
             0.4,
             "#fde0ef"
            ],
            [
             0.5,
             "#f7f7f7"
            ],
            [
             0.6,
             "#e6f5d0"
            ],
            [
             0.7,
             "#b8e186"
            ],
            [
             0.8,
             "#7fbc41"
            ],
            [
             0.9,
             "#4d9221"
            ],
            [
             1,
             "#276419"
            ]
           ],
           "sequential": [
            [
             0,
             "#0d0887"
            ],
            [
             0.1111111111111111,
             "#46039f"
            ],
            [
             0.2222222222222222,
             "#7201a8"
            ],
            [
             0.3333333333333333,
             "#9c179e"
            ],
            [
             0.4444444444444444,
             "#bd3786"
            ],
            [
             0.5555555555555556,
             "#d8576b"
            ],
            [
             0.6666666666666666,
             "#ed7953"
            ],
            [
             0.7777777777777778,
             "#fb9f3a"
            ],
            [
             0.8888888888888888,
             "#fdca26"
            ],
            [
             1,
             "#f0f921"
            ]
           ],
           "sequentialminus": [
            [
             0,
             "#0d0887"
            ],
            [
             0.1111111111111111,
             "#46039f"
            ],
            [
             0.2222222222222222,
             "#7201a8"
            ],
            [
             0.3333333333333333,
             "#9c179e"
            ],
            [
             0.4444444444444444,
             "#bd3786"
            ],
            [
             0.5555555555555556,
             "#d8576b"
            ],
            [
             0.6666666666666666,
             "#ed7953"
            ],
            [
             0.7777777777777778,
             "#fb9f3a"
            ],
            [
             0.8888888888888888,
             "#fdca26"
            ],
            [
             1,
             "#f0f921"
            ]
           ]
          },
          "colorway": [
           "#636efa",
           "#EF553B",
           "#00cc96",
           "#ab63fa",
           "#FFA15A",
           "#19d3f3",
           "#FF6692",
           "#B6E880",
           "#FF97FF",
           "#FECB52"
          ],
          "font": {
           "color": "#2a3f5f"
          },
          "geo": {
           "bgcolor": "white",
           "lakecolor": "white",
           "landcolor": "#E5ECF6",
           "showlakes": true,
           "showland": true,
           "subunitcolor": "white"
          },
          "hoverlabel": {
           "align": "left"
          },
          "hovermode": "closest",
          "mapbox": {
           "style": "light"
          },
          "paper_bgcolor": "white",
          "plot_bgcolor": "#E5ECF6",
          "polar": {
           "angularaxis": {
            "gridcolor": "white",
            "linecolor": "white",
            "ticks": ""
           },
           "bgcolor": "#E5ECF6",
           "radialaxis": {
            "gridcolor": "white",
            "linecolor": "white",
            "ticks": ""
           }
          },
          "scene": {
           "xaxis": {
            "backgroundcolor": "#E5ECF6",
            "gridcolor": "white",
            "gridwidth": 2,
            "linecolor": "white",
            "showbackground": true,
            "ticks": "",
            "zerolinecolor": "white"
           },
           "yaxis": {
            "backgroundcolor": "#E5ECF6",
            "gridcolor": "white",
            "gridwidth": 2,
            "linecolor": "white",
            "showbackground": true,
            "ticks": "",
            "zerolinecolor": "white"
           },
           "zaxis": {
            "backgroundcolor": "#E5ECF6",
            "gridcolor": "white",
            "gridwidth": 2,
            "linecolor": "white",
            "showbackground": true,
            "ticks": "",
            "zerolinecolor": "white"
           }
          },
          "shapedefaults": {
           "line": {
            "color": "#2a3f5f"
           }
          },
          "ternary": {
           "aaxis": {
            "gridcolor": "white",
            "linecolor": "white",
            "ticks": ""
           },
           "baxis": {
            "gridcolor": "white",
            "linecolor": "white",
            "ticks": ""
           },
           "bgcolor": "#E5ECF6",
           "caxis": {
            "gridcolor": "white",
            "linecolor": "white",
            "ticks": ""
           }
          },
          "title": {
           "x": 0.05
          },
          "xaxis": {
           "automargin": true,
           "gridcolor": "white",
           "linecolor": "white",
           "ticks": "",
           "title": {
            "standoff": 15
           },
           "zerolinecolor": "white",
           "zerolinewidth": 2
          },
          "yaxis": {
           "automargin": true,
           "gridcolor": "white",
           "linecolor": "white",
           "ticks": "",
           "title": {
            "standoff": 15
           },
           "zerolinecolor": "white",
           "zerolinewidth": 2
          }
         }
        },
        "title": {
         "text": "States vs Covid Cases"
        },
        "width": 1000,
        "xaxis": {
         "anchor": "y",
         "domain": [
          0,
          1
         ],
         "title": {
          "text": "Change in Active Covid cases since yesterday"
         }
        },
        "yaxis": {
         "anchor": "x",
         "domain": [
          0,
          1
         ],
         "title": {
          "text": "States/UT"
         }
        }
       }
      },
      "text/html": [
       "<div>                            <div id=\"df13fe47-b7fa-411a-8831-3b440eb6b55f\" class=\"plotly-graph-div\" style=\"height:700px; width:1000px;\"></div>            <script type=\"text/javascript\">                require([\"plotly\"], function(Plotly) {                    window.PLOTLYENV=window.PLOTLYENV || {};                                    if (document.getElementById(\"df13fe47-b7fa-411a-8831-3b440eb6b55f\")) {                    Plotly.newPlot(                        \"df13fe47-b7fa-411a-8831-3b440eb6b55f\",                        [{\"alignmentgroup\":\"True\",\"hovertemplate\":\"Active Cases* Change Since Yesterday=%{x}<br>Name of State / UT=%{y}<br>Active Cases* Change Since Yesterday by %=%{marker.color}<extra></extra>\",\"legendgroup\":\"\",\"marker\":{\"color\":[0.03,-0.93,-0.76,-5.4,0.21,-0.17,-0.14,-0.03,-0.03,0.93,0.69,-5.43,0.17,-0.38,0.14,-1.48,-61.97,0.07,0.0,0.03,0.21,-0.52,-1.07,-14.96,-0.28,1.31,-0.14,0.38,0.21,-0.03,-6.84,-1.38,-0.28,0.76,-0.14,-2.79],\"coloraxis\":\"coloraxis\",\"pattern\":{\"shape\":\"\"}},\"name\":\"\",\"offsetgroup\":\"\",\"orientation\":\"h\",\"showlegend\":false,\"textposition\":\"auto\",\"type\":\"bar\",\"x\":[1,-27,-22,-157,6,-5,-4,-1,-1,27,20,-158,5,-11,4,-43,-1802,2,0,1,6,-15,-31,-435,-8,38,-4,11,6,-1,-199,-40,-8,22,-4,-81],\"xaxis\":\"x\",\"y\":[\"Andaman and Nicobar Islands\",\"Andhra Pradesh\",\"Arunachal Pradesh\",\"Assam\",\"Bihar\",\"Chandigarh\",\"Chhattisgarh\",\"Dadra and Nagar Haveli and Daman and Diu\",\"Delhi\",\"Goa\",\"Gujarat\",\"Haryana***\",\"Himachal Pradesh\",\"Jammu and Kashmir\",\"Jharkhand\",\"Karnataka\",\"Kerala\",\"Ladakh\",\"Lakshadweep\",\"Madhya Pradesh\",\"Maharashtra\",\"Manipur\",\"Meghalaya\",\"Mizoram\",\"Nagaland\",\"Odisha\",\"Puducherry\",\"Punjab\",\"Rajasthan\",\"Sikkim\",\"Tamil Nadu\",\"Telangana\",\"Tripura\",\"Uttarakhand\",\"Uttar Pradesh\",\"West Bengal\"],\"yaxis\":\"y\"}],                        {\"autosize\":false,\"barmode\":\"relative\",\"coloraxis\":{\"colorbar\":{\"title\":{\"text\":\"Active Cases* Change Since Yesterday by %\"}},\"colorscale\":[[0.0,\"#0d0887\"],[0.1111111111111111,\"#46039f\"],[0.2222222222222222,\"#7201a8\"],[0.3333333333333333,\"#9c179e\"],[0.4444444444444444,\"#bd3786\"],[0.5555555555555556,\"#d8576b\"],[0.6666666666666666,\"#ed7953\"],[0.7777777777777778,\"#fb9f3a\"],[0.8888888888888888,\"#fdca26\"],[1.0,\"#f0f921\"]]},\"height\":700,\"legend\":{\"tracegroupgap\":0},\"template\":{\"data\":{\"bar\":[{\"error_x\":{\"color\":\"#2a3f5f\"},\"error_y\":{\"color\":\"#2a3f5f\"},\"marker\":{\"line\":{\"color\":\"#E5ECF6\",\"width\":0.5},\"pattern\":{\"fillmode\":\"overlay\",\"size\":10,\"solidity\":0.2}},\"type\":\"bar\"}],\"barpolar\":[{\"marker\":{\"line\":{\"color\":\"#E5ECF6\",\"width\":0.5},\"pattern\":{\"fillmode\":\"overlay\",\"size\":10,\"solidity\":0.2}},\"type\":\"barpolar\"}],\"carpet\":[{\"aaxis\":{\"endlinecolor\":\"#2a3f5f\",\"gridcolor\":\"white\",\"linecolor\":\"white\",\"minorgridcolor\":\"white\",\"startlinecolor\":\"#2a3f5f\"},\"baxis\":{\"endlinecolor\":\"#2a3f5f\",\"gridcolor\":\"white\",\"linecolor\":\"white\",\"minorgridcolor\":\"white\",\"startlinecolor\":\"#2a3f5f\"},\"type\":\"carpet\"}],\"choropleth\":[{\"colorbar\":{\"outlinewidth\":0,\"ticks\":\"\"},\"type\":\"choropleth\"}],\"contour\":[{\"colorbar\":{\"outlinewidth\":0,\"ticks\":\"\"},\"colorscale\":[[0.0,\"#0d0887\"],[0.1111111111111111,\"#46039f\"],[0.2222222222222222,\"#7201a8\"],[0.3333333333333333,\"#9c179e\"],[0.4444444444444444,\"#bd3786\"],[0.5555555555555556,\"#d8576b\"],[0.6666666666666666,\"#ed7953\"],[0.7777777777777778,\"#fb9f3a\"],[0.8888888888888888,\"#fdca26\"],[1.0,\"#f0f921\"]],\"type\":\"contour\"}],\"contourcarpet\":[{\"colorbar\":{\"outlinewidth\":0,\"ticks\":\"\"},\"type\":\"contourcarpet\"}],\"heatmap\":[{\"colorbar\":{\"outlinewidth\":0,\"ticks\":\"\"},\"colorscale\":[[0.0,\"#0d0887\"],[0.1111111111111111,\"#46039f\"],[0.2222222222222222,\"#7201a8\"],[0.3333333333333333,\"#9c179e\"],[0.4444444444444444,\"#bd3786\"],[0.5555555555555556,\"#d8576b\"],[0.6666666666666666,\"#ed7953\"],[0.7777777777777778,\"#fb9f3a\"],[0.8888888888888888,\"#fdca26\"],[1.0,\"#f0f921\"]],\"type\":\"heatmap\"}],\"heatmapgl\":[{\"colorbar\":{\"outlinewidth\":0,\"ticks\":\"\"},\"colorscale\":[[0.0,\"#0d0887\"],[0.1111111111111111,\"#46039f\"],[0.2222222222222222,\"#7201a8\"],[0.3333333333333333,\"#9c179e\"],[0.4444444444444444,\"#bd3786\"],[0.5555555555555556,\"#d8576b\"],[0.6666666666666666,\"#ed7953\"],[0.7777777777777778,\"#fb9f3a\"],[0.8888888888888888,\"#fdca26\"],[1.0,\"#f0f921\"]],\"type\":\"heatmapgl\"}],\"histogram\":[{\"marker\":{\"pattern\":{\"fillmode\":\"overlay\",\"size\":10,\"solidity\":0.2}},\"type\":\"histogram\"}],\"histogram2d\":[{\"colorbar\":{\"outlinewidth\":0,\"ticks\":\"\"},\"colorscale\":[[0.0,\"#0d0887\"],[0.1111111111111111,\"#46039f\"],[0.2222222222222222,\"#7201a8\"],[0.3333333333333333,\"#9c179e\"],[0.4444444444444444,\"#bd3786\"],[0.5555555555555556,\"#d8576b\"],[0.6666666666666666,\"#ed7953\"],[0.7777777777777778,\"#fb9f3a\"],[0.8888888888888888,\"#fdca26\"],[1.0,\"#f0f921\"]],\"type\":\"histogram2d\"}],\"histogram2dcontour\":[{\"colorbar\":{\"outlinewidth\":0,\"ticks\":\"\"},\"colorscale\":[[0.0,\"#0d0887\"],[0.1111111111111111,\"#46039f\"],[0.2222222222222222,\"#7201a8\"],[0.3333333333333333,\"#9c179e\"],[0.4444444444444444,\"#bd3786\"],[0.5555555555555556,\"#d8576b\"],[0.6666666666666666,\"#ed7953\"],[0.7777777777777778,\"#fb9f3a\"],[0.8888888888888888,\"#fdca26\"],[1.0,\"#f0f921\"]],\"type\":\"histogram2dcontour\"}],\"mesh3d\":[{\"colorbar\":{\"outlinewidth\":0,\"ticks\":\"\"},\"type\":\"mesh3d\"}],\"parcoords\":[{\"line\":{\"colorbar\":{\"outlinewidth\":0,\"ticks\":\"\"}},\"type\":\"parcoords\"}],\"pie\":[{\"automargin\":true,\"type\":\"pie\"}],\"scatter\":[{\"marker\":{\"colorbar\":{\"outlinewidth\":0,\"ticks\":\"\"}},\"type\":\"scatter\"}],\"scatter3d\":[{\"line\":{\"colorbar\":{\"outlinewidth\":0,\"ticks\":\"\"}},\"marker\":{\"colorbar\":{\"outlinewidth\":0,\"ticks\":\"\"}},\"type\":\"scatter3d\"}],\"scattercarpet\":[{\"marker\":{\"colorbar\":{\"outlinewidth\":0,\"ticks\":\"\"}},\"type\":\"scattercarpet\"}],\"scattergeo\":[{\"marker\":{\"colorbar\":{\"outlinewidth\":0,\"ticks\":\"\"}},\"type\":\"scattergeo\"}],\"scattergl\":[{\"marker\":{\"colorbar\":{\"outlinewidth\":0,\"ticks\":\"\"}},\"type\":\"scattergl\"}],\"scattermapbox\":[{\"marker\":{\"colorbar\":{\"outlinewidth\":0,\"ticks\":\"\"}},\"type\":\"scattermapbox\"}],\"scatterpolar\":[{\"marker\":{\"colorbar\":{\"outlinewidth\":0,\"ticks\":\"\"}},\"type\":\"scatterpolar\"}],\"scatterpolargl\":[{\"marker\":{\"colorbar\":{\"outlinewidth\":0,\"ticks\":\"\"}},\"type\":\"scatterpolargl\"}],\"scatterternary\":[{\"marker\":{\"colorbar\":{\"outlinewidth\":0,\"ticks\":\"\"}},\"type\":\"scatterternary\"}],\"surface\":[{\"colorbar\":{\"outlinewidth\":0,\"ticks\":\"\"},\"colorscale\":[[0.0,\"#0d0887\"],[0.1111111111111111,\"#46039f\"],[0.2222222222222222,\"#7201a8\"],[0.3333333333333333,\"#9c179e\"],[0.4444444444444444,\"#bd3786\"],[0.5555555555555556,\"#d8576b\"],[0.6666666666666666,\"#ed7953\"],[0.7777777777777778,\"#fb9f3a\"],[0.8888888888888888,\"#fdca26\"],[1.0,\"#f0f921\"]],\"type\":\"surface\"}],\"table\":[{\"cells\":{\"fill\":{\"color\":\"#EBF0F8\"},\"line\":{\"color\":\"white\"}},\"header\":{\"fill\":{\"color\":\"#C8D4E3\"},\"line\":{\"color\":\"white\"}},\"type\":\"table\"}]},\"layout\":{\"annotationdefaults\":{\"arrowcolor\":\"#2a3f5f\",\"arrowhead\":0,\"arrowwidth\":1},\"autotypenumbers\":\"strict\",\"coloraxis\":{\"colorbar\":{\"outlinewidth\":0,\"ticks\":\"\"}},\"colorscale\":{\"diverging\":[[0,\"#8e0152\"],[0.1,\"#c51b7d\"],[0.2,\"#de77ae\"],[0.3,\"#f1b6da\"],[0.4,\"#fde0ef\"],[0.5,\"#f7f7f7\"],[0.6,\"#e6f5d0\"],[0.7,\"#b8e186\"],[0.8,\"#7fbc41\"],[0.9,\"#4d9221\"],[1,\"#276419\"]],\"sequential\":[[0.0,\"#0d0887\"],[0.1111111111111111,\"#46039f\"],[0.2222222222222222,\"#7201a8\"],[0.3333333333333333,\"#9c179e\"],[0.4444444444444444,\"#bd3786\"],[0.5555555555555556,\"#d8576b\"],[0.6666666666666666,\"#ed7953\"],[0.7777777777777778,\"#fb9f3a\"],[0.8888888888888888,\"#fdca26\"],[1.0,\"#f0f921\"]],\"sequentialminus\":[[0.0,\"#0d0887\"],[0.1111111111111111,\"#46039f\"],[0.2222222222222222,\"#7201a8\"],[0.3333333333333333,\"#9c179e\"],[0.4444444444444444,\"#bd3786\"],[0.5555555555555556,\"#d8576b\"],[0.6666666666666666,\"#ed7953\"],[0.7777777777777778,\"#fb9f3a\"],[0.8888888888888888,\"#fdca26\"],[1.0,\"#f0f921\"]]},\"colorway\":[\"#636efa\",\"#EF553B\",\"#00cc96\",\"#ab63fa\",\"#FFA15A\",\"#19d3f3\",\"#FF6692\",\"#B6E880\",\"#FF97FF\",\"#FECB52\"],\"font\":{\"color\":\"#2a3f5f\"},\"geo\":{\"bgcolor\":\"white\",\"lakecolor\":\"white\",\"landcolor\":\"#E5ECF6\",\"showlakes\":true,\"showland\":true,\"subunitcolor\":\"white\"},\"hoverlabel\":{\"align\":\"left\"},\"hovermode\":\"closest\",\"mapbox\":{\"style\":\"light\"},\"paper_bgcolor\":\"white\",\"plot_bgcolor\":\"#E5ECF6\",\"polar\":{\"angularaxis\":{\"gridcolor\":\"white\",\"linecolor\":\"white\",\"ticks\":\"\"},\"bgcolor\":\"#E5ECF6\",\"radialaxis\":{\"gridcolor\":\"white\",\"linecolor\":\"white\",\"ticks\":\"\"}},\"scene\":{\"xaxis\":{\"backgroundcolor\":\"#E5ECF6\",\"gridcolor\":\"white\",\"gridwidth\":2,\"linecolor\":\"white\",\"showbackground\":true,\"ticks\":\"\",\"zerolinecolor\":\"white\"},\"yaxis\":{\"backgroundcolor\":\"#E5ECF6\",\"gridcolor\":\"white\",\"gridwidth\":2,\"linecolor\":\"white\",\"showbackground\":true,\"ticks\":\"\",\"zerolinecolor\":\"white\"},\"zaxis\":{\"backgroundcolor\":\"#E5ECF6\",\"gridcolor\":\"white\",\"gridwidth\":2,\"linecolor\":\"white\",\"showbackground\":true,\"ticks\":\"\",\"zerolinecolor\":\"white\"}},\"shapedefaults\":{\"line\":{\"color\":\"#2a3f5f\"}},\"ternary\":{\"aaxis\":{\"gridcolor\":\"white\",\"linecolor\":\"white\",\"ticks\":\"\"},\"baxis\":{\"gridcolor\":\"white\",\"linecolor\":\"white\",\"ticks\":\"\"},\"bgcolor\":\"#E5ECF6\",\"caxis\":{\"gridcolor\":\"white\",\"linecolor\":\"white\",\"ticks\":\"\"}},\"title\":{\"x\":0.05},\"xaxis\":{\"automargin\":true,\"gridcolor\":\"white\",\"linecolor\":\"white\",\"ticks\":\"\",\"title\":{\"standoff\":15},\"zerolinecolor\":\"white\",\"zerolinewidth\":2},\"yaxis\":{\"automargin\":true,\"gridcolor\":\"white\",\"linecolor\":\"white\",\"ticks\":\"\",\"title\":{\"standoff\":15},\"zerolinecolor\":\"white\",\"zerolinewidth\":2}}},\"title\":{\"text\":\"States vs Covid Cases\"},\"width\":1000,\"xaxis\":{\"anchor\":\"y\",\"domain\":[0.0,1.0],\"title\":{\"text\":\"Change in Active Covid cases since yesterday\"}},\"yaxis\":{\"anchor\":\"x\",\"domain\":[0.0,1.0],\"title\":{\"text\":\"States/UT\"}}},                        {\"responsive\": true}                    ).then(function(){\n",
       "                            \n",
       "var gd = document.getElementById('df13fe47-b7fa-411a-8831-3b440eb6b55f');\n",
       "var x = new MutationObserver(function (mutations, observer) {{\n",
       "        var display = window.getComputedStyle(gd).display;\n",
       "        if (!display || display === 'none') {{\n",
       "            console.log([gd, 'removed!']);\n",
       "            Plotly.purge(gd);\n",
       "            observer.disconnect();\n",
       "        }}\n",
       "}});\n",
       "\n",
       "// Listen for the removal of the full notebook cells\n",
       "var notebookContainer = gd.closest('#notebook-container');\n",
       "if (notebookContainer) {{\n",
       "    x.observe(notebookContainer, {childList: true});\n",
       "}}\n",
       "\n",
       "// Listen for the clearing of the current output cell\n",
       "var outputEl = gd.closest('.output');\n",
       "if (outputEl) {{\n",
       "    x.observe(outputEl, {childList: true});\n",
       "}}\n",
       "\n",
       "                        })                };                });            </script>        </div>"
      ]
     },
     "metadata": {},
     "output_type": "display_data"
    }
   ],
   "source": [
    "fig2 = px.bar(states_covid_data,title='States vs Covid Cases', x='Active Cases* Change Since Yesterday', y='Name of State / UT', orientation='h',color='Active Cases* Change Since Yesterday by %')\n",
    "fig2.update_layout(xaxis_title=\"Change in Active Covid cases since yesterday\",yaxis_title=\"States/UT\",autosize=False,\n",
    "width=1000,\n",
    "height=700)\n",
    "fig2.show()"
   ]
  },
  {
   "cell_type": "markdown",
   "id": "eba1d85b",
   "metadata": {},
   "source": [
    "{% include figure2.html %}"
   ]
  },
  {
   "cell_type": "code",
   "execution_count": 270,
   "id": "491164a2",
   "metadata": {},
   "outputs": [
    {
     "data": {
      "application/vnd.plotly.v1+json": {
       "config": {
        "plotlyServerURL": "https://plot.ly"
       },
       "data": [
        {
         "alignmentgroup": "True",
         "hovertemplate": "Cured/Discharged/Migrated* Cumulative=%{x}<br>Name of State / UT=%{y}<br>Cured/Discharged/Migrated* Cumulative by %=%{marker.color}<extra></extra>",
         "legendgroup": "",
         "marker": {
          "color": [
           0.02,
           6.11,
           0.16,
           1.79,
           2.15,
           0.19,
           2.97,
           0.03,
           4.24,
           0.52,
           2.44,
           2.28,
           0.65,
           0.97,
           1.03,
           8.79,
           14.1,
           0.06,
           0.03,
           2.34,
           19.21,
           0.36,
           0.24,
           0.29,
           0.09,
           3.06,
           0.37,
           1.75,
           2.83,
           0.09,
           7.88,
           1.98,
           0.25,
           1.01,
           5.05,
           4.65
          ],
          "coloraxis": "coloraxis",
          "pattern": {
           "shape": ""
          }
         },
         "name": "",
         "offsetgroup": "",
         "orientation": "h",
         "showlegend": false,
         "textposition": "auto",
         "type": "bar",
         "x": [
          7501,
          2038248,
          54476,
          596263,
          716313,
          64443,
          991841,
          10668,
          1413885,
          173342,
          815943,
          760881,
          216011,
          325473,
          343141,
          2934870,
          4706856,
          20615,
          10312,
          782035,
          6413418,
          119099,
          80411,
          96744,
          30613,
          1020645,
          124763,
          585199,
          945386,
          31108,
          2632092,
          660512,
          83369,
          336157,
          1686976,
          1552491
         ],
         "xaxis": "x",
         "y": [
          "Andaman and Nicobar Islands",
          "Andhra Pradesh",
          "Arunachal Pradesh",
          "Assam",
          "Bihar",
          "Chandigarh",
          "Chhattisgarh",
          "Dadra and Nagar Haveli and Daman and Diu",
          "Delhi",
          "Goa",
          "Gujarat",
          "Haryana***",
          "Himachal Pradesh",
          "Jammu and Kashmir",
          "Jharkhand",
          "Karnataka",
          "Kerala",
          "Ladakh",
          "Lakshadweep",
          "Madhya Pradesh",
          "Maharashtra",
          "Manipur",
          "Meghalaya",
          "Mizoram",
          "Nagaland",
          "Odisha",
          "Puducherry",
          "Punjab",
          "Rajasthan",
          "Sikkim",
          "Tamil Nadu",
          "Telangana",
          "Tripura",
          "Uttarakhand",
          "Uttar Pradesh",
          "West Bengal"
         ],
         "yaxis": "y"
        }
       ],
       "layout": {
        "autosize": false,
        "barmode": "relative",
        "coloraxis": {
         "colorbar": {
          "title": {
           "text": "Cured/Discharged/Migrated* Cumulative by %"
          }
         },
         "colorscale": [
          [
           0,
           "#0d0887"
          ],
          [
           0.1111111111111111,
           "#46039f"
          ],
          [
           0.2222222222222222,
           "#7201a8"
          ],
          [
           0.3333333333333333,
           "#9c179e"
          ],
          [
           0.4444444444444444,
           "#bd3786"
          ],
          [
           0.5555555555555556,
           "#d8576b"
          ],
          [
           0.6666666666666666,
           "#ed7953"
          ],
          [
           0.7777777777777778,
           "#fb9f3a"
          ],
          [
           0.8888888888888888,
           "#fdca26"
          ],
          [
           1,
           "#f0f921"
          ]
         ]
        },
        "height": 700,
        "legend": {
         "tracegroupgap": 0
        },
        "template": {
         "data": {
          "bar": [
           {
            "error_x": {
             "color": "#2a3f5f"
            },
            "error_y": {
             "color": "#2a3f5f"
            },
            "marker": {
             "line": {
              "color": "#E5ECF6",
              "width": 0.5
             },
             "pattern": {
              "fillmode": "overlay",
              "size": 10,
              "solidity": 0.2
             }
            },
            "type": "bar"
           }
          ],
          "barpolar": [
           {
            "marker": {
             "line": {
              "color": "#E5ECF6",
              "width": 0.5
             },
             "pattern": {
              "fillmode": "overlay",
              "size": 10,
              "solidity": 0.2
             }
            },
            "type": "barpolar"
           }
          ],
          "carpet": [
           {
            "aaxis": {
             "endlinecolor": "#2a3f5f",
             "gridcolor": "white",
             "linecolor": "white",
             "minorgridcolor": "white",
             "startlinecolor": "#2a3f5f"
            },
            "baxis": {
             "endlinecolor": "#2a3f5f",
             "gridcolor": "white",
             "linecolor": "white",
             "minorgridcolor": "white",
             "startlinecolor": "#2a3f5f"
            },
            "type": "carpet"
           }
          ],
          "choropleth": [
           {
            "colorbar": {
             "outlinewidth": 0,
             "ticks": ""
            },
            "type": "choropleth"
           }
          ],
          "contour": [
           {
            "colorbar": {
             "outlinewidth": 0,
             "ticks": ""
            },
            "colorscale": [
             [
              0,
              "#0d0887"
             ],
             [
              0.1111111111111111,
              "#46039f"
             ],
             [
              0.2222222222222222,
              "#7201a8"
             ],
             [
              0.3333333333333333,
              "#9c179e"
             ],
             [
              0.4444444444444444,
              "#bd3786"
             ],
             [
              0.5555555555555556,
              "#d8576b"
             ],
             [
              0.6666666666666666,
              "#ed7953"
             ],
             [
              0.7777777777777778,
              "#fb9f3a"
             ],
             [
              0.8888888888888888,
              "#fdca26"
             ],
             [
              1,
              "#f0f921"
             ]
            ],
            "type": "contour"
           }
          ],
          "contourcarpet": [
           {
            "colorbar": {
             "outlinewidth": 0,
             "ticks": ""
            },
            "type": "contourcarpet"
           }
          ],
          "heatmap": [
           {
            "colorbar": {
             "outlinewidth": 0,
             "ticks": ""
            },
            "colorscale": [
             [
              0,
              "#0d0887"
             ],
             [
              0.1111111111111111,
              "#46039f"
             ],
             [
              0.2222222222222222,
              "#7201a8"
             ],
             [
              0.3333333333333333,
              "#9c179e"
             ],
             [
              0.4444444444444444,
              "#bd3786"
             ],
             [
              0.5555555555555556,
              "#d8576b"
             ],
             [
              0.6666666666666666,
              "#ed7953"
             ],
             [
              0.7777777777777778,
              "#fb9f3a"
             ],
             [
              0.8888888888888888,
              "#fdca26"
             ],
             [
              1,
              "#f0f921"
             ]
            ],
            "type": "heatmap"
           }
          ],
          "heatmapgl": [
           {
            "colorbar": {
             "outlinewidth": 0,
             "ticks": ""
            },
            "colorscale": [
             [
              0,
              "#0d0887"
             ],
             [
              0.1111111111111111,
              "#46039f"
             ],
             [
              0.2222222222222222,
              "#7201a8"
             ],
             [
              0.3333333333333333,
              "#9c179e"
             ],
             [
              0.4444444444444444,
              "#bd3786"
             ],
             [
              0.5555555555555556,
              "#d8576b"
             ],
             [
              0.6666666666666666,
              "#ed7953"
             ],
             [
              0.7777777777777778,
              "#fb9f3a"
             ],
             [
              0.8888888888888888,
              "#fdca26"
             ],
             [
              1,
              "#f0f921"
             ]
            ],
            "type": "heatmapgl"
           }
          ],
          "histogram": [
           {
            "marker": {
             "pattern": {
              "fillmode": "overlay",
              "size": 10,
              "solidity": 0.2
             }
            },
            "type": "histogram"
           }
          ],
          "histogram2d": [
           {
            "colorbar": {
             "outlinewidth": 0,
             "ticks": ""
            },
            "colorscale": [
             [
              0,
              "#0d0887"
             ],
             [
              0.1111111111111111,
              "#46039f"
             ],
             [
              0.2222222222222222,
              "#7201a8"
             ],
             [
              0.3333333333333333,
              "#9c179e"
             ],
             [
              0.4444444444444444,
              "#bd3786"
             ],
             [
              0.5555555555555556,
              "#d8576b"
             ],
             [
              0.6666666666666666,
              "#ed7953"
             ],
             [
              0.7777777777777778,
              "#fb9f3a"
             ],
             [
              0.8888888888888888,
              "#fdca26"
             ],
             [
              1,
              "#f0f921"
             ]
            ],
            "type": "histogram2d"
           }
          ],
          "histogram2dcontour": [
           {
            "colorbar": {
             "outlinewidth": 0,
             "ticks": ""
            },
            "colorscale": [
             [
              0,
              "#0d0887"
             ],
             [
              0.1111111111111111,
              "#46039f"
             ],
             [
              0.2222222222222222,
              "#7201a8"
             ],
             [
              0.3333333333333333,
              "#9c179e"
             ],
             [
              0.4444444444444444,
              "#bd3786"
             ],
             [
              0.5555555555555556,
              "#d8576b"
             ],
             [
              0.6666666666666666,
              "#ed7953"
             ],
             [
              0.7777777777777778,
              "#fb9f3a"
             ],
             [
              0.8888888888888888,
              "#fdca26"
             ],
             [
              1,
              "#f0f921"
             ]
            ],
            "type": "histogram2dcontour"
           }
          ],
          "mesh3d": [
           {
            "colorbar": {
             "outlinewidth": 0,
             "ticks": ""
            },
            "type": "mesh3d"
           }
          ],
          "parcoords": [
           {
            "line": {
             "colorbar": {
              "outlinewidth": 0,
              "ticks": ""
             }
            },
            "type": "parcoords"
           }
          ],
          "pie": [
           {
            "automargin": true,
            "type": "pie"
           }
          ],
          "scatter": [
           {
            "marker": {
             "colorbar": {
              "outlinewidth": 0,
              "ticks": ""
             }
            },
            "type": "scatter"
           }
          ],
          "scatter3d": [
           {
            "line": {
             "colorbar": {
              "outlinewidth": 0,
              "ticks": ""
             }
            },
            "marker": {
             "colorbar": {
              "outlinewidth": 0,
              "ticks": ""
             }
            },
            "type": "scatter3d"
           }
          ],
          "scattercarpet": [
           {
            "marker": {
             "colorbar": {
              "outlinewidth": 0,
              "ticks": ""
             }
            },
            "type": "scattercarpet"
           }
          ],
          "scattergeo": [
           {
            "marker": {
             "colorbar": {
              "outlinewidth": 0,
              "ticks": ""
             }
            },
            "type": "scattergeo"
           }
          ],
          "scattergl": [
           {
            "marker": {
             "colorbar": {
              "outlinewidth": 0,
              "ticks": ""
             }
            },
            "type": "scattergl"
           }
          ],
          "scattermapbox": [
           {
            "marker": {
             "colorbar": {
              "outlinewidth": 0,
              "ticks": ""
             }
            },
            "type": "scattermapbox"
           }
          ],
          "scatterpolar": [
           {
            "marker": {
             "colorbar": {
              "outlinewidth": 0,
              "ticks": ""
             }
            },
            "type": "scatterpolar"
           }
          ],
          "scatterpolargl": [
           {
            "marker": {
             "colorbar": {
              "outlinewidth": 0,
              "ticks": ""
             }
            },
            "type": "scatterpolargl"
           }
          ],
          "scatterternary": [
           {
            "marker": {
             "colorbar": {
              "outlinewidth": 0,
              "ticks": ""
             }
            },
            "type": "scatterternary"
           }
          ],
          "surface": [
           {
            "colorbar": {
             "outlinewidth": 0,
             "ticks": ""
            },
            "colorscale": [
             [
              0,
              "#0d0887"
             ],
             [
              0.1111111111111111,
              "#46039f"
             ],
             [
              0.2222222222222222,
              "#7201a8"
             ],
             [
              0.3333333333333333,
              "#9c179e"
             ],
             [
              0.4444444444444444,
              "#bd3786"
             ],
             [
              0.5555555555555556,
              "#d8576b"
             ],
             [
              0.6666666666666666,
              "#ed7953"
             ],
             [
              0.7777777777777778,
              "#fb9f3a"
             ],
             [
              0.8888888888888888,
              "#fdca26"
             ],
             [
              1,
              "#f0f921"
             ]
            ],
            "type": "surface"
           }
          ],
          "table": [
           {
            "cells": {
             "fill": {
              "color": "#EBF0F8"
             },
             "line": {
              "color": "white"
             }
            },
            "header": {
             "fill": {
              "color": "#C8D4E3"
             },
             "line": {
              "color": "white"
             }
            },
            "type": "table"
           }
          ]
         },
         "layout": {
          "annotationdefaults": {
           "arrowcolor": "#2a3f5f",
           "arrowhead": 0,
           "arrowwidth": 1
          },
          "autotypenumbers": "strict",
          "coloraxis": {
           "colorbar": {
            "outlinewidth": 0,
            "ticks": ""
           }
          },
          "colorscale": {
           "diverging": [
            [
             0,
             "#8e0152"
            ],
            [
             0.1,
             "#c51b7d"
            ],
            [
             0.2,
             "#de77ae"
            ],
            [
             0.3,
             "#f1b6da"
            ],
            [
             0.4,
             "#fde0ef"
            ],
            [
             0.5,
             "#f7f7f7"
            ],
            [
             0.6,
             "#e6f5d0"
            ],
            [
             0.7,
             "#b8e186"
            ],
            [
             0.8,
             "#7fbc41"
            ],
            [
             0.9,
             "#4d9221"
            ],
            [
             1,
             "#276419"
            ]
           ],
           "sequential": [
            [
             0,
             "#0d0887"
            ],
            [
             0.1111111111111111,
             "#46039f"
            ],
            [
             0.2222222222222222,
             "#7201a8"
            ],
            [
             0.3333333333333333,
             "#9c179e"
            ],
            [
             0.4444444444444444,
             "#bd3786"
            ],
            [
             0.5555555555555556,
             "#d8576b"
            ],
            [
             0.6666666666666666,
             "#ed7953"
            ],
            [
             0.7777777777777778,
             "#fb9f3a"
            ],
            [
             0.8888888888888888,
             "#fdca26"
            ],
            [
             1,
             "#f0f921"
            ]
           ],
           "sequentialminus": [
            [
             0,
             "#0d0887"
            ],
            [
             0.1111111111111111,
             "#46039f"
            ],
            [
             0.2222222222222222,
             "#7201a8"
            ],
            [
             0.3333333333333333,
             "#9c179e"
            ],
            [
             0.4444444444444444,
             "#bd3786"
            ],
            [
             0.5555555555555556,
             "#d8576b"
            ],
            [
             0.6666666666666666,
             "#ed7953"
            ],
            [
             0.7777777777777778,
             "#fb9f3a"
            ],
            [
             0.8888888888888888,
             "#fdca26"
            ],
            [
             1,
             "#f0f921"
            ]
           ]
          },
          "colorway": [
           "#636efa",
           "#EF553B",
           "#00cc96",
           "#ab63fa",
           "#FFA15A",
           "#19d3f3",
           "#FF6692",
           "#B6E880",
           "#FF97FF",
           "#FECB52"
          ],
          "font": {
           "color": "#2a3f5f"
          },
          "geo": {
           "bgcolor": "white",
           "lakecolor": "white",
           "landcolor": "#E5ECF6",
           "showlakes": true,
           "showland": true,
           "subunitcolor": "white"
          },
          "hoverlabel": {
           "align": "left"
          },
          "hovermode": "closest",
          "mapbox": {
           "style": "light"
          },
          "paper_bgcolor": "white",
          "plot_bgcolor": "#E5ECF6",
          "polar": {
           "angularaxis": {
            "gridcolor": "white",
            "linecolor": "white",
            "ticks": ""
           },
           "bgcolor": "#E5ECF6",
           "radialaxis": {
            "gridcolor": "white",
            "linecolor": "white",
            "ticks": ""
           }
          },
          "scene": {
           "xaxis": {
            "backgroundcolor": "#E5ECF6",
            "gridcolor": "white",
            "gridwidth": 2,
            "linecolor": "white",
            "showbackground": true,
            "ticks": "",
            "zerolinecolor": "white"
           },
           "yaxis": {
            "backgroundcolor": "#E5ECF6",
            "gridcolor": "white",
            "gridwidth": 2,
            "linecolor": "white",
            "showbackground": true,
            "ticks": "",
            "zerolinecolor": "white"
           },
           "zaxis": {
            "backgroundcolor": "#E5ECF6",
            "gridcolor": "white",
            "gridwidth": 2,
            "linecolor": "white",
            "showbackground": true,
            "ticks": "",
            "zerolinecolor": "white"
           }
          },
          "shapedefaults": {
           "line": {
            "color": "#2a3f5f"
           }
          },
          "ternary": {
           "aaxis": {
            "gridcolor": "white",
            "linecolor": "white",
            "ticks": ""
           },
           "baxis": {
            "gridcolor": "white",
            "linecolor": "white",
            "ticks": ""
           },
           "bgcolor": "#E5ECF6",
           "caxis": {
            "gridcolor": "white",
            "linecolor": "white",
            "ticks": ""
           }
          },
          "title": {
           "x": 0.05
          },
          "xaxis": {
           "automargin": true,
           "gridcolor": "white",
           "linecolor": "white",
           "ticks": "",
           "title": {
            "standoff": 15
           },
           "zerolinecolor": "white",
           "zerolinewidth": 2
          },
          "yaxis": {
           "automargin": true,
           "gridcolor": "white",
           "linecolor": "white",
           "ticks": "",
           "title": {
            "standoff": 15
           },
           "zerolinecolor": "white",
           "zerolinewidth": 2
          }
         }
        },
        "title": {
         "text": "States vs Covid Cases"
        },
        "width": 900,
        "xaxis": {
         "anchor": "y",
         "domain": [
          0,
          1
         ],
         "title": {
          "text": "Total Cured Covid cases"
         }
        },
        "yaxis": {
         "anchor": "x",
         "domain": [
          0,
          1
         ],
         "title": {
          "text": "States/UT"
         }
        }
       }
      },
      "text/html": [
       "<div>                            <div id=\"0e1e763a-759b-4d6c-8d6b-38d14df920df\" class=\"plotly-graph-div\" style=\"height:700px; width:900px;\"></div>            <script type=\"text/javascript\">                require([\"plotly\"], function(Plotly) {                    window.PLOTLYENV=window.PLOTLYENV || {};                                    if (document.getElementById(\"0e1e763a-759b-4d6c-8d6b-38d14df920df\")) {                    Plotly.newPlot(                        \"0e1e763a-759b-4d6c-8d6b-38d14df920df\",                        [{\"alignmentgroup\":\"True\",\"hovertemplate\":\"Cured/Discharged/Migrated* Cumulative=%{x}<br>Name of State / UT=%{y}<br>Cured/Discharged/Migrated* Cumulative by %=%{marker.color}<extra></extra>\",\"legendgroup\":\"\",\"marker\":{\"color\":[0.02,6.11,0.16,1.79,2.15,0.19,2.97,0.03,4.24,0.52,2.44,2.28,0.65,0.97,1.03,8.79,14.1,0.06,0.03,2.34,19.21,0.36,0.24,0.29,0.09,3.06,0.37,1.75,2.83,0.09,7.88,1.98,0.25,1.01,5.05,4.65],\"coloraxis\":\"coloraxis\",\"pattern\":{\"shape\":\"\"}},\"name\":\"\",\"offsetgroup\":\"\",\"orientation\":\"h\",\"showlegend\":false,\"textposition\":\"auto\",\"type\":\"bar\",\"x\":[7501,2038248,54476,596263,716313,64443,991841,10668,1413885,173342,815943,760881,216011,325473,343141,2934870,4706856,20615,10312,782035,6413418,119099,80411,96744,30613,1020645,124763,585199,945386,31108,2632092,660512,83369,336157,1686976,1552491],\"xaxis\":\"x\",\"y\":[\"Andaman and Nicobar Islands\",\"Andhra Pradesh\",\"Arunachal Pradesh\",\"Assam\",\"Bihar\",\"Chandigarh\",\"Chhattisgarh\",\"Dadra and Nagar Haveli and Daman and Diu\",\"Delhi\",\"Goa\",\"Gujarat\",\"Haryana***\",\"Himachal Pradesh\",\"Jammu and Kashmir\",\"Jharkhand\",\"Karnataka\",\"Kerala\",\"Ladakh\",\"Lakshadweep\",\"Madhya Pradesh\",\"Maharashtra\",\"Manipur\",\"Meghalaya\",\"Mizoram\",\"Nagaland\",\"Odisha\",\"Puducherry\",\"Punjab\",\"Rajasthan\",\"Sikkim\",\"Tamil Nadu\",\"Telangana\",\"Tripura\",\"Uttarakhand\",\"Uttar Pradesh\",\"West Bengal\"],\"yaxis\":\"y\"}],                        {\"autosize\":false,\"barmode\":\"relative\",\"coloraxis\":{\"colorbar\":{\"title\":{\"text\":\"Cured/Discharged/Migrated* Cumulative by %\"}},\"colorscale\":[[0.0,\"#0d0887\"],[0.1111111111111111,\"#46039f\"],[0.2222222222222222,\"#7201a8\"],[0.3333333333333333,\"#9c179e\"],[0.4444444444444444,\"#bd3786\"],[0.5555555555555556,\"#d8576b\"],[0.6666666666666666,\"#ed7953\"],[0.7777777777777778,\"#fb9f3a\"],[0.8888888888888888,\"#fdca26\"],[1.0,\"#f0f921\"]]},\"height\":700,\"legend\":{\"tracegroupgap\":0},\"template\":{\"data\":{\"bar\":[{\"error_x\":{\"color\":\"#2a3f5f\"},\"error_y\":{\"color\":\"#2a3f5f\"},\"marker\":{\"line\":{\"color\":\"#E5ECF6\",\"width\":0.5},\"pattern\":{\"fillmode\":\"overlay\",\"size\":10,\"solidity\":0.2}},\"type\":\"bar\"}],\"barpolar\":[{\"marker\":{\"line\":{\"color\":\"#E5ECF6\",\"width\":0.5},\"pattern\":{\"fillmode\":\"overlay\",\"size\":10,\"solidity\":0.2}},\"type\":\"barpolar\"}],\"carpet\":[{\"aaxis\":{\"endlinecolor\":\"#2a3f5f\",\"gridcolor\":\"white\",\"linecolor\":\"white\",\"minorgridcolor\":\"white\",\"startlinecolor\":\"#2a3f5f\"},\"baxis\":{\"endlinecolor\":\"#2a3f5f\",\"gridcolor\":\"white\",\"linecolor\":\"white\",\"minorgridcolor\":\"white\",\"startlinecolor\":\"#2a3f5f\"},\"type\":\"carpet\"}],\"choropleth\":[{\"colorbar\":{\"outlinewidth\":0,\"ticks\":\"\"},\"type\":\"choropleth\"}],\"contour\":[{\"colorbar\":{\"outlinewidth\":0,\"ticks\":\"\"},\"colorscale\":[[0.0,\"#0d0887\"],[0.1111111111111111,\"#46039f\"],[0.2222222222222222,\"#7201a8\"],[0.3333333333333333,\"#9c179e\"],[0.4444444444444444,\"#bd3786\"],[0.5555555555555556,\"#d8576b\"],[0.6666666666666666,\"#ed7953\"],[0.7777777777777778,\"#fb9f3a\"],[0.8888888888888888,\"#fdca26\"],[1.0,\"#f0f921\"]],\"type\":\"contour\"}],\"contourcarpet\":[{\"colorbar\":{\"outlinewidth\":0,\"ticks\":\"\"},\"type\":\"contourcarpet\"}],\"heatmap\":[{\"colorbar\":{\"outlinewidth\":0,\"ticks\":\"\"},\"colorscale\":[[0.0,\"#0d0887\"],[0.1111111111111111,\"#46039f\"],[0.2222222222222222,\"#7201a8\"],[0.3333333333333333,\"#9c179e\"],[0.4444444444444444,\"#bd3786\"],[0.5555555555555556,\"#d8576b\"],[0.6666666666666666,\"#ed7953\"],[0.7777777777777778,\"#fb9f3a\"],[0.8888888888888888,\"#fdca26\"],[1.0,\"#f0f921\"]],\"type\":\"heatmap\"}],\"heatmapgl\":[{\"colorbar\":{\"outlinewidth\":0,\"ticks\":\"\"},\"colorscale\":[[0.0,\"#0d0887\"],[0.1111111111111111,\"#46039f\"],[0.2222222222222222,\"#7201a8\"],[0.3333333333333333,\"#9c179e\"],[0.4444444444444444,\"#bd3786\"],[0.5555555555555556,\"#d8576b\"],[0.6666666666666666,\"#ed7953\"],[0.7777777777777778,\"#fb9f3a\"],[0.8888888888888888,\"#fdca26\"],[1.0,\"#f0f921\"]],\"type\":\"heatmapgl\"}],\"histogram\":[{\"marker\":{\"pattern\":{\"fillmode\":\"overlay\",\"size\":10,\"solidity\":0.2}},\"type\":\"histogram\"}],\"histogram2d\":[{\"colorbar\":{\"outlinewidth\":0,\"ticks\":\"\"},\"colorscale\":[[0.0,\"#0d0887\"],[0.1111111111111111,\"#46039f\"],[0.2222222222222222,\"#7201a8\"],[0.3333333333333333,\"#9c179e\"],[0.4444444444444444,\"#bd3786\"],[0.5555555555555556,\"#d8576b\"],[0.6666666666666666,\"#ed7953\"],[0.7777777777777778,\"#fb9f3a\"],[0.8888888888888888,\"#fdca26\"],[1.0,\"#f0f921\"]],\"type\":\"histogram2d\"}],\"histogram2dcontour\":[{\"colorbar\":{\"outlinewidth\":0,\"ticks\":\"\"},\"colorscale\":[[0.0,\"#0d0887\"],[0.1111111111111111,\"#46039f\"],[0.2222222222222222,\"#7201a8\"],[0.3333333333333333,\"#9c179e\"],[0.4444444444444444,\"#bd3786\"],[0.5555555555555556,\"#d8576b\"],[0.6666666666666666,\"#ed7953\"],[0.7777777777777778,\"#fb9f3a\"],[0.8888888888888888,\"#fdca26\"],[1.0,\"#f0f921\"]],\"type\":\"histogram2dcontour\"}],\"mesh3d\":[{\"colorbar\":{\"outlinewidth\":0,\"ticks\":\"\"},\"type\":\"mesh3d\"}],\"parcoords\":[{\"line\":{\"colorbar\":{\"outlinewidth\":0,\"ticks\":\"\"}},\"type\":\"parcoords\"}],\"pie\":[{\"automargin\":true,\"type\":\"pie\"}],\"scatter\":[{\"marker\":{\"colorbar\":{\"outlinewidth\":0,\"ticks\":\"\"}},\"type\":\"scatter\"}],\"scatter3d\":[{\"line\":{\"colorbar\":{\"outlinewidth\":0,\"ticks\":\"\"}},\"marker\":{\"colorbar\":{\"outlinewidth\":0,\"ticks\":\"\"}},\"type\":\"scatter3d\"}],\"scattercarpet\":[{\"marker\":{\"colorbar\":{\"outlinewidth\":0,\"ticks\":\"\"}},\"type\":\"scattercarpet\"}],\"scattergeo\":[{\"marker\":{\"colorbar\":{\"outlinewidth\":0,\"ticks\":\"\"}},\"type\":\"scattergeo\"}],\"scattergl\":[{\"marker\":{\"colorbar\":{\"outlinewidth\":0,\"ticks\":\"\"}},\"type\":\"scattergl\"}],\"scattermapbox\":[{\"marker\":{\"colorbar\":{\"outlinewidth\":0,\"ticks\":\"\"}},\"type\":\"scattermapbox\"}],\"scatterpolar\":[{\"marker\":{\"colorbar\":{\"outlinewidth\":0,\"ticks\":\"\"}},\"type\":\"scatterpolar\"}],\"scatterpolargl\":[{\"marker\":{\"colorbar\":{\"outlinewidth\":0,\"ticks\":\"\"}},\"type\":\"scatterpolargl\"}],\"scatterternary\":[{\"marker\":{\"colorbar\":{\"outlinewidth\":0,\"ticks\":\"\"}},\"type\":\"scatterternary\"}],\"surface\":[{\"colorbar\":{\"outlinewidth\":0,\"ticks\":\"\"},\"colorscale\":[[0.0,\"#0d0887\"],[0.1111111111111111,\"#46039f\"],[0.2222222222222222,\"#7201a8\"],[0.3333333333333333,\"#9c179e\"],[0.4444444444444444,\"#bd3786\"],[0.5555555555555556,\"#d8576b\"],[0.6666666666666666,\"#ed7953\"],[0.7777777777777778,\"#fb9f3a\"],[0.8888888888888888,\"#fdca26\"],[1.0,\"#f0f921\"]],\"type\":\"surface\"}],\"table\":[{\"cells\":{\"fill\":{\"color\":\"#EBF0F8\"},\"line\":{\"color\":\"white\"}},\"header\":{\"fill\":{\"color\":\"#C8D4E3\"},\"line\":{\"color\":\"white\"}},\"type\":\"table\"}]},\"layout\":{\"annotationdefaults\":{\"arrowcolor\":\"#2a3f5f\",\"arrowhead\":0,\"arrowwidth\":1},\"autotypenumbers\":\"strict\",\"coloraxis\":{\"colorbar\":{\"outlinewidth\":0,\"ticks\":\"\"}},\"colorscale\":{\"diverging\":[[0,\"#8e0152\"],[0.1,\"#c51b7d\"],[0.2,\"#de77ae\"],[0.3,\"#f1b6da\"],[0.4,\"#fde0ef\"],[0.5,\"#f7f7f7\"],[0.6,\"#e6f5d0\"],[0.7,\"#b8e186\"],[0.8,\"#7fbc41\"],[0.9,\"#4d9221\"],[1,\"#276419\"]],\"sequential\":[[0.0,\"#0d0887\"],[0.1111111111111111,\"#46039f\"],[0.2222222222222222,\"#7201a8\"],[0.3333333333333333,\"#9c179e\"],[0.4444444444444444,\"#bd3786\"],[0.5555555555555556,\"#d8576b\"],[0.6666666666666666,\"#ed7953\"],[0.7777777777777778,\"#fb9f3a\"],[0.8888888888888888,\"#fdca26\"],[1.0,\"#f0f921\"]],\"sequentialminus\":[[0.0,\"#0d0887\"],[0.1111111111111111,\"#46039f\"],[0.2222222222222222,\"#7201a8\"],[0.3333333333333333,\"#9c179e\"],[0.4444444444444444,\"#bd3786\"],[0.5555555555555556,\"#d8576b\"],[0.6666666666666666,\"#ed7953\"],[0.7777777777777778,\"#fb9f3a\"],[0.8888888888888888,\"#fdca26\"],[1.0,\"#f0f921\"]]},\"colorway\":[\"#636efa\",\"#EF553B\",\"#00cc96\",\"#ab63fa\",\"#FFA15A\",\"#19d3f3\",\"#FF6692\",\"#B6E880\",\"#FF97FF\",\"#FECB52\"],\"font\":{\"color\":\"#2a3f5f\"},\"geo\":{\"bgcolor\":\"white\",\"lakecolor\":\"white\",\"landcolor\":\"#E5ECF6\",\"showlakes\":true,\"showland\":true,\"subunitcolor\":\"white\"},\"hoverlabel\":{\"align\":\"left\"},\"hovermode\":\"closest\",\"mapbox\":{\"style\":\"light\"},\"paper_bgcolor\":\"white\",\"plot_bgcolor\":\"#E5ECF6\",\"polar\":{\"angularaxis\":{\"gridcolor\":\"white\",\"linecolor\":\"white\",\"ticks\":\"\"},\"bgcolor\":\"#E5ECF6\",\"radialaxis\":{\"gridcolor\":\"white\",\"linecolor\":\"white\",\"ticks\":\"\"}},\"scene\":{\"xaxis\":{\"backgroundcolor\":\"#E5ECF6\",\"gridcolor\":\"white\",\"gridwidth\":2,\"linecolor\":\"white\",\"showbackground\":true,\"ticks\":\"\",\"zerolinecolor\":\"white\"},\"yaxis\":{\"backgroundcolor\":\"#E5ECF6\",\"gridcolor\":\"white\",\"gridwidth\":2,\"linecolor\":\"white\",\"showbackground\":true,\"ticks\":\"\",\"zerolinecolor\":\"white\"},\"zaxis\":{\"backgroundcolor\":\"#E5ECF6\",\"gridcolor\":\"white\",\"gridwidth\":2,\"linecolor\":\"white\",\"showbackground\":true,\"ticks\":\"\",\"zerolinecolor\":\"white\"}},\"shapedefaults\":{\"line\":{\"color\":\"#2a3f5f\"}},\"ternary\":{\"aaxis\":{\"gridcolor\":\"white\",\"linecolor\":\"white\",\"ticks\":\"\"},\"baxis\":{\"gridcolor\":\"white\",\"linecolor\":\"white\",\"ticks\":\"\"},\"bgcolor\":\"#E5ECF6\",\"caxis\":{\"gridcolor\":\"white\",\"linecolor\":\"white\",\"ticks\":\"\"}},\"title\":{\"x\":0.05},\"xaxis\":{\"automargin\":true,\"gridcolor\":\"white\",\"linecolor\":\"white\",\"ticks\":\"\",\"title\":{\"standoff\":15},\"zerolinecolor\":\"white\",\"zerolinewidth\":2},\"yaxis\":{\"automargin\":true,\"gridcolor\":\"white\",\"linecolor\":\"white\",\"ticks\":\"\",\"title\":{\"standoff\":15},\"zerolinecolor\":\"white\",\"zerolinewidth\":2}}},\"title\":{\"text\":\"States vs Covid Cases\"},\"width\":900,\"xaxis\":{\"anchor\":\"y\",\"domain\":[0.0,1.0],\"title\":{\"text\":\"Total Cured Covid cases\"}},\"yaxis\":{\"anchor\":\"x\",\"domain\":[0.0,1.0],\"title\":{\"text\":\"States/UT\"}}},                        {\"responsive\": true}                    ).then(function(){\n",
       "                            \n",
       "var gd = document.getElementById('0e1e763a-759b-4d6c-8d6b-38d14df920df');\n",
       "var x = new MutationObserver(function (mutations, observer) {{\n",
       "        var display = window.getComputedStyle(gd).display;\n",
       "        if (!display || display === 'none') {{\n",
       "            console.log([gd, 'removed!']);\n",
       "            Plotly.purge(gd);\n",
       "            observer.disconnect();\n",
       "        }}\n",
       "}});\n",
       "\n",
       "// Listen for the removal of the full notebook cells\n",
       "var notebookContainer = gd.closest('#notebook-container');\n",
       "if (notebookContainer) {{\n",
       "    x.observe(notebookContainer, {childList: true});\n",
       "}}\n",
       "\n",
       "// Listen for the clearing of the current output cell\n",
       "var outputEl = gd.closest('.output');\n",
       "if (outputEl) {{\n",
       "    x.observe(outputEl, {childList: true});\n",
       "}}\n",
       "\n",
       "                        })                };                });            </script>        </div>"
      ]
     },
     "metadata": {},
     "output_type": "display_data"
    }
   ],
   "source": [
    "fig3 = px.bar(states_covid_data,title='States vs Covid Cases', x='Cured/Discharged/Migrated* Cumulative', y='Name of State / UT', orientation='h',color='Cured/Discharged/Migrated* Cumulative by %')\n",
    "fig3.update_layout(xaxis_title=\"Total Cured Covid cases\",yaxis_title=\"States/UT\",autosize=False,\n",
    "    width=900,\n",
    "    height=700)\n",
    "fig3.show()"
   ]
  },
  {
   "cell_type": "markdown",
   "id": "7e8c5aba",
   "metadata": {},
   "source": [
    "{% include figure3.html %}"
   ]
  },
  {
   "cell_type": "code",
   "execution_count": 271,
   "id": "80a6bf09",
   "metadata": {},
   "outputs": [
    {
     "data": {
      "application/vnd.plotly.v1+json": {
       "config": {
        "plotlyServerURL": "https://plot.ly"
       },
       "data": [
        {
         "alignmentgroup": "True",
         "hovertemplate": "Cured/Discharged/Migrated* Change since yesterday=%{x}<br>Name of State / UT=%{y}<br>Cured/Discharged/Migrated* Change since yesterday by %=%{marker.color}<extra></extra>",
         "legendgroup": "",
         "marker": {
          "color": [
           0.01,
           2.87,
           0.13,
           1.87,
           0.01,
           0.08,
           0.1,
           0.01,
           0.15,
           0.2,
           0.07,
           0,
           0.89,
           0.54,
           0.04,
           1.79,
           56.48,
           0.02,
           0,
           0.06,
           12.08,
           0.43,
           0.59,
           6.87,
           0.09,
           2.46,
           0.27,
           0.08,
           0.01,
           0.04,
           7.42,
           1.07,
           0.06,
           0.03,
           0.08,
           3.1
          ],
          "coloraxis": "coloraxis",
          "pattern": {
           "shape": ""
          }
         },
         "name": "",
         "offsetgroup": "",
         "orientation": "h",
         "showlegend": false,
         "textposition": "auto",
         "type": "bar",
         "x": [
          2,
          557,
          26,
          362,
          2,
          15,
          20,
          1,
          29,
          39,
          14,
          0,
          173,
          104,
          7,
          347,
          10952,
          4,
          0,
          11,
          2343,
          84,
          115,
          1332,
          17,
          477,
          53,
          16,
          2,
          7,
          1438,
          207,
          12,
          6,
          16,
          601
         ],
         "xaxis": "x",
         "y": [
          "Andaman and Nicobar Islands",
          "Andhra Pradesh",
          "Arunachal Pradesh",
          "Assam",
          "Bihar",
          "Chandigarh",
          "Chhattisgarh",
          "Dadra and Nagar Haveli and Daman and Diu",
          "Delhi",
          "Goa",
          "Gujarat",
          "Haryana***",
          "Himachal Pradesh",
          "Jammu and Kashmir",
          "Jharkhand",
          "Karnataka",
          "Kerala",
          "Ladakh",
          "Lakshadweep",
          "Madhya Pradesh",
          "Maharashtra",
          "Manipur",
          "Meghalaya",
          "Mizoram",
          "Nagaland",
          "Odisha",
          "Puducherry",
          "Punjab",
          "Rajasthan",
          "Sikkim",
          "Tamil Nadu",
          "Telangana",
          "Tripura",
          "Uttarakhand",
          "Uttar Pradesh",
          "West Bengal"
         ],
         "yaxis": "y"
        }
       ],
       "layout": {
        "autosize": false,
        "barmode": "relative",
        "coloraxis": {
         "colorbar": {
          "title": {
           "text": "Cured/Discharged/Migrated* Change since yesterday by %"
          }
         },
         "colorscale": [
          [
           0,
           "#0d0887"
          ],
          [
           0.1111111111111111,
           "#46039f"
          ],
          [
           0.2222222222222222,
           "#7201a8"
          ],
          [
           0.3333333333333333,
           "#9c179e"
          ],
          [
           0.4444444444444444,
           "#bd3786"
          ],
          [
           0.5555555555555556,
           "#d8576b"
          ],
          [
           0.6666666666666666,
           "#ed7953"
          ],
          [
           0.7777777777777778,
           "#fb9f3a"
          ],
          [
           0.8888888888888888,
           "#fdca26"
          ],
          [
           1,
           "#f0f921"
          ]
         ]
        },
        "height": 700,
        "legend": {
         "tracegroupgap": 0
        },
        "template": {
         "data": {
          "bar": [
           {
            "error_x": {
             "color": "#2a3f5f"
            },
            "error_y": {
             "color": "#2a3f5f"
            },
            "marker": {
             "line": {
              "color": "#E5ECF6",
              "width": 0.5
             },
             "pattern": {
              "fillmode": "overlay",
              "size": 10,
              "solidity": 0.2
             }
            },
            "type": "bar"
           }
          ],
          "barpolar": [
           {
            "marker": {
             "line": {
              "color": "#E5ECF6",
              "width": 0.5
             },
             "pattern": {
              "fillmode": "overlay",
              "size": 10,
              "solidity": 0.2
             }
            },
            "type": "barpolar"
           }
          ],
          "carpet": [
           {
            "aaxis": {
             "endlinecolor": "#2a3f5f",
             "gridcolor": "white",
             "linecolor": "white",
             "minorgridcolor": "white",
             "startlinecolor": "#2a3f5f"
            },
            "baxis": {
             "endlinecolor": "#2a3f5f",
             "gridcolor": "white",
             "linecolor": "white",
             "minorgridcolor": "white",
             "startlinecolor": "#2a3f5f"
            },
            "type": "carpet"
           }
          ],
          "choropleth": [
           {
            "colorbar": {
             "outlinewidth": 0,
             "ticks": ""
            },
            "type": "choropleth"
           }
          ],
          "contour": [
           {
            "colorbar": {
             "outlinewidth": 0,
             "ticks": ""
            },
            "colorscale": [
             [
              0,
              "#0d0887"
             ],
             [
              0.1111111111111111,
              "#46039f"
             ],
             [
              0.2222222222222222,
              "#7201a8"
             ],
             [
              0.3333333333333333,
              "#9c179e"
             ],
             [
              0.4444444444444444,
              "#bd3786"
             ],
             [
              0.5555555555555556,
              "#d8576b"
             ],
             [
              0.6666666666666666,
              "#ed7953"
             ],
             [
              0.7777777777777778,
              "#fb9f3a"
             ],
             [
              0.8888888888888888,
              "#fdca26"
             ],
             [
              1,
              "#f0f921"
             ]
            ],
            "type": "contour"
           }
          ],
          "contourcarpet": [
           {
            "colorbar": {
             "outlinewidth": 0,
             "ticks": ""
            },
            "type": "contourcarpet"
           }
          ],
          "heatmap": [
           {
            "colorbar": {
             "outlinewidth": 0,
             "ticks": ""
            },
            "colorscale": [
             [
              0,
              "#0d0887"
             ],
             [
              0.1111111111111111,
              "#46039f"
             ],
             [
              0.2222222222222222,
              "#7201a8"
             ],
             [
              0.3333333333333333,
              "#9c179e"
             ],
             [
              0.4444444444444444,
              "#bd3786"
             ],
             [
              0.5555555555555556,
              "#d8576b"
             ],
             [
              0.6666666666666666,
              "#ed7953"
             ],
             [
              0.7777777777777778,
              "#fb9f3a"
             ],
             [
              0.8888888888888888,
              "#fdca26"
             ],
             [
              1,
              "#f0f921"
             ]
            ],
            "type": "heatmap"
           }
          ],
          "heatmapgl": [
           {
            "colorbar": {
             "outlinewidth": 0,
             "ticks": ""
            },
            "colorscale": [
             [
              0,
              "#0d0887"
             ],
             [
              0.1111111111111111,
              "#46039f"
             ],
             [
              0.2222222222222222,
              "#7201a8"
             ],
             [
              0.3333333333333333,
              "#9c179e"
             ],
             [
              0.4444444444444444,
              "#bd3786"
             ],
             [
              0.5555555555555556,
              "#d8576b"
             ],
             [
              0.6666666666666666,
              "#ed7953"
             ],
             [
              0.7777777777777778,
              "#fb9f3a"
             ],
             [
              0.8888888888888888,
              "#fdca26"
             ],
             [
              1,
              "#f0f921"
             ]
            ],
            "type": "heatmapgl"
           }
          ],
          "histogram": [
           {
            "marker": {
             "pattern": {
              "fillmode": "overlay",
              "size": 10,
              "solidity": 0.2
             }
            },
            "type": "histogram"
           }
          ],
          "histogram2d": [
           {
            "colorbar": {
             "outlinewidth": 0,
             "ticks": ""
            },
            "colorscale": [
             [
              0,
              "#0d0887"
             ],
             [
              0.1111111111111111,
              "#46039f"
             ],
             [
              0.2222222222222222,
              "#7201a8"
             ],
             [
              0.3333333333333333,
              "#9c179e"
             ],
             [
              0.4444444444444444,
              "#bd3786"
             ],
             [
              0.5555555555555556,
              "#d8576b"
             ],
             [
              0.6666666666666666,
              "#ed7953"
             ],
             [
              0.7777777777777778,
              "#fb9f3a"
             ],
             [
              0.8888888888888888,
              "#fdca26"
             ],
             [
              1,
              "#f0f921"
             ]
            ],
            "type": "histogram2d"
           }
          ],
          "histogram2dcontour": [
           {
            "colorbar": {
             "outlinewidth": 0,
             "ticks": ""
            },
            "colorscale": [
             [
              0,
              "#0d0887"
             ],
             [
              0.1111111111111111,
              "#46039f"
             ],
             [
              0.2222222222222222,
              "#7201a8"
             ],
             [
              0.3333333333333333,
              "#9c179e"
             ],
             [
              0.4444444444444444,
              "#bd3786"
             ],
             [
              0.5555555555555556,
              "#d8576b"
             ],
             [
              0.6666666666666666,
              "#ed7953"
             ],
             [
              0.7777777777777778,
              "#fb9f3a"
             ],
             [
              0.8888888888888888,
              "#fdca26"
             ],
             [
              1,
              "#f0f921"
             ]
            ],
            "type": "histogram2dcontour"
           }
          ],
          "mesh3d": [
           {
            "colorbar": {
             "outlinewidth": 0,
             "ticks": ""
            },
            "type": "mesh3d"
           }
          ],
          "parcoords": [
           {
            "line": {
             "colorbar": {
              "outlinewidth": 0,
              "ticks": ""
             }
            },
            "type": "parcoords"
           }
          ],
          "pie": [
           {
            "automargin": true,
            "type": "pie"
           }
          ],
          "scatter": [
           {
            "marker": {
             "colorbar": {
              "outlinewidth": 0,
              "ticks": ""
             }
            },
            "type": "scatter"
           }
          ],
          "scatter3d": [
           {
            "line": {
             "colorbar": {
              "outlinewidth": 0,
              "ticks": ""
             }
            },
            "marker": {
             "colorbar": {
              "outlinewidth": 0,
              "ticks": ""
             }
            },
            "type": "scatter3d"
           }
          ],
          "scattercarpet": [
           {
            "marker": {
             "colorbar": {
              "outlinewidth": 0,
              "ticks": ""
             }
            },
            "type": "scattercarpet"
           }
          ],
          "scattergeo": [
           {
            "marker": {
             "colorbar": {
              "outlinewidth": 0,
              "ticks": ""
             }
            },
            "type": "scattergeo"
           }
          ],
          "scattergl": [
           {
            "marker": {
             "colorbar": {
              "outlinewidth": 0,
              "ticks": ""
             }
            },
            "type": "scattergl"
           }
          ],
          "scattermapbox": [
           {
            "marker": {
             "colorbar": {
              "outlinewidth": 0,
              "ticks": ""
             }
            },
            "type": "scattermapbox"
           }
          ],
          "scatterpolar": [
           {
            "marker": {
             "colorbar": {
              "outlinewidth": 0,
              "ticks": ""
             }
            },
            "type": "scatterpolar"
           }
          ],
          "scatterpolargl": [
           {
            "marker": {
             "colorbar": {
              "outlinewidth": 0,
              "ticks": ""
             }
            },
            "type": "scatterpolargl"
           }
          ],
          "scatterternary": [
           {
            "marker": {
             "colorbar": {
              "outlinewidth": 0,
              "ticks": ""
             }
            },
            "type": "scatterternary"
           }
          ],
          "surface": [
           {
            "colorbar": {
             "outlinewidth": 0,
             "ticks": ""
            },
            "colorscale": [
             [
              0,
              "#0d0887"
             ],
             [
              0.1111111111111111,
              "#46039f"
             ],
             [
              0.2222222222222222,
              "#7201a8"
             ],
             [
              0.3333333333333333,
              "#9c179e"
             ],
             [
              0.4444444444444444,
              "#bd3786"
             ],
             [
              0.5555555555555556,
              "#d8576b"
             ],
             [
              0.6666666666666666,
              "#ed7953"
             ],
             [
              0.7777777777777778,
              "#fb9f3a"
             ],
             [
              0.8888888888888888,
              "#fdca26"
             ],
             [
              1,
              "#f0f921"
             ]
            ],
            "type": "surface"
           }
          ],
          "table": [
           {
            "cells": {
             "fill": {
              "color": "#EBF0F8"
             },
             "line": {
              "color": "white"
             }
            },
            "header": {
             "fill": {
              "color": "#C8D4E3"
             },
             "line": {
              "color": "white"
             }
            },
            "type": "table"
           }
          ]
         },
         "layout": {
          "annotationdefaults": {
           "arrowcolor": "#2a3f5f",
           "arrowhead": 0,
           "arrowwidth": 1
          },
          "autotypenumbers": "strict",
          "coloraxis": {
           "colorbar": {
            "outlinewidth": 0,
            "ticks": ""
           }
          },
          "colorscale": {
           "diverging": [
            [
             0,
             "#8e0152"
            ],
            [
             0.1,
             "#c51b7d"
            ],
            [
             0.2,
             "#de77ae"
            ],
            [
             0.3,
             "#f1b6da"
            ],
            [
             0.4,
             "#fde0ef"
            ],
            [
             0.5,
             "#f7f7f7"
            ],
            [
             0.6,
             "#e6f5d0"
            ],
            [
             0.7,
             "#b8e186"
            ],
            [
             0.8,
             "#7fbc41"
            ],
            [
             0.9,
             "#4d9221"
            ],
            [
             1,
             "#276419"
            ]
           ],
           "sequential": [
            [
             0,
             "#0d0887"
            ],
            [
             0.1111111111111111,
             "#46039f"
            ],
            [
             0.2222222222222222,
             "#7201a8"
            ],
            [
             0.3333333333333333,
             "#9c179e"
            ],
            [
             0.4444444444444444,
             "#bd3786"
            ],
            [
             0.5555555555555556,
             "#d8576b"
            ],
            [
             0.6666666666666666,
             "#ed7953"
            ],
            [
             0.7777777777777778,
             "#fb9f3a"
            ],
            [
             0.8888888888888888,
             "#fdca26"
            ],
            [
             1,
             "#f0f921"
            ]
           ],
           "sequentialminus": [
            [
             0,
             "#0d0887"
            ],
            [
             0.1111111111111111,
             "#46039f"
            ],
            [
             0.2222222222222222,
             "#7201a8"
            ],
            [
             0.3333333333333333,
             "#9c179e"
            ],
            [
             0.4444444444444444,
             "#bd3786"
            ],
            [
             0.5555555555555556,
             "#d8576b"
            ],
            [
             0.6666666666666666,
             "#ed7953"
            ],
            [
             0.7777777777777778,
             "#fb9f3a"
            ],
            [
             0.8888888888888888,
             "#fdca26"
            ],
            [
             1,
             "#f0f921"
            ]
           ]
          },
          "colorway": [
           "#636efa",
           "#EF553B",
           "#00cc96",
           "#ab63fa",
           "#FFA15A",
           "#19d3f3",
           "#FF6692",
           "#B6E880",
           "#FF97FF",
           "#FECB52"
          ],
          "font": {
           "color": "#2a3f5f"
          },
          "geo": {
           "bgcolor": "white",
           "lakecolor": "white",
           "landcolor": "#E5ECF6",
           "showlakes": true,
           "showland": true,
           "subunitcolor": "white"
          },
          "hoverlabel": {
           "align": "left"
          },
          "hovermode": "closest",
          "mapbox": {
           "style": "light"
          },
          "paper_bgcolor": "white",
          "plot_bgcolor": "#E5ECF6",
          "polar": {
           "angularaxis": {
            "gridcolor": "white",
            "linecolor": "white",
            "ticks": ""
           },
           "bgcolor": "#E5ECF6",
           "radialaxis": {
            "gridcolor": "white",
            "linecolor": "white",
            "ticks": ""
           }
          },
          "scene": {
           "xaxis": {
            "backgroundcolor": "#E5ECF6",
            "gridcolor": "white",
            "gridwidth": 2,
            "linecolor": "white",
            "showbackground": true,
            "ticks": "",
            "zerolinecolor": "white"
           },
           "yaxis": {
            "backgroundcolor": "#E5ECF6",
            "gridcolor": "white",
            "gridwidth": 2,
            "linecolor": "white",
            "showbackground": true,
            "ticks": "",
            "zerolinecolor": "white"
           },
           "zaxis": {
            "backgroundcolor": "#E5ECF6",
            "gridcolor": "white",
            "gridwidth": 2,
            "linecolor": "white",
            "showbackground": true,
            "ticks": "",
            "zerolinecolor": "white"
           }
          },
          "shapedefaults": {
           "line": {
            "color": "#2a3f5f"
           }
          },
          "ternary": {
           "aaxis": {
            "gridcolor": "white",
            "linecolor": "white",
            "ticks": ""
           },
           "baxis": {
            "gridcolor": "white",
            "linecolor": "white",
            "ticks": ""
           },
           "bgcolor": "#E5ECF6",
           "caxis": {
            "gridcolor": "white",
            "linecolor": "white",
            "ticks": ""
           }
          },
          "title": {
           "x": 0.05
          },
          "xaxis": {
           "automargin": true,
           "gridcolor": "white",
           "linecolor": "white",
           "ticks": "",
           "title": {
            "standoff": 15
           },
           "zerolinecolor": "white",
           "zerolinewidth": 2
          },
          "yaxis": {
           "automargin": true,
           "gridcolor": "white",
           "linecolor": "white",
           "ticks": "",
           "title": {
            "standoff": 15
           },
           "zerolinecolor": "white",
           "zerolinewidth": 2
          }
         }
        },
        "title": {
         "text": "States vs Covid Cases"
        },
        "width": 1000,
        "xaxis": {
         "anchor": "y",
         "domain": [
          0,
          1
         ],
         "title": {
          "text": "Change in Cured Covid cases since yesterday"
         }
        },
        "yaxis": {
         "anchor": "x",
         "domain": [
          0,
          1
         ],
         "title": {
          "text": "States/UT"
         }
        }
       }
      },
      "text/html": [
       "<div>                            <div id=\"feecbb5d-a973-41db-8d0b-3332ab3905e8\" class=\"plotly-graph-div\" style=\"height:700px; width:1000px;\"></div>            <script type=\"text/javascript\">                require([\"plotly\"], function(Plotly) {                    window.PLOTLYENV=window.PLOTLYENV || {};                                    if (document.getElementById(\"feecbb5d-a973-41db-8d0b-3332ab3905e8\")) {                    Plotly.newPlot(                        \"feecbb5d-a973-41db-8d0b-3332ab3905e8\",                        [{\"alignmentgroup\":\"True\",\"hovertemplate\":\"Cured/Discharged/Migrated* Change since yesterday=%{x}<br>Name of State / UT=%{y}<br>Cured/Discharged/Migrated* Change since yesterday by %=%{marker.color}<extra></extra>\",\"legendgroup\":\"\",\"marker\":{\"color\":[0.01,2.87,0.13,1.87,0.01,0.08,0.1,0.01,0.15,0.2,0.07,0.0,0.89,0.54,0.04,1.79,56.48,0.02,0.0,0.06,12.08,0.43,0.59,6.87,0.09,2.46,0.27,0.08,0.01,0.04,7.42,1.07,0.06,0.03,0.08,3.1],\"coloraxis\":\"coloraxis\",\"pattern\":{\"shape\":\"\"}},\"name\":\"\",\"offsetgroup\":\"\",\"orientation\":\"h\",\"showlegend\":false,\"textposition\":\"auto\",\"type\":\"bar\",\"x\":[2,557,26,362,2,15,20,1,29,39,14,0,173,104,7,347,10952,4,0,11,2343,84,115,1332,17,477,53,16,2,7,1438,207,12,6,16,601],\"xaxis\":\"x\",\"y\":[\"Andaman and Nicobar Islands\",\"Andhra Pradesh\",\"Arunachal Pradesh\",\"Assam\",\"Bihar\",\"Chandigarh\",\"Chhattisgarh\",\"Dadra and Nagar Haveli and Daman and Diu\",\"Delhi\",\"Goa\",\"Gujarat\",\"Haryana***\",\"Himachal Pradesh\",\"Jammu and Kashmir\",\"Jharkhand\",\"Karnataka\",\"Kerala\",\"Ladakh\",\"Lakshadweep\",\"Madhya Pradesh\",\"Maharashtra\",\"Manipur\",\"Meghalaya\",\"Mizoram\",\"Nagaland\",\"Odisha\",\"Puducherry\",\"Punjab\",\"Rajasthan\",\"Sikkim\",\"Tamil Nadu\",\"Telangana\",\"Tripura\",\"Uttarakhand\",\"Uttar Pradesh\",\"West Bengal\"],\"yaxis\":\"y\"}],                        {\"autosize\":false,\"barmode\":\"relative\",\"coloraxis\":{\"colorbar\":{\"title\":{\"text\":\"Cured/Discharged/Migrated* Change since yesterday by %\"}},\"colorscale\":[[0.0,\"#0d0887\"],[0.1111111111111111,\"#46039f\"],[0.2222222222222222,\"#7201a8\"],[0.3333333333333333,\"#9c179e\"],[0.4444444444444444,\"#bd3786\"],[0.5555555555555556,\"#d8576b\"],[0.6666666666666666,\"#ed7953\"],[0.7777777777777778,\"#fb9f3a\"],[0.8888888888888888,\"#fdca26\"],[1.0,\"#f0f921\"]]},\"height\":700,\"legend\":{\"tracegroupgap\":0},\"template\":{\"data\":{\"bar\":[{\"error_x\":{\"color\":\"#2a3f5f\"},\"error_y\":{\"color\":\"#2a3f5f\"},\"marker\":{\"line\":{\"color\":\"#E5ECF6\",\"width\":0.5},\"pattern\":{\"fillmode\":\"overlay\",\"size\":10,\"solidity\":0.2}},\"type\":\"bar\"}],\"barpolar\":[{\"marker\":{\"line\":{\"color\":\"#E5ECF6\",\"width\":0.5},\"pattern\":{\"fillmode\":\"overlay\",\"size\":10,\"solidity\":0.2}},\"type\":\"barpolar\"}],\"carpet\":[{\"aaxis\":{\"endlinecolor\":\"#2a3f5f\",\"gridcolor\":\"white\",\"linecolor\":\"white\",\"minorgridcolor\":\"white\",\"startlinecolor\":\"#2a3f5f\"},\"baxis\":{\"endlinecolor\":\"#2a3f5f\",\"gridcolor\":\"white\",\"linecolor\":\"white\",\"minorgridcolor\":\"white\",\"startlinecolor\":\"#2a3f5f\"},\"type\":\"carpet\"}],\"choropleth\":[{\"colorbar\":{\"outlinewidth\":0,\"ticks\":\"\"},\"type\":\"choropleth\"}],\"contour\":[{\"colorbar\":{\"outlinewidth\":0,\"ticks\":\"\"},\"colorscale\":[[0.0,\"#0d0887\"],[0.1111111111111111,\"#46039f\"],[0.2222222222222222,\"#7201a8\"],[0.3333333333333333,\"#9c179e\"],[0.4444444444444444,\"#bd3786\"],[0.5555555555555556,\"#d8576b\"],[0.6666666666666666,\"#ed7953\"],[0.7777777777777778,\"#fb9f3a\"],[0.8888888888888888,\"#fdca26\"],[1.0,\"#f0f921\"]],\"type\":\"contour\"}],\"contourcarpet\":[{\"colorbar\":{\"outlinewidth\":0,\"ticks\":\"\"},\"type\":\"contourcarpet\"}],\"heatmap\":[{\"colorbar\":{\"outlinewidth\":0,\"ticks\":\"\"},\"colorscale\":[[0.0,\"#0d0887\"],[0.1111111111111111,\"#46039f\"],[0.2222222222222222,\"#7201a8\"],[0.3333333333333333,\"#9c179e\"],[0.4444444444444444,\"#bd3786\"],[0.5555555555555556,\"#d8576b\"],[0.6666666666666666,\"#ed7953\"],[0.7777777777777778,\"#fb9f3a\"],[0.8888888888888888,\"#fdca26\"],[1.0,\"#f0f921\"]],\"type\":\"heatmap\"}],\"heatmapgl\":[{\"colorbar\":{\"outlinewidth\":0,\"ticks\":\"\"},\"colorscale\":[[0.0,\"#0d0887\"],[0.1111111111111111,\"#46039f\"],[0.2222222222222222,\"#7201a8\"],[0.3333333333333333,\"#9c179e\"],[0.4444444444444444,\"#bd3786\"],[0.5555555555555556,\"#d8576b\"],[0.6666666666666666,\"#ed7953\"],[0.7777777777777778,\"#fb9f3a\"],[0.8888888888888888,\"#fdca26\"],[1.0,\"#f0f921\"]],\"type\":\"heatmapgl\"}],\"histogram\":[{\"marker\":{\"pattern\":{\"fillmode\":\"overlay\",\"size\":10,\"solidity\":0.2}},\"type\":\"histogram\"}],\"histogram2d\":[{\"colorbar\":{\"outlinewidth\":0,\"ticks\":\"\"},\"colorscale\":[[0.0,\"#0d0887\"],[0.1111111111111111,\"#46039f\"],[0.2222222222222222,\"#7201a8\"],[0.3333333333333333,\"#9c179e\"],[0.4444444444444444,\"#bd3786\"],[0.5555555555555556,\"#d8576b\"],[0.6666666666666666,\"#ed7953\"],[0.7777777777777778,\"#fb9f3a\"],[0.8888888888888888,\"#fdca26\"],[1.0,\"#f0f921\"]],\"type\":\"histogram2d\"}],\"histogram2dcontour\":[{\"colorbar\":{\"outlinewidth\":0,\"ticks\":\"\"},\"colorscale\":[[0.0,\"#0d0887\"],[0.1111111111111111,\"#46039f\"],[0.2222222222222222,\"#7201a8\"],[0.3333333333333333,\"#9c179e\"],[0.4444444444444444,\"#bd3786\"],[0.5555555555555556,\"#d8576b\"],[0.6666666666666666,\"#ed7953\"],[0.7777777777777778,\"#fb9f3a\"],[0.8888888888888888,\"#fdca26\"],[1.0,\"#f0f921\"]],\"type\":\"histogram2dcontour\"}],\"mesh3d\":[{\"colorbar\":{\"outlinewidth\":0,\"ticks\":\"\"},\"type\":\"mesh3d\"}],\"parcoords\":[{\"line\":{\"colorbar\":{\"outlinewidth\":0,\"ticks\":\"\"}},\"type\":\"parcoords\"}],\"pie\":[{\"automargin\":true,\"type\":\"pie\"}],\"scatter\":[{\"marker\":{\"colorbar\":{\"outlinewidth\":0,\"ticks\":\"\"}},\"type\":\"scatter\"}],\"scatter3d\":[{\"line\":{\"colorbar\":{\"outlinewidth\":0,\"ticks\":\"\"}},\"marker\":{\"colorbar\":{\"outlinewidth\":0,\"ticks\":\"\"}},\"type\":\"scatter3d\"}],\"scattercarpet\":[{\"marker\":{\"colorbar\":{\"outlinewidth\":0,\"ticks\":\"\"}},\"type\":\"scattercarpet\"}],\"scattergeo\":[{\"marker\":{\"colorbar\":{\"outlinewidth\":0,\"ticks\":\"\"}},\"type\":\"scattergeo\"}],\"scattergl\":[{\"marker\":{\"colorbar\":{\"outlinewidth\":0,\"ticks\":\"\"}},\"type\":\"scattergl\"}],\"scattermapbox\":[{\"marker\":{\"colorbar\":{\"outlinewidth\":0,\"ticks\":\"\"}},\"type\":\"scattermapbox\"}],\"scatterpolar\":[{\"marker\":{\"colorbar\":{\"outlinewidth\":0,\"ticks\":\"\"}},\"type\":\"scatterpolar\"}],\"scatterpolargl\":[{\"marker\":{\"colorbar\":{\"outlinewidth\":0,\"ticks\":\"\"}},\"type\":\"scatterpolargl\"}],\"scatterternary\":[{\"marker\":{\"colorbar\":{\"outlinewidth\":0,\"ticks\":\"\"}},\"type\":\"scatterternary\"}],\"surface\":[{\"colorbar\":{\"outlinewidth\":0,\"ticks\":\"\"},\"colorscale\":[[0.0,\"#0d0887\"],[0.1111111111111111,\"#46039f\"],[0.2222222222222222,\"#7201a8\"],[0.3333333333333333,\"#9c179e\"],[0.4444444444444444,\"#bd3786\"],[0.5555555555555556,\"#d8576b\"],[0.6666666666666666,\"#ed7953\"],[0.7777777777777778,\"#fb9f3a\"],[0.8888888888888888,\"#fdca26\"],[1.0,\"#f0f921\"]],\"type\":\"surface\"}],\"table\":[{\"cells\":{\"fill\":{\"color\":\"#EBF0F8\"},\"line\":{\"color\":\"white\"}},\"header\":{\"fill\":{\"color\":\"#C8D4E3\"},\"line\":{\"color\":\"white\"}},\"type\":\"table\"}]},\"layout\":{\"annotationdefaults\":{\"arrowcolor\":\"#2a3f5f\",\"arrowhead\":0,\"arrowwidth\":1},\"autotypenumbers\":\"strict\",\"coloraxis\":{\"colorbar\":{\"outlinewidth\":0,\"ticks\":\"\"}},\"colorscale\":{\"diverging\":[[0,\"#8e0152\"],[0.1,\"#c51b7d\"],[0.2,\"#de77ae\"],[0.3,\"#f1b6da\"],[0.4,\"#fde0ef\"],[0.5,\"#f7f7f7\"],[0.6,\"#e6f5d0\"],[0.7,\"#b8e186\"],[0.8,\"#7fbc41\"],[0.9,\"#4d9221\"],[1,\"#276419\"]],\"sequential\":[[0.0,\"#0d0887\"],[0.1111111111111111,\"#46039f\"],[0.2222222222222222,\"#7201a8\"],[0.3333333333333333,\"#9c179e\"],[0.4444444444444444,\"#bd3786\"],[0.5555555555555556,\"#d8576b\"],[0.6666666666666666,\"#ed7953\"],[0.7777777777777778,\"#fb9f3a\"],[0.8888888888888888,\"#fdca26\"],[1.0,\"#f0f921\"]],\"sequentialminus\":[[0.0,\"#0d0887\"],[0.1111111111111111,\"#46039f\"],[0.2222222222222222,\"#7201a8\"],[0.3333333333333333,\"#9c179e\"],[0.4444444444444444,\"#bd3786\"],[0.5555555555555556,\"#d8576b\"],[0.6666666666666666,\"#ed7953\"],[0.7777777777777778,\"#fb9f3a\"],[0.8888888888888888,\"#fdca26\"],[1.0,\"#f0f921\"]]},\"colorway\":[\"#636efa\",\"#EF553B\",\"#00cc96\",\"#ab63fa\",\"#FFA15A\",\"#19d3f3\",\"#FF6692\",\"#B6E880\",\"#FF97FF\",\"#FECB52\"],\"font\":{\"color\":\"#2a3f5f\"},\"geo\":{\"bgcolor\":\"white\",\"lakecolor\":\"white\",\"landcolor\":\"#E5ECF6\",\"showlakes\":true,\"showland\":true,\"subunitcolor\":\"white\"},\"hoverlabel\":{\"align\":\"left\"},\"hovermode\":\"closest\",\"mapbox\":{\"style\":\"light\"},\"paper_bgcolor\":\"white\",\"plot_bgcolor\":\"#E5ECF6\",\"polar\":{\"angularaxis\":{\"gridcolor\":\"white\",\"linecolor\":\"white\",\"ticks\":\"\"},\"bgcolor\":\"#E5ECF6\",\"radialaxis\":{\"gridcolor\":\"white\",\"linecolor\":\"white\",\"ticks\":\"\"}},\"scene\":{\"xaxis\":{\"backgroundcolor\":\"#E5ECF6\",\"gridcolor\":\"white\",\"gridwidth\":2,\"linecolor\":\"white\",\"showbackground\":true,\"ticks\":\"\",\"zerolinecolor\":\"white\"},\"yaxis\":{\"backgroundcolor\":\"#E5ECF6\",\"gridcolor\":\"white\",\"gridwidth\":2,\"linecolor\":\"white\",\"showbackground\":true,\"ticks\":\"\",\"zerolinecolor\":\"white\"},\"zaxis\":{\"backgroundcolor\":\"#E5ECF6\",\"gridcolor\":\"white\",\"gridwidth\":2,\"linecolor\":\"white\",\"showbackground\":true,\"ticks\":\"\",\"zerolinecolor\":\"white\"}},\"shapedefaults\":{\"line\":{\"color\":\"#2a3f5f\"}},\"ternary\":{\"aaxis\":{\"gridcolor\":\"white\",\"linecolor\":\"white\",\"ticks\":\"\"},\"baxis\":{\"gridcolor\":\"white\",\"linecolor\":\"white\",\"ticks\":\"\"},\"bgcolor\":\"#E5ECF6\",\"caxis\":{\"gridcolor\":\"white\",\"linecolor\":\"white\",\"ticks\":\"\"}},\"title\":{\"x\":0.05},\"xaxis\":{\"automargin\":true,\"gridcolor\":\"white\",\"linecolor\":\"white\",\"ticks\":\"\",\"title\":{\"standoff\":15},\"zerolinecolor\":\"white\",\"zerolinewidth\":2},\"yaxis\":{\"automargin\":true,\"gridcolor\":\"white\",\"linecolor\":\"white\",\"ticks\":\"\",\"title\":{\"standoff\":15},\"zerolinecolor\":\"white\",\"zerolinewidth\":2}}},\"title\":{\"text\":\"States vs Covid Cases\"},\"width\":1000,\"xaxis\":{\"anchor\":\"y\",\"domain\":[0.0,1.0],\"title\":{\"text\":\"Change in Cured Covid cases since yesterday\"}},\"yaxis\":{\"anchor\":\"x\",\"domain\":[0.0,1.0],\"title\":{\"text\":\"States/UT\"}}},                        {\"responsive\": true}                    ).then(function(){\n",
       "                            \n",
       "var gd = document.getElementById('feecbb5d-a973-41db-8d0b-3332ab3905e8');\n",
       "var x = new MutationObserver(function (mutations, observer) {{\n",
       "        var display = window.getComputedStyle(gd).display;\n",
       "        if (!display || display === 'none') {{\n",
       "            console.log([gd, 'removed!']);\n",
       "            Plotly.purge(gd);\n",
       "            observer.disconnect();\n",
       "        }}\n",
       "}});\n",
       "\n",
       "// Listen for the removal of the full notebook cells\n",
       "var notebookContainer = gd.closest('#notebook-container');\n",
       "if (notebookContainer) {{\n",
       "    x.observe(notebookContainer, {childList: true});\n",
       "}}\n",
       "\n",
       "// Listen for the clearing of the current output cell\n",
       "var outputEl = gd.closest('.output');\n",
       "if (outputEl) {{\n",
       "    x.observe(outputEl, {childList: true});\n",
       "}}\n",
       "\n",
       "                        })                };                });            </script>        </div>"
      ]
     },
     "metadata": {},
     "output_type": "display_data"
    }
   ],
   "source": [
    "fig4 = px.bar(states_covid_data,title='States vs Covid Cases', x='Cured/Discharged/Migrated* Change since yesterday', y='Name of State / UT', orientation='h',color='Cured/Discharged/Migrated* Change since yesterday by %')\n",
    "fig4.update_layout(xaxis_title=\"Change in Cured Covid cases since yesterday\",yaxis_title=\"States/UT\",autosize=False,\n",
    "    width=1000,\n",
    "    height=700)\n",
    "fig4.show()"
   ]
  },
  {
   "cell_type": "markdown",
   "id": "608ac76c",
   "metadata": {},
   "source": [
    "{% include figure4.html %}"
   ]
  },
  {
   "cell_type": "code",
   "execution_count": 272,
   "id": "67770f29",
   "metadata": {},
   "outputs": [
    {
     "data": {
      "application/vnd.plotly.v1+json": {
       "config": {
        "plotlyServerURL": "https://plot.ly"
       },
       "data": [
        {
         "alignmentgroup": "True",
         "hovertemplate": "Deaths** Cumulative=%{x}<br>Name of State / UT=%{y}<br>Deaths** Cumulative by %=%{marker.color}<extra></extra>",
         "legendgroup": "",
         "marker": {
          "color": [
           0.03,
           3.16,
           0.06,
           1.31,
           2.14,
           0.18,
           3,
           0,
           5.55,
           0.74,
           2.23,
           2.22,
           0.82,
           0.98,
           1.14,
           8.39,
           5.9,
           0.05,
           0.01,
           2.33,
           30.92,
           0.42,
           0.32,
           0.08,
           0.15,
           1.83,
           0.41,
           3.66,
           1.98,
           0.09,
           7.94,
           0.87,
           0.18,
           1.64,
           5.07,
           4.19
          ],
          "coloraxis": "coloraxis",
          "pattern": {
           "shape": ""
          }
         },
         "name": "",
         "offsetgroup": "",
         "orientation": "h",
         "showlegend": false,
         "textposition": "auto",
         "type": "bar",
         "x": [
          129,
          14286,
          280,
          5938,
          9661,
          820,
          13570,
          4,
          25089,
          3335,
          10086,
          10049,
          3715,
          4426,
          5135,
          37922,
          26667,
          208,
          51,
          10523,
          139705,
          1889,
          1431,
          374,
          673,
          8274,
          1849,
          16538,
          8954,
          390,
          35853,
          3935,
          816,
          7397,
          22897,
          18945
         ],
         "xaxis": "x",
         "y": [
          "Andaman and Nicobar Islands",
          "Andhra Pradesh",
          "Arunachal Pradesh",
          "Assam",
          "Bihar",
          "Chandigarh",
          "Chhattisgarh",
          "Dadra and Nagar Haveli and Daman and Diu",
          "Delhi",
          "Goa",
          "Gujarat",
          "Haryana***",
          "Himachal Pradesh",
          "Jammu and Kashmir",
          "Jharkhand",
          "Karnataka",
          "Kerala",
          "Ladakh",
          "Lakshadweep",
          "Madhya Pradesh",
          "Maharashtra",
          "Manipur",
          "Meghalaya",
          "Mizoram",
          "Nagaland",
          "Odisha",
          "Puducherry",
          "Punjab",
          "Rajasthan",
          "Sikkim",
          "Tamil Nadu",
          "Telangana",
          "Tripura",
          "Uttarakhand",
          "Uttar Pradesh",
          "West Bengal"
         ],
         "yaxis": "y"
        }
       ],
       "layout": {
        "autosize": false,
        "barmode": "relative",
        "coloraxis": {
         "colorbar": {
          "title": {
           "text": "Deaths** Cumulative by %"
          }
         },
         "colorscale": [
          [
           0,
           "#0d0887"
          ],
          [
           0.1111111111111111,
           "#46039f"
          ],
          [
           0.2222222222222222,
           "#7201a8"
          ],
          [
           0.3333333333333333,
           "#9c179e"
          ],
          [
           0.4444444444444444,
           "#bd3786"
          ],
          [
           0.5555555555555556,
           "#d8576b"
          ],
          [
           0.6666666666666666,
           "#ed7953"
          ],
          [
           0.7777777777777778,
           "#fb9f3a"
          ],
          [
           0.8888888888888888,
           "#fdca26"
          ],
          [
           1,
           "#f0f921"
          ]
         ]
        },
        "height": 700,
        "legend": {
         "tracegroupgap": 0
        },
        "template": {
         "data": {
          "bar": [
           {
            "error_x": {
             "color": "#2a3f5f"
            },
            "error_y": {
             "color": "#2a3f5f"
            },
            "marker": {
             "line": {
              "color": "#E5ECF6",
              "width": 0.5
             },
             "pattern": {
              "fillmode": "overlay",
              "size": 10,
              "solidity": 0.2
             }
            },
            "type": "bar"
           }
          ],
          "barpolar": [
           {
            "marker": {
             "line": {
              "color": "#E5ECF6",
              "width": 0.5
             },
             "pattern": {
              "fillmode": "overlay",
              "size": 10,
              "solidity": 0.2
             }
            },
            "type": "barpolar"
           }
          ],
          "carpet": [
           {
            "aaxis": {
             "endlinecolor": "#2a3f5f",
             "gridcolor": "white",
             "linecolor": "white",
             "minorgridcolor": "white",
             "startlinecolor": "#2a3f5f"
            },
            "baxis": {
             "endlinecolor": "#2a3f5f",
             "gridcolor": "white",
             "linecolor": "white",
             "minorgridcolor": "white",
             "startlinecolor": "#2a3f5f"
            },
            "type": "carpet"
           }
          ],
          "choropleth": [
           {
            "colorbar": {
             "outlinewidth": 0,
             "ticks": ""
            },
            "type": "choropleth"
           }
          ],
          "contour": [
           {
            "colorbar": {
             "outlinewidth": 0,
             "ticks": ""
            },
            "colorscale": [
             [
              0,
              "#0d0887"
             ],
             [
              0.1111111111111111,
              "#46039f"
             ],
             [
              0.2222222222222222,
              "#7201a8"
             ],
             [
              0.3333333333333333,
              "#9c179e"
             ],
             [
              0.4444444444444444,
              "#bd3786"
             ],
             [
              0.5555555555555556,
              "#d8576b"
             ],
             [
              0.6666666666666666,
              "#ed7953"
             ],
             [
              0.7777777777777778,
              "#fb9f3a"
             ],
             [
              0.8888888888888888,
              "#fdca26"
             ],
             [
              1,
              "#f0f921"
             ]
            ],
            "type": "contour"
           }
          ],
          "contourcarpet": [
           {
            "colorbar": {
             "outlinewidth": 0,
             "ticks": ""
            },
            "type": "contourcarpet"
           }
          ],
          "heatmap": [
           {
            "colorbar": {
             "outlinewidth": 0,
             "ticks": ""
            },
            "colorscale": [
             [
              0,
              "#0d0887"
             ],
             [
              0.1111111111111111,
              "#46039f"
             ],
             [
              0.2222222222222222,
              "#7201a8"
             ],
             [
              0.3333333333333333,
              "#9c179e"
             ],
             [
              0.4444444444444444,
              "#bd3786"
             ],
             [
              0.5555555555555556,
              "#d8576b"
             ],
             [
              0.6666666666666666,
              "#ed7953"
             ],
             [
              0.7777777777777778,
              "#fb9f3a"
             ],
             [
              0.8888888888888888,
              "#fdca26"
             ],
             [
              1,
              "#f0f921"
             ]
            ],
            "type": "heatmap"
           }
          ],
          "heatmapgl": [
           {
            "colorbar": {
             "outlinewidth": 0,
             "ticks": ""
            },
            "colorscale": [
             [
              0,
              "#0d0887"
             ],
             [
              0.1111111111111111,
              "#46039f"
             ],
             [
              0.2222222222222222,
              "#7201a8"
             ],
             [
              0.3333333333333333,
              "#9c179e"
             ],
             [
              0.4444444444444444,
              "#bd3786"
             ],
             [
              0.5555555555555556,
              "#d8576b"
             ],
             [
              0.6666666666666666,
              "#ed7953"
             ],
             [
              0.7777777777777778,
              "#fb9f3a"
             ],
             [
              0.8888888888888888,
              "#fdca26"
             ],
             [
              1,
              "#f0f921"
             ]
            ],
            "type": "heatmapgl"
           }
          ],
          "histogram": [
           {
            "marker": {
             "pattern": {
              "fillmode": "overlay",
              "size": 10,
              "solidity": 0.2
             }
            },
            "type": "histogram"
           }
          ],
          "histogram2d": [
           {
            "colorbar": {
             "outlinewidth": 0,
             "ticks": ""
            },
            "colorscale": [
             [
              0,
              "#0d0887"
             ],
             [
              0.1111111111111111,
              "#46039f"
             ],
             [
              0.2222222222222222,
              "#7201a8"
             ],
             [
              0.3333333333333333,
              "#9c179e"
             ],
             [
              0.4444444444444444,
              "#bd3786"
             ],
             [
              0.5555555555555556,
              "#d8576b"
             ],
             [
              0.6666666666666666,
              "#ed7953"
             ],
             [
              0.7777777777777778,
              "#fb9f3a"
             ],
             [
              0.8888888888888888,
              "#fdca26"
             ],
             [
              1,
              "#f0f921"
             ]
            ],
            "type": "histogram2d"
           }
          ],
          "histogram2dcontour": [
           {
            "colorbar": {
             "outlinewidth": 0,
             "ticks": ""
            },
            "colorscale": [
             [
              0,
              "#0d0887"
             ],
             [
              0.1111111111111111,
              "#46039f"
             ],
             [
              0.2222222222222222,
              "#7201a8"
             ],
             [
              0.3333333333333333,
              "#9c179e"
             ],
             [
              0.4444444444444444,
              "#bd3786"
             ],
             [
              0.5555555555555556,
              "#d8576b"
             ],
             [
              0.6666666666666666,
              "#ed7953"
             ],
             [
              0.7777777777777778,
              "#fb9f3a"
             ],
             [
              0.8888888888888888,
              "#fdca26"
             ],
             [
              1,
              "#f0f921"
             ]
            ],
            "type": "histogram2dcontour"
           }
          ],
          "mesh3d": [
           {
            "colorbar": {
             "outlinewidth": 0,
             "ticks": ""
            },
            "type": "mesh3d"
           }
          ],
          "parcoords": [
           {
            "line": {
             "colorbar": {
              "outlinewidth": 0,
              "ticks": ""
             }
            },
            "type": "parcoords"
           }
          ],
          "pie": [
           {
            "automargin": true,
            "type": "pie"
           }
          ],
          "scatter": [
           {
            "marker": {
             "colorbar": {
              "outlinewidth": 0,
              "ticks": ""
             }
            },
            "type": "scatter"
           }
          ],
          "scatter3d": [
           {
            "line": {
             "colorbar": {
              "outlinewidth": 0,
              "ticks": ""
             }
            },
            "marker": {
             "colorbar": {
              "outlinewidth": 0,
              "ticks": ""
             }
            },
            "type": "scatter3d"
           }
          ],
          "scattercarpet": [
           {
            "marker": {
             "colorbar": {
              "outlinewidth": 0,
              "ticks": ""
             }
            },
            "type": "scattercarpet"
           }
          ],
          "scattergeo": [
           {
            "marker": {
             "colorbar": {
              "outlinewidth": 0,
              "ticks": ""
             }
            },
            "type": "scattergeo"
           }
          ],
          "scattergl": [
           {
            "marker": {
             "colorbar": {
              "outlinewidth": 0,
              "ticks": ""
             }
            },
            "type": "scattergl"
           }
          ],
          "scattermapbox": [
           {
            "marker": {
             "colorbar": {
              "outlinewidth": 0,
              "ticks": ""
             }
            },
            "type": "scattermapbox"
           }
          ],
          "scatterpolar": [
           {
            "marker": {
             "colorbar": {
              "outlinewidth": 0,
              "ticks": ""
             }
            },
            "type": "scatterpolar"
           }
          ],
          "scatterpolargl": [
           {
            "marker": {
             "colorbar": {
              "outlinewidth": 0,
              "ticks": ""
             }
            },
            "type": "scatterpolargl"
           }
          ],
          "scatterternary": [
           {
            "marker": {
             "colorbar": {
              "outlinewidth": 0,
              "ticks": ""
             }
            },
            "type": "scatterternary"
           }
          ],
          "surface": [
           {
            "colorbar": {
             "outlinewidth": 0,
             "ticks": ""
            },
            "colorscale": [
             [
              0,
              "#0d0887"
             ],
             [
              0.1111111111111111,
              "#46039f"
             ],
             [
              0.2222222222222222,
              "#7201a8"
             ],
             [
              0.3333333333333333,
              "#9c179e"
             ],
             [
              0.4444444444444444,
              "#bd3786"
             ],
             [
              0.5555555555555556,
              "#d8576b"
             ],
             [
              0.6666666666666666,
              "#ed7953"
             ],
             [
              0.7777777777777778,
              "#fb9f3a"
             ],
             [
              0.8888888888888888,
              "#fdca26"
             ],
             [
              1,
              "#f0f921"
             ]
            ],
            "type": "surface"
           }
          ],
          "table": [
           {
            "cells": {
             "fill": {
              "color": "#EBF0F8"
             },
             "line": {
              "color": "white"
             }
            },
            "header": {
             "fill": {
              "color": "#C8D4E3"
             },
             "line": {
              "color": "white"
             }
            },
            "type": "table"
           }
          ]
         },
         "layout": {
          "annotationdefaults": {
           "arrowcolor": "#2a3f5f",
           "arrowhead": 0,
           "arrowwidth": 1
          },
          "autotypenumbers": "strict",
          "coloraxis": {
           "colorbar": {
            "outlinewidth": 0,
            "ticks": ""
           }
          },
          "colorscale": {
           "diverging": [
            [
             0,
             "#8e0152"
            ],
            [
             0.1,
             "#c51b7d"
            ],
            [
             0.2,
             "#de77ae"
            ],
            [
             0.3,
             "#f1b6da"
            ],
            [
             0.4,
             "#fde0ef"
            ],
            [
             0.5,
             "#f7f7f7"
            ],
            [
             0.6,
             "#e6f5d0"
            ],
            [
             0.7,
             "#b8e186"
            ],
            [
             0.8,
             "#7fbc41"
            ],
            [
             0.9,
             "#4d9221"
            ],
            [
             1,
             "#276419"
            ]
           ],
           "sequential": [
            [
             0,
             "#0d0887"
            ],
            [
             0.1111111111111111,
             "#46039f"
            ],
            [
             0.2222222222222222,
             "#7201a8"
            ],
            [
             0.3333333333333333,
             "#9c179e"
            ],
            [
             0.4444444444444444,
             "#bd3786"
            ],
            [
             0.5555555555555556,
             "#d8576b"
            ],
            [
             0.6666666666666666,
             "#ed7953"
            ],
            [
             0.7777777777777778,
             "#fb9f3a"
            ],
            [
             0.8888888888888888,
             "#fdca26"
            ],
            [
             1,
             "#f0f921"
            ]
           ],
           "sequentialminus": [
            [
             0,
             "#0d0887"
            ],
            [
             0.1111111111111111,
             "#46039f"
            ],
            [
             0.2222222222222222,
             "#7201a8"
            ],
            [
             0.3333333333333333,
             "#9c179e"
            ],
            [
             0.4444444444444444,
             "#bd3786"
            ],
            [
             0.5555555555555556,
             "#d8576b"
            ],
            [
             0.6666666666666666,
             "#ed7953"
            ],
            [
             0.7777777777777778,
             "#fb9f3a"
            ],
            [
             0.8888888888888888,
             "#fdca26"
            ],
            [
             1,
             "#f0f921"
            ]
           ]
          },
          "colorway": [
           "#636efa",
           "#EF553B",
           "#00cc96",
           "#ab63fa",
           "#FFA15A",
           "#19d3f3",
           "#FF6692",
           "#B6E880",
           "#FF97FF",
           "#FECB52"
          ],
          "font": {
           "color": "#2a3f5f"
          },
          "geo": {
           "bgcolor": "white",
           "lakecolor": "white",
           "landcolor": "#E5ECF6",
           "showlakes": true,
           "showland": true,
           "subunitcolor": "white"
          },
          "hoverlabel": {
           "align": "left"
          },
          "hovermode": "closest",
          "mapbox": {
           "style": "light"
          },
          "paper_bgcolor": "white",
          "plot_bgcolor": "#E5ECF6",
          "polar": {
           "angularaxis": {
            "gridcolor": "white",
            "linecolor": "white",
            "ticks": ""
           },
           "bgcolor": "#E5ECF6",
           "radialaxis": {
            "gridcolor": "white",
            "linecolor": "white",
            "ticks": ""
           }
          },
          "scene": {
           "xaxis": {
            "backgroundcolor": "#E5ECF6",
            "gridcolor": "white",
            "gridwidth": 2,
            "linecolor": "white",
            "showbackground": true,
            "ticks": "",
            "zerolinecolor": "white"
           },
           "yaxis": {
            "backgroundcolor": "#E5ECF6",
            "gridcolor": "white",
            "gridwidth": 2,
            "linecolor": "white",
            "showbackground": true,
            "ticks": "",
            "zerolinecolor": "white"
           },
           "zaxis": {
            "backgroundcolor": "#E5ECF6",
            "gridcolor": "white",
            "gridwidth": 2,
            "linecolor": "white",
            "showbackground": true,
            "ticks": "",
            "zerolinecolor": "white"
           }
          },
          "shapedefaults": {
           "line": {
            "color": "#2a3f5f"
           }
          },
          "ternary": {
           "aaxis": {
            "gridcolor": "white",
            "linecolor": "white",
            "ticks": ""
           },
           "baxis": {
            "gridcolor": "white",
            "linecolor": "white",
            "ticks": ""
           },
           "bgcolor": "#E5ECF6",
           "caxis": {
            "gridcolor": "white",
            "linecolor": "white",
            "ticks": ""
           }
          },
          "title": {
           "x": 0.05
          },
          "xaxis": {
           "automargin": true,
           "gridcolor": "white",
           "linecolor": "white",
           "ticks": "",
           "title": {
            "standoff": 15
           },
           "zerolinecolor": "white",
           "zerolinewidth": 2
          },
          "yaxis": {
           "automargin": true,
           "gridcolor": "white",
           "linecolor": "white",
           "ticks": "",
           "title": {
            "standoff": 15
           },
           "zerolinecolor": "white",
           "zerolinewidth": 2
          }
         }
        },
        "title": {
         "text": "States vs Covid Cases"
        },
        "width": 1000,
        "xaxis": {
         "anchor": "y",
         "domain": [
          0,
          1
         ],
         "title": {
          "text": "Total Covid Deaths"
         }
        },
        "yaxis": {
         "anchor": "x",
         "domain": [
          0,
          1
         ],
         "title": {
          "text": "States/UT"
         }
        }
       }
      },
      "text/html": [
       "<div>                            <div id=\"15af1ed0-ba53-4783-9288-b937b9a2a69e\" class=\"plotly-graph-div\" style=\"height:700px; width:1000px;\"></div>            <script type=\"text/javascript\">                require([\"plotly\"], function(Plotly) {                    window.PLOTLYENV=window.PLOTLYENV || {};                                    if (document.getElementById(\"15af1ed0-ba53-4783-9288-b937b9a2a69e\")) {                    Plotly.newPlot(                        \"15af1ed0-ba53-4783-9288-b937b9a2a69e\",                        [{\"alignmentgroup\":\"True\",\"hovertemplate\":\"Deaths** Cumulative=%{x}<br>Name of State / UT=%{y}<br>Deaths** Cumulative by %=%{marker.color}<extra></extra>\",\"legendgroup\":\"\",\"marker\":{\"color\":[0.03,3.16,0.06,1.31,2.14,0.18,3.0,0.0,5.55,0.74,2.23,2.22,0.82,0.98,1.14,8.39,5.9,0.05,0.01,2.33,30.92,0.42,0.32,0.08,0.15,1.83,0.41,3.66,1.98,0.09,7.94,0.87,0.18,1.64,5.07,4.19],\"coloraxis\":\"coloraxis\",\"pattern\":{\"shape\":\"\"}},\"name\":\"\",\"offsetgroup\":\"\",\"orientation\":\"h\",\"showlegend\":false,\"textposition\":\"auto\",\"type\":\"bar\",\"x\":[129,14286,280,5938,9661,820,13570,4,25089,3335,10086,10049,3715,4426,5135,37922,26667,208,51,10523,139705,1889,1431,374,673,8274,1849,16538,8954,390,35853,3935,816,7397,22897,18945],\"xaxis\":\"x\",\"y\":[\"Andaman and Nicobar Islands\",\"Andhra Pradesh\",\"Arunachal Pradesh\",\"Assam\",\"Bihar\",\"Chandigarh\",\"Chhattisgarh\",\"Dadra and Nagar Haveli and Daman and Diu\",\"Delhi\",\"Goa\",\"Gujarat\",\"Haryana***\",\"Himachal Pradesh\",\"Jammu and Kashmir\",\"Jharkhand\",\"Karnataka\",\"Kerala\",\"Ladakh\",\"Lakshadweep\",\"Madhya Pradesh\",\"Maharashtra\",\"Manipur\",\"Meghalaya\",\"Mizoram\",\"Nagaland\",\"Odisha\",\"Puducherry\",\"Punjab\",\"Rajasthan\",\"Sikkim\",\"Tamil Nadu\",\"Telangana\",\"Tripura\",\"Uttarakhand\",\"Uttar Pradesh\",\"West Bengal\"],\"yaxis\":\"y\"}],                        {\"autosize\":false,\"barmode\":\"relative\",\"coloraxis\":{\"colorbar\":{\"title\":{\"text\":\"Deaths** Cumulative by %\"}},\"colorscale\":[[0.0,\"#0d0887\"],[0.1111111111111111,\"#46039f\"],[0.2222222222222222,\"#7201a8\"],[0.3333333333333333,\"#9c179e\"],[0.4444444444444444,\"#bd3786\"],[0.5555555555555556,\"#d8576b\"],[0.6666666666666666,\"#ed7953\"],[0.7777777777777778,\"#fb9f3a\"],[0.8888888888888888,\"#fdca26\"],[1.0,\"#f0f921\"]]},\"height\":700,\"legend\":{\"tracegroupgap\":0},\"template\":{\"data\":{\"bar\":[{\"error_x\":{\"color\":\"#2a3f5f\"},\"error_y\":{\"color\":\"#2a3f5f\"},\"marker\":{\"line\":{\"color\":\"#E5ECF6\",\"width\":0.5},\"pattern\":{\"fillmode\":\"overlay\",\"size\":10,\"solidity\":0.2}},\"type\":\"bar\"}],\"barpolar\":[{\"marker\":{\"line\":{\"color\":\"#E5ECF6\",\"width\":0.5},\"pattern\":{\"fillmode\":\"overlay\",\"size\":10,\"solidity\":0.2}},\"type\":\"barpolar\"}],\"carpet\":[{\"aaxis\":{\"endlinecolor\":\"#2a3f5f\",\"gridcolor\":\"white\",\"linecolor\":\"white\",\"minorgridcolor\":\"white\",\"startlinecolor\":\"#2a3f5f\"},\"baxis\":{\"endlinecolor\":\"#2a3f5f\",\"gridcolor\":\"white\",\"linecolor\":\"white\",\"minorgridcolor\":\"white\",\"startlinecolor\":\"#2a3f5f\"},\"type\":\"carpet\"}],\"choropleth\":[{\"colorbar\":{\"outlinewidth\":0,\"ticks\":\"\"},\"type\":\"choropleth\"}],\"contour\":[{\"colorbar\":{\"outlinewidth\":0,\"ticks\":\"\"},\"colorscale\":[[0.0,\"#0d0887\"],[0.1111111111111111,\"#46039f\"],[0.2222222222222222,\"#7201a8\"],[0.3333333333333333,\"#9c179e\"],[0.4444444444444444,\"#bd3786\"],[0.5555555555555556,\"#d8576b\"],[0.6666666666666666,\"#ed7953\"],[0.7777777777777778,\"#fb9f3a\"],[0.8888888888888888,\"#fdca26\"],[1.0,\"#f0f921\"]],\"type\":\"contour\"}],\"contourcarpet\":[{\"colorbar\":{\"outlinewidth\":0,\"ticks\":\"\"},\"type\":\"contourcarpet\"}],\"heatmap\":[{\"colorbar\":{\"outlinewidth\":0,\"ticks\":\"\"},\"colorscale\":[[0.0,\"#0d0887\"],[0.1111111111111111,\"#46039f\"],[0.2222222222222222,\"#7201a8\"],[0.3333333333333333,\"#9c179e\"],[0.4444444444444444,\"#bd3786\"],[0.5555555555555556,\"#d8576b\"],[0.6666666666666666,\"#ed7953\"],[0.7777777777777778,\"#fb9f3a\"],[0.8888888888888888,\"#fdca26\"],[1.0,\"#f0f921\"]],\"type\":\"heatmap\"}],\"heatmapgl\":[{\"colorbar\":{\"outlinewidth\":0,\"ticks\":\"\"},\"colorscale\":[[0.0,\"#0d0887\"],[0.1111111111111111,\"#46039f\"],[0.2222222222222222,\"#7201a8\"],[0.3333333333333333,\"#9c179e\"],[0.4444444444444444,\"#bd3786\"],[0.5555555555555556,\"#d8576b\"],[0.6666666666666666,\"#ed7953\"],[0.7777777777777778,\"#fb9f3a\"],[0.8888888888888888,\"#fdca26\"],[1.0,\"#f0f921\"]],\"type\":\"heatmapgl\"}],\"histogram\":[{\"marker\":{\"pattern\":{\"fillmode\":\"overlay\",\"size\":10,\"solidity\":0.2}},\"type\":\"histogram\"}],\"histogram2d\":[{\"colorbar\":{\"outlinewidth\":0,\"ticks\":\"\"},\"colorscale\":[[0.0,\"#0d0887\"],[0.1111111111111111,\"#46039f\"],[0.2222222222222222,\"#7201a8\"],[0.3333333333333333,\"#9c179e\"],[0.4444444444444444,\"#bd3786\"],[0.5555555555555556,\"#d8576b\"],[0.6666666666666666,\"#ed7953\"],[0.7777777777777778,\"#fb9f3a\"],[0.8888888888888888,\"#fdca26\"],[1.0,\"#f0f921\"]],\"type\":\"histogram2d\"}],\"histogram2dcontour\":[{\"colorbar\":{\"outlinewidth\":0,\"ticks\":\"\"},\"colorscale\":[[0.0,\"#0d0887\"],[0.1111111111111111,\"#46039f\"],[0.2222222222222222,\"#7201a8\"],[0.3333333333333333,\"#9c179e\"],[0.4444444444444444,\"#bd3786\"],[0.5555555555555556,\"#d8576b\"],[0.6666666666666666,\"#ed7953\"],[0.7777777777777778,\"#fb9f3a\"],[0.8888888888888888,\"#fdca26\"],[1.0,\"#f0f921\"]],\"type\":\"histogram2dcontour\"}],\"mesh3d\":[{\"colorbar\":{\"outlinewidth\":0,\"ticks\":\"\"},\"type\":\"mesh3d\"}],\"parcoords\":[{\"line\":{\"colorbar\":{\"outlinewidth\":0,\"ticks\":\"\"}},\"type\":\"parcoords\"}],\"pie\":[{\"automargin\":true,\"type\":\"pie\"}],\"scatter\":[{\"marker\":{\"colorbar\":{\"outlinewidth\":0,\"ticks\":\"\"}},\"type\":\"scatter\"}],\"scatter3d\":[{\"line\":{\"colorbar\":{\"outlinewidth\":0,\"ticks\":\"\"}},\"marker\":{\"colorbar\":{\"outlinewidth\":0,\"ticks\":\"\"}},\"type\":\"scatter3d\"}],\"scattercarpet\":[{\"marker\":{\"colorbar\":{\"outlinewidth\":0,\"ticks\":\"\"}},\"type\":\"scattercarpet\"}],\"scattergeo\":[{\"marker\":{\"colorbar\":{\"outlinewidth\":0,\"ticks\":\"\"}},\"type\":\"scattergeo\"}],\"scattergl\":[{\"marker\":{\"colorbar\":{\"outlinewidth\":0,\"ticks\":\"\"}},\"type\":\"scattergl\"}],\"scattermapbox\":[{\"marker\":{\"colorbar\":{\"outlinewidth\":0,\"ticks\":\"\"}},\"type\":\"scattermapbox\"}],\"scatterpolar\":[{\"marker\":{\"colorbar\":{\"outlinewidth\":0,\"ticks\":\"\"}},\"type\":\"scatterpolar\"}],\"scatterpolargl\":[{\"marker\":{\"colorbar\":{\"outlinewidth\":0,\"ticks\":\"\"}},\"type\":\"scatterpolargl\"}],\"scatterternary\":[{\"marker\":{\"colorbar\":{\"outlinewidth\":0,\"ticks\":\"\"}},\"type\":\"scatterternary\"}],\"surface\":[{\"colorbar\":{\"outlinewidth\":0,\"ticks\":\"\"},\"colorscale\":[[0.0,\"#0d0887\"],[0.1111111111111111,\"#46039f\"],[0.2222222222222222,\"#7201a8\"],[0.3333333333333333,\"#9c179e\"],[0.4444444444444444,\"#bd3786\"],[0.5555555555555556,\"#d8576b\"],[0.6666666666666666,\"#ed7953\"],[0.7777777777777778,\"#fb9f3a\"],[0.8888888888888888,\"#fdca26\"],[1.0,\"#f0f921\"]],\"type\":\"surface\"}],\"table\":[{\"cells\":{\"fill\":{\"color\":\"#EBF0F8\"},\"line\":{\"color\":\"white\"}},\"header\":{\"fill\":{\"color\":\"#C8D4E3\"},\"line\":{\"color\":\"white\"}},\"type\":\"table\"}]},\"layout\":{\"annotationdefaults\":{\"arrowcolor\":\"#2a3f5f\",\"arrowhead\":0,\"arrowwidth\":1},\"autotypenumbers\":\"strict\",\"coloraxis\":{\"colorbar\":{\"outlinewidth\":0,\"ticks\":\"\"}},\"colorscale\":{\"diverging\":[[0,\"#8e0152\"],[0.1,\"#c51b7d\"],[0.2,\"#de77ae\"],[0.3,\"#f1b6da\"],[0.4,\"#fde0ef\"],[0.5,\"#f7f7f7\"],[0.6,\"#e6f5d0\"],[0.7,\"#b8e186\"],[0.8,\"#7fbc41\"],[0.9,\"#4d9221\"],[1,\"#276419\"]],\"sequential\":[[0.0,\"#0d0887\"],[0.1111111111111111,\"#46039f\"],[0.2222222222222222,\"#7201a8\"],[0.3333333333333333,\"#9c179e\"],[0.4444444444444444,\"#bd3786\"],[0.5555555555555556,\"#d8576b\"],[0.6666666666666666,\"#ed7953\"],[0.7777777777777778,\"#fb9f3a\"],[0.8888888888888888,\"#fdca26\"],[1.0,\"#f0f921\"]],\"sequentialminus\":[[0.0,\"#0d0887\"],[0.1111111111111111,\"#46039f\"],[0.2222222222222222,\"#7201a8\"],[0.3333333333333333,\"#9c179e\"],[0.4444444444444444,\"#bd3786\"],[0.5555555555555556,\"#d8576b\"],[0.6666666666666666,\"#ed7953\"],[0.7777777777777778,\"#fb9f3a\"],[0.8888888888888888,\"#fdca26\"],[1.0,\"#f0f921\"]]},\"colorway\":[\"#636efa\",\"#EF553B\",\"#00cc96\",\"#ab63fa\",\"#FFA15A\",\"#19d3f3\",\"#FF6692\",\"#B6E880\",\"#FF97FF\",\"#FECB52\"],\"font\":{\"color\":\"#2a3f5f\"},\"geo\":{\"bgcolor\":\"white\",\"lakecolor\":\"white\",\"landcolor\":\"#E5ECF6\",\"showlakes\":true,\"showland\":true,\"subunitcolor\":\"white\"},\"hoverlabel\":{\"align\":\"left\"},\"hovermode\":\"closest\",\"mapbox\":{\"style\":\"light\"},\"paper_bgcolor\":\"white\",\"plot_bgcolor\":\"#E5ECF6\",\"polar\":{\"angularaxis\":{\"gridcolor\":\"white\",\"linecolor\":\"white\",\"ticks\":\"\"},\"bgcolor\":\"#E5ECF6\",\"radialaxis\":{\"gridcolor\":\"white\",\"linecolor\":\"white\",\"ticks\":\"\"}},\"scene\":{\"xaxis\":{\"backgroundcolor\":\"#E5ECF6\",\"gridcolor\":\"white\",\"gridwidth\":2,\"linecolor\":\"white\",\"showbackground\":true,\"ticks\":\"\",\"zerolinecolor\":\"white\"},\"yaxis\":{\"backgroundcolor\":\"#E5ECF6\",\"gridcolor\":\"white\",\"gridwidth\":2,\"linecolor\":\"white\",\"showbackground\":true,\"ticks\":\"\",\"zerolinecolor\":\"white\"},\"zaxis\":{\"backgroundcolor\":\"#E5ECF6\",\"gridcolor\":\"white\",\"gridwidth\":2,\"linecolor\":\"white\",\"showbackground\":true,\"ticks\":\"\",\"zerolinecolor\":\"white\"}},\"shapedefaults\":{\"line\":{\"color\":\"#2a3f5f\"}},\"ternary\":{\"aaxis\":{\"gridcolor\":\"white\",\"linecolor\":\"white\",\"ticks\":\"\"},\"baxis\":{\"gridcolor\":\"white\",\"linecolor\":\"white\",\"ticks\":\"\"},\"bgcolor\":\"#E5ECF6\",\"caxis\":{\"gridcolor\":\"white\",\"linecolor\":\"white\",\"ticks\":\"\"}},\"title\":{\"x\":0.05},\"xaxis\":{\"automargin\":true,\"gridcolor\":\"white\",\"linecolor\":\"white\",\"ticks\":\"\",\"title\":{\"standoff\":15},\"zerolinecolor\":\"white\",\"zerolinewidth\":2},\"yaxis\":{\"automargin\":true,\"gridcolor\":\"white\",\"linecolor\":\"white\",\"ticks\":\"\",\"title\":{\"standoff\":15},\"zerolinecolor\":\"white\",\"zerolinewidth\":2}}},\"title\":{\"text\":\"States vs Covid Cases\"},\"width\":1000,\"xaxis\":{\"anchor\":\"y\",\"domain\":[0.0,1.0],\"title\":{\"text\":\"Total Covid Deaths\"}},\"yaxis\":{\"anchor\":\"x\",\"domain\":[0.0,1.0],\"title\":{\"text\":\"States/UT\"}}},                        {\"responsive\": true}                    ).then(function(){\n",
       "                            \n",
       "var gd = document.getElementById('15af1ed0-ba53-4783-9288-b937b9a2a69e');\n",
       "var x = new MutationObserver(function (mutations, observer) {{\n",
       "        var display = window.getComputedStyle(gd).display;\n",
       "        if (!display || display === 'none') {{\n",
       "            console.log([gd, 'removed!']);\n",
       "            Plotly.purge(gd);\n",
       "            observer.disconnect();\n",
       "        }}\n",
       "}});\n",
       "\n",
       "// Listen for the removal of the full notebook cells\n",
       "var notebookContainer = gd.closest('#notebook-container');\n",
       "if (notebookContainer) {{\n",
       "    x.observe(notebookContainer, {childList: true});\n",
       "}}\n",
       "\n",
       "// Listen for the clearing of the current output cell\n",
       "var outputEl = gd.closest('.output');\n",
       "if (outputEl) {{\n",
       "    x.observe(outputEl, {childList: true});\n",
       "}}\n",
       "\n",
       "                        })                };                });            </script>        </div>"
      ]
     },
     "metadata": {},
     "output_type": "display_data"
    }
   ],
   "source": [
    "fig5 = px.bar(states_covid_data,title='States vs Covid Cases', x='Deaths** Cumulative', y='Name of State / UT', orientation='h',color='Deaths** Cumulative by %')\n",
    "fig5.update_layout(xaxis_title=\"Total Covid Deaths\",yaxis_title=\"States/UT\",autosize=False,\n",
    "    width=1000,\n",
    "    height=700)\n",
    "fig5.show()"
   ]
  },
  {
   "cell_type": "markdown",
   "id": "daa2824a",
   "metadata": {},
   "source": [
    "{% include figure5.html %}"
   ]
  },
  {
   "cell_type": "code",
   "execution_count": 273,
   "id": "5bf38a37",
   "metadata": {},
   "outputs": [
    {
     "data": {
      "application/vnd.plotly.v1+json": {
       "config": {
        "plotlyServerURL": "https://plot.ly"
       },
       "data": [
        {
         "alignmentgroup": "True",
         "hovertemplate": "Deaths** Change since yesterday=%{x}<br>Name of State / UT=%{y}<br>Deaths** Change since yesterday by %=%{marker.color}<extra></extra>",
         "legendgroup": "",
         "marker": {
          "color": [
           0,
           2.64,
           0,
           0.53,
           0,
           0,
           0,
           0,
           0,
           0.53,
           0,
           45.91,
           1.06,
           0,
           0,
           1.58,
           25.33,
           0,
           0,
           0,
           9.23,
           0,
           0.79,
           1.06,
           0,
           1.58,
           0,
           1.58,
           0,
           0,
           5.28,
           0.26,
           0,
           0,
           0,
           2.64
          ],
          "coloraxis": "coloraxis",
          "pattern": {
           "shape": ""
          }
         },
         "name": "",
         "offsetgroup": "",
         "orientation": "h",
         "showlegend": false,
         "textposition": "auto",
         "type": "bar",
         "x": [
          0,
          10,
          0,
          2,
          0,
          0,
          0,
          0,
          0,
          2,
          0,
          174,
          4,
          0,
          0,
          6,
          96,
          0,
          0,
          0,
          35,
          0,
          3,
          4,
          0,
          6,
          0,
          6,
          0,
          0,
          20,
          1,
          0,
          0,
          0,
          10
         ],
         "xaxis": "x",
         "y": [
          "Andaman and Nicobar Islands",
          "Andhra Pradesh",
          "Arunachal Pradesh",
          "Assam",
          "Bihar",
          "Chandigarh",
          "Chhattisgarh",
          "Dadra and Nagar Haveli and Daman and Diu",
          "Delhi",
          "Goa",
          "Gujarat",
          "Haryana***",
          "Himachal Pradesh",
          "Jammu and Kashmir",
          "Jharkhand",
          "Karnataka",
          "Kerala",
          "Ladakh",
          "Lakshadweep",
          "Madhya Pradesh",
          "Maharashtra",
          "Manipur",
          "Meghalaya",
          "Mizoram",
          "Nagaland",
          "Odisha",
          "Puducherry",
          "Punjab",
          "Rajasthan",
          "Sikkim",
          "Tamil Nadu",
          "Telangana",
          "Tripura",
          "Uttarakhand",
          "Uttar Pradesh",
          "West Bengal"
         ],
         "yaxis": "y"
        }
       ],
       "layout": {
        "autosize": false,
        "barmode": "relative",
        "coloraxis": {
         "colorbar": {
          "title": {
           "text": "Deaths** Change since yesterday by %"
          }
         },
         "colorscale": [
          [
           0,
           "#0d0887"
          ],
          [
           0.1111111111111111,
           "#46039f"
          ],
          [
           0.2222222222222222,
           "#7201a8"
          ],
          [
           0.3333333333333333,
           "#9c179e"
          ],
          [
           0.4444444444444444,
           "#bd3786"
          ],
          [
           0.5555555555555556,
           "#d8576b"
          ],
          [
           0.6666666666666666,
           "#ed7953"
          ],
          [
           0.7777777777777778,
           "#fb9f3a"
          ],
          [
           0.8888888888888888,
           "#fdca26"
          ],
          [
           1,
           "#f0f921"
          ]
         ]
        },
        "height": 700,
        "legend": {
         "tracegroupgap": 0
        },
        "template": {
         "data": {
          "bar": [
           {
            "error_x": {
             "color": "#2a3f5f"
            },
            "error_y": {
             "color": "#2a3f5f"
            },
            "marker": {
             "line": {
              "color": "#E5ECF6",
              "width": 0.5
             },
             "pattern": {
              "fillmode": "overlay",
              "size": 10,
              "solidity": 0.2
             }
            },
            "type": "bar"
           }
          ],
          "barpolar": [
           {
            "marker": {
             "line": {
              "color": "#E5ECF6",
              "width": 0.5
             },
             "pattern": {
              "fillmode": "overlay",
              "size": 10,
              "solidity": 0.2
             }
            },
            "type": "barpolar"
           }
          ],
          "carpet": [
           {
            "aaxis": {
             "endlinecolor": "#2a3f5f",
             "gridcolor": "white",
             "linecolor": "white",
             "minorgridcolor": "white",
             "startlinecolor": "#2a3f5f"
            },
            "baxis": {
             "endlinecolor": "#2a3f5f",
             "gridcolor": "white",
             "linecolor": "white",
             "minorgridcolor": "white",
             "startlinecolor": "#2a3f5f"
            },
            "type": "carpet"
           }
          ],
          "choropleth": [
           {
            "colorbar": {
             "outlinewidth": 0,
             "ticks": ""
            },
            "type": "choropleth"
           }
          ],
          "contour": [
           {
            "colorbar": {
             "outlinewidth": 0,
             "ticks": ""
            },
            "colorscale": [
             [
              0,
              "#0d0887"
             ],
             [
              0.1111111111111111,
              "#46039f"
             ],
             [
              0.2222222222222222,
              "#7201a8"
             ],
             [
              0.3333333333333333,
              "#9c179e"
             ],
             [
              0.4444444444444444,
              "#bd3786"
             ],
             [
              0.5555555555555556,
              "#d8576b"
             ],
             [
              0.6666666666666666,
              "#ed7953"
             ],
             [
              0.7777777777777778,
              "#fb9f3a"
             ],
             [
              0.8888888888888888,
              "#fdca26"
             ],
             [
              1,
              "#f0f921"
             ]
            ],
            "type": "contour"
           }
          ],
          "contourcarpet": [
           {
            "colorbar": {
             "outlinewidth": 0,
             "ticks": ""
            },
            "type": "contourcarpet"
           }
          ],
          "heatmap": [
           {
            "colorbar": {
             "outlinewidth": 0,
             "ticks": ""
            },
            "colorscale": [
             [
              0,
              "#0d0887"
             ],
             [
              0.1111111111111111,
              "#46039f"
             ],
             [
              0.2222222222222222,
              "#7201a8"
             ],
             [
              0.3333333333333333,
              "#9c179e"
             ],
             [
              0.4444444444444444,
              "#bd3786"
             ],
             [
              0.5555555555555556,
              "#d8576b"
             ],
             [
              0.6666666666666666,
              "#ed7953"
             ],
             [
              0.7777777777777778,
              "#fb9f3a"
             ],
             [
              0.8888888888888888,
              "#fdca26"
             ],
             [
              1,
              "#f0f921"
             ]
            ],
            "type": "heatmap"
           }
          ],
          "heatmapgl": [
           {
            "colorbar": {
             "outlinewidth": 0,
             "ticks": ""
            },
            "colorscale": [
             [
              0,
              "#0d0887"
             ],
             [
              0.1111111111111111,
              "#46039f"
             ],
             [
              0.2222222222222222,
              "#7201a8"
             ],
             [
              0.3333333333333333,
              "#9c179e"
             ],
             [
              0.4444444444444444,
              "#bd3786"
             ],
             [
              0.5555555555555556,
              "#d8576b"
             ],
             [
              0.6666666666666666,
              "#ed7953"
             ],
             [
              0.7777777777777778,
              "#fb9f3a"
             ],
             [
              0.8888888888888888,
              "#fdca26"
             ],
             [
              1,
              "#f0f921"
             ]
            ],
            "type": "heatmapgl"
           }
          ],
          "histogram": [
           {
            "marker": {
             "pattern": {
              "fillmode": "overlay",
              "size": 10,
              "solidity": 0.2
             }
            },
            "type": "histogram"
           }
          ],
          "histogram2d": [
           {
            "colorbar": {
             "outlinewidth": 0,
             "ticks": ""
            },
            "colorscale": [
             [
              0,
              "#0d0887"
             ],
             [
              0.1111111111111111,
              "#46039f"
             ],
             [
              0.2222222222222222,
              "#7201a8"
             ],
             [
              0.3333333333333333,
              "#9c179e"
             ],
             [
              0.4444444444444444,
              "#bd3786"
             ],
             [
              0.5555555555555556,
              "#d8576b"
             ],
             [
              0.6666666666666666,
              "#ed7953"
             ],
             [
              0.7777777777777778,
              "#fb9f3a"
             ],
             [
              0.8888888888888888,
              "#fdca26"
             ],
             [
              1,
              "#f0f921"
             ]
            ],
            "type": "histogram2d"
           }
          ],
          "histogram2dcontour": [
           {
            "colorbar": {
             "outlinewidth": 0,
             "ticks": ""
            },
            "colorscale": [
             [
              0,
              "#0d0887"
             ],
             [
              0.1111111111111111,
              "#46039f"
             ],
             [
              0.2222222222222222,
              "#7201a8"
             ],
             [
              0.3333333333333333,
              "#9c179e"
             ],
             [
              0.4444444444444444,
              "#bd3786"
             ],
             [
              0.5555555555555556,
              "#d8576b"
             ],
             [
              0.6666666666666666,
              "#ed7953"
             ],
             [
              0.7777777777777778,
              "#fb9f3a"
             ],
             [
              0.8888888888888888,
              "#fdca26"
             ],
             [
              1,
              "#f0f921"
             ]
            ],
            "type": "histogram2dcontour"
           }
          ],
          "mesh3d": [
           {
            "colorbar": {
             "outlinewidth": 0,
             "ticks": ""
            },
            "type": "mesh3d"
           }
          ],
          "parcoords": [
           {
            "line": {
             "colorbar": {
              "outlinewidth": 0,
              "ticks": ""
             }
            },
            "type": "parcoords"
           }
          ],
          "pie": [
           {
            "automargin": true,
            "type": "pie"
           }
          ],
          "scatter": [
           {
            "marker": {
             "colorbar": {
              "outlinewidth": 0,
              "ticks": ""
             }
            },
            "type": "scatter"
           }
          ],
          "scatter3d": [
           {
            "line": {
             "colorbar": {
              "outlinewidth": 0,
              "ticks": ""
             }
            },
            "marker": {
             "colorbar": {
              "outlinewidth": 0,
              "ticks": ""
             }
            },
            "type": "scatter3d"
           }
          ],
          "scattercarpet": [
           {
            "marker": {
             "colorbar": {
              "outlinewidth": 0,
              "ticks": ""
             }
            },
            "type": "scattercarpet"
           }
          ],
          "scattergeo": [
           {
            "marker": {
             "colorbar": {
              "outlinewidth": 0,
              "ticks": ""
             }
            },
            "type": "scattergeo"
           }
          ],
          "scattergl": [
           {
            "marker": {
             "colorbar": {
              "outlinewidth": 0,
              "ticks": ""
             }
            },
            "type": "scattergl"
           }
          ],
          "scattermapbox": [
           {
            "marker": {
             "colorbar": {
              "outlinewidth": 0,
              "ticks": ""
             }
            },
            "type": "scattermapbox"
           }
          ],
          "scatterpolar": [
           {
            "marker": {
             "colorbar": {
              "outlinewidth": 0,
              "ticks": ""
             }
            },
            "type": "scatterpolar"
           }
          ],
          "scatterpolargl": [
           {
            "marker": {
             "colorbar": {
              "outlinewidth": 0,
              "ticks": ""
             }
            },
            "type": "scatterpolargl"
           }
          ],
          "scatterternary": [
           {
            "marker": {
             "colorbar": {
              "outlinewidth": 0,
              "ticks": ""
             }
            },
            "type": "scatterternary"
           }
          ],
          "surface": [
           {
            "colorbar": {
             "outlinewidth": 0,
             "ticks": ""
            },
            "colorscale": [
             [
              0,
              "#0d0887"
             ],
             [
              0.1111111111111111,
              "#46039f"
             ],
             [
              0.2222222222222222,
              "#7201a8"
             ],
             [
              0.3333333333333333,
              "#9c179e"
             ],
             [
              0.4444444444444444,
              "#bd3786"
             ],
             [
              0.5555555555555556,
              "#d8576b"
             ],
             [
              0.6666666666666666,
              "#ed7953"
             ],
             [
              0.7777777777777778,
              "#fb9f3a"
             ],
             [
              0.8888888888888888,
              "#fdca26"
             ],
             [
              1,
              "#f0f921"
             ]
            ],
            "type": "surface"
           }
          ],
          "table": [
           {
            "cells": {
             "fill": {
              "color": "#EBF0F8"
             },
             "line": {
              "color": "white"
             }
            },
            "header": {
             "fill": {
              "color": "#C8D4E3"
             },
             "line": {
              "color": "white"
             }
            },
            "type": "table"
           }
          ]
         },
         "layout": {
          "annotationdefaults": {
           "arrowcolor": "#2a3f5f",
           "arrowhead": 0,
           "arrowwidth": 1
          },
          "autotypenumbers": "strict",
          "coloraxis": {
           "colorbar": {
            "outlinewidth": 0,
            "ticks": ""
           }
          },
          "colorscale": {
           "diverging": [
            [
             0,
             "#8e0152"
            ],
            [
             0.1,
             "#c51b7d"
            ],
            [
             0.2,
             "#de77ae"
            ],
            [
             0.3,
             "#f1b6da"
            ],
            [
             0.4,
             "#fde0ef"
            ],
            [
             0.5,
             "#f7f7f7"
            ],
            [
             0.6,
             "#e6f5d0"
            ],
            [
             0.7,
             "#b8e186"
            ],
            [
             0.8,
             "#7fbc41"
            ],
            [
             0.9,
             "#4d9221"
            ],
            [
             1,
             "#276419"
            ]
           ],
           "sequential": [
            [
             0,
             "#0d0887"
            ],
            [
             0.1111111111111111,
             "#46039f"
            ],
            [
             0.2222222222222222,
             "#7201a8"
            ],
            [
             0.3333333333333333,
             "#9c179e"
            ],
            [
             0.4444444444444444,
             "#bd3786"
            ],
            [
             0.5555555555555556,
             "#d8576b"
            ],
            [
             0.6666666666666666,
             "#ed7953"
            ],
            [
             0.7777777777777778,
             "#fb9f3a"
            ],
            [
             0.8888888888888888,
             "#fdca26"
            ],
            [
             1,
             "#f0f921"
            ]
           ],
           "sequentialminus": [
            [
             0,
             "#0d0887"
            ],
            [
             0.1111111111111111,
             "#46039f"
            ],
            [
             0.2222222222222222,
             "#7201a8"
            ],
            [
             0.3333333333333333,
             "#9c179e"
            ],
            [
             0.4444444444444444,
             "#bd3786"
            ],
            [
             0.5555555555555556,
             "#d8576b"
            ],
            [
             0.6666666666666666,
             "#ed7953"
            ],
            [
             0.7777777777777778,
             "#fb9f3a"
            ],
            [
             0.8888888888888888,
             "#fdca26"
            ],
            [
             1,
             "#f0f921"
            ]
           ]
          },
          "colorway": [
           "#636efa",
           "#EF553B",
           "#00cc96",
           "#ab63fa",
           "#FFA15A",
           "#19d3f3",
           "#FF6692",
           "#B6E880",
           "#FF97FF",
           "#FECB52"
          ],
          "font": {
           "color": "#2a3f5f"
          },
          "geo": {
           "bgcolor": "white",
           "lakecolor": "white",
           "landcolor": "#E5ECF6",
           "showlakes": true,
           "showland": true,
           "subunitcolor": "white"
          },
          "hoverlabel": {
           "align": "left"
          },
          "hovermode": "closest",
          "mapbox": {
           "style": "light"
          },
          "paper_bgcolor": "white",
          "plot_bgcolor": "#E5ECF6",
          "polar": {
           "angularaxis": {
            "gridcolor": "white",
            "linecolor": "white",
            "ticks": ""
           },
           "bgcolor": "#E5ECF6",
           "radialaxis": {
            "gridcolor": "white",
            "linecolor": "white",
            "ticks": ""
           }
          },
          "scene": {
           "xaxis": {
            "backgroundcolor": "#E5ECF6",
            "gridcolor": "white",
            "gridwidth": 2,
            "linecolor": "white",
            "showbackground": true,
            "ticks": "",
            "zerolinecolor": "white"
           },
           "yaxis": {
            "backgroundcolor": "#E5ECF6",
            "gridcolor": "white",
            "gridwidth": 2,
            "linecolor": "white",
            "showbackground": true,
            "ticks": "",
            "zerolinecolor": "white"
           },
           "zaxis": {
            "backgroundcolor": "#E5ECF6",
            "gridcolor": "white",
            "gridwidth": 2,
            "linecolor": "white",
            "showbackground": true,
            "ticks": "",
            "zerolinecolor": "white"
           }
          },
          "shapedefaults": {
           "line": {
            "color": "#2a3f5f"
           }
          },
          "ternary": {
           "aaxis": {
            "gridcolor": "white",
            "linecolor": "white",
            "ticks": ""
           },
           "baxis": {
            "gridcolor": "white",
            "linecolor": "white",
            "ticks": ""
           },
           "bgcolor": "#E5ECF6",
           "caxis": {
            "gridcolor": "white",
            "linecolor": "white",
            "ticks": ""
           }
          },
          "title": {
           "x": 0.05
          },
          "xaxis": {
           "automargin": true,
           "gridcolor": "white",
           "linecolor": "white",
           "ticks": "",
           "title": {
            "standoff": 15
           },
           "zerolinecolor": "white",
           "zerolinewidth": 2
          },
          "yaxis": {
           "automargin": true,
           "gridcolor": "white",
           "linecolor": "white",
           "ticks": "",
           "title": {
            "standoff": 15
           },
           "zerolinecolor": "white",
           "zerolinewidth": 2
          }
         }
        },
        "title": {
         "text": "States vs Covid Cases"
        },
        "width": 1000,
        "xaxis": {
         "anchor": "y",
         "domain": [
          0,
          1
         ],
         "title": {
          "text": "Change in Covid related Deaths since yesterday"
         }
        },
        "yaxis": {
         "anchor": "x",
         "domain": [
          0,
          1
         ],
         "title": {
          "text": "States/UT"
         }
        }
       }
      },
      "text/html": [
       "<div>                            <div id=\"7b142bd1-431d-46ec-824e-e39bcf11ec58\" class=\"plotly-graph-div\" style=\"height:700px; width:1000px;\"></div>            <script type=\"text/javascript\">                require([\"plotly\"], function(Plotly) {                    window.PLOTLYENV=window.PLOTLYENV || {};                                    if (document.getElementById(\"7b142bd1-431d-46ec-824e-e39bcf11ec58\")) {                    Plotly.newPlot(                        \"7b142bd1-431d-46ec-824e-e39bcf11ec58\",                        [{\"alignmentgroup\":\"True\",\"hovertemplate\":\"Deaths** Change since yesterday=%{x}<br>Name of State / UT=%{y}<br>Deaths** Change since yesterday by %=%{marker.color}<extra></extra>\",\"legendgroup\":\"\",\"marker\":{\"color\":[0.0,2.64,0.0,0.53,0.0,0.0,0.0,0.0,0.0,0.53,0.0,45.91,1.06,0.0,0.0,1.58,25.33,0.0,0.0,0.0,9.23,0.0,0.79,1.06,0.0,1.58,0.0,1.58,0.0,0.0,5.28,0.26,0.0,0.0,0.0,2.64],\"coloraxis\":\"coloraxis\",\"pattern\":{\"shape\":\"\"}},\"name\":\"\",\"offsetgroup\":\"\",\"orientation\":\"h\",\"showlegend\":false,\"textposition\":\"auto\",\"type\":\"bar\",\"x\":[0,10,0,2,0,0,0,0,0,2,0,174,4,0,0,6,96,0,0,0,35,0,3,4,0,6,0,6,0,0,20,1,0,0,0,10],\"xaxis\":\"x\",\"y\":[\"Andaman and Nicobar Islands\",\"Andhra Pradesh\",\"Arunachal Pradesh\",\"Assam\",\"Bihar\",\"Chandigarh\",\"Chhattisgarh\",\"Dadra and Nagar Haveli and Daman and Diu\",\"Delhi\",\"Goa\",\"Gujarat\",\"Haryana***\",\"Himachal Pradesh\",\"Jammu and Kashmir\",\"Jharkhand\",\"Karnataka\",\"Kerala\",\"Ladakh\",\"Lakshadweep\",\"Madhya Pradesh\",\"Maharashtra\",\"Manipur\",\"Meghalaya\",\"Mizoram\",\"Nagaland\",\"Odisha\",\"Puducherry\",\"Punjab\",\"Rajasthan\",\"Sikkim\",\"Tamil Nadu\",\"Telangana\",\"Tripura\",\"Uttarakhand\",\"Uttar Pradesh\",\"West Bengal\"],\"yaxis\":\"y\"}],                        {\"autosize\":false,\"barmode\":\"relative\",\"coloraxis\":{\"colorbar\":{\"title\":{\"text\":\"Deaths** Change since yesterday by %\"}},\"colorscale\":[[0.0,\"#0d0887\"],[0.1111111111111111,\"#46039f\"],[0.2222222222222222,\"#7201a8\"],[0.3333333333333333,\"#9c179e\"],[0.4444444444444444,\"#bd3786\"],[0.5555555555555556,\"#d8576b\"],[0.6666666666666666,\"#ed7953\"],[0.7777777777777778,\"#fb9f3a\"],[0.8888888888888888,\"#fdca26\"],[1.0,\"#f0f921\"]]},\"height\":700,\"legend\":{\"tracegroupgap\":0},\"template\":{\"data\":{\"bar\":[{\"error_x\":{\"color\":\"#2a3f5f\"},\"error_y\":{\"color\":\"#2a3f5f\"},\"marker\":{\"line\":{\"color\":\"#E5ECF6\",\"width\":0.5},\"pattern\":{\"fillmode\":\"overlay\",\"size\":10,\"solidity\":0.2}},\"type\":\"bar\"}],\"barpolar\":[{\"marker\":{\"line\":{\"color\":\"#E5ECF6\",\"width\":0.5},\"pattern\":{\"fillmode\":\"overlay\",\"size\":10,\"solidity\":0.2}},\"type\":\"barpolar\"}],\"carpet\":[{\"aaxis\":{\"endlinecolor\":\"#2a3f5f\",\"gridcolor\":\"white\",\"linecolor\":\"white\",\"minorgridcolor\":\"white\",\"startlinecolor\":\"#2a3f5f\"},\"baxis\":{\"endlinecolor\":\"#2a3f5f\",\"gridcolor\":\"white\",\"linecolor\":\"white\",\"minorgridcolor\":\"white\",\"startlinecolor\":\"#2a3f5f\"},\"type\":\"carpet\"}],\"choropleth\":[{\"colorbar\":{\"outlinewidth\":0,\"ticks\":\"\"},\"type\":\"choropleth\"}],\"contour\":[{\"colorbar\":{\"outlinewidth\":0,\"ticks\":\"\"},\"colorscale\":[[0.0,\"#0d0887\"],[0.1111111111111111,\"#46039f\"],[0.2222222222222222,\"#7201a8\"],[0.3333333333333333,\"#9c179e\"],[0.4444444444444444,\"#bd3786\"],[0.5555555555555556,\"#d8576b\"],[0.6666666666666666,\"#ed7953\"],[0.7777777777777778,\"#fb9f3a\"],[0.8888888888888888,\"#fdca26\"],[1.0,\"#f0f921\"]],\"type\":\"contour\"}],\"contourcarpet\":[{\"colorbar\":{\"outlinewidth\":0,\"ticks\":\"\"},\"type\":\"contourcarpet\"}],\"heatmap\":[{\"colorbar\":{\"outlinewidth\":0,\"ticks\":\"\"},\"colorscale\":[[0.0,\"#0d0887\"],[0.1111111111111111,\"#46039f\"],[0.2222222222222222,\"#7201a8\"],[0.3333333333333333,\"#9c179e\"],[0.4444444444444444,\"#bd3786\"],[0.5555555555555556,\"#d8576b\"],[0.6666666666666666,\"#ed7953\"],[0.7777777777777778,\"#fb9f3a\"],[0.8888888888888888,\"#fdca26\"],[1.0,\"#f0f921\"]],\"type\":\"heatmap\"}],\"heatmapgl\":[{\"colorbar\":{\"outlinewidth\":0,\"ticks\":\"\"},\"colorscale\":[[0.0,\"#0d0887\"],[0.1111111111111111,\"#46039f\"],[0.2222222222222222,\"#7201a8\"],[0.3333333333333333,\"#9c179e\"],[0.4444444444444444,\"#bd3786\"],[0.5555555555555556,\"#d8576b\"],[0.6666666666666666,\"#ed7953\"],[0.7777777777777778,\"#fb9f3a\"],[0.8888888888888888,\"#fdca26\"],[1.0,\"#f0f921\"]],\"type\":\"heatmapgl\"}],\"histogram\":[{\"marker\":{\"pattern\":{\"fillmode\":\"overlay\",\"size\":10,\"solidity\":0.2}},\"type\":\"histogram\"}],\"histogram2d\":[{\"colorbar\":{\"outlinewidth\":0,\"ticks\":\"\"},\"colorscale\":[[0.0,\"#0d0887\"],[0.1111111111111111,\"#46039f\"],[0.2222222222222222,\"#7201a8\"],[0.3333333333333333,\"#9c179e\"],[0.4444444444444444,\"#bd3786\"],[0.5555555555555556,\"#d8576b\"],[0.6666666666666666,\"#ed7953\"],[0.7777777777777778,\"#fb9f3a\"],[0.8888888888888888,\"#fdca26\"],[1.0,\"#f0f921\"]],\"type\":\"histogram2d\"}],\"histogram2dcontour\":[{\"colorbar\":{\"outlinewidth\":0,\"ticks\":\"\"},\"colorscale\":[[0.0,\"#0d0887\"],[0.1111111111111111,\"#46039f\"],[0.2222222222222222,\"#7201a8\"],[0.3333333333333333,\"#9c179e\"],[0.4444444444444444,\"#bd3786\"],[0.5555555555555556,\"#d8576b\"],[0.6666666666666666,\"#ed7953\"],[0.7777777777777778,\"#fb9f3a\"],[0.8888888888888888,\"#fdca26\"],[1.0,\"#f0f921\"]],\"type\":\"histogram2dcontour\"}],\"mesh3d\":[{\"colorbar\":{\"outlinewidth\":0,\"ticks\":\"\"},\"type\":\"mesh3d\"}],\"parcoords\":[{\"line\":{\"colorbar\":{\"outlinewidth\":0,\"ticks\":\"\"}},\"type\":\"parcoords\"}],\"pie\":[{\"automargin\":true,\"type\":\"pie\"}],\"scatter\":[{\"marker\":{\"colorbar\":{\"outlinewidth\":0,\"ticks\":\"\"}},\"type\":\"scatter\"}],\"scatter3d\":[{\"line\":{\"colorbar\":{\"outlinewidth\":0,\"ticks\":\"\"}},\"marker\":{\"colorbar\":{\"outlinewidth\":0,\"ticks\":\"\"}},\"type\":\"scatter3d\"}],\"scattercarpet\":[{\"marker\":{\"colorbar\":{\"outlinewidth\":0,\"ticks\":\"\"}},\"type\":\"scattercarpet\"}],\"scattergeo\":[{\"marker\":{\"colorbar\":{\"outlinewidth\":0,\"ticks\":\"\"}},\"type\":\"scattergeo\"}],\"scattergl\":[{\"marker\":{\"colorbar\":{\"outlinewidth\":0,\"ticks\":\"\"}},\"type\":\"scattergl\"}],\"scattermapbox\":[{\"marker\":{\"colorbar\":{\"outlinewidth\":0,\"ticks\":\"\"}},\"type\":\"scattermapbox\"}],\"scatterpolar\":[{\"marker\":{\"colorbar\":{\"outlinewidth\":0,\"ticks\":\"\"}},\"type\":\"scatterpolar\"}],\"scatterpolargl\":[{\"marker\":{\"colorbar\":{\"outlinewidth\":0,\"ticks\":\"\"}},\"type\":\"scatterpolargl\"}],\"scatterternary\":[{\"marker\":{\"colorbar\":{\"outlinewidth\":0,\"ticks\":\"\"}},\"type\":\"scatterternary\"}],\"surface\":[{\"colorbar\":{\"outlinewidth\":0,\"ticks\":\"\"},\"colorscale\":[[0.0,\"#0d0887\"],[0.1111111111111111,\"#46039f\"],[0.2222222222222222,\"#7201a8\"],[0.3333333333333333,\"#9c179e\"],[0.4444444444444444,\"#bd3786\"],[0.5555555555555556,\"#d8576b\"],[0.6666666666666666,\"#ed7953\"],[0.7777777777777778,\"#fb9f3a\"],[0.8888888888888888,\"#fdca26\"],[1.0,\"#f0f921\"]],\"type\":\"surface\"}],\"table\":[{\"cells\":{\"fill\":{\"color\":\"#EBF0F8\"},\"line\":{\"color\":\"white\"}},\"header\":{\"fill\":{\"color\":\"#C8D4E3\"},\"line\":{\"color\":\"white\"}},\"type\":\"table\"}]},\"layout\":{\"annotationdefaults\":{\"arrowcolor\":\"#2a3f5f\",\"arrowhead\":0,\"arrowwidth\":1},\"autotypenumbers\":\"strict\",\"coloraxis\":{\"colorbar\":{\"outlinewidth\":0,\"ticks\":\"\"}},\"colorscale\":{\"diverging\":[[0,\"#8e0152\"],[0.1,\"#c51b7d\"],[0.2,\"#de77ae\"],[0.3,\"#f1b6da\"],[0.4,\"#fde0ef\"],[0.5,\"#f7f7f7\"],[0.6,\"#e6f5d0\"],[0.7,\"#b8e186\"],[0.8,\"#7fbc41\"],[0.9,\"#4d9221\"],[1,\"#276419\"]],\"sequential\":[[0.0,\"#0d0887\"],[0.1111111111111111,\"#46039f\"],[0.2222222222222222,\"#7201a8\"],[0.3333333333333333,\"#9c179e\"],[0.4444444444444444,\"#bd3786\"],[0.5555555555555556,\"#d8576b\"],[0.6666666666666666,\"#ed7953\"],[0.7777777777777778,\"#fb9f3a\"],[0.8888888888888888,\"#fdca26\"],[1.0,\"#f0f921\"]],\"sequentialminus\":[[0.0,\"#0d0887\"],[0.1111111111111111,\"#46039f\"],[0.2222222222222222,\"#7201a8\"],[0.3333333333333333,\"#9c179e\"],[0.4444444444444444,\"#bd3786\"],[0.5555555555555556,\"#d8576b\"],[0.6666666666666666,\"#ed7953\"],[0.7777777777777778,\"#fb9f3a\"],[0.8888888888888888,\"#fdca26\"],[1.0,\"#f0f921\"]]},\"colorway\":[\"#636efa\",\"#EF553B\",\"#00cc96\",\"#ab63fa\",\"#FFA15A\",\"#19d3f3\",\"#FF6692\",\"#B6E880\",\"#FF97FF\",\"#FECB52\"],\"font\":{\"color\":\"#2a3f5f\"},\"geo\":{\"bgcolor\":\"white\",\"lakecolor\":\"white\",\"landcolor\":\"#E5ECF6\",\"showlakes\":true,\"showland\":true,\"subunitcolor\":\"white\"},\"hoverlabel\":{\"align\":\"left\"},\"hovermode\":\"closest\",\"mapbox\":{\"style\":\"light\"},\"paper_bgcolor\":\"white\",\"plot_bgcolor\":\"#E5ECF6\",\"polar\":{\"angularaxis\":{\"gridcolor\":\"white\",\"linecolor\":\"white\",\"ticks\":\"\"},\"bgcolor\":\"#E5ECF6\",\"radialaxis\":{\"gridcolor\":\"white\",\"linecolor\":\"white\",\"ticks\":\"\"}},\"scene\":{\"xaxis\":{\"backgroundcolor\":\"#E5ECF6\",\"gridcolor\":\"white\",\"gridwidth\":2,\"linecolor\":\"white\",\"showbackground\":true,\"ticks\":\"\",\"zerolinecolor\":\"white\"},\"yaxis\":{\"backgroundcolor\":\"#E5ECF6\",\"gridcolor\":\"white\",\"gridwidth\":2,\"linecolor\":\"white\",\"showbackground\":true,\"ticks\":\"\",\"zerolinecolor\":\"white\"},\"zaxis\":{\"backgroundcolor\":\"#E5ECF6\",\"gridcolor\":\"white\",\"gridwidth\":2,\"linecolor\":\"white\",\"showbackground\":true,\"ticks\":\"\",\"zerolinecolor\":\"white\"}},\"shapedefaults\":{\"line\":{\"color\":\"#2a3f5f\"}},\"ternary\":{\"aaxis\":{\"gridcolor\":\"white\",\"linecolor\":\"white\",\"ticks\":\"\"},\"baxis\":{\"gridcolor\":\"white\",\"linecolor\":\"white\",\"ticks\":\"\"},\"bgcolor\":\"#E5ECF6\",\"caxis\":{\"gridcolor\":\"white\",\"linecolor\":\"white\",\"ticks\":\"\"}},\"title\":{\"x\":0.05},\"xaxis\":{\"automargin\":true,\"gridcolor\":\"white\",\"linecolor\":\"white\",\"ticks\":\"\",\"title\":{\"standoff\":15},\"zerolinecolor\":\"white\",\"zerolinewidth\":2},\"yaxis\":{\"automargin\":true,\"gridcolor\":\"white\",\"linecolor\":\"white\",\"ticks\":\"\",\"title\":{\"standoff\":15},\"zerolinecolor\":\"white\",\"zerolinewidth\":2}}},\"title\":{\"text\":\"States vs Covid Cases\"},\"width\":1000,\"xaxis\":{\"anchor\":\"y\",\"domain\":[0.0,1.0],\"title\":{\"text\":\"Change in Covid related Deaths since yesterday\"}},\"yaxis\":{\"anchor\":\"x\",\"domain\":[0.0,1.0],\"title\":{\"text\":\"States/UT\"}}},                        {\"responsive\": true}                    ).then(function(){\n",
       "                            \n",
       "var gd = document.getElementById('7b142bd1-431d-46ec-824e-e39bcf11ec58');\n",
       "var x = new MutationObserver(function (mutations, observer) {{\n",
       "        var display = window.getComputedStyle(gd).display;\n",
       "        if (!display || display === 'none') {{\n",
       "            console.log([gd, 'removed!']);\n",
       "            Plotly.purge(gd);\n",
       "            observer.disconnect();\n",
       "        }}\n",
       "}});\n",
       "\n",
       "// Listen for the removal of the full notebook cells\n",
       "var notebookContainer = gd.closest('#notebook-container');\n",
       "if (notebookContainer) {{\n",
       "    x.observe(notebookContainer, {childList: true});\n",
       "}}\n",
       "\n",
       "// Listen for the clearing of the current output cell\n",
       "var outputEl = gd.closest('.output');\n",
       "if (outputEl) {{\n",
       "    x.observe(outputEl, {childList: true});\n",
       "}}\n",
       "\n",
       "                        })                };                });            </script>        </div>"
      ]
     },
     "metadata": {},
     "output_type": "display_data"
    }
   ],
   "source": [
    "fig6 = px.bar(states_covid_data,title='States vs Covid Cases', x='Deaths** Change since yesterday', y='Name of State / UT', orientation='h',color='Deaths** Change since yesterday by %')\n",
    "fig6.update_layout(xaxis_title=\"Change in Covid related Deaths since yesterday\",yaxis_title=\"States/UT\",autosize=False,\n",
    "    width=1000,\n",
    "    height=700)\n",
    "fig6.show()"
   ]
  },
  {
   "cell_type": "markdown",
   "id": "da8287eb",
   "metadata": {},
   "source": [
    "{% include figure6.html %}"
   ]
  },
  {
   "cell_type": "code",
   "execution_count": 267,
   "id": "8d48bbed",
   "metadata": {},
   "outputs": [],
   "source": [
    "import plotly.io as pio"
   ]
  },
  {
   "cell_type": "code",
   "execution_count": 274,
   "id": "92dec263",
   "metadata": {},
   "outputs": [],
   "source": [
    "pio.write_html(fig1, file='figure1.html', auto_open=True)"
   ]
  },
  {
   "cell_type": "code",
   "execution_count": 275,
   "id": "5386fdd9",
   "metadata": {},
   "outputs": [],
   "source": [
    "pio.write_html(fig2, file='figure2.html', auto_open=True)"
   ]
  },
  {
   "cell_type": "code",
   "execution_count": 276,
   "id": "3e24bf6b",
   "metadata": {},
   "outputs": [],
   "source": [
    "pio.write_html(fig3, file='figure3.html', auto_open=True)"
   ]
  },
  {
   "cell_type": "code",
   "execution_count": 277,
   "id": "8755d24a",
   "metadata": {},
   "outputs": [],
   "source": [
    "pio.write_html(fig4, file='figure4.html', auto_open=True)"
   ]
  },
  {
   "cell_type": "code",
   "execution_count": 278,
   "id": "1b5cfe9a",
   "metadata": {},
   "outputs": [],
   "source": [
    "pio.write_html(fig5, file='figure5.html', auto_open=True)"
   ]
  },
  {
   "cell_type": "code",
   "execution_count": 279,
   "id": "bc7504aa",
   "metadata": {},
   "outputs": [],
   "source": [
    "pio.write_html(fig6, file='figure6.html', auto_open=True)"
   ]
  },
  {
   "cell_type": "code",
   "execution_count": null,
   "id": "ef67dacf",
   "metadata": {},
   "outputs": [],
   "source": []
  }
 ],
 "metadata": {
  "kernelspec": {
   "display_name": "Python 3 (ipykernel)",
   "language": "python",
   "name": "python3"
  },
  "language_info": {
   "codemirror_mode": {
    "name": "ipython",
    "version": 3
   },
   "file_extension": ".py",
   "mimetype": "text/x-python",
   "name": "python",
   "nbconvert_exporter": "python",
   "pygments_lexer": "ipython3",
   "version": "3.8.8"
  }
 },
 "nbformat": 4,
 "nbformat_minor": 5
}
